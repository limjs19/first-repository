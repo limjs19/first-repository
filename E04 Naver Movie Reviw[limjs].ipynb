{
 "cells": [
  {
   "cell_type": "markdown",
   "metadata": {},
   "source": [
    "# E04 네이버 영화리뷰 감성분석 도전하기\n",
    "\n",
    "\n",
    "## ◈ 학습목표\n",
    "1. 텍스트 데이터를 머신러닝 입출력용 수치데이터로 변환하는 과정을 이해한다.  \n",
    "2. RNN의 특징을 이해하고 시퀀셜한 데이터를 다루는 방법을 이해한다.  \n",
    "3. 1-D CNN으로도 텍스트를 처리할 수 있음을 이해한다.  \n",
    "4. IMDB와 네이버 영화리뷰 데이터셋을 이용한 영화리뷰 감성분류 실습을 진행한다.  \n",
    "\n",
    "* 한국어 텍스트의 감정분석을 진행\n",
    "* 활용할 데이터셋은 네이버 영화의 댓글을 모아 구성된 `Naver sentiment movie corpus`\n",
    "\n",
    "` wget https://raw.githubusercontent.com/e9t/nsmc/master/ratings_train.txt \n",
    " wget https://raw.githubusercontent.com/e9t/nsmc/master/ratings_test.txt \n",
    " mv ratings_*.txt ~/aiffel/sentiment_classification`  \n",
    " \n",
    "## **Step 순서  **  \n",
    "1. 데이터 준비와 확인  \n",
    "2. 데이터 로더 구성  \n",
    "3. 모델구성을 위한 데이터 분석 및 가공  \n",
    "4. 모델구성 및 validation set 구성  \n",
    "5. 모델 훈련  \n",
    "6. Loss, Accuracy 그래프 시각화  \n",
    "7. 학습된 Embedding 레이어 분석  \n",
    "8. 한국어 Word2Vec 임베딩 활용하여 성능개선  "
   ]
  },
  {
   "cell_type": "markdown",
   "metadata": {},
   "source": [
    "\n",
    "## Step1. 데이터 준비와 확인"
   ]
  },
  {
   "cell_type": "code",
   "execution_count": 1,
   "metadata": {},
   "outputs": [
    {
     "data": {
      "text/html": [
       "<div>\n",
       "<style scoped>\n",
       "    .dataframe tbody tr th:only-of-type {\n",
       "        vertical-align: middle;\n",
       "    }\n",
       "\n",
       "    .dataframe tbody tr th {\n",
       "        vertical-align: top;\n",
       "    }\n",
       "\n",
       "    .dataframe thead th {\n",
       "        text-align: right;\n",
       "    }\n",
       "</style>\n",
       "<table border=\"1\" class=\"dataframe\">\n",
       "  <thead>\n",
       "    <tr style=\"text-align: right;\">\n",
       "      <th></th>\n",
       "      <th>id</th>\n",
       "      <th>document</th>\n",
       "      <th>label</th>\n",
       "    </tr>\n",
       "  </thead>\n",
       "  <tbody>\n",
       "    <tr>\n",
       "      <th>0</th>\n",
       "      <td>9976970</td>\n",
       "      <td>아 더빙.. 진짜 짜증나네요 목소리</td>\n",
       "      <td>0</td>\n",
       "    </tr>\n",
       "    <tr>\n",
       "      <th>1</th>\n",
       "      <td>3819312</td>\n",
       "      <td>흠...포스터보고 초딩영화줄....오버연기조차 가볍지 않구나</td>\n",
       "      <td>1</td>\n",
       "    </tr>\n",
       "    <tr>\n",
       "      <th>2</th>\n",
       "      <td>10265843</td>\n",
       "      <td>너무재밓었다그래서보는것을추천한다</td>\n",
       "      <td>0</td>\n",
       "    </tr>\n",
       "    <tr>\n",
       "      <th>3</th>\n",
       "      <td>9045019</td>\n",
       "      <td>교도소 이야기구먼 ..솔직히 재미는 없다..평점 조정</td>\n",
       "      <td>0</td>\n",
       "    </tr>\n",
       "    <tr>\n",
       "      <th>4</th>\n",
       "      <td>6483659</td>\n",
       "      <td>사이몬페그의 익살스런 연기가 돋보였던 영화!스파이더맨에서 늙어보이기만 했던 커스틴 ...</td>\n",
       "      <td>1</td>\n",
       "    </tr>\n",
       "    <tr>\n",
       "      <th>5</th>\n",
       "      <td>5403919</td>\n",
       "      <td>막 걸음마 뗀 3세부터 초등학교 1학년생인 8살용영화.ㅋㅋㅋ...별반개도 아까움.</td>\n",
       "      <td>0</td>\n",
       "    </tr>\n",
       "    <tr>\n",
       "      <th>6</th>\n",
       "      <td>7797314</td>\n",
       "      <td>원작의 긴장감을 제대로 살려내지못했다.</td>\n",
       "      <td>0</td>\n",
       "    </tr>\n",
       "    <tr>\n",
       "      <th>7</th>\n",
       "      <td>9443947</td>\n",
       "      <td>별 반개도 아깝다 욕나온다 이응경 길용우 연기생활이몇년인지..정말 발로해도 그것보단...</td>\n",
       "      <td>0</td>\n",
       "    </tr>\n",
       "    <tr>\n",
       "      <th>8</th>\n",
       "      <td>7156791</td>\n",
       "      <td>액션이 없는데도 재미 있는 몇안되는 영화</td>\n",
       "      <td>1</td>\n",
       "    </tr>\n",
       "    <tr>\n",
       "      <th>9</th>\n",
       "      <td>5912145</td>\n",
       "      <td>왜케 평점이 낮은건데? 꽤 볼만한데.. 헐리우드식 화려함에만 너무 길들여져 있나?</td>\n",
       "      <td>1</td>\n",
       "    </tr>\n",
       "  </tbody>\n",
       "</table>\n",
       "</div>"
      ],
      "text/plain": [
       "         id                                           document  label\n",
       "0   9976970                                아 더빙.. 진짜 짜증나네요 목소리      0\n",
       "1   3819312                  흠...포스터보고 초딩영화줄....오버연기조차 가볍지 않구나      1\n",
       "2  10265843                                  너무재밓었다그래서보는것을추천한다      0\n",
       "3   9045019                      교도소 이야기구먼 ..솔직히 재미는 없다..평점 조정      0\n",
       "4   6483659  사이몬페그의 익살스런 연기가 돋보였던 영화!스파이더맨에서 늙어보이기만 했던 커스틴 ...      1\n",
       "5   5403919      막 걸음마 뗀 3세부터 초등학교 1학년생인 8살용영화.ㅋㅋㅋ...별반개도 아까움.      0\n",
       "6   7797314                              원작의 긴장감을 제대로 살려내지못했다.      0\n",
       "7   9443947  별 반개도 아깝다 욕나온다 이응경 길용우 연기생활이몇년인지..정말 발로해도 그것보단...      0\n",
       "8   7156791                             액션이 없는데도 재미 있는 몇안되는 영화      1\n",
       "9   5912145      왜케 평점이 낮은건데? 꽤 볼만한데.. 헐리우드식 화려함에만 너무 길들여져 있나?      1"
      ]
     },
     "execution_count": 1,
     "metadata": {},
     "output_type": "execute_result"
    }
   ],
   "source": [
    "import pandas as pd\n",
    "import urllib.request\n",
    "%matplotlib inline\n",
    "import matplotlib.pyplot as plt\n",
    "import seaborn as sns\n",
    "import re\n",
    "from konlpy.tag import Okt\n",
    "from tensorflow import keras\n",
    "from tensorflow.keras.preprocessing.text import Tokenizer\n",
    "import numpy as np\n",
    "from tensorflow.keras.preprocessing.sequence import pad_sequences\n",
    "from collections import Counter\n",
    "\n",
    "# Naver sentiment movie corpus 읽기\n",
    "train_data = pd.read_table('~/aiffel/sentiment_classification/ratings_train.txt')\n",
    "test_data = pd.read_table('~/aiffel/sentiment_classification/ratings_test.txt')\n",
    "\n",
    "#num, id와 document label(1긍정, 0부정)\n",
    "train_data.head(10)"
   ]
  },
  {
   "cell_type": "markdown",
   "metadata": {},
   "source": [
    "## Step2. 데이터 로더 구성\n",
    "실습때 다루었던 `IMDB 데이터셋`은 텍스트를 가공하여 `imdb.data_loader() 메소드를 호출`하면 `숫자 인덱스로 변환된 텍스트`와 `word_to_index 딕셔너리`까지 친절하게 제공합니다.  \n",
    "그러나 이번에 다루게 될 `nsmc 데이터셋`은 `전혀 가공되지 않은 텍스트 파일`로 이루어져 있습니다.  \n",
    "이것을 읽어서 `imdb.data_loader()와 동일하게 동작`하는 자신만의 data_loader를 만들어 보는 것으로 시작합니다. \n",
    "\n",
    "`data_loader 안에서 다음을 수행`\n",
    "* **데이터의 중복 제거**  \n",
    "* **NaN 결측치 제거**  \n",
    "* **한국어 토크나이저로 토큰화**  \n",
    "* **불용어(Stopwords) 제거**      **`3가지 stopwords로 모두 해봄`**  \n",
    "* **사전 word_to_index 구성**  \n",
    "* **텍스트 스트링을 dictionary 인덱스 스트링으로 변환**  \n",
    "* **X_train, y_train, X_test, y_test, word_to_index 리턴**"
   ]
  },
  {
   "cell_type": "code",
   "execution_count": 2,
   "metadata": {},
   "outputs": [
    {
     "name": "stdout",
     "output_type": "stream",
     "text": [
      "18\n",
      "['의', '가', '이', '은', '들', '는', '좀', '잘', '걍', '과', '도', '를', '으로', '자', '에', '와', '한', '하다']\n"
     ]
    }
   ],
   "source": [
    "from konlpy.tag import Mecab\n",
    "tokenizer = Mecab()\n",
    "\n",
    "## Stopwords를 다양하게 시도해 봄 결과값이 크게 차이 나지 않음\n",
    "#==================================================================#\n",
    "# 1. 18개\n",
    "stopwords1 = ['의','가','이','은','들','는','좀','잘','걍','과','도','를','으로','자','에','와','한','하다']\n",
    "import os\n",
    "fname = os.getenv('HOME')+'/korean_stopwords.txt'\n",
    "\n",
    "#2. 675개 (https://www.ranks.nl/stopwords/korean에서 한굴 불용어(Stopwords)를 다운 받아서 리스트로 만들어서 사용)\n",
    "stopwords2 = [line.rstrip('\\n') for line in open(fname, 'r')]\n",
    "\n",
    "#3. 101개 (한국어 불용어 리스트) : https://bab2min.tistory.com/544 \n",
    "fname2 = os.getenv('HOME')+'/korean_stopwords(100).txt'\n",
    "stopwords3 = [line.rstrip('\\n') for line in open(fname2, 'r')]\n",
    "\n",
    "#3가지 방법 중에 선택하여 Stopwords 제거하기 \n",
    "stopwords = stopwords1\n",
    "#stopwords = stopwords2\n",
    "#stopwords = stopwords3\n",
    "\n",
    "print(len(stopwords))\n",
    "print(stopwords)\n",
    "#==================================================================#"
   ]
  },
  {
   "cell_type": "code",
   "execution_count": 3,
   "metadata": {},
   "outputs": [],
   "source": [
    "#print(len(stopwords))\n",
    "\n",
    "#함수 load_data==============================================#\n",
    "def load_data(train_data, test_data, num_words = 10000):\n",
    "    \n",
    "    ###pandas의 drop_duplicates 함수 사용하여 중복 제거###\n",
    "    train_data.drop_duplicates(subset=['document'], inplace=True)   \n",
    "    ###pandas의 dropna 함수 사용하여 NaN결측치 제거###  axis = 0(row)  1(column) any(하나라도 있음 제거)..\n",
    "    train_data = train_data.dropna(how='any')\n",
    "        \n",
    "    ##test_data의 중복 제거\n",
    "    test_data.drop_duplicates(subset=['document'], inplace = True)\n",
    "    ##test_data의 NaN결측치 제거\n",
    "    test_data = test_data.dropna(how='any')\n",
    "    \n",
    "    X_train = []\n",
    "    for sentence in train_data['document']:\n",
    "        temp_X = tokenizer.morphs(sentence) # 토큰화\n",
    "        #조사등의 불용어(Stopwords) 제거\n",
    "        temp_X = [word for word in temp_X if not word in stopwords]  \n",
    "        X_train.append(temp_X)\n",
    "    \n",
    "    X_test = []\n",
    "    for sentence in test_data['document']:\n",
    "        temp_X = tokenizer.morphs(sentence) # 토큰화\n",
    "        temp_X = [word for word in temp_X if not word in stopwords]\n",
    "        X_test.append(temp_X)\n",
    "    \n",
    "    words = np.concatenate(X_train).tolist()\n",
    "    counter = Counter(words)\n",
    "    counter = counter.most_common(10000-4)\n",
    "    vocab = ['<PAD>', '<BOS>', '<UNK>', '<UNUSED>'] + [key for key, _ in counter]   #지정된 4개 단어 빼고 word_to_index 만들기\n",
    "    word_to_index = {word : index for index, word in enumerate(vocab)}\n",
    "    \n",
    "    def wordlist_to_indexlist(wordlist):\n",
    "        return [word_to_index[word] if word in word_to_index else word_to_index['<UNK>'] for word in wordlist]\n",
    "    \n",
    "    X_train = list(map(wordlist_to_indexlist, X_train))\n",
    "    X_test = list(map(wordlist_to_indexlist, X_test))\n",
    "    \n",
    "    return X_train, np.array(list(train_data['label'])), X_test, np.array(list(test_data['label'])), word_to_index \n",
    "\n",
    "#함수 load_data   word_to_index 리턴 ===========================================#\n",
    "\n",
    "#함수 실행 load_data\n",
    "X_train, y_train, X_test, y_test, word_to_index = load_data(train_data, test_data)"
   ]
  },
  {
   "cell_type": "code",
   "execution_count": 4,
   "metadata": {},
   "outputs": [],
   "source": [
    "#word_to_index에서 index_to_word로 바꾸기 (dictionary)\n",
    "index_to_word = {index : word for word, index in word_to_index.items()}"
   ]
  },
  {
   "cell_type": "code",
   "execution_count": 5,
   "metadata": {},
   "outputs": [],
   "source": [
    "#문장 1개를 활용할 dictionary와 함께 주면,\n",
    "#단어 인덱스 리스트 벡터로 변환 함수 \n",
    "# 모든 문장은 <BOS>로 시작 \n",
    "def get_encoded_sentence(sentence, word_to_index):\n",
    "    return [word_to_index['<BOS>']]+[word_to_index[word] if word in word_to_index else word_to_index['<UNK>'] for word in sentence.split()]\n",
    "\n",
    "# 여러 개의 문장 리스트를 한꺼번에 단어 인덱스 리스트 벡터로 encode해 주는 함수\n",
    "def get_encoded_sentences(sentences, word_to_index):\n",
    "    return [get_encoded_sentence(sentence, word_to_index) for sentence in sentences]\n",
    "\n",
    "# 숫자 벡터로 encode된 문장을 원래대로 decode하는 함수\n",
    "def get_decoded_sentence(encoded_sentence, index_to_word):\n",
    "    return ' '.join(index_to_word[index] if index in index_to_word else '<UNK>' for index in encoded_sentence[1:])  #[1:]를 통해 <BOS>를 제외\n",
    "\n",
    "# 여러개의 숫자 벡터로 encode된 문장을 한꺼번에 원래대로 decode하는 함수\n",
    "def get_decoded_sentences(encoded_sentences, index_to_word):\n",
    "    return [get_decoded_sentence(encoded_sentence, index_to_word) for encoded_sentence in encoded_sentences]\n"
   ]
  },
  {
   "cell_type": "markdown",
   "metadata": {},
   "source": [
    "## Step3. 데이터 분석 및 가공"
   ]
  },
  {
   "cell_type": "code",
   "execution_count": 6,
   "metadata": {},
   "outputs": [
    {
     "name": "stdout",
     "output_type": "stream",
     "text": [
      "문장 길이의 평균 :  15.969355837799927\n",
      "문장 길이의 최대 :  116\n",
      "문장 길이 표준 편차 :  12.843536204665021\n",
      "pad_sequences maxlen :  67\n",
      "전체 문장의 0.99755809131817%가 maxlen 설정값 이내에 포함됩니다.\n"
     ]
    }
   ],
   "source": [
    "total_data_text = list(X_train) + list(X_test)\n",
    "\n",
    "#텍스트 데이터 문장길이의 리스트를 생성\n",
    "num_tokens = [len(tokens) for tokens in total_data_text]\n",
    "num_tokens = np.array(num_tokens)\n",
    "\n",
    "#문장 길이의 평균값, 최대값, 표준편차를 계산\n",
    "print(\"문장 길이의 평균 : \", np.mean(num_tokens))\n",
    "print(\"문장 길이의 최대 : \", np.max(num_tokens))\n",
    "print(\"문장 길이 표준 편차 : \", np.std(num_tokens))\n",
    "\n",
    "#최대 길이 (평균 + 4*표준편차) 너무 길면 시간이 오래 걸린다. \n",
    "max_tokens = np.mean(num_tokens) +4*np.std(num_tokens)\n",
    "maxlen = int(max_tokens)\n",
    "print(\"pad_sequences maxlen : \", maxlen)\n",
    "print(\"전체 문장의 {}%가 maxlen 설정값 이내에 포함됩니다.\".format(np.sum(num_tokens<max_tokens)/len(num_tokens)))"
   ]
  },
  {
   "cell_type": "code",
   "execution_count": 7,
   "metadata": {},
   "outputs": [
    {
     "name": "stderr",
     "output_type": "stream",
     "text": [
      "/home/aiffel-dj56/anaconda3/envs/aiffel/lib/python3.7/site-packages/seaborn/distributions.py:2557: FutureWarning: `distplot` is a deprecated function and will be removed in a future version. Please adapt your code to use either `displot` (a figure-level function with similar flexibility) or `histplot` (an axes-level function for histograms).\n",
      "  warnings.warn(msg, FutureWarning)\n"
     ]
    },
    {
     "data": {
      "image/png": "[encoded data removed]",
      "text/plain": [
       "<Figure size 288x288 with 1 Axes>"
      ]
     },
     "metadata": {
      "needs_background": "light"
     },
     "output_type": "display_data"
    }
   ],
   "source": [
    "#문장 길이 분포 확인\n",
    "plt.rcParams['figure.figsize'] = (4, 4)\n",
    "plt.rcParams['grid.color'] = '#F0F0F0'\n",
    "plt.rcParams['grid.linestyle'] = 'solid'\n",
    "sns.distplot(num_tokens)\n",
    "plt.style.use(\"bmh\")\n",
    "plt.show()"
   ]
  },
  {
   "cell_type": "code",
   "execution_count": 8,
   "metadata": {},
   "outputs": [
    {
     "name": "stdout",
     "output_type": "stream",
     "text": [
      "(146182, 67)\n"
     ]
    }
   ],
   "source": [
    "#길이 맞추는 padding은 post와 pre 중 앞쪽에 맞추는 pre로 함\n",
    "#마지막에 입력되는 값이 크게 value에 작용하기 때문에 앞쪽을 비우고(pre) 뒤쪽에 의미값이 있는 것이 좋음\n",
    "x_train = keras.preprocessing.sequence.pad_sequences(X_train,\n",
    "                            value = word_to_index['<PAD>'],\n",
    "                            padding = 'pre', maxlen = maxlen)\n",
    "x_test = keras.preprocessing.sequence.pad_sequences(X_test,\n",
    "                            value = word_to_index['<PAD>'],\n",
    "                            padding = 'pre', maxlen = maxlen)\n",
    "print(x_train.shape)"
   ]
  },
  {
   "cell_type": "code",
   "execution_count": 9,
   "metadata": {},
   "outputs": [
    {
     "name": "stdout",
     "output_type": "stream",
     "text": [
      "<PAD> <PAD> <PAD> <PAD> <PAD> <PAD> <PAD> <PAD> <PAD> <PAD> <PAD> <PAD> <PAD> <PAD> <PAD> <PAD> <PAD> <PAD> <PAD> <PAD> <PAD> <PAD> <PAD> <PAD> <PAD> <PAD> <PAD> <PAD> <PAD> <PAD> <PAD> <PAD> <PAD> <PAD> <PAD> <PAD> <PAD> <PAD> <PAD> <PAD> <PAD> <PAD> <PAD> <PAD> <PAD> <PAD> <PAD> <PAD> <PAD> <PAD> <PAD> <PAD> <PAD> <PAD> <PAD> <PAD> 아 더 빙 . . 진짜 짜증 나 네요 목소리\n",
      "라벨:  0\n"
     ]
    }
   ],
   "source": [
    "print(get_decoded_sentence(x_train[0], index_to_word))\n",
    "print('라벨: ', y_train[0])  # 1번째 리뷰데이터의 라벨"
   ]
  },
  {
   "cell_type": "markdown",
   "metadata": {},
   "source": [
    "## Step4. 모델구성 및 validation set 구성\n",
    "1. LSTM(RNN)    \n",
    "2. Conv(CNN)  \n",
    "3. Maxpooling  "
   ]
  },
  {
   "cell_type": "code",
   "execution_count": 10,
   "metadata": {},
   "outputs": [
    {
     "name": "stdout",
     "output_type": "stream",
     "text": [
      "(136182, 67)\n",
      "(136182,)\n"
     ]
    }
   ],
   "source": [
    "#validation set 구성\n",
    "#10000건 분리 - train data\n",
    "x_val = x_train[:10000]\n",
    "y_val = y_train[:10000]\n",
    "\n",
    "# validation set을 제외한 나머지 - validation data\n",
    "partial_x_train = x_train[10000:]\n",
    "partial_y_train = y_train[10000:]\n",
    "\n",
    "print(partial_x_train.shape)\n",
    "print(partial_y_train.shape)"
   ]
  },
  {
   "cell_type": "code",
   "execution_count": 11,
   "metadata": {},
   "outputs": [],
   "source": [
    "vocab_size = 10000 # 어휘 사전의 크기\n",
    "word_vector_dim = 15 # 워드 벡터의 차원수   15->200으로 변경하면 loss값이 오히려 좋지 않은 결과을 얻음 "
   ]
  },
  {
   "cell_type": "code",
   "execution_count": 12,
   "metadata": {},
   "outputs": [
    {
     "name": "stdout",
     "output_type": "stream",
     "text": [
      "Model: \"sequential\"\n",
      "_________________________________________________________________\n",
      "Layer (type)                 Output Shape              Param #   \n",
      "=================================================================\n",
      "embedding (Embedding)        (None, None, 15)          150000    \n",
      "_________________________________________________________________\n",
      "lstm (LSTM)                  (None, 15)                1860      \n",
      "_________________________________________________________________\n",
      "dense (Dense)                (None, 8)                 128       \n",
      "_________________________________________________________________\n",
      "dense_1 (Dense)              (None, 1)                 9         \n",
      "=================================================================\n",
      "Total params: 151,997\n",
      "Trainable params: 151,997\n",
      "Non-trainable params: 0\n",
      "_________________________________________________________________\n",
      "Model: \"sequential_1\"\n",
      "_________________________________________________________________\n",
      "Layer (type)                 Output Shape              Param #   \n",
      "=================================================================\n",
      "embedding_1 (Embedding)      (None, None, 15)          150000    \n",
      "_________________________________________________________________\n",
      "conv1d (Conv1D)              (None, None, 16)          1696      \n",
      "_________________________________________________________________\n",
      "max_pooling1d (MaxPooling1D) (None, None, 16)          0         \n",
      "_________________________________________________________________\n",
      "conv1d_1 (Conv1D)            (None, None, 16)          1808      \n",
      "_________________________________________________________________\n",
      "global_max_pooling1d (Global (None, 16)                0         \n",
      "_________________________________________________________________\n",
      "dense_2 (Dense)              (None, 8)                 136       \n",
      "_________________________________________________________________\n",
      "dense_3 (Dense)              (None, 1)                 9         \n",
      "=================================================================\n",
      "Total params: 153,649\n",
      "Trainable params: 153,649\n",
      "Non-trainable params: 0\n",
      "_________________________________________________________________\n",
      "Model: \"sequential_2\"\n",
      "_________________________________________________________________\n",
      "Layer (type)                 Output Shape              Param #   \n",
      "=================================================================\n",
      "embedding_2 (Embedding)      (None, None, 15)          150000    \n",
      "_________________________________________________________________\n",
      "global_max_pooling1d_1 (Glob (None, 15)                0         \n",
      "_________________________________________________________________\n",
      "dense_4 (Dense)              (None, 8)                 128       \n",
      "_________________________________________________________________\n",
      "dense_5 (Dense)              (None, 1)                 9         \n",
      "=================================================================\n",
      "Total params: 150,137\n",
      "Trainable params: 150,137\n",
      "Non-trainable params: 0\n",
      "_________________________________________________________________\n"
     ]
    }
   ],
   "source": [
    "#model 설계\n",
    "#1.LSTM(RNN)\n",
    "model1 = keras.Sequential()\n",
    "model1.add(keras.layers.Embedding(vocab_size, word_vector_dim, input_shape=(None,)))\n",
    "model1.add(keras.layers.LSTM(word_vector_dim))   # 가장 널리 쓰이는 RNN인 LSTM 레이어를 사용 LSTM state 벡터의 차원수는 8(변경가능)\n",
    "model1.add(keras.layers.Dense(8, activation='relu'))\n",
    "model1.add(keras.layers.Dense(1, activation='sigmoid'))  # 최종 출력은 긍정/부정을 나타내는 1dim\n",
    "\n",
    "model1.summary()\n",
    "\n",
    "#2.Conv(CNN)\n",
    "model2 = keras.Sequential()\n",
    "model2.add(keras.layers.Embedding(vocab_size, word_vector_dim, input_shape=(None,)))\n",
    "model2.add(keras.layers.Conv1D(16, 7, activation='relu'))\n",
    "model2.add(keras.layers.MaxPooling1D(5))\n",
    "model2.add(keras.layers.Conv1D(16, 7, activation='relu'))\n",
    "model2.add(keras.layers.GlobalMaxPooling1D())\n",
    "model2.add(keras.layers.Dense(8, activation='relu'))\n",
    "model2.add(keras.layers.Dense(1, activation='sigmoid'))  # 최종 출력은 긍정/부정을 나타내는 1dim.\n",
    "\n",
    "model2.summary()\n",
    "\n",
    "#3.GlobalMaxPooling\n",
    "model3 = keras.Sequential()\n",
    "model3.add(keras.layers.Embedding(vocab_size, word_vector_dim, input_shape=(None,)))\n",
    "model3.add(keras.layers.GlobalMaxPooling1D())\n",
    "model3.add(keras.layers.Dense(8, activation='relu'))\n",
    "model3.add(keras.layers.Dense(1, activation='sigmoid'))  # 최종 출력은 긍정/부정을 나타내는 1dim\n",
    "\n",
    "model3.summary()\n"
   ]
  },
  {
   "cell_type": "markdown",
   "metadata": {},
   "source": [
    "## Step5 모델 훈련 ♣ Model 1 - LSTM(RNN) "
   ]
  },
  {
   "cell_type": "code",
   "execution_count": 13,
   "metadata": {
    "scrolled": false
   },
   "outputs": [
    {
     "name": "stdout",
     "output_type": "stream",
     "text": [
      "Epoch 1/10\n",
      "266/266 [==============================] - 2s 7ms/step - loss: 0.4824 - accuracy: 0.7745 - val_loss: 0.3507 - val_accuracy: 0.8471\n",
      "Epoch 2/10\n",
      "266/266 [==============================] - 2s 6ms/step - loss: 0.3373 - accuracy: 0.8566 - val_loss: 0.3410 - val_accuracy: 0.8535\n",
      "Epoch 3/10\n",
      "266/266 [==============================] - 2s 6ms/step - loss: 0.3182 - accuracy: 0.8661 - val_loss: 0.3434 - val_accuracy: 0.8522\n",
      "Epoch 4/10\n",
      "266/266 [==============================] - 2s 6ms/step - loss: 0.3049 - accuracy: 0.8726 - val_loss: 0.3409 - val_accuracy: 0.8528\n",
      "Epoch 5/10\n",
      "266/266 [==============================] - 2s 6ms/step - loss: 0.2946 - accuracy: 0.8776 - val_loss: 0.3423 - val_accuracy: 0.8531\n",
      "Epoch 6/10\n",
      "266/266 [==============================] - 2s 6ms/step - loss: 0.2828 - accuracy: 0.8838 - val_loss: 0.3411 - val_accuracy: 0.8548\n",
      "Epoch 7/10\n",
      "266/266 [==============================] - 2s 6ms/step - loss: 0.2731 - accuracy: 0.8888 - val_loss: 0.3449 - val_accuracy: 0.8537\n",
      "Epoch 8/10\n",
      "266/266 [==============================] - 2s 6ms/step - loss: 0.2635 - accuracy: 0.8933 - val_loss: 0.3466 - val_accuracy: 0.8531\n",
      "Epoch 9/10\n",
      "266/266 [==============================] - 2s 6ms/step - loss: 0.2536 - accuracy: 0.8981 - val_loss: 0.3522 - val_accuracy: 0.8512\n",
      "Epoch 10/10\n",
      "266/266 [==============================] - 2s 6ms/step - loss: 0.2451 - accuracy: 0.9022 - val_loss: 0.3540 - val_accuracy: 0.8520\n"
     ]
    }
   ],
   "source": [
    "model1.compile(optimizer = 'adam',\n",
    "             loss = 'binary_crossentropy', \n",
    "             metrics=['accuracy'])\n",
    "\n",
    "epochs = 10    #20->10 일찍 수렴하여 줄임\n",
    "\n",
    "history = model1.fit(partial_x_train, partial_y_train,\n",
    "                   epochs = epochs, batch_size = 512,\n",
    "                   validation_data = (x_val, y_val),\n",
    "                   verbose = 1)"
   ]
  },
  {
   "cell_type": "markdown",
   "metadata": {},
   "source": [
    "## Step6 Loss, Accuracy 그래프 시각화 ♣ Model 1 - LSTM(RNN) "
   ]
  },
  {
   "cell_type": "code",
   "execution_count": 14,
   "metadata": {
    "scrolled": true
   },
   "outputs": [
    {
     "name": "stdout",
     "output_type": "stream",
     "text": [
      "1537/1537 - 2s - loss: 0.3618 - accuracy: 0.8471\n",
      "[0.36182692646980286, 0.8471428155899048]\n"
     ]
    }
   ],
   "source": [
    "results = model1.evaluate(x_test, y_test, verbose = 2)\n",
    "print(results)"
   ]
  },
  {
   "cell_type": "code",
   "execution_count": 15,
   "metadata": {},
   "outputs": [
    {
     "name": "stdout",
     "output_type": "stream",
     "text": [
      "dict_keys(['loss', 'accuracy', 'val_loss', 'val_accuracy'])\n"
     ]
    }
   ],
   "source": [
    "history_dict = history.history\n",
    "print(history_dict.keys()) # epoch에 따른 그래프를 그려볼 수 있는 항목들"
   ]
  },
  {
   "cell_type": "code",
   "execution_count": 16,
   "metadata": {
    "scrolled": true
   },
   "outputs": [
    {
     "data": {
      "image/png": "[encoded data removed]",
      "text/plain": [
       "<Figure size 288x288 with 1 Axes>"
      ]
     },
     "metadata": {
      "needs_background": "light"
     },
     "output_type": "display_data"
    }
   ],
   "source": [
    "import matplotlib.pyplot as plt\n",
    "\n",
    "acc = history_dict['accuracy']\n",
    "val_acc = history_dict['val_accuracy']\n",
    "loss = history_dict['loss']\n",
    "val_loss = history_dict['val_loss']\n",
    "\n",
    "epochs = range(1, len(acc) + 1)\n",
    "\n",
    "plt.plot(epochs, loss, 'bo', label = \"Training Loss\")\n",
    "plt.plot(epochs, val_loss, 'b', label='Validation Loss')\n",
    "plt.title(\"Training and validation loss\")\n",
    "plt.xlabel('Epochs')\n",
    "plt.ylabel('Loss')\n",
    "plt.legend()\n",
    "\n",
    "plt.show()"
   ]
  },
  {
   "cell_type": "code",
   "execution_count": 17,
   "metadata": {
    "scrolled": true
   },
   "outputs": [
    {
     "data": {
      "image/png": "[encoded data removed]",
      "text/plain": [
       "<Figure size 288x288 with 1 Axes>"
      ]
     },
     "metadata": {
      "needs_background": "light"
     },
     "output_type": "display_data"
    }
   ],
   "source": [
    "plt.clf() # 그림 초기화\n",
    "\n",
    "plt.plot(epochs, acc, 'bo', label='Training acc')\n",
    "plt.plot(epochs, val_acc, 'b', label='Validation acc')\n",
    "plt.title(\"Training and validation accuracy\")\n",
    "plt.xlabel('Epochs')\n",
    "plt.ylabel('Accuracy')\n",
    "plt.legend()\n",
    "\n",
    "plt.show()"
   ]
  },
  {
   "cell_type": "markdown",
   "metadata": {},
   "source": [
    "## Step5 모델 훈련 ♣ Model 2 - Conv(CNN)"
   ]
  },
  {
   "cell_type": "code",
   "execution_count": 18,
   "metadata": {
    "scrolled": false
   },
   "outputs": [
    {
     "name": "stdout",
     "output_type": "stream",
     "text": [
      "Epoch 1/10\n",
      "266/266 [==============================] - 10s 37ms/step - loss: 0.4794 - accuracy: 0.7655 - val_loss: 0.3596 - val_accuracy: 0.8378\n",
      "Epoch 2/10\n",
      "266/266 [==============================] - 1s 5ms/step - loss: 0.3324 - accuracy: 0.8568 - val_loss: 0.3444 - val_accuracy: 0.8464\n",
      "Epoch 3/10\n",
      "266/266 [==============================] - 1s 5ms/step - loss: 0.2985 - accuracy: 0.8743 - val_loss: 0.3473 - val_accuracy: 0.8451\n",
      "Epoch 4/10\n",
      "266/266 [==============================] - 1s 5ms/step - loss: 0.2705 - accuracy: 0.8880 - val_loss: 0.3494 - val_accuracy: 0.8466\n",
      "Epoch 5/10\n",
      "266/266 [==============================] - 1s 5ms/step - loss: 0.2433 - accuracy: 0.9019 - val_loss: 0.3639 - val_accuracy: 0.8454\n",
      "Epoch 6/10\n",
      "266/266 [==============================] - 1s 5ms/step - loss: 0.2151 - accuracy: 0.9158 - val_loss: 0.3844 - val_accuracy: 0.8440\n",
      "Epoch 7/10\n",
      "266/266 [==============================] - 1s 5ms/step - loss: 0.1873 - accuracy: 0.9290 - val_loss: 0.4148 - val_accuracy: 0.8360\n",
      "Epoch 8/10\n",
      "266/266 [==============================] - 1s 5ms/step - loss: 0.1618 - accuracy: 0.9419 - val_loss: 0.4541 - val_accuracy: 0.8316\n",
      "Epoch 9/10\n",
      "266/266 [==============================] - 1s 5ms/step - loss: 0.1401 - accuracy: 0.9511 - val_loss: 0.4890 - val_accuracy: 0.8297\n",
      "Epoch 10/10\n",
      "266/266 [==============================] - 1s 5ms/step - loss: 0.1211 - accuracy: 0.9584 - val_loss: 0.5258 - val_accuracy: 0.8257\n"
     ]
    }
   ],
   "source": [
    "model2.compile(optimizer = 'adam',\n",
    "             loss = 'binary_crossentropy', \n",
    "             metrics=['accuracy'])\n",
    "\n",
    "epochs = 10    #20->10 일찍 수렴하여 줄임\n",
    "\n",
    "history = model2.fit(partial_x_train, partial_y_train,\n",
    "                   epochs = epochs, batch_size = 512,\n",
    "                   validation_data = (x_val, y_val),\n",
    "                   verbose = 1)"
   ]
  },
  {
   "cell_type": "markdown",
   "metadata": {},
   "source": [
    "## Step6 Loss, Accuracy 그래프 시각화 ♣ Model 2 - Conv(CNN)"
   ]
  },
  {
   "cell_type": "code",
   "execution_count": 19,
   "metadata": {},
   "outputs": [
    {
     "name": "stdout",
     "output_type": "stream",
     "text": [
      "1537/1537 - 4s - loss: 0.5305 - accuracy: 0.8271\n",
      "[0.5305152535438538, 0.8271253108978271]\n"
     ]
    }
   ],
   "source": [
    "results = model2.evaluate(x_test, y_test, verbose = 2)\n",
    "print(results)"
   ]
  },
  {
   "cell_type": "code",
   "execution_count": 20,
   "metadata": {},
   "outputs": [
    {
     "name": "stdout",
     "output_type": "stream",
     "text": [
      "dict_keys(['loss', 'accuracy', 'val_loss', 'val_accuracy'])\n"
     ]
    }
   ],
   "source": [
    "history_dict = history.history\n",
    "print(history_dict.keys()) # epoch에 따른 그래프를 그려볼 수 있는 항목들"
   ]
  },
  {
   "cell_type": "code",
   "execution_count": 21,
   "metadata": {
    "scrolled": true
   },
   "outputs": [
    {
     "data": {
      "image/png": "[encoded data removed]",
      "text/plain": [
       "<Figure size 288x288 with 1 Axes>"
      ]
     },
     "metadata": {
      "needs_background": "light"
     },
     "output_type": "display_data"
    }
   ],
   "source": [
    "import matplotlib.pyplot as plt\n",
    "\n",
    "acc = history_dict['accuracy']\n",
    "val_acc = history_dict['val_accuracy']\n",
    "loss = history_dict['loss']\n",
    "val_loss = history_dict['val_loss']\n",
    "\n",
    "epochs = range(1, len(acc) + 1)\n",
    "\n",
    "plt.plot(epochs, loss, 'bo', label = \"Training Loss\")\n",
    "plt.plot(epochs, val_loss, 'b', label='Validation Loss')\n",
    "plt.title(\"Training and validation loss\")\n",
    "plt.xlabel('Epochs')\n",
    "plt.ylabel('Loss')\n",
    "plt.legend()\n",
    "\n",
    "plt.show()"
   ]
  },
  {
   "cell_type": "code",
   "execution_count": 22,
   "metadata": {
    "scrolled": true
   },
   "outputs": [
    {
     "data": {
      "image/png": "[encoded data removed]",
      "text/plain": [
       "<Figure size 288x288 with 1 Axes>"
      ]
     },
     "metadata": {
      "needs_background": "light"
     },
     "output_type": "display_data"
    }
   ],
   "source": [
    "plt.clf() # 그림 초기화\n",
    "\n",
    "plt.plot(epochs, acc, 'bo', label='Training acc')\n",
    "plt.plot(epochs, val_acc, 'b', label='Validation acc')\n",
    "plt.title(\"Training and validation accuracy\")\n",
    "plt.xlabel('Epochs')\n",
    "plt.ylabel('Accuracy')\n",
    "plt.legend()\n",
    "\n",
    "plt.show()"
   ]
  },
  {
   "cell_type": "markdown",
   "metadata": {},
   "source": [
    "## Step5 모델 훈련 ♣ Model 3 - GlobalMaxPooling"
   ]
  },
  {
   "cell_type": "code",
   "execution_count": 23,
   "metadata": {
    "scrolled": false
   },
   "outputs": [
    {
     "name": "stdout",
     "output_type": "stream",
     "text": [
      "Epoch 1/10\n",
      "266/266 [==============================] - 1s 4ms/step - loss: 0.6138 - accuracy: 0.7453 - val_loss: 0.4523 - val_accuracy: 0.8170\n",
      "Epoch 2/10\n",
      "266/266 [==============================] - 1s 4ms/step - loss: 0.3837 - accuracy: 0.8367 - val_loss: 0.3563 - val_accuracy: 0.8409\n",
      "Epoch 3/10\n",
      "266/266 [==============================] - 1s 4ms/step - loss: 0.3293 - accuracy: 0.8604 - val_loss: 0.3435 - val_accuracy: 0.8479\n",
      "Epoch 4/10\n",
      "266/266 [==============================] - 1s 4ms/step - loss: 0.3034 - accuracy: 0.8735 - val_loss: 0.3421 - val_accuracy: 0.8495\n",
      "Epoch 5/10\n",
      "266/266 [==============================] - 1s 4ms/step - loss: 0.2847 - accuracy: 0.8830 - val_loss: 0.3446 - val_accuracy: 0.8497\n",
      "Epoch 6/10\n",
      "266/266 [==============================] - 1s 4ms/step - loss: 0.2692 - accuracy: 0.8901 - val_loss: 0.3494 - val_accuracy: 0.8477\n",
      "Epoch 7/10\n",
      "266/266 [==============================] - 1s 4ms/step - loss: 0.2561 - accuracy: 0.8966 - val_loss: 0.3548 - val_accuracy: 0.8481\n",
      "Epoch 8/10\n",
      "266/266 [==============================] - 1s 4ms/step - loss: 0.2445 - accuracy: 0.9021 - val_loss: 0.3617 - val_accuracy: 0.8470\n",
      "Epoch 9/10\n",
      "266/266 [==============================] - 1s 4ms/step - loss: 0.2343 - accuracy: 0.9068 - val_loss: 0.3696 - val_accuracy: 0.8457\n",
      "Epoch 10/10\n",
      "266/266 [==============================] - 1s 4ms/step - loss: 0.2250 - accuracy: 0.9112 - val_loss: 0.3769 - val_accuracy: 0.8435\n"
     ]
    }
   ],
   "source": [
    "model3.compile(optimizer = 'adam',\n",
    "             loss = 'binary_crossentropy', \n",
    "             metrics=['accuracy'])\n",
    "\n",
    "epochs = 10    #20->10 일찍 수렴하여 줄임\n",
    "\n",
    "history = model3.fit(partial_x_train, partial_y_train,\n",
    "                   epochs = epochs, batch_size = 512,\n",
    "                   validation_data = (x_val, y_val),\n",
    "                   verbose = 1)"
   ]
  },
  {
   "cell_type": "markdown",
   "metadata": {},
   "source": [
    "## Step6 Loss, Accuracy 그래프 시각화 ♣ Model 3 - GlobalMaxPooling"
   ]
  },
  {
   "cell_type": "code",
   "execution_count": 24,
   "metadata": {},
   "outputs": [
    {
     "name": "stdout",
     "output_type": "stream",
     "text": [
      "1537/1537 - 2s - loss: 0.3948 - accuracy: 0.8408\n",
      "[0.3948032855987549, 0.8407551050186157]\n"
     ]
    }
   ],
   "source": [
    "results = model3.evaluate(x_test, y_test, verbose = 2)\n",
    "print(results)"
   ]
  },
  {
   "cell_type": "code",
   "execution_count": 25,
   "metadata": {},
   "outputs": [
    {
     "name": "stdout",
     "output_type": "stream",
     "text": [
      "dict_keys(['loss', 'accuracy', 'val_loss', 'val_accuracy'])\n"
     ]
    }
   ],
   "source": [
    "history_dict = history.history\n",
    "print(history_dict.keys()) # epoch에 따른 그래프를 그려볼 수 있는 항목들"
   ]
  },
  {
   "cell_type": "code",
   "execution_count": 26,
   "metadata": {
    "scrolled": true
   },
   "outputs": [
    {
     "data": {
      "image/png": "[encoded data removed]",
      "text/plain": [
       "<Figure size 288x288 with 1 Axes>"
      ]
     },
     "metadata": {
      "needs_background": "light"
     },
     "output_type": "display_data"
    }
   ],
   "source": [
    "import matplotlib.pyplot as plt\n",
    "\n",
    "acc = history_dict['accuracy']\n",
    "val_acc = history_dict['val_accuracy']\n",
    "loss = history_dict['loss']\n",
    "val_loss = history_dict['val_loss']\n",
    "\n",
    "epochs = range(1, len(acc) + 1)\n",
    "\n",
    "plt.plot(epochs, loss, 'bo', label = \"Training Loss\")\n",
    "plt.plot(epochs, val_loss, 'b', label='Validation Loss')\n",
    "plt.title(\"Training and validation loss\")\n",
    "plt.xlabel('Epochs')\n",
    "plt.ylabel('Loss')\n",
    "plt.legend()\n",
    "\n",
    "plt.show()"
   ]
  },
  {
   "cell_type": "code",
   "execution_count": 27,
   "metadata": {
    "scrolled": true
   },
   "outputs": [
    {
     "data": {
      "image/png": "[encoded data removed]",
      "text/plain": [
       "<Figure size 288x288 with 1 Axes>"
      ]
     },
     "metadata": {
      "needs_background": "light"
     },
     "output_type": "display_data"
    }
   ],
   "source": [
    "plt.clf() # 그림 초기화\n",
    "\n",
    "plt.plot(epochs, acc, 'bo', label='Training acc')\n",
    "plt.plot(epochs, val_acc, 'b', label='Validation acc')\n",
    "plt.title(\"Training and validation accuracy\")\n",
    "plt.xlabel('Epochs')\n",
    "plt.ylabel('Accuracy')\n",
    "plt.legend()\n",
    "\n",
    "plt.show()"
   ]
  },
  {
   "cell_type": "markdown",
   "metadata": {},
   "source": [
    "## Step7 학습된 Embedding 레이어 분석¶"
   ]
  },
  {
   "cell_type": "code",
   "execution_count": 28,
   "metadata": {},
   "outputs": [
    {
     "name": "stdout",
     "output_type": "stream",
     "text": [
      "(10000, 15)\n"
     ]
    }
   ],
   "source": [
    "model = model1\n",
    "#model = model2\n",
    "#model = model3\n",
    "embedding_layer = model.layers[0] # 학습한 모델의 첫 번째 레이어\n",
    "weights = embedding_layer.get_weights()[0]\n",
    "print(weights.shape)    # shape: (vocab_size, embedding_dim)"
   ]
  },
  {
   "cell_type": "code",
   "execution_count": 29,
   "metadata": {},
   "outputs": [],
   "source": [
    "import os\n",
    "\n",
    "# 학습한 Embedding 파라미터를 파일에 써서 저장합니다. \n",
    "word2vec_file_path = os.getenv('HOME')+'/aiffel/sentiment_classification/word2vec.txt'\n",
    "f = open(word2vec_file_path, 'w')\n",
    "f.write('{} {}\\n'.format(vocab_size-4, word_vector_dim))  # 몇개의 벡터를 얼마 사이즈로 기재할지 타이틀을 씁니다.\n",
    "\n",
    "# 단어 개수(에서 특수문자 4개는 제외하고)만큼의 워드 벡터를 파일에 기록합니다. \n",
    "vectors = model.get_weights()[0]\n",
    "for i in range(4,vocab_size):\n",
    "    f.write('{} {}\\n'.format(index_to_word[i], ' '.join(map(str, list(vectors[i, :])))))\n",
    "f.close()"
   ]
  },
  {
   "cell_type": "code",
   "execution_count": 30,
   "metadata": {},
   "outputs": [
    {
     "data": {
      "text/plain": [
       "array([-0.07051272, -0.10436039, -0.02439352,  0.04175408,  0.01960815,\n",
       "        0.03756621, -0.0431677 ,  0.04114091, -0.03193523, -0.05905824,\n",
       "        0.0463246 , -0.00482816, -0.0434989 ,  0.00963888, -0.03172582],\n",
       "      dtype=float32)"
      ]
     },
     "execution_count": 30,
     "metadata": {},
     "output_type": "execute_result"
    }
   ],
   "source": [
    "from gensim.models.keyedvectors import Word2VecKeyedVectors\n",
    "\n",
    "word_vectors = Word2VecKeyedVectors.load_word2vec_format(word2vec_file_path, binary=False)\n",
    "vector = word_vectors['개인']\n",
    "vector"
   ]
  },
  {
   "cell_type": "code",
   "execution_count": 31,
   "metadata": {},
   "outputs": [
    {
     "data": {
      "text/plain": [
       "[('맹목', 0.8933603167533875),\n",
       " ('다시', 0.8835231065750122),\n",
       " ('투쟁', 0.8741797804832458),\n",
       " ('그걸', 0.8721303343772888),\n",
       " ('난', 0.863027036190033),\n",
       " ('지나쳤', 0.8605515956878662),\n",
       " ('페인', 0.8529510498046875),\n",
       " ('느끼', 0.8412781357765198),\n",
       " ('남한', 0.8364503979682922),\n",
       " ('바꾸', 0.8234293460845947)]"
      ]
     },
     "execution_count": 31,
     "metadata": {},
     "output_type": "execute_result"
    }
   ],
   "source": [
    "word_vectors.similar_by_word(\"개인\")"
   ]
  },
  {
   "cell_type": "markdown",
   "metadata": {},
   "source": [
    "## Step8 한국어 Word2Vec 임베딩 활용하여 성능개선"
   ]
  },
  {
   "cell_type": "code",
   "execution_count": 32,
   "metadata": {},
   "outputs": [],
   "source": [
    "import gensim"
   ]
  },
  {
   "cell_type": "code",
   "execution_count": 33,
   "metadata": {},
   "outputs": [
    {
     "name": "stdout",
     "output_type": "stream",
     "text": [
      "<class 'gensim.models.word2vec.Word2Vec'>\n"
     ]
    }
   ],
   "source": [
    "import os\n",
    "#한국어 Word2Vec 모델 로드\n",
    "datapath = os.getenv('HOME')+'/aiffel/ko.bin'\n",
    "word2vec = gensim.models.Word2Vec.load(datapath)\n",
    "print(type(word2vec))"
   ]
  },
  {
   "cell_type": "code",
   "execution_count": 34,
   "metadata": {},
   "outputs": [
    {
     "name": "stdout",
     "output_type": "stream",
     "text": [
      "[('개개인', 0.6724757552146912), ('사회적', 0.5781126618385315), ('프라이버시', 0.5577560663223267), ('사생활', 0.5527251362800598), ('개인적', 0.5497498512268066), ('개별', 0.5410588979721069), ('타인', 0.5309498310089111), ('고객', 0.5252301692962646), ('개별적', 0.5245020389556885), ('소비자', 0.5197153091430664)]\n"
     ]
    },
    {
     "name": "stderr",
     "output_type": "stream",
     "text": [
      "/home/aiffel-dj56/anaconda3/envs/aiffel/lib/python3.7/site-packages/ipykernel_launcher.py:4: DeprecationWarning: Call to deprecated `similar_by_word` (Method will be removed in 4.0.0, use self.wv.similar_by_word() instead).\n",
      "  after removing the cwd from sys.path.\n"
     ]
    },
    {
     "data": {
      "text/plain": [
       "[('개개인', 0.6724757552146912),\n",
       " ('사회적', 0.5781126618385315),\n",
       " ('프라이버시', 0.5577560663223267),\n",
       " ('사생활', 0.5527251362800598),\n",
       " ('개인적', 0.5497498512268066),\n",
       " ('개별', 0.5410588979721069),\n",
       " ('타인', 0.5309498310089111),\n",
       " ('고객', 0.5252301692962646),\n",
       " ('개별적', 0.5245020389556885),\n",
       " ('소비자', 0.5197153091430664)]"
      ]
     },
     "execution_count": 34,
     "metadata": {},
     "output_type": "execute_result"
    }
   ],
   "source": [
    "#Word2Vec는 입력한 단어에 대해서 가장 유사한 단어들을 출력하는 model.wv.most_similar을 지원\n",
    "#가장 유사한 단어 출력\n",
    "print(word2vec.wv.most_similar(\"개인\"))\n",
    "word2vec.similar_by_word(\"개인\")"
   ]
  },
  {
   "cell_type": "code",
   "execution_count": 35,
   "metadata": {},
   "outputs": [
    {
     "name": "stdout",
     "output_type": "stream",
     "text": [
      "(200,)\n"
     ]
    },
    {
     "name": "stderr",
     "output_type": "stream",
     "text": [
      "/home/aiffel-dj56/anaconda3/envs/aiffel/lib/python3.7/site-packages/ipykernel_launcher.py:2: DeprecationWarning: Call to deprecated `__getitem__` (Method will be removed in 4.0.0, use self.wv.__getitem__() instead).\n",
      "  \n"
     ]
    },
    {
     "data": {
      "text/plain": [
       "array([-1.3488506 ,  0.4974418 ,  1.2620001 ,  0.26149538, -1.084291  ,\n",
       "       -1.0342678 , -1.2460518 , -0.00457514, -0.706603  , -1.0799145 ,\n",
       "        2.5139096 , -0.7577472 , -2.23177   , -2.2568793 , -0.4859126 ,\n",
       "       -0.20420103,  0.343897  ,  0.5967241 , -0.3738979 , -0.76277953,\n",
       "        0.48358265,  0.7864506 , -0.9538533 ,  0.40361398,  0.780665  ,\n",
       "       -0.46171355, -1.5506473 , -0.8753521 , -1.5893837 , -1.088497  ,\n",
       "       -1.2101454 , -2.2962773 ,  0.08834849, -0.5249705 , -0.85460824,\n",
       "       -0.59696925,  1.625654  , -1.4456431 ,  2.3876922 ,  2.0943158 ,\n",
       "        2.3110042 ,  0.42499924,  1.1387614 ,  0.10984266, -1.4550694 ,\n",
       "       -1.1998249 ,  1.6262128 , -0.1907273 ,  1.0495535 , -0.450022  ,\n",
       "        0.8003222 , -0.8544472 , -0.7657552 , -1.0366787 , -0.75405407,\n",
       "       -0.6928993 ,  1.1886523 ,  0.64530057, -0.7713429 , -0.21395175,\n",
       "        2.0844107 ,  0.328075  ,  0.8534163 , -0.7187584 , -0.74870545,\n",
       "       -0.32887816, -0.27682212,  1.1654854 ,  0.37709785,  0.82484066,\n",
       "        1.3642799 , -0.90530616, -1.9881911 ,  0.44991735,  0.7159967 ,\n",
       "        0.8041918 , -0.21130098,  0.47835362,  1.6624892 , -1.7294686 ,\n",
       "       -2.0415065 , -3.2604616 ,  1.6430937 ,  0.12839155, -1.7999306 ,\n",
       "       -0.29478735,  0.14636265,  0.01889656, -0.38220996, -1.8280144 ,\n",
       "        0.42513394,  0.16948844,  0.44166642,  0.63889   , -0.6727931 ,\n",
       "       -0.6594305 ,  1.2914397 ,  0.36425495, -0.09557997, -1.9879757 ,\n",
       "       -0.29146054,  0.4356466 ,  1.7042259 ,  0.3668124 ,  0.86747897,\n",
       "        0.70259994, -2.7580462 ,  0.67585295, -0.16581826,  0.19643871,\n",
       "        2.5267415 , -1.9683415 ,  0.01752818, -0.0232931 , -0.6740379 ,\n",
       "       -0.68185943,  0.4274406 ,  0.79676455,  0.6690578 , -0.01581805,\n",
       "       -1.3033707 , -1.4201592 , -0.49239552, -1.1971209 , -0.5655165 ,\n",
       "        2.6565442 ,  0.20990628, -0.40238678,  1.3459852 , -0.62342066,\n",
       "       -1.2612671 , -1.3056792 ,  1.4687772 ,  0.8086518 ,  0.5128605 ,\n",
       "        1.8750087 ,  2.096147  ,  2.0401635 ,  1.2877523 , -1.3158418 ,\n",
       "        0.5334212 ,  0.24093752, -0.52306736, -0.14922924, -0.42401373,\n",
       "        1.0743088 , -0.05100563, -1.4485549 , -0.3040501 , -0.18636945,\n",
       "       -0.3972874 , -0.12670895, -2.0291781 , -0.57960004,  0.1999337 ,\n",
       "       -1.7501832 ,  0.44472298,  0.22319283,  0.68987656,  0.3096805 ,\n",
       "        0.7663047 ,  0.1074816 , -1.2108455 , -1.2138    ,  0.1441742 ,\n",
       "        0.31864634,  0.26322588,  2.2546928 ,  0.0227772 , -0.20464051,\n",
       "        1.5939566 , -1.4773897 , -0.94725686, -0.8026475 ,  1.6330363 ,\n",
       "       -0.02550283, -0.18517426,  1.1956525 ,  1.5768843 , -0.696526  ,\n",
       "        0.7188056 ,  0.9754836 ,  2.172228  , -1.0263513 , -1.7313831 ,\n",
       "        1.5142658 , -0.2119737 , -0.8644181 ,  0.17186771,  1.1231333 ,\n",
       "       -1.9143046 ,  0.02946781, -1.4960576 , -1.8959774 , -0.16499737,\n",
       "       -1.2689775 ,  0.70690215,  0.94338024,  1.1623722 , -1.617567  ],\n",
       "      dtype=float32)"
      ]
     },
     "execution_count": 35,
     "metadata": {},
     "output_type": "execute_result"
    }
   ],
   "source": [
    "#임베딩 벡터 확인\n",
    "vector = word2vec['개인']\n",
    "print(vector.shape) #200 word_vector_dim\n",
    "vector\n"
   ]
  },
  {
   "cell_type": "code",
   "execution_count": 36,
   "metadata": {},
   "outputs": [
    {
     "name": "stderr",
     "output_type": "stream",
     "text": [
      "/home/aiffel-dj56/anaconda3/envs/aiffel/lib/python3.7/site-packages/ipykernel_launcher.py:8: DeprecationWarning: Call to deprecated `__contains__` (Method will be removed in 4.0.0, use self.wv.__contains__() instead).\n",
      "  \n",
      "/home/aiffel-dj56/anaconda3/envs/aiffel/lib/python3.7/site-packages/ipykernel_launcher.py:9: DeprecationWarning: Call to deprecated `__getitem__` (Method will be removed in 4.0.0, use self.wv.__getitem__() instead).\n",
      "  if __name__ == '__main__':\n"
     ]
    }
   ],
   "source": [
    "vocab_size = 10000   #사전 단어 수\n",
    "word_vector_dim = 200   #임베딩 벡터 차원\n",
    "\n",
    "embedding_matrix = np.random.rand(vocab_size, word_vector_dim)\n",
    "\n",
    "# embedding matrix에 word2vec 워드를 단어 하나식마다 차례차례 카피한다.\n",
    "for i in range(4, vocab_size):\n",
    "    if index_to_word[i] in word2vec:\n",
    "        embedding_matrix[i] = word2vec[index_to_word[i]]\n"
   ]
  },
  {
   "cell_type": "code",
   "execution_count": 37,
   "metadata": {},
   "outputs": [
    {
     "name": "stdout",
     "output_type": "stream",
     "text": [
      "Model: \"sequential_3\"\n",
      "_________________________________________________________________\n",
      "Layer (type)                 Output Shape              Param #   \n",
      "=================================================================\n",
      "embedding_3 (Embedding)      (None, 67, 200)           2000000   \n",
      "_________________________________________________________________\n",
      "conv1d_2 (Conv1D)            (None, 61, 16)            22416     \n",
      "_________________________________________________________________\n",
      "max_pooling1d_1 (MaxPooling1 (None, 12, 16)            0         \n",
      "_________________________________________________________________\n",
      "conv1d_3 (Conv1D)            (None, 6, 16)             1808      \n",
      "_________________________________________________________________\n",
      "global_max_pooling1d_2 (Glob (None, 16)                0         \n",
      "_________________________________________________________________\n",
      "dense_6 (Dense)              (None, 8)                 136       \n",
      "_________________________________________________________________\n",
      "dense_7 (Dense)              (None, 1)                 9         \n",
      "=================================================================\n",
      "Total params: 2,024,369\n",
      "Trainable params: 2,024,369\n",
      "Non-trainable params: 0\n",
      "_________________________________________________________________\n"
     ]
    }
   ],
   "source": [
    "from tensorflow.keras.initializers import Constant\n",
    "\n",
    "# 모델 구성\n",
    "model = keras.Sequential()\n",
    "model.add(keras.layers.Embedding(vocab_size, word_vector_dim,\n",
    "                        embeddings_initializer = Constant(embedding_matrix),  #임베딩 매트릭스 추가\n",
    "                        input_length = maxlen,\n",
    "                        trainable = True))\n",
    "model.add(keras.layers.Conv1D(16, 7, activation='relu'))\n",
    "model.add(keras.layers.MaxPooling1D(5))\n",
    "model.add(keras.layers.Conv1D(16, 7, activation='relu'))\n",
    "model.add(keras.layers.GlobalMaxPooling1D())\n",
    "model.add(keras.layers.Dense(8, activation='relu'))\n",
    "model.add(keras.layers.Dense(1, activation='sigmoid'))\n",
    "\n",
    "model.summary()"
   ]
  },
  {
   "cell_type": "code",
   "execution_count": 38,
   "metadata": {},
   "outputs": [
    {
     "name": "stdout",
     "output_type": "stream",
     "text": [
      "Epoch 1/10\n",
      "266/266 [==============================] - 12s 45ms/step - loss: 0.5903 - accuracy: 0.6710 - val_loss: 0.4791 - val_accuracy: 0.7723\n",
      "Epoch 2/10\n",
      "266/266 [==============================] - 8s 29ms/step - loss: 0.4105 - accuracy: 0.8137 - val_loss: 0.3844 - val_accuracy: 0.8306\n",
      "Epoch 3/10\n",
      "266/266 [==============================] - 8s 29ms/step - loss: 0.3473 - accuracy: 0.8484 - val_loss: 0.3721 - val_accuracy: 0.8343\n",
      "Epoch 4/10\n",
      "266/266 [==============================] - 8s 30ms/step - loss: 0.3095 - accuracy: 0.8674 - val_loss: 0.3602 - val_accuracy: 0.8401\n",
      "Epoch 5/10\n",
      "266/266 [==============================] - 8s 30ms/step - loss: 0.2843 - accuracy: 0.8803 - val_loss: 0.3592 - val_accuracy: 0.8435\n",
      "Epoch 6/10\n",
      "266/266 [==============================] - 8s 30ms/step - loss: 0.2606 - accuracy: 0.8922 - val_loss: 0.3715 - val_accuracy: 0.8415\n",
      "Epoch 7/10\n",
      "266/266 [==============================] - 8s 29ms/step - loss: 0.2408 - accuracy: 0.9017 - val_loss: 0.3868 - val_accuracy: 0.8377\n",
      "Epoch 8/10\n",
      "266/266 [==============================] - 8s 29ms/step - loss: 0.2204 - accuracy: 0.9114 - val_loss: 0.3991 - val_accuracy: 0.8389\n",
      "Epoch 9/10\n",
      "266/266 [==============================] - 8s 30ms/step - loss: 0.2013 - accuracy: 0.9205 - val_loss: 0.4186 - val_accuracy: 0.8366\n",
      "Epoch 10/10\n",
      "266/266 [==============================] - 8s 29ms/step - loss: 0.1824 - accuracy: 0.9302 - val_loss: 0.4414 - val_accuracy: 0.8324\n"
     ]
    }
   ],
   "source": [
    "# 학습하기\n",
    "model.compile(optimizer = 'adam',\n",
    "             loss = 'binary_crossentropy',\n",
    "             metrics=['accuracy'])\n",
    "\n",
    "epochs = 10    #20->10 일찍 수렴하여 줄임\n",
    "\n",
    "history = model.fit(partial_x_train,\n",
    "                   partial_y_train,\n",
    "                   epochs = epochs,\n",
    "                   batch_size = 512, validation_data=(x_val, y_val),\n",
    "                   verbose=1)"
   ]
  },
  {
   "cell_type": "code",
   "execution_count": 39,
   "metadata": {
    "scrolled": true
   },
   "outputs": [
    {
     "name": "stdout",
     "output_type": "stream",
     "text": [
      "1537/1537 - 4s - loss: 0.4530 - accuracy: 0.8324\n",
      "[0.4530408978462219, 0.8323534727096558]\n"
     ]
    }
   ],
   "source": [
    "# 테스트셋을 통한 모델 평가\n",
    "results = model.evaluate(x_test, y_test, verbose=2)\n",
    "print(results)\n"
   ]
  },
  {
   "cell_type": "code",
   "execution_count": 40,
   "metadata": {},
   "outputs": [
    {
     "name": "stdout",
     "output_type": "stream",
     "text": [
      "dict_keys(['loss', 'accuracy', 'val_loss', 'val_accuracy'])\n"
     ]
    }
   ],
   "source": [
    "history_dict = history.history\n",
    "print(history_dict.keys()) # epoch에 따른 그래프를 그려볼 수 있는 항목들"
   ]
  },
  {
   "cell_type": "code",
   "execution_count": 41,
   "metadata": {
    "scrolled": true
   },
   "outputs": [
    {
     "data": {
      "image/png": "[encoded data removed]",
      "text/plain": [
       "<Figure size 288x288 with 1 Axes>"
      ]
     },
     "metadata": {
      "needs_background": "light"
     },
     "output_type": "display_data"
    }
   ],
   "source": [
    "import matplotlib.pyplot as plt\n",
    "\n",
    "acc = history_dict['accuracy']\n",
    "val_acc = history_dict['val_accuracy']\n",
    "loss = history_dict['loss']\n",
    "val_loss = history_dict['val_loss']\n",
    "\n",
    "epochs = range(1, len(acc) + 1)\n",
    "\n",
    "plt.plot(epochs, loss, 'bo', label = \"Training Loss\")\n",
    "plt.plot(epochs, val_loss, 'b', label='Validation Loss')\n",
    "plt.title(\"Training and validation loss\")\n",
    "plt.xlabel('Epochs')\n",
    "plt.ylabel('Loss')\n",
    "plt.legend()\n",
    "\n",
    "plt.show()"
   ]
  },
  {
   "cell_type": "code",
   "execution_count": 42,
   "metadata": {
    "scrolled": true
   },
   "outputs": [
    {
     "data": {
      "image/png": "[encoded data removed]",
      "text/plain": [
       "<Figure size 288x288 with 1 Axes>"
      ]
     },
     "metadata": {
      "needs_background": "light"
     },
     "output_type": "display_data"
    }
   ],
   "source": [
    "plt.clf() # 그림 초기화\n",
    "\n",
    "plt.plot(epochs, acc, 'bo', label='Training acc')\n",
    "plt.plot(epochs, val_acc, 'b', label='Validation acc')\n",
    "plt.title(\"Training and validation accuracy\")\n",
    "plt.xlabel('Epochs')\n",
    "plt.ylabel('Accuracy')\n",
    "plt.legend()\n",
    "\n",
    "plt.show()"
   ]
  },
  {
   "cell_type": "code",
   "execution_count": null,
   "metadata": {},
   "outputs": [],
   "source": []
  },
  {
   "cell_type": "markdown",
   "metadata": {},
   "source": [
    "## ◈ 결과 및 토의\n",
    "\n",
    "### 모델 별 결과값 비교 \n",
    "\n",
    "예상과 같이 3가지 모델중에는 `RNN 모델`이 훨씬 좋은 결과를 얻었다. 그러나, Word2Vec을 활용한 성능개선은 85% 이상의 결과를 얻지 못하였다.\n",
    "또한, Stopwords를 어떤 것을 사용하느냐에 따라 결과가 달라지는지 시도하여 보았다. Stopwords가 많을수록 좀더 정밀한 결과값을 얻을 것이라고 예상하였으나, 오히려 기본적인 조사로만된 가장 적은 Stopwords를 사용할 때 더 좋은 결과를 얻을 수 있었다. \n",
    "\n",
    "\n",
    "### 1- Stopwords 18개\n",
    "\n",
    "Step6 Loss, Accuracy **♣ Model 1 - LSTM(RNN)**  \n",
    "1537/1537 - 2s - **`loss: 0.4884 - accuracy: 0.8476`**  ★  \n",
    "[0.4883747398853302, 0.84763103723526]\n",
    "\n",
    "Step6 Loss, Accuracy **♣ Model 2 - Conv(CNN)**  \n",
    "1537/1537 - 4s - **`loss: 1.0109 - accuracy: 0.8108`**  \n",
    "[1.0108782052993774, 0.8108305931091309]  \n",
    "\n",
    "Step6 Loss, Accuracy **♣ Model 3 - GlobalMaxPooling**  \n",
    "1537/1537 - 2s - **`loss: 0.4831 - accuracy: 0.8297`**  \n",
    "[0.4830852448940277, 0.8297088742256165]  \n",
    "\n",
    "Step8 한국어 **Word2Vec 임베딩 활용 성능개선**   \n",
    "1537/1537 - 4s - **`loss: 0.8261 - accuracy: 0.8228`**  \n",
    "[0.826065182685852, 0.8227515816688538]  \n",
    "\n",
    "### 2- Stopwords 675개\n",
    "Step6 Loss, **♣ Model 1 - LSTM(RNN)**  \n",
    "1537/1537 - 2s - **`loss: 0.5203 - accuracy: 0.8360`**  \n",
    "[0.5203172564506531, 0.8360355496406555]  \n",
    "\n",
    "Step6 Loss, Accuracy **♣ Model 2 - Conv(CNN)**  \n",
    "1537/1537 - 4s - **`loss: 1.0671 - accuracy: 0.7576`**  \n",
    "[1.0670971870422363, 0.757593035697937]  \n",
    "\n",
    "Step6 Loss, Accuracy **♣ Model 3 - GlobalMaxPooling**  \n",
    "1537/1537 - 2s - **`loss: 0.5099 - accuracy: 0.8264`**   \n",
    "[0.5099098682403564, 0.8263522982597351]\n",
    "\n",
    "### 3- Stopwords 101개\n",
    "Step6 Loss, Accuracy **♣ Model 1 - LSTM(RNN)**    \n",
    "1537/1537 - 2s - **`loss: 0.4660 - accuracy: 0.8314`**   \n",
    "[0.4659859240055084, 0.8313973546028137]\n",
    "\n",
    "Step6 Loss, Accuracy **♣ Model 2 - Conv(CNN)**  \n",
    "1537/1537 - 4s - **`loss: 1.0196 - accuracy: 0.7766`**    \n",
    "[1.0195648670196533, 0.776552677154541]\n",
    "\n",
    "Step6 Loss, Accuracy **♣ Model 3 - GlobalMaxPooling**  \n",
    "1537/1537 - 2s - **`loss: 0.5186 - accuracy: 0.8198`**  \n",
    "[0.5185568332672119, 0.8198221921920776]\n",
    "\n",
    "Step8 한국어 **Word2Vec 임베딩 활용 성능개선**     \n",
    "1537/1537 - 4s - **`loss: 0.8922 - accuracy: 0.7749`**  \n",
    "[0.892214298248291, 0.7748641967773438]\n",
    "\n",
    " \n",
    "인공지능의 한 분야인 자연어처리는 기존에 가진 텍스트터를 분류 웹 검색, 정보 검색, 순위 지정 및 문서 분류와 같은 많은 응용 프로그램에서 중요한 작업입니다. 텍스트 분류의 목표는 텍스트 문서를 스팸 탐지, 감정 분석 또는 사용자 검토 범주화와 같이 하나 이상의 정의된 범주로 자동 분류하는 것입니다.  \n",
    "최근에, 이런 특성을 이용하여 사용자의 감성분석 결과를 통해 제품의 설계나 마케팅에 적극적으로 사용하고 있는 추세이다. 그러나 과거 텍스트 분류 작업은 여러 가지 이유로 발전이 더딘 편이었으나, 데이터나 신경망을 기반으로 한 모델들이 점점 대중적으로 보급되면서 기존의 한계점으로 인식되어온 정확도와 속도가 많이 개선되리라 생각한다.\n",
    "\n",
    "`한국어에서의 토큰화의 어려움`\n",
    "1) 한국어는 교착어이다.\n",
    "띄어쓰기 단위가 영어처럼 독립적인 단어라면 띄어쓰기 단위로 토큰화를 하면 되겠지만 한국어는 어절이 독립적인 단어로 구성되는 것이 아니라 조사 등의 무언가가 붙어있는 경우가 많아서 이를 전부 분리해줘야 한다는 의미  \n",
    "2) 한국어는 띄어쓰기가 영어보다 잘 지켜지지 않는다.\n",
    "\n",
    " `Word2vec모델`은 자연어 처리에서 단어를 밀집 벡터로 만들어주는 단어 임베딩 방법론이지만, 최근에 들어서는 자연어 처리를 넘어서 추천 시스템에도 사용되고 있다."
   ]
  },
  {
   "cell_type": "markdown",
   "metadata": {},
   "source": [
    "## ◈ 용어 사전 및 설명 \n",
    "`워드 임베딩(word embedding) 기법`  \n",
    "단어 임베딩(word embedding)이란 말뭉치(혹은 코퍼스, corpus) 내 각 단어에 일대일로 대응하는 밀집된 실수 벡터(dense vector)의 집합, 혹은 이 벡터를 구하는 행위\n",
    "단어를 밀집 벡터(dense vector)의 형태로 표현하는 방법을 워드 임베딩(word embedding)이라고 합니다. 그리고 이 밀집 벡터를 워드 임베딩 과정을 통해 나온 결과라고 하여 임베딩 벡터(embedding vector)라고도 합니다.\n",
    "워드 임베딩 방법론으로는 LSA, Word2Vec, FastText, Glove 등이 있습니다.\n",
    "\n",
    "`워드투벡터(Word2Vec)`  \n",
    "단어 간 유사도를 반영할 수 있도록 단어의 의미를 벡터화 할 수 있는 방법이 필요합니다. 그리고 이를 위해서 사용되는 대표적인 방법이 워드투벡터(Word2Vec)\n",
    "\n",
    "`토큰화(Tokenization)`  \n",
    "자연어 처리에서 크롤링 등으로 얻어낸 코퍼스 데이터가 필요에 맞게 전처리되지 않은 상태라면, 해당 데이터를 사용하고자하는 용도에 맞게 토큰화(tokenization) & 정제(cleaning) & 정규화(normalization)하는 일을 하게 됩니다. 이번 챕터에서는 그 중에서도 토큰화에 대해서 배우도록 합니다.\n",
    "\n",
    "주어진 코퍼스(corpus:말뭉치)에서 토큰(token)이라 불리는 단위로 나누는 작업을 토큰화(tokenization)라고 부릅니다. 토큰의 단위가 상황에 따라 다르지만, 보통 `의미있는 단위로 토큰을 정의`합니다.\n"
   ]
  },
  {
   "cell_type": "markdown",
   "metadata": {},
   "source": [
    "### 루브릭\n",
    "\n",
    "**1. 다양한 방법으로 `Text Classification 태스크`를 성공적으로 구현하였다.**  \n",
    "3가지 이상의 모델이 성공적으로 시도됨  \n",
    "\n",
    "\n",
    "**2. `gensim을 활용`하여 자체학습된 혹은 `사전학습된 임베딩 레이어`를 분석하였다.**    \n",
    "`gensim의 유사단어 찾기`를 활용하여 자체학습한 임베딩과 사전학습 임베딩을 적절히 분석함  \n",
    "\n",
    "\n",
    "**3. `한국어 Word2Vec`을 활용하여 가시적인 성능 향상을 달성했다.**  \n",
    "네이버 영화리뷰 데이터 `감성분석 정확도를 85%` 이상 달성함  - **`RNN 모델에서 84.76%`**"
   ]
  },
  {
   "cell_type": "code",
   "execution_count": null,
   "metadata": {},
   "outputs": [],
   "source": []
  }
 ],
 "metadata": {
  "kernelspec": {
   "display_name": "aiffel",
   "language": "python",
   "name": "aiffel"
  },
  "language_info": {
   "codemirror_mode": {
    "name": "ipython",
    "version": 3
   },
   "file_extension": ".py",
   "mimetype": "text/x-python",
   "name": "python",
   "nbconvert_exporter": "python",
   "pygments_lexer": "ipython3",
   "version": "3.7.9"
  }
 },
 "nbformat": 4,
 "nbformat_minor": 4
}
