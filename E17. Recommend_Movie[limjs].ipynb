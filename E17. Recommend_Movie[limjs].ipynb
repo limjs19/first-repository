{
 "cells": [
  {
   "cell_type": "markdown",
   "id": "lucky-championship",
   "metadata": {},
   "source": [
    "# 17. 다음에 볼 영화 예측하기\n",
    "\n",
    "# 17-1. 들어가며\n",
    "\n",
    "\n",
    "며칠 전 온라인 서점 '알라딘'에 들어가 책을 구경하고 있었습니다.\n",
    "개인정보를 남기고 싶지 않아 시크릿모드를 열고 로그인을 하지 않은 상태로 돌아다녔지요. 그런데 웬걸, 제가 클릭한 책들이 오늘 본 상품에 기록되고 있었고 책 상세페이지 영역에 다른 책들을 추천하고 있었습니다.\n",
    "\n",
    "아마존 역시 마찬가지였습니다. 시크릿모드를 켜놓고 캠을 사기위해 이것저것 서핑하고 보니 어느새 탐색 내역이 기록되어 있었고, 이를 바탕으로 한 추천을 해주고 있었습니다.\n",
    "\n",
    "# 1. Session-Based Recommendation\n",
    "인터넷에서 물건 많이 사시나요? 오늘은 전자상거래 플랫폼에서 많이 사용하고 있는 Session-Based Recommendation에 대해 알아보겠습니다.\n",
    "\n",
    "고객에게 그 고객과 유사한 다른 고객이 좋아하는 상품을 추천해 주는 전략은 언제나 유효할까요? 이런 추천 전략에의 기본 전제에는 한가지 맹점이 있는 것 같습니다. 고객의 선호가 고정된 것이라고 보는 것이죠. 그러나 고객의 마음은 늘 변덕스럽기 마련이죠. 그래서 전자상거래 플랫폼에서는 '바로 지금 시점에 이 고객이 좋아할 만한 상품'을 추천해 주고 싶어합니다. 그렇다면 이 고객이 바로 지금 좋아할만 한 것을 알아낼 단서는 어디에 있을까요?\n",
    "\n",
    "`Session-Based Recommendation`은 말 그대로 세션 데이터를 기반으로 유저가 다음에 클릭 또는 구매할 아이템을 예측하는 추천을 말합니다.\n",
    "\n",
    "Session이란 앞에서 살펴보았듯이 유저가 서비스를 이용하면서 발생하는 중요한 정보를 담은 데이터를 말하며, 서버 쪽에 저장됩니다.\n",
    "\n",
    "유저의 행동 데이터들은 유저측 브라우저를 통해 쿠키의 형태로 저장되는데 쿠키는 세션과 상호작용하면서 정보를 주고 받습니다.\n",
    "\n",
    "이번 자료에서는 세션을 브라우저가 종료되기 전까지 유저의 행동을 담은 시퀀스 데이터와 같은 의미로 사용하겠습니다.\n",
    "자세한 내용은 참고자료를 확인해주세요.\n",
    "\n",
    "    1. 쿠키, 세션, 캐시가 뭔가요?  \n",
    "    2. 쿠키, 세션이란?  \n",
    "    • 아래와 같은 데이터가 예시입니다.  \n",
    "    • 9194111 Session의 유저가 8분여에 걸쳐 4개의 아이템  (214853420 214850942 214829878 214853420)을 본 상황입니다.\n",
    "    • 유저가 214853420 아이템을 보았을 때 214850942 을 추천하고 이어서 214850942를 보았을 때 214829878을 추천하고 싶습니다.  \n",
    "\n",
    "추천 시스템을 주로 다루는 학회 RecSys에서는 매년 추천을 주제로 대회를 개최합니다.\n",
    "2015년도에는 YOOCHOOSE라는 추천 엔진 솔루션 회사에서 E-Commerce 데이터를 공개했습니다.\n",
    "\n",
    "오늘은 이 데이터를 활용하겠습니다.\n",
    "\n",
    "프로젝트 폴더를 만들고, 폴더에 데이터를 받아주세요.\n",
    "\n",
    "$ mkdir -p ~/aiffel/yoochoose-data\n",
    "\n",
    "위의 사이트에서 데이터를 다운 받아 주셔도 좋고, 다운로드 링크를 이용해 아래처럼 다운 받으셔도 좋습니다.\n",
    "\n",
    "$ cd ~/aiffel  \n",
    "$ wget https://aiffelstaticprd.blob.core.windows.net/media/documents/yoochoose-data.7z  \n",
    "7z 압축파일을 풀기 위해서 p7zip 라이브러리를 설치 후 압축을 해제해줍니다.  \n",
    "$ sudo apt install p7zip-full  \n",
    "$ 7z x yoochoose-data.7z -oyoochoose-data  "
   ]
  },
  {
   "cell_type": "code",
   "execution_count": 1,
   "id": "patient-accountability",
   "metadata": {},
   "outputs": [
    {
     "name": "stdout",
     "output_type": "stream",
     "text": [
      "﻿SUMMARY\n",
      "\n",
      "================================================================================\n",
      "\n",
      "\n",
      "\n",
      "This dataset was constructed by YOOCHOOSE GmbH to support participants in the RecSys Challenge 2015.\n",
      "\n",
      "See  http://recsys.yoochoose.net for details about the challenge.\n",
      "\n",
      "\n",
      "\n",
      "The YOOCHOOSE dataset contain a collection of sessions from a retailer, where each session\n",
      "\n",
      "is encapsulating the click events that the user performed in the session.\n",
      "\n",
      "For some of the sessions, there are also buy events; means that the session ended\n",
      "\n",
      "with the user bought something from the web shop. The data was collected during several\n",
      "\n",
      "months in the year of 2014, reflecting the clicks and purchases performed by the users\n",
      "\n",
      "of an on-line retailer in Europe.  To protect end users privacy, as well as the retailer,\n",
      "\n",
      "all numbers have been modified. Do not try to reveal the identity of the retailer.\n",
      "\n",
      "\n",
      "\n",
      "LICENSE\n",
      "\n",
      "================================================================================\n",
      "\n",
      "This dataset is licensed under the Creative Commons Attribution-NonCommercial-NoDerivatives 4.0\n",
      "\n",
      "International License. To view a copy of this license, visit http://creativecommons.org/licenses/by-nc-nd/4.0/.\n",
      "\n",
      "YOOCHOOSE cannot guarantee the completeness and correctness of the data or the validity\n",
      "\n",
      "of results based on the use of the dataset as it was collected by implicit tracking of a website. \n",
      "\n",
      "If you have any further questions or comments, please contact YooChoose <support@YooChoose.com>. \n",
      "\n",
      "The data is provided \"as it is\" and there is no obligation of YOOCHOOSE to correct it,\n",
      "\n",
      "improve it or to provide additional information about it.\n",
      "\n",
      "\n",
      "\n",
      "CLICKS DATASET FILE DESCRIPTION\n",
      "\n",
      "================================================================================\n",
      "\n",
      "The file yoochoose-clicks.dat comprising the clicks of the users over the items.\n",
      "\n",
      "Each record/line in the file has the following fields/format: Session ID, Timestamp, Item ID, Category\n",
      "\n",
      "-Session ID – the id of the session. In one session there are one or many clicks. Could be represented as an integer number.\n",
      "\n",
      "-Timestamp – the time when the click occurred. Format of YYYY-MM-DDThh:mm:ss.SSSZ\n",
      "\n",
      "-Item ID – the unique identifier of the item that has been clicked. Could be represented as an integer number.\n",
      "\n",
      "-Category – the context of the click. The value \"S\" indicates a special offer, \"0\" indicates  a missing value, a number between 1 to 12 indicates a real category identifier,\n",
      "\n",
      " any other number indicates a brand. E.g. if an item has been clicked in the context of a promotion or special offer then the value will be \"S\", if the context was a brand i.e BOSCH,\n",
      "\n",
      " then the value will be an 8-10 digits number. If the item has been clicked under regular category, i.e. sport, then the value will be a number between 1 to 12. \n",
      "\n",
      " \n",
      "\n",
      "BUYS DATSET FILE DESCRIPTION\n",
      "\n",
      "================================================================================\n",
      "\n",
      "The file yoochoose-buys.dat comprising the buy events of the users over the items.\n",
      "\n",
      "Each record/line in the file has the following fields: Session ID, Timestamp, Item ID, Price, Quantity\n",
      "\n",
      "\n",
      "\n",
      "-Session ID - the id of the session. In one session there are one or many buying events. Could be represented as an integer number.\n",
      "\n",
      "-Timestamp - the time when the buy occurred. Format of YYYY-MM-DDThh:mm:ss.SSSZ\n",
      "\n",
      "-Item ID – the unique identifier of item that has been bought. Could be represented as an integer number.\n",
      "\n",
      "-Price – the price of the item. Could be represented as an integer number.\n",
      "\n",
      "-Quantity – the quantity in this buying.  Could be represented as an integer number.\n",
      "\n",
      "\n",
      "\n",
      "TEST DATASET FILE DESCRIPTION\n",
      "\n",
      "================================================================================\n",
      "\n",
      "The file yoochoose-test.dat comprising only clicks of users over items.\n",
      "\n",
      "This file served as a test file in the RecSys challenge 2015. \n",
      "\n",
      "The structure is identical to the file yoochoose-clicks.dat but you will not find the\n",
      "\n",
      "corresponding buying events to these sessions in the yoochoose-buys.dat file.\n",
      "\n"
     ]
    }
   ],
   "source": [
    "# 데이터 설명(README)를 읽어 봅니다. \n",
    "import os\n",
    "f = open(os.getenv('HOME')+'/aiffel/yoochoose-data/dataset-README.txt', 'r')\n",
    "while True:\n",
    "    line = f.readline()\n",
    "    if not line: break\n",
    "    print(line)\n",
    "f.close()"
   ]
  },
  {
   "cell_type": "markdown",
   "id": "adopted-first",
   "metadata": {},
   "source": [
    "데이터 설명을 읽어보면 몇 가지 주목할만한 점이 있습니다.\n",
    "1. 유저에 대한 정보를 전혀 알 수 없습니다. (성별, 나이, 장소, 마지막 접속 날짜, 이전 구매 내역 등등 )  \n",
    "2. 아이템에 대한 정보도 전혀 알 수 없습니다. (실제로 어떤 물건인지, 사진이나 설명, 가격)  \n",
    "이와 달리 유저에 대한 정보를 알 수 있는 경우는 보통 Sequential Recommendation 이라고 구별해서 부르기도 합니다.\n",
    "\n",
    "유저와 아이템의 추가 정보를 Sequential Recommendation 모델에 적용하는 분야는 Context-Aware 라는 키워드로 활발히 연구되고 있습니다.\n",
    "\n",
    "또한 E-Commerce 데이터의 경우 다음과 같은 특징을 갖는다고 합니다.\n",
    "\n",
    "1. 비로그인 상태로 탐색하는 유저가 많습니다.  \n",
    "2. 로그인 상태로 탐색한다고 할지라도 접속할 때 마다 탐색하는 의도가 뚜렷하게 다릅니다.  \n",
    "\n",
    "즉, 마우스를 사야겠다고 마음먹고 탐색한 이력이 칫솔을 사야겠다 생각하고 탐색하는 경우에 도움이 되지 않습니다."
   ]
  },
  {
   "cell_type": "markdown",
   "id": "returning-symposium",
   "metadata": {},
   "source": [
    "# 17-2. Data Preprocess\n",
    "\n",
    "# 2.1 Data Load\n",
    "    • 데이터를 불러와 살펴보고 주요 통계치들을 살펴봅시다.  \n",
    "    • 이번 자료에서는 Click 데이터에 있는 Session Id, TimeStamp, ItemId 칼럼만 사용하겠습니다  \n",
    "아래 명령어를 실행해서 만약 pathlib이 설치 되어있지않다면,  \n",
    "\n",
    "$ pip list | grep pathlib    \n",
    "\n",
    "아래와 같이 추가로 설치해 주세요. \n",
    "\n",
    "$ pip install pathlib    \n",
    "\n",
    "pathlib 라이브러리에 대한 내용은 이쪽을 참고해주세요.    "
   ]
  },
  {
   "cell_type": "code",
   "execution_count": 2,
   "id": "spare-music",
   "metadata": {},
   "outputs": [],
   "source": [
    "import datetime as dt\n",
    "from pathlib import Path\n",
    "import os\n",
    "\n",
    "import numpy as np\n",
    "import pandas as pd\n",
    "import warnings\n",
    "warnings.filterwarnings('ignore')"
   ]
  },
  {
   "cell_type": "code",
   "execution_count": 3,
   "id": "current-contents",
   "metadata": {},
   "outputs": [
    {
     "data": {
      "text/plain": [
       "PosixPath('/home/aiffel-dj56/aiffel/yoochoose-data/yoochoose-clicks.dat')"
      ]
     },
     "execution_count": 3,
     "metadata": {},
     "output_type": "execute_result"
    }
   ],
   "source": [
    "data_path = Path(os.getenv('HOME')+'/aiffel/yoochoose-data') \n",
    "train_path = data_path / 'yoochoose-clicks.dat'\n",
    "train_path"
   ]
  },
  {
   "cell_type": "code",
   "execution_count": 4,
   "id": "competitive-manual",
   "metadata": {},
   "outputs": [],
   "source": [
    "def load_data(data_path: Path, nrows=None):\n",
    "    data = pd.read_csv(data_path, sep=',', header=None, usecols=[0, 1, 2],\n",
    "                       parse_dates=[1], dtype={0: np.int32, 2: np.int32}, nrows=nrows)\n",
    "    data.columns = ['SessionId', 'Time', 'ItemId']\n",
    "    return data"
   ]
  },
  {
   "cell_type": "code",
   "execution_count": 5,
   "id": "involved-gauge",
   "metadata": {},
   "outputs": [
    {
     "data": {
      "text/html": [
       "<div>\n",
       "<style scoped>\n",
       "    .dataframe tbody tr th:only-of-type {\n",
       "        vertical-align: middle;\n",
       "    }\n",
       "\n",
       "    .dataframe tbody tr th {\n",
       "        vertical-align: top;\n",
       "    }\n",
       "\n",
       "    .dataframe thead th {\n",
       "        text-align: right;\n",
       "    }\n",
       "</style>\n",
       "<table border=\"1\" class=\"dataframe\">\n",
       "  <thead>\n",
       "    <tr style=\"text-align: right;\">\n",
       "      <th></th>\n",
       "      <th>SessionId</th>\n",
       "      <th>Time</th>\n",
       "      <th>ItemId</th>\n",
       "    </tr>\n",
       "  </thead>\n",
       "  <tbody>\n",
       "    <tr>\n",
       "      <th>0</th>\n",
       "      <td>1</td>\n",
       "      <td>2014-04-07 10:51:09.277000+00:00</td>\n",
       "      <td>214536502</td>\n",
       "    </tr>\n",
       "    <tr>\n",
       "      <th>1</th>\n",
       "      <td>1</td>\n",
       "      <td>2014-04-07 10:54:09.868000+00:00</td>\n",
       "      <td>214536500</td>\n",
       "    </tr>\n",
       "    <tr>\n",
       "      <th>2</th>\n",
       "      <td>1</td>\n",
       "      <td>2014-04-07 10:54:46.998000+00:00</td>\n",
       "      <td>214536506</td>\n",
       "    </tr>\n",
       "    <tr>\n",
       "      <th>3</th>\n",
       "      <td>1</td>\n",
       "      <td>2014-04-07 10:57:00.306000+00:00</td>\n",
       "      <td>214577561</td>\n",
       "    </tr>\n",
       "    <tr>\n",
       "      <th>4</th>\n",
       "      <td>2</td>\n",
       "      <td>2014-04-07 13:56:37.614000+00:00</td>\n",
       "      <td>214662742</td>\n",
       "    </tr>\n",
       "    <tr>\n",
       "      <th>...</th>\n",
       "      <td>...</td>\n",
       "      <td>...</td>\n",
       "      <td>...</td>\n",
       "    </tr>\n",
       "    <tr>\n",
       "      <th>32230487</th>\n",
       "      <td>11562158</td>\n",
       "      <td>2014-09-26 04:50:29.172000+00:00</td>\n",
       "      <td>214849132</td>\n",
       "    </tr>\n",
       "    <tr>\n",
       "      <th>32230488</th>\n",
       "      <td>11562158</td>\n",
       "      <td>2014-09-26 04:52:21.900000+00:00</td>\n",
       "      <td>214854774</td>\n",
       "    </tr>\n",
       "    <tr>\n",
       "      <th>32230489</th>\n",
       "      <td>11562158</td>\n",
       "      <td>2014-09-26 05:16:32.904000+00:00</td>\n",
       "      <td>214849132</td>\n",
       "    </tr>\n",
       "    <tr>\n",
       "      <th>32230490</th>\n",
       "      <td>11562159</td>\n",
       "      <td>2014-09-26 19:16:28.897000+00:00</td>\n",
       "      <td>214849132</td>\n",
       "    </tr>\n",
       "    <tr>\n",
       "      <th>32230477</th>\n",
       "      <td>11562161</td>\n",
       "      <td>2014-09-26 20:45:42.791000+00:00</td>\n",
       "      <td>214546022</td>\n",
       "    </tr>\n",
       "  </tbody>\n",
       "</table>\n",
       "<p>33003944 rows × 3 columns</p>\n",
       "</div>"
      ],
      "text/plain": [
       "          SessionId                             Time     ItemId\n",
       "0                 1 2014-04-07 10:51:09.277000+00:00  214536502\n",
       "1                 1 2014-04-07 10:54:09.868000+00:00  214536500\n",
       "2                 1 2014-04-07 10:54:46.998000+00:00  214536506\n",
       "3                 1 2014-04-07 10:57:00.306000+00:00  214577561\n",
       "4                 2 2014-04-07 13:56:37.614000+00:00  214662742\n",
       "...             ...                              ...        ...\n",
       "32230487   11562158 2014-09-26 04:50:29.172000+00:00  214849132\n",
       "32230488   11562158 2014-09-26 04:52:21.900000+00:00  214854774\n",
       "32230489   11562158 2014-09-26 05:16:32.904000+00:00  214849132\n",
       "32230490   11562159 2014-09-26 19:16:28.897000+00:00  214849132\n",
       "32230477   11562161 2014-09-26 20:45:42.791000+00:00  214546022\n",
       "\n",
       "[33003944 rows x 3 columns]"
      ]
     },
     "execution_count": 5,
     "metadata": {},
     "output_type": "execute_result"
    }
   ],
   "source": [
    "# 시간이 좀 걸릴 수 있습니다. 메모리도 10GB 가까이 소요될 수 있으니 메모리 상태에 주의해 주세요. \n",
    "data = load_data(train_path, None)\n",
    "data.sort_values(['SessionId', 'Time'], inplace=True)  # data를 id와 시간 순서로 정렬해줍니다.\n",
    "data"
   ]
  },
  {
   "cell_type": "markdown",
   "id": "entire-likelihood",
   "metadata": {},
   "source": [
    "추천시스템을 구축할 때 가장 먼저 확인해 볼 것은 유저수(세션 수)와 아이템 수 입니다."
   ]
  },
  {
   "cell_type": "code",
   "execution_count": 6,
   "id": "color-preservation",
   "metadata": {},
   "outputs": [
    {
     "data": {
      "text/plain": [
       "(9249729, 52739)"
      ]
     },
     "execution_count": 6,
     "metadata": {},
     "output_type": "execute_result"
    }
   ],
   "source": [
    "data['SessionId'].nunique(), data['ItemId'].nunique()"
   ]
  },
  {
   "cell_type": "markdown",
   "id": "hollow-tooth",
   "metadata": {},
   "source": [
    "(9249729, 52739)\n",
    "세션의 숫자가 900만개, 아이템 숫자는 5만개가 됩니다.\n",
    "\n",
    "이 수치가 유저의 수가 900만명이라는 것은 아닙니다. 같은 유저가 여러 개의 세션을 만들수도 있기 때문입니다."
   ]
  },
  {
   "cell_type": "markdown",
   "id": "partial-treasurer",
   "metadata": {},
   "source": [
    "# 2.2 Session Length\n",
    "각 세션이 대략 몇 개의 클릭 데이터를 갖는지도 살펴보겠습니다.  "
   ]
  },
  {
   "cell_type": "code",
   "execution_count": 7,
   "id": "adaptive-lawrence",
   "metadata": {},
   "outputs": [
    {
     "data": {
      "text/plain": [
       "SessionId\n",
       "1           4\n",
       "2           6\n",
       "3           3\n",
       "4           2\n",
       "6           2\n",
       "           ..\n",
       "11562156    2\n",
       "11562157    2\n",
       "11562158    3\n",
       "11562159    1\n",
       "11562161    1\n",
       "Length: 9249729, dtype: int64"
      ]
     },
     "execution_count": 7,
     "metadata": {},
     "output_type": "execute_result"
    }
   ],
   "source": [
    "session_length = data.groupby('SessionId').size()\n",
    "session_length"
   ]
  },
  {
   "cell_type": "code",
   "execution_count": 8,
   "id": "hawaiian-enterprise",
   "metadata": {},
   "outputs": [
    {
     "data": {
      "text/plain": [
       "ItemId\n",
       "214507224     34\n",
       "214507226     15\n",
       "214507228      1\n",
       "214507239      7\n",
       "214507256      1\n",
       "              ..\n",
       "1178835219     1\n",
       "1178835247     1\n",
       "1178835585     1\n",
       "1178835641     1\n",
       "1178837797    12\n",
       "Length: 52739, dtype: int64"
      ]
     },
     "execution_count": 8,
     "metadata": {},
     "output_type": "execute_result"
    }
   ],
   "source": [
    "item_length = data.groupby('ItemId').size()\n",
    "item_length"
   ]
  },
  {
   "cell_type": "markdown",
   "id": "ranking-patio",
   "metadata": {},
   "source": [
    "여기서 session_length란 같은 SessionId를 공유하는 데이터 row의 개수를 의미합니다. \n",
    "\n",
    "여기서 SessionId란 브라우저에서 웹서버로 접속할 때 항상 포함하게 되는 유저 구분자입니다.  \n",
    "로그인하지 않았기 때문에 이 사용자가 누군지는 알수 없어도,  \n",
    "최소한 특정 사용자의 행동을 SessionId 기준으로 모아서 분류해낼 수는 있습니다.  \n",
    "\n",
    "따라서 여기서 session_length란 해당 세션의 사용자가 그 세션 동안 몇번의 액션을 취했는지(몇개의 상품정보를 클릭했는지)의 의미가 됩니다."
   ]
  },
  {
   "cell_type": "code",
   "execution_count": 9,
   "id": "rural-ticket",
   "metadata": {},
   "outputs": [
    {
     "data": {
      "text/plain": [
       "(2.0, 3.568098481587947)"
      ]
     },
     "execution_count": 9,
     "metadata": {},
     "output_type": "execute_result"
    }
   ],
   "source": [
    "session_length.median(), session_length.mean()"
   ]
  },
  {
   "cell_type": "code",
   "execution_count": 10,
   "id": "hairy-survival",
   "metadata": {},
   "outputs": [
    {
     "data": {
      "text/plain": [
       "(1, 200)"
      ]
     },
     "execution_count": 10,
     "metadata": {},
     "output_type": "execute_result"
    }
   ],
   "source": [
    "session_length.min(), session_length.max()"
   ]
  },
  {
   "cell_type": "code",
   "execution_count": 11,
   "id": "adult-edinburgh",
   "metadata": {},
   "outputs": [
    {
     "data": {
      "text/plain": [
       "41.0"
      ]
     },
     "execution_count": 11,
     "metadata": {},
     "output_type": "execute_result"
    }
   ],
   "source": [
    "# 99.9% 세션은 길이\n",
    "session_length.quantile(0.999)"
   ]
  },
  {
   "cell_type": "markdown",
   "id": "informative-bicycle",
   "metadata": {},
   "source": [
    "각 세션의 길이는 보통 2~3 정도입니다. 온라인에서 쇼핑할 때를 생각해보면 이 수치가 그럴듯하게 느껴집니다.\n",
    "\n",
    "99.9% 세션은 길이가 41이하입니다.\n",
    "길이가 200인 세션은 뭔가 이상합니다.\n",
    "\n",
    "하나를 잡고 살펴봅시다."
   ]
  },
  {
   "cell_type": "code",
   "execution_count": 12,
   "id": "willing-pepper",
   "metadata": {},
   "outputs": [
    {
     "data": {
      "text/html": [
       "<div>\n",
       "<style scoped>\n",
       "    .dataframe tbody tr th:only-of-type {\n",
       "        vertical-align: middle;\n",
       "    }\n",
       "\n",
       "    .dataframe tbody tr th {\n",
       "        vertical-align: top;\n",
       "    }\n",
       "\n",
       "    .dataframe thead th {\n",
       "        text-align: right;\n",
       "    }\n",
       "</style>\n",
       "<table border=\"1\" class=\"dataframe\">\n",
       "  <thead>\n",
       "    <tr style=\"text-align: right;\">\n",
       "      <th></th>\n",
       "      <th>SessionId</th>\n",
       "      <th>Time</th>\n",
       "      <th>ItemId</th>\n",
       "    </tr>\n",
       "  </thead>\n",
       "  <tbody>\n",
       "    <tr>\n",
       "      <th>580293</th>\n",
       "      <td>189448</td>\n",
       "      <td>2014-04-01 08:56:28.983000+00:00</td>\n",
       "      <td>214830392</td>\n",
       "    </tr>\n",
       "    <tr>\n",
       "      <th>580294</th>\n",
       "      <td>189448</td>\n",
       "      <td>2014-04-01 08:56:31.815000+00:00</td>\n",
       "      <td>214830392</td>\n",
       "    </tr>\n",
       "    <tr>\n",
       "      <th>580295</th>\n",
       "      <td>189448</td>\n",
       "      <td>2014-04-01 08:57:08.301000+00:00</td>\n",
       "      <td>214830392</td>\n",
       "    </tr>\n",
       "    <tr>\n",
       "      <th>580296</th>\n",
       "      <td>189448</td>\n",
       "      <td>2014-04-01 08:57:10.338000+00:00</td>\n",
       "      <td>214830392</td>\n",
       "    </tr>\n",
       "    <tr>\n",
       "      <th>580297</th>\n",
       "      <td>189448</td>\n",
       "      <td>2014-04-01 08:58:01.728000+00:00</td>\n",
       "      <td>214830390</td>\n",
       "    </tr>\n",
       "    <tr>\n",
       "      <th>...</th>\n",
       "      <td>...</td>\n",
       "      <td>...</td>\n",
       "      <td>...</td>\n",
       "    </tr>\n",
       "    <tr>\n",
       "      <th>580488</th>\n",
       "      <td>189448</td>\n",
       "      <td>2014-04-01 10:35:52.400000+00:00</td>\n",
       "      <td>214830137</td>\n",
       "    </tr>\n",
       "    <tr>\n",
       "      <th>580489</th>\n",
       "      <td>189448</td>\n",
       "      <td>2014-04-01 10:37:15.094000+00:00</td>\n",
       "      <td>214830118</td>\n",
       "    </tr>\n",
       "    <tr>\n",
       "      <th>580490</th>\n",
       "      <td>189448</td>\n",
       "      <td>2014-04-01 10:37:35.955000+00:00</td>\n",
       "      <td>214830118</td>\n",
       "    </tr>\n",
       "    <tr>\n",
       "      <th>580491</th>\n",
       "      <td>189448</td>\n",
       "      <td>2014-04-01 10:37:37.098000+00:00</td>\n",
       "      <td>214830118</td>\n",
       "    </tr>\n",
       "    <tr>\n",
       "      <th>580492</th>\n",
       "      <td>189448</td>\n",
       "      <td>2014-04-01 10:37:46.557000+00:00</td>\n",
       "      <td>214830116</td>\n",
       "    </tr>\n",
       "  </tbody>\n",
       "</table>\n",
       "<p>200 rows × 3 columns</p>\n",
       "</div>"
      ],
      "text/plain": [
       "        SessionId                             Time     ItemId\n",
       "580293     189448 2014-04-01 08:56:28.983000+00:00  214830392\n",
       "580294     189448 2014-04-01 08:56:31.815000+00:00  214830392\n",
       "580295     189448 2014-04-01 08:57:08.301000+00:00  214830392\n",
       "580296     189448 2014-04-01 08:57:10.338000+00:00  214830392\n",
       "580297     189448 2014-04-01 08:58:01.728000+00:00  214830390\n",
       "...           ...                              ...        ...\n",
       "580488     189448 2014-04-01 10:35:52.400000+00:00  214830137\n",
       "580489     189448 2014-04-01 10:37:15.094000+00:00  214830118\n",
       "580490     189448 2014-04-01 10:37:35.955000+00:00  214830118\n",
       "580491     189448 2014-04-01 10:37:37.098000+00:00  214830118\n",
       "580492     189448 2014-04-01 10:37:46.557000+00:00  214830116\n",
       "\n",
       "[200 rows x 3 columns]"
      ]
     },
     "execution_count": 12,
     "metadata": {},
     "output_type": "execute_result"
    }
   ],
   "source": [
    "long_session = session_length[session_length==200].index[0]\n",
    "data[data['SessionId']==long_session]"
   ]
  },
  {
   "cell_type": "markdown",
   "id": "leading-pastor",
   "metadata": {},
   "source": [
    "매우 짧은 간격으로 지속적으로 클릭을 1시간 30분 가량 지속하고 있습니다.\n",
    "유저들의 서비스 이용행태는 다양하기 때문에 데이터 전처리를 어떻게 할지는 모델을 만드는 사람이 판단해야 합니다.\n",
    "\n",
    "e.g.) 음악 데이터의 경우 어떤 사람은 하루종일 랜덤재생을 할 수도 있습니다. 이 유저의 데이터를 그대로 사용하는 게 좋을까요?\n",
    "\n",
    "e.g.) 어떤 상품의 경우 1분 내에 20명이 10점을 주고 나갈 수도 있습니다. 이 상품을 팔기 위해 조작하고 있는 건 아닐까요?\n",
    "\n",
    "너무 긴 세션을 제거할 수도 있고 포함시킬 수도 있습니다. 어떻게 하면 좋을지 판단해보세요.\n",
    "\n",
    "세션 길이에 대한 감을 더 잘 파악하기 위해 시각화를 해보겠습니다. 아래는 세션길이 기준 하위 99.9%까지의 분포 누적합을 시각화한 것입니다."
   ]
  },
  {
   "cell_type": "code",
   "execution_count": 13,
   "id": "opened-sweden",
   "metadata": {},
   "outputs": [
    {
     "data": {
      "text/plain": [
       "1     0.136189\n",
       "2     0.520858\n",
       "3     0.695280\n",
       "4     0.796461\n",
       "5     0.855125\n",
       "6     0.894389\n",
       "7     0.920036\n",
       "8     0.938321\n",
       "9     0.951293\n",
       "10    0.961084\n",
       "11    0.968267\n",
       "12    0.973959\n",
       "13    0.978320\n",
       "14    0.981815\n",
       "15    0.984587\n",
       "16    0.986837\n",
       "17    0.988673\n",
       "18    0.990201\n",
       "19    0.991460\n",
       "20    0.992520\n",
       "21    0.993436\n",
       "22    0.994207\n",
       "23    0.994871\n",
       "24    0.995444\n",
       "25    0.995920\n",
       "26    0.996342\n",
       "27    0.996714\n",
       "28    0.997042\n",
       "29    0.997330\n",
       "30    0.997577\n",
       "31    0.997796\n",
       "32    0.998001\n",
       "33    0.998177\n",
       "34    0.998327\n",
       "35    0.998461\n",
       "36    0.998590\n",
       "37    0.998706\n",
       "38    0.998805\n",
       "39    0.998896\n",
       "40    0.998981\n",
       "dtype: float64"
      ]
     },
     "execution_count": 13,
     "metadata": {},
     "output_type": "execute_result"
    }
   ],
   "source": [
    "length_count = session_length.groupby(session_length).size()\n",
    "length_percent_cumsum = length_count.cumsum() / length_count.sum()\n",
    "length_percent_cumsum_999 = length_percent_cumsum[length_percent_cumsum < 0.999]\n",
    "\n",
    "length_percent_cumsum_999"
   ]
  },
  {
   "cell_type": "code",
   "execution_count": 14,
   "id": "global-studio",
   "metadata": {},
   "outputs": [
    {
     "data": {
      "image/png": "[encoded data removed]",
      "text/plain": [
       "<Figure size 1440x720 with 1 Axes>"
      ]
     },
     "metadata": {
      "needs_background": "light"
     },
     "output_type": "display_data"
    }
   ],
   "source": [
    "import matplotlib.pyplot as plt\n",
    "\n",
    "plt.figure(figsize=(20, 10))\n",
    "plt.bar(x=length_percent_cumsum_999.index,\n",
    "        height=length_percent_cumsum_999, color='red')\n",
    "plt.xticks(length_percent_cumsum_999.index)\n",
    "plt.yticks(np.arange(0, 1.01, 0.05))\n",
    "plt.title('Cumsum Percentage Until 0.999', size=20)\n",
    "plt.show()"
   ]
  },
  {
   "cell_type": "markdown",
   "id": "latest-pavilion",
   "metadata": {},
   "source": [
    "### Q1. 추천시스템은 유저-상품 관계 매트릭스를 유저 행렬과 상품 행렬의 곱으로 표현하는 Matrix Factorization 모델을 널리 사용합니다. \n",
    "그렇다면 이 데이터도 유저와 클릭한 상품정보 관계에 대해 Matrix Factorization을 사용하면 어떨까요?\n",
    "제출    \n",
    "예시답안  \n",
    "User * Item Matrix의 빈칸이 너무 많아서(data sparsity) 모델이 제대로 학습되지 않을 가능성이 있다. 이 세션정보는 유저를 ID 기반으로 정리할 수 없기 때문에 세션 하나를 유저 하나로 본다면 기존의 유저-상품정보 Matrix보다 훨씬 sparse한 형태가 된다.\n",
    "\n",
    "# 2.3 Session Time\n",
    "    • 어떤 유저가 아이폰을 구매하려고 합니다. 2020년 5월에는 아이폰SE2를 구매하려는 사람이 많을 것입니다.  \n",
    "    • 그러나 그로부터 몇달 후면 아이폰 12의 구매량이 엄청나게 증가하게 될 것입니다.  \n",
    "    • 영화나 드라마 역시 마찬가지입니다. 유저들의 소비 패턴을 금방금방 변합니다.  \n",
    "    • 이런 이유 때문에 추천시스템을 구축할 때에는 최근 소비 트렌드를 학습하는 것이 중요합니다. 이번에는 데이터가 발생한 시간에 대해 알아봅시다.  \n",
    "    \n",
    "### Q2. 추천 시스템에서 다루는 시간 관련 데이터는 다양한 측면이 있습니다. 데이터 생성 날짜 말고 또 어떤 요소가 있을까요?\n",
    "제출    \n",
    "예시답안  \n",
    "접속하는 시간대(오전, 오후, 새벽), 접속해 있는 시간, 접속하는 요일, 계절, 마지막 접속 시간, 장바구니에 넣고 지난 시간 등등  \n",
    "\n",
    "그렇다면 우리가 다루려는 데이터의 시간 관련 정보를 확인해 봅시다."
   ]
  },
  {
   "cell_type": "code",
   "execution_count": 15,
   "id": "motivated-salon",
   "metadata": {},
   "outputs": [
    {
     "name": "stdout",
     "output_type": "stream",
     "text": [
      "2014-04-01 03:00:00.124000+00:00\n",
      "2014-09-30 02:59:59.430000+00:00\n"
     ]
    }
   ],
   "source": [
    "oldest, latest = data['Time'].min(), data['Time'].max()\n",
    "print(oldest) \n",
    "print(latest)"
   ]
  },
  {
   "cell_type": "markdown",
   "id": "subsequent-elite",
   "metadata": {},
   "source": [
    "데이터 설명대로 6개월치 데이터가 있습니다.\n",
    "저는 1달치 데이터만 사용하려고 합니다.  \n",
    "6개월치 데이터를 사용하면 성능이 더 좋아질까요?"
   ]
  },
  {
   "cell_type": "code",
   "execution_count": 16,
   "id": "frequent-nothing",
   "metadata": {},
   "outputs": [
    {
     "data": {
      "text/plain": [
       "pandas._libs.tslibs.timestamps.Timestamp"
      ]
     },
     "execution_count": 16,
     "metadata": {},
     "output_type": "execute_result"
    }
   ],
   "source": [
    "type(latest)"
   ]
  },
  {
   "cell_type": "markdown",
   "id": "employed-engagement",
   "metadata": {},
   "source": [
    "latest는 Timestamp 객체이기 때문에 int 객체와의 사칙연산을 지원하지 않습니다.\n",
    "\n",
    "날짜끼리의 차이를 구하고 싶을 때는 datetime 라이브러리의 timedelta 객체를 사용합니다."
   ]
  },
  {
   "cell_type": "code",
   "execution_count": 17,
   "id": "floating-quebec",
   "metadata": {},
   "outputs": [
    {
     "data": {
      "text/html": [
       "<div>\n",
       "<style scoped>\n",
       "    .dataframe tbody tr th:only-of-type {\n",
       "        vertical-align: middle;\n",
       "    }\n",
       "\n",
       "    .dataframe tbody tr th {\n",
       "        vertical-align: top;\n",
       "    }\n",
       "\n",
       "    .dataframe thead th {\n",
       "        text-align: right;\n",
       "    }\n",
       "</style>\n",
       "<table border=\"1\" class=\"dataframe\">\n",
       "  <thead>\n",
       "    <tr style=\"text-align: right;\">\n",
       "      <th></th>\n",
       "      <th>SessionId</th>\n",
       "      <th>Time</th>\n",
       "      <th>ItemId</th>\n",
       "    </tr>\n",
       "  </thead>\n",
       "  <tbody>\n",
       "    <tr>\n",
       "      <th>26837834</th>\n",
       "      <td>9194111</td>\n",
       "      <td>2014-08-31 17:40:46.805000+00:00</td>\n",
       "      <td>214853420</td>\n",
       "    </tr>\n",
       "    <tr>\n",
       "      <th>26837835</th>\n",
       "      <td>9194111</td>\n",
       "      <td>2014-08-31 17:42:26.089000+00:00</td>\n",
       "      <td>214850942</td>\n",
       "    </tr>\n",
       "    <tr>\n",
       "      <th>26837836</th>\n",
       "      <td>9194111</td>\n",
       "      <td>2014-08-31 17:44:06.583000+00:00</td>\n",
       "      <td>214829878</td>\n",
       "    </tr>\n",
       "    <tr>\n",
       "      <th>26837837</th>\n",
       "      <td>9194111</td>\n",
       "      <td>2014-08-31 17:48:49.873000+00:00</td>\n",
       "      <td>214853420</td>\n",
       "    </tr>\n",
       "    <tr>\n",
       "      <th>26838214</th>\n",
       "      <td>9194112</td>\n",
       "      <td>2014-09-01 13:26:36.292000+00:00</td>\n",
       "      <td>214853422</td>\n",
       "    </tr>\n",
       "    <tr>\n",
       "      <th>...</th>\n",
       "      <td>...</td>\n",
       "      <td>...</td>\n",
       "      <td>...</td>\n",
       "    </tr>\n",
       "    <tr>\n",
       "      <th>32230487</th>\n",
       "      <td>11562158</td>\n",
       "      <td>2014-09-26 04:50:29.172000+00:00</td>\n",
       "      <td>214849132</td>\n",
       "    </tr>\n",
       "    <tr>\n",
       "      <th>32230488</th>\n",
       "      <td>11562158</td>\n",
       "      <td>2014-09-26 04:52:21.900000+00:00</td>\n",
       "      <td>214854774</td>\n",
       "    </tr>\n",
       "    <tr>\n",
       "      <th>32230489</th>\n",
       "      <td>11562158</td>\n",
       "      <td>2014-09-26 05:16:32.904000+00:00</td>\n",
       "      <td>214849132</td>\n",
       "    </tr>\n",
       "    <tr>\n",
       "      <th>32230490</th>\n",
       "      <td>11562159</td>\n",
       "      <td>2014-09-26 19:16:28.897000+00:00</td>\n",
       "      <td>214849132</td>\n",
       "    </tr>\n",
       "    <tr>\n",
       "      <th>32230477</th>\n",
       "      <td>11562161</td>\n",
       "      <td>2014-09-26 20:45:42.791000+00:00</td>\n",
       "      <td>214546022</td>\n",
       "    </tr>\n",
       "  </tbody>\n",
       "</table>\n",
       "<p>5641401 rows × 3 columns</p>\n",
       "</div>"
      ],
      "text/plain": [
       "          SessionId                             Time     ItemId\n",
       "26837834    9194111 2014-08-31 17:40:46.805000+00:00  214853420\n",
       "26837835    9194111 2014-08-31 17:42:26.089000+00:00  214850942\n",
       "26837836    9194111 2014-08-31 17:44:06.583000+00:00  214829878\n",
       "26837837    9194111 2014-08-31 17:48:49.873000+00:00  214853420\n",
       "26838214    9194112 2014-09-01 13:26:36.292000+00:00  214853422\n",
       "...             ...                              ...        ...\n",
       "32230487   11562158 2014-09-26 04:50:29.172000+00:00  214849132\n",
       "32230488   11562158 2014-09-26 04:52:21.900000+00:00  214854774\n",
       "32230489   11562158 2014-09-26 05:16:32.904000+00:00  214849132\n",
       "32230490   11562159 2014-09-26 19:16:28.897000+00:00  214849132\n",
       "32230477   11562161 2014-09-26 20:45:42.791000+00:00  214546022\n",
       "\n",
       "[5641401 rows x 3 columns]"
      ]
     },
     "execution_count": 17,
     "metadata": {},
     "output_type": "execute_result"
    }
   ],
   "source": [
    "month_ago = latest - dt.timedelta(30)     # 최종 날짜로부터 30일 이전 날짜를 구한다.  \n",
    "data = data[data['Time'] > month_ago]   # 방금 구한 날짜 이후의 데이터만 모은다. \n",
    "data"
   ]
  },
  {
   "cell_type": "markdown",
   "id": "solid-ecuador",
   "metadata": {},
   "source": [
    "# 2.4 Data Cleansing\n",
    "\n",
    "1.2에서 살펴보니 길이가 1인 세션도 꽤 있습니다.  \n",
    "우리의 목적은 유저가 최소 1개 이상 클릭했을 때 다음 클릭을 예측하는 것이므로 길이가 1인 세션은 제거해줍니다.\n",
    "\n",
    "너무 적게 클릭된 아이템은 이상한 아이템일 가능성이 있습니다. 이 역시 제거해줍니다."
   ]
  },
  {
   "cell_type": "code",
   "execution_count": 18,
   "id": "requested-tiger",
   "metadata": {},
   "outputs": [],
   "source": [
    "# short_session을 제거한 다음 unpopular item을 제거하면 \n",
    "# 다시 길이가 1인 session이 생길 수 있습니다.\n",
    "# 이를 위해 반복문을 통해 지속적으로 제거 합니다.\n",
    "\n",
    "def cleanse_recursive(data: pd.DataFrame, shortest, least_click) -> pd.DataFrame:\n",
    "    while True:\n",
    "        before_len = len(data)\n",
    "        data = cleanse_short_session(data, shortest)\n",
    "        data = cleanse_unpopular_item(data, least_click)\n",
    "        after_len = len(data)\n",
    "        if before_len == after_len:\n",
    "            break\n",
    "    return data\n",
    "\n",
    "def cleanse_short_session(data: pd.DataFrame, shortest):\n",
    "    session_len = data.groupby('SessionId').size()\n",
    "    session_use = session_len[session_len >= shortest].index\n",
    "    data = data[data['SessionId'].isin(session_use)]\n",
    "    return data\n",
    "\n",
    "def cleanse_unpopular_item(data: pd.DataFrame, least_click):\n",
    "    item_popular = data.groupby('ItemId').size()\n",
    "    item_use = item_popular[item_popular >= least_click].index\n",
    "    data = data[data['ItemId'].isin(item_use)]\n",
    "    return data"
   ]
  },
  {
   "cell_type": "code",
   "execution_count": 19,
   "id": "unnecessary-bullet",
   "metadata": {},
   "outputs": [
    {
     "data": {
      "text/html": [
       "<div>\n",
       "<style scoped>\n",
       "    .dataframe tbody tr th:only-of-type {\n",
       "        vertical-align: middle;\n",
       "    }\n",
       "\n",
       "    .dataframe tbody tr th {\n",
       "        vertical-align: top;\n",
       "    }\n",
       "\n",
       "    .dataframe thead th {\n",
       "        text-align: right;\n",
       "    }\n",
       "</style>\n",
       "<table border=\"1\" class=\"dataframe\">\n",
       "  <thead>\n",
       "    <tr style=\"text-align: right;\">\n",
       "      <th></th>\n",
       "      <th>SessionId</th>\n",
       "      <th>Time</th>\n",
       "      <th>ItemId</th>\n",
       "    </tr>\n",
       "  </thead>\n",
       "  <tbody>\n",
       "    <tr>\n",
       "      <th>26837834</th>\n",
       "      <td>9194111</td>\n",
       "      <td>2014-08-31 17:40:46.805000+00:00</td>\n",
       "      <td>214853420</td>\n",
       "    </tr>\n",
       "    <tr>\n",
       "      <th>26837835</th>\n",
       "      <td>9194111</td>\n",
       "      <td>2014-08-31 17:42:26.089000+00:00</td>\n",
       "      <td>214850942</td>\n",
       "    </tr>\n",
       "    <tr>\n",
       "      <th>26837836</th>\n",
       "      <td>9194111</td>\n",
       "      <td>2014-08-31 17:44:06.583000+00:00</td>\n",
       "      <td>214829878</td>\n",
       "    </tr>\n",
       "    <tr>\n",
       "      <th>26837837</th>\n",
       "      <td>9194111</td>\n",
       "      <td>2014-08-31 17:48:49.873000+00:00</td>\n",
       "      <td>214853420</td>\n",
       "    </tr>\n",
       "    <tr>\n",
       "      <th>26838202</th>\n",
       "      <td>9194123</td>\n",
       "      <td>2014-08-31 19:26:57.386000+00:00</td>\n",
       "      <td>214601207</td>\n",
       "    </tr>\n",
       "    <tr>\n",
       "      <th>...</th>\n",
       "      <td>...</td>\n",
       "      <td>...</td>\n",
       "      <td>...</td>\n",
       "    </tr>\n",
       "    <tr>\n",
       "      <th>32230485</th>\n",
       "      <td>11562157</td>\n",
       "      <td>2014-09-25 12:31:10.391000+00:00</td>\n",
       "      <td>214580372</td>\n",
       "    </tr>\n",
       "    <tr>\n",
       "      <th>32230486</th>\n",
       "      <td>11562157</td>\n",
       "      <td>2014-09-25 12:31:29.679000+00:00</td>\n",
       "      <td>214516012</td>\n",
       "    </tr>\n",
       "    <tr>\n",
       "      <th>32230487</th>\n",
       "      <td>11562158</td>\n",
       "      <td>2014-09-26 04:50:29.172000+00:00</td>\n",
       "      <td>214849132</td>\n",
       "    </tr>\n",
       "    <tr>\n",
       "      <th>32230488</th>\n",
       "      <td>11562158</td>\n",
       "      <td>2014-09-26 04:52:21.900000+00:00</td>\n",
       "      <td>214854774</td>\n",
       "    </tr>\n",
       "    <tr>\n",
       "      <th>32230489</th>\n",
       "      <td>11562158</td>\n",
       "      <td>2014-09-26 05:16:32.904000+00:00</td>\n",
       "      <td>214849132</td>\n",
       "    </tr>\n",
       "  </tbody>\n",
       "</table>\n",
       "<p>5254242 rows × 3 columns</p>\n",
       "</div>"
      ],
      "text/plain": [
       "          SessionId                             Time     ItemId\n",
       "26837834    9194111 2014-08-31 17:40:46.805000+00:00  214853420\n",
       "26837835    9194111 2014-08-31 17:42:26.089000+00:00  214850942\n",
       "26837836    9194111 2014-08-31 17:44:06.583000+00:00  214829878\n",
       "26837837    9194111 2014-08-31 17:48:49.873000+00:00  214853420\n",
       "26838202    9194123 2014-08-31 19:26:57.386000+00:00  214601207\n",
       "...             ...                              ...        ...\n",
       "32230485   11562157 2014-09-25 12:31:10.391000+00:00  214580372\n",
       "32230486   11562157 2014-09-25 12:31:29.679000+00:00  214516012\n",
       "32230487   11562158 2014-09-26 04:50:29.172000+00:00  214849132\n",
       "32230488   11562158 2014-09-26 04:52:21.900000+00:00  214854774\n",
       "32230489   11562158 2014-09-26 05:16:32.904000+00:00  214849132\n",
       "\n",
       "[5254242 rows x 3 columns]"
      ]
     },
     "execution_count": 19,
     "metadata": {},
     "output_type": "execute_result"
    }
   ],
   "source": [
    "data = cleanse_recursive(data, shortest=2, least_click=5)\n",
    "data"
   ]
  },
  {
   "cell_type": "markdown",
   "id": "enclosed-waste",
   "metadata": {},
   "source": [
    "# 2.5 Train/ Valid/ Test split\n",
    "\n",
    "모델 평가를 위해 Valid Set과 Test Set을 만들어 봅니다.\n",
    "대회에서 Test Set을 제공해주고 있습니다. 한 번 살펴봅시다."
   ]
  },
  {
   "cell_type": "code",
   "execution_count": 20,
   "id": "floral-superior",
   "metadata": {},
   "outputs": [
    {
     "data": {
      "text/plain": [
       "(Timestamp('2014-04-01 03:00:08.250000+0000', tz='UTC'),\n",
       " Timestamp('2014-09-30 02:59:23.866000+0000', tz='UTC'))"
      ]
     },
     "execution_count": 20,
     "metadata": {},
     "output_type": "execute_result"
    }
   ],
   "source": [
    "test_path = data_path / 'yoochoose-test.dat'\n",
    "test= load_data(test_path)\n",
    "test['Time'].min(), test['Time'].max()"
   ]
  },
  {
   "cell_type": "markdown",
   "id": "executive-generic",
   "metadata": {},
   "source": [
    "Test 셋을 살펴보니 Training 셋과 기간이 겹칩니다. \n",
    "\n",
    "하지만 1.3에서 말했듯이 추천 시스템은 지금 잘 예측하는 게 중요합니다.\n",
    "\n",
    "1달 전에 성능이 좋은 모델을 지금 쓰면 맞지 않을 수가 있는데, 사용자들의 소비 패턴이 달라지기 때문입니다.\n",
    "\n",
    "이런 이유로 Session-Based Recommendation에서는 기간에 따라 Train/ Valid/ Test 셋을 나누기도 합니다.\n",
    "\n",
    "이번 자료에서는 가장 마지막 1일 기간 동안을 Test로, 2일전부터 1일전 까지를 valid set으로 나누겠습니다."
   ]
  },
  {
   "cell_type": "code",
   "execution_count": 21,
   "id": "strange-constitutional",
   "metadata": {},
   "outputs": [],
   "source": [
    "def split_by_date(data: pd.DataFrame, n_days: int):\n",
    "    final_time = data['Time'].max()\n",
    "    session_last_time = data.groupby('SessionId')['Time'].max()\n",
    "    session_in_train = session_last_time[session_last_time < final_time - dt.timedelta(n_days)].index\n",
    "    session_in_test = session_last_time[session_last_time >= final_time - dt.timedelta(n_days)].index\n",
    "\n",
    "    before_date = data[data['SessionId'].isin(session_in_train)]\n",
    "    after_date = data[data['SessionId'].isin(session_in_test)]\n",
    "    after_date = after_date[after_date['ItemId'].isin(before_date['ItemId'])]\n",
    "    return before_date, after_date"
   ]
  },
  {
   "cell_type": "code",
   "execution_count": 22,
   "id": "previous-ratio",
   "metadata": {},
   "outputs": [],
   "source": [
    "tr, test = split_by_date(data, n_days=1)\n",
    "tr, val = split_by_date(tr, n_days=1)"
   ]
  },
  {
   "cell_type": "code",
   "execution_count": 23,
   "id": "norman-metabolism",
   "metadata": {},
   "outputs": [],
   "source": [
    "# data에 대한 정보를 살펴봅니다.\n",
    "def stats_info(data: pd.DataFrame, status: str):\n",
    "    print(f'* {status} Set Stats Info\\n'\n",
    "          f'\\t Events: {len(data)}\\n'\n",
    "          f'\\t Sessions: {data[\"SessionId\"].nunique()}\\n'\n",
    "          f'\\t Items: {data[\"ItemId\"].nunique()}\\n'\n",
    "          f'\\t First Time : {data[\"Time\"].min()}\\n'\n",
    "          f'\\t Last Time : {data[\"Time\"].max()}\\n')"
   ]
  },
  {
   "cell_type": "code",
   "execution_count": 24,
   "id": "plastic-generator",
   "metadata": {},
   "outputs": [
    {
     "name": "stdout",
     "output_type": "stream",
     "text": [
      "* train Set Stats Info\n",
      "\t Events: 5125100\n",
      "\t Sessions: 1243431\n",
      "\t Items: 20153\n",
      "\t First Time : 2014-08-31 03:00:01.111000+00:00\n",
      "\t Last Time : 2014-09-28 02:57:34.348000+00:00\n",
      "\n",
      "* valid Set Stats Info\n",
      "\t Events: 58074\n",
      "\t Sessions: 12350\n",
      "\t Items: 6232\n",
      "\t First Time : 2014-09-28 03:00:25.298000+00:00\n",
      "\t Last Time : 2014-09-29 02:58:27.660000+00:00\n",
      "\n",
      "* test Set Stats Info\n",
      "\t Events: 71009\n",
      "\t Sessions: 15289\n",
      "\t Items: 6580\n",
      "\t First Time : 2014-09-29 02:37:20.695000+00:00\n",
      "\t Last Time : 2014-09-30 02:59:59.430000+00:00\n",
      "\n"
     ]
    }
   ],
   "source": [
    "stats_info(tr, 'train')\n",
    "stats_info(val, 'valid')\n",
    "stats_info(test, 'test')"
   ]
  },
  {
   "cell_type": "code",
   "execution_count": 25,
   "id": "equivalent-purchase",
   "metadata": {},
   "outputs": [],
   "source": [
    "# train set에 없는 아이템이 val, test기간에 생길 수 있으므로 train data를 기준으로 인덱싱합니다.\n",
    "id2idx = {item_id : index for index, item_id in enumerate(tr['ItemId'].unique())}\n",
    "\n",
    "def indexing(df, id2idx):\n",
    "    df['item_idx'] = df['ItemId'].map(lambda x: id2idx.get(x, -1))  # id2idx에 없는 아이템은 모르는 값(-1) 처리 해줍니다.\n",
    "    return df\n",
    "\n",
    "tr = indexing(tr, id2idx)\n",
    "val = indexing(val, id2idx)\n",
    "test = indexing(test, id2idx)"
   ]
  },
  {
   "cell_type": "markdown",
   "id": "static-valuation",
   "metadata": {},
   "source": [
    "이제 데이터 준비를 마쳤습니다! 데이터를 저장한 다음 data pipeline을 구축하는 단계로 넘어가겠습니다."
   ]
  },
  {
   "cell_type": "code",
   "execution_count": 26,
   "id": "consistent-klein",
   "metadata": {},
   "outputs": [],
   "source": [
    "save_path = data_path / 'processed'\n",
    "save_path.mkdir(parents=True, exist_ok=True)\n",
    "\n",
    "tr.to_pickle(save_path / 'train.pkl')\n",
    "val.to_pickle(save_path / 'valid.pkl')\n",
    "test.to_pickle(save_path / 'test.pkl')"
   ]
  },
  {
   "cell_type": "markdown",
   "id": "smooth-brick",
   "metadata": {},
   "source": [
    "# 17-3. 논문소개(GRU4REC)\n",
    "\n",
    "이번 자료에서 사용할 모델은 2016년 ICLR에 공개된 \n",
    "SESSION-BASED RECOMMENDATIONS WITH RECURRENT NEURAL NETWORKS 입니다.\n",
    "\n",
    "Session Data에서는 처음으로 RNN 계열 모델을 적용하여 발표했습니다.\n",
    "\n",
    "모델 구조는 아래 그림처럼 간단합니다.\n",
    "\n",
    "여러 RNN 계열의 모델(e.g. LSTM)이 있겠지만 저자가 실험해본 결과 GRU의 성능이 제일 좋았다고 합니다.\n",
    "\n",
    "또한 Embedding Layer를 사용하지 않았을 때가 사용했을 때보다 성능이 좋았다고 합니다.\n",
    "\n",
    "이번 자료에서도 Embedding Layer를 사용하지 않고 One-hot Encoding만 사용하겠습니다.\n",
    "\n",
    "\n",
    "대신 추천 데이터의 특징 몇 가지를 살려 모델링을 했습니다.\n",
    "\n",
    "## Session-Parallel Mini-Batches :\n",
    "\n",
    "위에서 보았듯이 Session의 길이는 매우 짧은 것들이 대부분입니다. 그러나 매우 긴 것들도 있습니다.\n",
    "\n",
    "이 세션들을 데이터 샘플 하나로 보고 mini-batch를 구성하여 input으로 넣는다면 길이가 제일 긴 세션의 연산이 끝날 때까지 짧은 세션들이 기다려야 합니다.\n",
    "\n",
    "위 그림에서 Session 1, 2, 3을 하나의 mini-batch로 만든다면, 이 미니배치의 연산은 Session 3의 연산이 끝나야 끝나는 식입니다.\n",
    "\n",
    "논문의 저자는 대신 Session-Parallel Mini-Batches를 제안합니다. 이름처럼 Session이 끝날 때까지 기다리지 않고 병렬적으로 계산하자는 뜻입니다.\n",
    "\n",
    "아래 그림에서 session2가 끝나면 session4가 시작하는 방식입니다.\n",
    "\n",
    "이렇게 구성했을 때 Mini-Batch의 shape은 (3, 1, 1)이 되고 RNN cell의 state가 1개로만 이루어집니다.\n",
    "\n",
    "또한 Tensorflow 기준으로 RNN을 만들 때 stateful=True 옵션을 사용하고 2처럼 세션이 끝나면 state를 0으로 만들어 줍니다. RNN API 보기\n",
    "\n",
    "뒷부분에서 이 부분에 대한 코딩을 어떻게 했는지 봅시다.\n",
    "\n",
    "### SAMPLING ON THE OUTPUT : Negative Sampling와 같은 개념입니다. Item의 수가 많기 때문에 Loss를 계산할 때 모든 아이템을 비교하지 않고 인기도를 고려하여 Sampling합니다. 이번 자료에서는 구현하지 않았습니다.\n",
    "\n",
    "### Ranking Loss Session-Based Recommendation Task를 여러 아이템 중 다음 아이템이 무엇인지 Classification하는 Task로 생각할 수도 있습니다.\n",
    "\n",
    "그러나 여러 아이템을 관련도 순으로 랭킹을 매겨서 높은 랭킹의 아이템을 추천하는 Task로도 생각할 수 있습니다.\n",
    "\n",
    "추천 시스템 연구 분야에서는 이렇게 Ranking을 맞추는 objective function에 대한 연구가 있었고 논문의 저자 역시 이런 Loss를 사용했습니다.\n",
    "\n",
    "그러나 이번 자료에서는 Classification Task로 보고 Cross-Entropy Loss를 사용하겠습니다.\n",
    "자세한 내용은 논문을 참고하세요."
   ]
  },
  {
   "cell_type": "markdown",
   "id": "extended-giant",
   "metadata": {},
   "source": [
    "# 17-4. Data Pipeline\n",
    "\n",
    "이전 스텝에서 개념을 정리해 본 Session-Parallel Mini-Batch 를 구현해 봅니다.\n",
    "\n",
    "## 4.1 SessionDataset\n",
    "\n",
    "데이터가 주어지면 세션이 시작되는 인덱스를 담는 값과 세션을 새로 인덱싱한 값을 갖는 클래스를 만듭니다."
   ]
  },
  {
   "cell_type": "code",
   "execution_count": 27,
   "id": "conditional-flush",
   "metadata": {},
   "outputs": [],
   "source": [
    "class SessionDataset:\n",
    "    \"\"\"Credit to yhs-968/pyGRU4REC.\"\"\"\n",
    "\n",
    "    def __init__(self, data):\n",
    "        self.df = data\n",
    "        self.click_offsets = self.get_click_offsets()\n",
    "        self.session_idx = np.arange(self.df['SessionId'].nunique())  # indexing to SessionId\n",
    "\n",
    "    def get_click_offsets(self):\n",
    "        \"\"\"\n",
    "        Return the indexes of the first click of each session IDs,\n",
    "        \"\"\"\n",
    "        offsets = np.zeros(self.df['SessionId'].nunique() + 1, dtype=np.int32)\n",
    "        offsets[1:] = self.df.groupby('SessionId').size().cumsum()\n",
    "        return offsets"
   ]
  },
  {
   "cell_type": "markdown",
   "id": "compatible-amazon",
   "metadata": {},
   "source": [
    "train데이터로 SessionDataset 객체를 만들고 인스턴스 변수들을 살펴보겠습니다.\n",
    "click_offsets 변수는 각 세션이 시작된 인덱스를 담고 있습니다.\n",
    "session_idx 변수는 각 세션을 인덱싱한 np.array 입니다."
   ]
  },
  {
   "cell_type": "code",
   "execution_count": 28,
   "id": "dying-david",
   "metadata": {},
   "outputs": [
    {
     "data": {
      "text/html": [
       "<div>\n",
       "<style scoped>\n",
       "    .dataframe tbody tr th:only-of-type {\n",
       "        vertical-align: middle;\n",
       "    }\n",
       "\n",
       "    .dataframe tbody tr th {\n",
       "        vertical-align: top;\n",
       "    }\n",
       "\n",
       "    .dataframe thead th {\n",
       "        text-align: right;\n",
       "    }\n",
       "</style>\n",
       "<table border=\"1\" class=\"dataframe\">\n",
       "  <thead>\n",
       "    <tr style=\"text-align: right;\">\n",
       "      <th></th>\n",
       "      <th>SessionId</th>\n",
       "      <th>Time</th>\n",
       "      <th>ItemId</th>\n",
       "      <th>item_idx</th>\n",
       "    </tr>\n",
       "  </thead>\n",
       "  <tbody>\n",
       "    <tr>\n",
       "      <th>26837834</th>\n",
       "      <td>9194111</td>\n",
       "      <td>2014-08-31 17:40:46.805000+00:00</td>\n",
       "      <td>214853420</td>\n",
       "      <td>0</td>\n",
       "    </tr>\n",
       "    <tr>\n",
       "      <th>26837835</th>\n",
       "      <td>9194111</td>\n",
       "      <td>2014-08-31 17:42:26.089000+00:00</td>\n",
       "      <td>214850942</td>\n",
       "      <td>1</td>\n",
       "    </tr>\n",
       "    <tr>\n",
       "      <th>26837836</th>\n",
       "      <td>9194111</td>\n",
       "      <td>2014-08-31 17:44:06.583000+00:00</td>\n",
       "      <td>214829878</td>\n",
       "      <td>2</td>\n",
       "    </tr>\n",
       "    <tr>\n",
       "      <th>26837837</th>\n",
       "      <td>9194111</td>\n",
       "      <td>2014-08-31 17:48:49.873000+00:00</td>\n",
       "      <td>214853420</td>\n",
       "      <td>0</td>\n",
       "    </tr>\n",
       "    <tr>\n",
       "      <th>26838202</th>\n",
       "      <td>9194123</td>\n",
       "      <td>2014-08-31 19:26:57.386000+00:00</td>\n",
       "      <td>214601207</td>\n",
       "      <td>3</td>\n",
       "    </tr>\n",
       "    <tr>\n",
       "      <th>26838203</th>\n",
       "      <td>9194123</td>\n",
       "      <td>2014-08-31 19:34:37.068000+00:00</td>\n",
       "      <td>214510689</td>\n",
       "      <td>4</td>\n",
       "    </tr>\n",
       "    <tr>\n",
       "      <th>26838193</th>\n",
       "      <td>9194124</td>\n",
       "      <td>2014-08-31 19:14:28.308000+00:00</td>\n",
       "      <td>214849327</td>\n",
       "      <td>5</td>\n",
       "    </tr>\n",
       "    <tr>\n",
       "      <th>26838194</th>\n",
       "      <td>9194124</td>\n",
       "      <td>2014-08-31 19:16:31.114000+00:00</td>\n",
       "      <td>214828970</td>\n",
       "      <td>6</td>\n",
       "    </tr>\n",
       "    <tr>\n",
       "      <th>26838196</th>\n",
       "      <td>9194127</td>\n",
       "      <td>2014-09-01 15:36:11.651000+00:00</td>\n",
       "      <td>214845997</td>\n",
       "      <td>7</td>\n",
       "    </tr>\n",
       "    <tr>\n",
       "      <th>26838197</th>\n",
       "      <td>9194127</td>\n",
       "      <td>2014-09-01 15:38:00.222000+00:00</td>\n",
       "      <td>214845997</td>\n",
       "      <td>7</td>\n",
       "    </tr>\n",
       "  </tbody>\n",
       "</table>\n",
       "</div>"
      ],
      "text/plain": [
       "          SessionId                             Time     ItemId  item_idx\n",
       "26837834    9194111 2014-08-31 17:40:46.805000+00:00  214853420         0\n",
       "26837835    9194111 2014-08-31 17:42:26.089000+00:00  214850942         1\n",
       "26837836    9194111 2014-08-31 17:44:06.583000+00:00  214829878         2\n",
       "26837837    9194111 2014-08-31 17:48:49.873000+00:00  214853420         0\n",
       "26838202    9194123 2014-08-31 19:26:57.386000+00:00  214601207         3\n",
       "26838203    9194123 2014-08-31 19:34:37.068000+00:00  214510689         4\n",
       "26838193    9194124 2014-08-31 19:14:28.308000+00:00  214849327         5\n",
       "26838194    9194124 2014-08-31 19:16:31.114000+00:00  214828970         6\n",
       "26838196    9194127 2014-09-01 15:36:11.651000+00:00  214845997         7\n",
       "26838197    9194127 2014-09-01 15:38:00.222000+00:00  214845997         7"
      ]
     },
     "execution_count": 28,
     "metadata": {},
     "output_type": "execute_result"
    }
   ],
   "source": [
    "tr_dataset = SessionDataset(tr)\n",
    "tr_dataset.df.head(10)"
   ]
  },
  {
   "cell_type": "code",
   "execution_count": 29,
   "id": "skilled-teddy",
   "metadata": {},
   "outputs": [
    {
     "data": {
      "text/plain": [
       "array([      0,       4,       6, ..., 5125095, 5125097, 5125100],\n",
       "      dtype=int32)"
      ]
     },
     "execution_count": 29,
     "metadata": {},
     "output_type": "execute_result"
    }
   ],
   "source": [
    "tr_dataset.click_offsets"
   ]
  },
  {
   "cell_type": "markdown",
   "id": "worldwide-kernel",
   "metadata": {},
   "source": [
    "# 4.2 SessionDataLoader\n",
    "\n",
    "파이썬 문법 중 iterator, generator에 대한 좀더 친절한 안내가 필요하신 분은 이 자료를 먼저 보시길 권장합니다.\n",
    "\n",
    "SessionDataset 객체를 받아서 Session-Parallel mini-batch를 만드는 클래스를 만듭니다.\n",
    "\n",
    "__iter__ 메소드는 모델 인풋, 라벨, 세션이 끝나는 곳의 위치를 yield합니다.\n",
    "\n",
    "mask는 후에 RNN Cell State를 초기화 하는데 사용할 것입니다."
   ]
  },
  {
   "cell_type": "code",
   "execution_count": 30,
   "id": "atomic-somewhere",
   "metadata": {},
   "outputs": [],
   "source": [
    "class SessionDataLoader:\n",
    "    \"\"\"Credit to yhs-968/pyGRU4REC.\"\"\"\n",
    "\n",
    "    def __init__(self, dataset: SessionDataset, batch_size=50):\n",
    "        self.dataset = dataset\n",
    "        self.batch_size = batch_size\n",
    "\n",
    "    def __iter__(self):\n",
    "        \"\"\" Returns the iterator for producing session-parallel training mini-batches.\n",
    "        Yields:\n",
    "            input (B,):  Item indices that will be encoded as one-hot vectors later.\n",
    "            target (B,): a Variable that stores the target item indices\n",
    "            masks: Numpy array indicating the positions of the sessions to be terminated\n",
    "        \"\"\"\n",
    "\n",
    "        start, end, mask, last_session, finished = self.initialize()  # initialize 메소드에서 확인해주세요.\n",
    "        \"\"\"\n",
    "        start : Index Where Session Start\n",
    "        end : Index Where Session End\n",
    "        mask : indicator for the sessions to be terminated\n",
    "        \"\"\"\n",
    "\n",
    "        while not finished:\n",
    "            min_len = (end - start).min() - 1  # Shortest Length Among Sessions\n",
    "            for i in range(min_len):\n",
    "                # Build inputs & targets\n",
    "                inp = self.dataset.df['item_idx'].values[start + i]\n",
    "                target = self.dataset.df['item_idx'].values[start + i + 1]\n",
    "                yield inp, target, mask\n",
    "\n",
    "            start, end, mask, last_session, finished = self.update_status(start, end, min_len, last_session, finished)\n",
    "\n",
    "    def initialize(self):\n",
    "        first_iters = np.arange(self.batch_size)    # 첫 배치에 사용할 세션 Index를 가져옵니다.\n",
    "        last_session = self.batch_size - 1    # 마지막으로 다루고 있는 세션 Index를 저장해둡니다.\n",
    "        start = self.dataset.click_offsets[self.dataset.session_idx[first_iters]]       # data 상에서 session이 시작된 위치를 가져옵니다.\n",
    "        end = self.dataset.click_offsets[self.dataset.session_idx[first_iters] + 1]  # session이 끝난 위치 바로 다음 위치를 가져옵니다.\n",
    "        mask = np.array([])   # session의 모든 아이템을 다 돌은 경우 mask에 추가해줄 것입니다.\n",
    "        finished = False         # data를 전부 돌았는지 기록하기 위한 변수입니다.\n",
    "        return start, end, mask, last_session, finished\n",
    "\n",
    "    def update_status(self, start: np.ndarray, end: np.ndarray, min_len: int, last_session: int, finished: bool):  \n",
    "        # 다음 배치 데이터를 생성하기 위해 상태를 update합니다.\n",
    "        \n",
    "        start += min_len   # __iter__에서 min_len 만큼 for문을 돌았으므로 start를 min_len 만큼 더해줍니다.\n",
    "        mask = np.arange(self.batch_size)[(end - start) == 1]  \n",
    "        # end는 다음 세션이 시작되는 위치인데 start와 한 칸 차이난다는 것은 session이 끝났다는 뜻입니다. mask에 기록해줍니다.\n",
    "\n",
    "        for i, idx in enumerate(mask, start=1):  # mask에 추가된 세션 개수만큼 새로운 세션을 돌것입니다.\n",
    "            new_session = last_session + i  \n",
    "            if new_session > self.dataset.session_idx[-1]:  # 만약 새로운 세션이 마지막 세션 index보다 크다면 모든 학습데이터를 돈 것입니다.\n",
    "                finished = True\n",
    "                break\n",
    "            # update the next starting/ending point\n",
    "            start[idx] = self.dataset.click_offsets[self.dataset.session_idx[new_session]]     # 종료된 세션 대신 새로운 세션의 시작점을 기록합니다.\n",
    "            end[idx] = self.dataset.click_offsets[self.dataset.session_idx[new_session] + 1]\n",
    "\n",
    "        last_session += len(mask)  # 마지막 세션의 위치를 기록해둡니다.\n",
    "        return start, end, mask, last_session, finished"
   ]
  },
  {
   "cell_type": "code",
   "execution_count": 31,
   "id": "informed-rouge",
   "metadata": {},
   "outputs": [
    {
     "data": {
      "text/html": [
       "<div>\n",
       "<style scoped>\n",
       "    .dataframe tbody tr th:only-of-type {\n",
       "        vertical-align: middle;\n",
       "    }\n",
       "\n",
       "    .dataframe tbody tr th {\n",
       "        vertical-align: top;\n",
       "    }\n",
       "\n",
       "    .dataframe thead th {\n",
       "        text-align: right;\n",
       "    }\n",
       "</style>\n",
       "<table border=\"1\" class=\"dataframe\">\n",
       "  <thead>\n",
       "    <tr style=\"text-align: right;\">\n",
       "      <th></th>\n",
       "      <th>SessionId</th>\n",
       "      <th>Time</th>\n",
       "      <th>ItemId</th>\n",
       "      <th>item_idx</th>\n",
       "    </tr>\n",
       "  </thead>\n",
       "  <tbody>\n",
       "    <tr>\n",
       "      <th>26837834</th>\n",
       "      <td>9194111</td>\n",
       "      <td>2014-08-31 17:40:46.805000+00:00</td>\n",
       "      <td>214853420</td>\n",
       "      <td>0</td>\n",
       "    </tr>\n",
       "    <tr>\n",
       "      <th>26837835</th>\n",
       "      <td>9194111</td>\n",
       "      <td>2014-08-31 17:42:26.089000+00:00</td>\n",
       "      <td>214850942</td>\n",
       "      <td>1</td>\n",
       "    </tr>\n",
       "    <tr>\n",
       "      <th>26837836</th>\n",
       "      <td>9194111</td>\n",
       "      <td>2014-08-31 17:44:06.583000+00:00</td>\n",
       "      <td>214829878</td>\n",
       "      <td>2</td>\n",
       "    </tr>\n",
       "    <tr>\n",
       "      <th>26837837</th>\n",
       "      <td>9194111</td>\n",
       "      <td>2014-08-31 17:48:49.873000+00:00</td>\n",
       "      <td>214853420</td>\n",
       "      <td>0</td>\n",
       "    </tr>\n",
       "    <tr>\n",
       "      <th>26838202</th>\n",
       "      <td>9194123</td>\n",
       "      <td>2014-08-31 19:26:57.386000+00:00</td>\n",
       "      <td>214601207</td>\n",
       "      <td>3</td>\n",
       "    </tr>\n",
       "    <tr>\n",
       "      <th>26838203</th>\n",
       "      <td>9194123</td>\n",
       "      <td>2014-08-31 19:34:37.068000+00:00</td>\n",
       "      <td>214510689</td>\n",
       "      <td>4</td>\n",
       "    </tr>\n",
       "    <tr>\n",
       "      <th>26838193</th>\n",
       "      <td>9194124</td>\n",
       "      <td>2014-08-31 19:14:28.308000+00:00</td>\n",
       "      <td>214849327</td>\n",
       "      <td>5</td>\n",
       "    </tr>\n",
       "    <tr>\n",
       "      <th>26838194</th>\n",
       "      <td>9194124</td>\n",
       "      <td>2014-08-31 19:16:31.114000+00:00</td>\n",
       "      <td>214828970</td>\n",
       "      <td>6</td>\n",
       "    </tr>\n",
       "    <tr>\n",
       "      <th>26838196</th>\n",
       "      <td>9194127</td>\n",
       "      <td>2014-09-01 15:36:11.651000+00:00</td>\n",
       "      <td>214845997</td>\n",
       "      <td>7</td>\n",
       "    </tr>\n",
       "    <tr>\n",
       "      <th>26838197</th>\n",
       "      <td>9194127</td>\n",
       "      <td>2014-09-01 15:38:00.222000+00:00</td>\n",
       "      <td>214845997</td>\n",
       "      <td>7</td>\n",
       "    </tr>\n",
       "    <tr>\n",
       "      <th>26838198</th>\n",
       "      <td>9194127</td>\n",
       "      <td>2014-09-01 15:38:56.867000+00:00</td>\n",
       "      <td>214845997</td>\n",
       "      <td>7</td>\n",
       "    </tr>\n",
       "    <tr>\n",
       "      <th>26838259</th>\n",
       "      <td>9194128</td>\n",
       "      <td>2014-08-31 19:09:27.360000+00:00</td>\n",
       "      <td>214581830</td>\n",
       "      <td>8</td>\n",
       "    </tr>\n",
       "    <tr>\n",
       "      <th>26838260</th>\n",
       "      <td>9194128</td>\n",
       "      <td>2014-08-31 19:10:04.641000+00:00</td>\n",
       "      <td>214574135</td>\n",
       "      <td>9</td>\n",
       "    </tr>\n",
       "    <tr>\n",
       "      <th>26838261</th>\n",
       "      <td>9194128</td>\n",
       "      <td>2014-08-31 19:10:57+00:00</td>\n",
       "      <td>214857795</td>\n",
       "      <td>10</td>\n",
       "    </tr>\n",
       "    <tr>\n",
       "      <th>26838262</th>\n",
       "      <td>9194128</td>\n",
       "      <td>2014-08-31 19:11:31.797000+00:00</td>\n",
       "      <td>214574139</td>\n",
       "      <td>11</td>\n",
       "    </tr>\n",
       "  </tbody>\n",
       "</table>\n",
       "</div>"
      ],
      "text/plain": [
       "          SessionId                             Time     ItemId  item_idx\n",
       "26837834    9194111 2014-08-31 17:40:46.805000+00:00  214853420         0\n",
       "26837835    9194111 2014-08-31 17:42:26.089000+00:00  214850942         1\n",
       "26837836    9194111 2014-08-31 17:44:06.583000+00:00  214829878         2\n",
       "26837837    9194111 2014-08-31 17:48:49.873000+00:00  214853420         0\n",
       "26838202    9194123 2014-08-31 19:26:57.386000+00:00  214601207         3\n",
       "26838203    9194123 2014-08-31 19:34:37.068000+00:00  214510689         4\n",
       "26838193    9194124 2014-08-31 19:14:28.308000+00:00  214849327         5\n",
       "26838194    9194124 2014-08-31 19:16:31.114000+00:00  214828970         6\n",
       "26838196    9194127 2014-09-01 15:36:11.651000+00:00  214845997         7\n",
       "26838197    9194127 2014-09-01 15:38:00.222000+00:00  214845997         7\n",
       "26838198    9194127 2014-09-01 15:38:56.867000+00:00  214845997         7\n",
       "26838259    9194128 2014-08-31 19:09:27.360000+00:00  214581830         8\n",
       "26838260    9194128 2014-08-31 19:10:04.641000+00:00  214574135         9\n",
       "26838261    9194128        2014-08-31 19:10:57+00:00  214857795        10\n",
       "26838262    9194128 2014-08-31 19:11:31.797000+00:00  214574139        11"
      ]
     },
     "execution_count": 31,
     "metadata": {},
     "output_type": "execute_result"
    }
   ],
   "source": [
    "tr_data_loader = SessionDataLoader(tr_dataset, batch_size=4)\n",
    "tr_dataset.df.head(15)"
   ]
  },
  {
   "cell_type": "code",
   "execution_count": 32,
   "id": "creative-silly",
   "metadata": {},
   "outputs": [],
   "source": [
    "iter_ex = iter(tr_data_loader)"
   ]
  },
  {
   "cell_type": "markdown",
   "id": "eight-shooting",
   "metadata": {},
   "source": [
    "아래 셀을 반복 실행하면 next가 계속 다음 데이터를 만듭니다."
   ]
  },
  {
   "cell_type": "markdown",
   "id": "lucky-product",
   "metadata": {},
   "source": [
    "input, output, mask의 감을 잡아 봅시다."
   ]
  },
  {
   "cell_type": "code",
   "execution_count": 34,
   "id": "caroline-jordan",
   "metadata": {},
   "outputs": [
    {
     "name": "stdout",
     "output_type": "stream",
     "text": [
      "Model Input Item Idx are : [0 3 5 7]\n",
      "Label Item Idx are :       [1 4 6 7]\n",
      "Previous Masked Input Idx are []\n"
     ]
    }
   ],
   "source": [
    "inputs, labels, mask =  next(iter_ex)\n",
    "print(f'Model Input Item Idx are : {inputs}')\n",
    "print(f'Label Item Idx are : {\"\":5} {labels}')\n",
    "print(f'Previous Masked Input Idx are {mask}')"
   ]
  },
  {
   "cell_type": "markdown",
   "id": "aware-individual",
   "metadata": {},
   "source": [
    "# 17-5. Modeling\n",
    "\n",
    "# 5.1 Evaluation Metric\n",
    "\n",
    "모델 성능 평가를 위한 지표를 보겠습니다.\n",
    "\n",
    "모델 성능에 대한 지표로 precision이나 recall이 있습니다.  \n",
    "\n",
    "Session-Based Recommendation Task에서는 모델이 k개의 아이템을 제시했을 때, 유저가 클릭/ 구매한 n개의 아이템이 많아야 좋습니다.  \n",
    "\n",
    "이 때문에 recall의 개념을 확장한 recall@k 지표, precision의 개념을 확장한 Mean Average Precision@k 지표 등을 사용합니다.\n",
    "\n",
    "추천에서는 몇 번째로 맞추느냐도 중요합니다. 구글에서 검색했을 때 1페이지에 원하는 결과가 나오지 않고 2페이지에 나온다면 유저 반응이 크게 떨어질 것입니다.\n",
    "\n",
    "따라서 순서에 민감한 지표인 MRR, NDCG 같은 지표도 사용합니다.\n",
    "\n",
    "이번 자료에서는 MRR과 Recall@k를 사용하겠습니다. MRR은 정답 아이템이 나온 순번의 역수 값입니다.\n",
    "\n",
    "따라서 정답 아이템이 추천 결과 앞쪽 순번에 나온다면 지표가 높아질 것이고 뒤쪽에 나오거나 안나온다면 지표가 낮아질 것입니다.\n",
    "\n",
    "NDCG, MRR, MAP에 대한 자세한 설명은 링크를 확인해주세요."
   ]
  },
  {
   "cell_type": "code",
   "execution_count": 35,
   "id": "static-guidance",
   "metadata": {},
   "outputs": [],
   "source": [
    "def mrr_k(pred, truth: int, k: int):\n",
    "    indexing = np.where(pred[:k] == truth)[0]\n",
    "    if len(indexing) > 0:\n",
    "        return 1 / (indexing[0] + 1)\n",
    "    else:\n",
    "        return 0\n",
    "\n",
    "\n",
    "def recall_k(pred, truth: int, k: int) -> int:\n",
    "    answer = truth in pred[:k]\n",
    "    return int(answer)"
   ]
  },
  {
   "cell_type": "markdown",
   "id": "infectious-liver",
   "metadata": {},
   "source": [
    "# 5.2 Model Architecture\n",
    "스텝 3에서 소개한 모델 구조를 구현하겠습니다. 모델 구조가 간단한 편이므로 Functional하게 모델을 만들겠습니다.\n",
    "학습 진행률을 모니터링하기 위해 사용하는 tqdm 라이브러리가 설치되어 있지 않다면 다음과 같이 설치해 주세요.\n",
    "$ pip install tqdm"
   ]
  },
  {
   "cell_type": "code",
   "execution_count": 37,
   "id": "artificial-finish",
   "metadata": {},
   "outputs": [],
   "source": [
    "import numpy as np\n",
    "import tensorflow as tf\n",
    "from tensorflow.keras.layers import Input, Dense, Dropout, GRU\n",
    "from tensorflow.keras.losses import categorical_crossentropy\n",
    "from tensorflow.keras.models import Model\n",
    "from tensorflow.keras.optimizers import Adam\n",
    "from tensorflow.keras.utils import to_categorical\n",
    "from tqdm import tqdm\n",
    "\n",
    "def create_model(args):\n",
    "    inputs = Input(batch_shape=(args.batch_size, 1, args.num_items))\n",
    "    gru, _ = GRU(args.hsz, stateful=True, return_state=True, name='GRU')(inputs)\n",
    "    dropout = Dropout(args.drop_rate)(gru)\n",
    "    predictions = Dense(args.num_items, activation='softmax')(dropout)\n",
    "    model = Model(inputs=inputs, outputs=[predictions])\n",
    "    model.compile(loss=categorical_crossentropy, optimizer=Adam(args.lr), metrics=['accuracy'])\n",
    "    model.summary()\n",
    "    return model"
   ]
  },
  {
   "cell_type": "markdown",
   "id": "competitive-racing",
   "metadata": {},
   "source": [
    "모델에 사용할 hyper-parameter를 class형식으로 관리하겠습니다."
   ]
  },
  {
   "cell_type": "code",
   "execution_count": 38,
   "id": "essential-quarter",
   "metadata": {},
   "outputs": [],
   "source": [
    "class Args:\n",
    "    def __init__(self, tr, val, test, batch_size, hsz, drop_rate, lr, epochs, k):\n",
    "        self.tr = tr\n",
    "        self.val = val\n",
    "        self.test = test\n",
    "        self.num_items = tr['ItemId'].nunique()\n",
    "        self.num_sessions = tr['SessionId'].nunique()\n",
    "        self.batch_size = batch_size\n",
    "        self.hsz = hsz\n",
    "        self.drop_rate = drop_rate\n",
    "        self.lr = lr\n",
    "        self.epochs = epochs\n",
    "        self.k = k\n",
    "\n",
    "args = Args(tr, val, test, batch_size=2048, hsz=50, drop_rate=0.1, lr=0.001, epochs=3, k=20)"
   ]
  },
  {
   "cell_type": "code",
   "execution_count": 39,
   "id": "higher-sullivan",
   "metadata": {},
   "outputs": [
    {
     "name": "stdout",
     "output_type": "stream",
     "text": [
      "Model: \"model\"\n",
      "_________________________________________________________________\n",
      "Layer (type)                 Output Shape              Param #   \n",
      "=================================================================\n",
      "input_1 (InputLayer)         [(2048, 1, 20153)]        0         \n",
      "_________________________________________________________________\n",
      "GRU (GRU)                    [(2048, 50), (2048, 50)]  3030750   \n",
      "_________________________________________________________________\n",
      "dropout (Dropout)            (2048, 50)                0         \n",
      "_________________________________________________________________\n",
      "dense (Dense)                (2048, 20153)             1027803   \n",
      "=================================================================\n",
      "Total params: 4,058,553\n",
      "Trainable params: 4,058,553\n",
      "Non-trainable params: 0\n",
      "_________________________________________________________________\n"
     ]
    }
   ],
   "source": [
    "model = create_model(args)"
   ]
  },
  {
   "cell_type": "markdown",
   "id": "loved-actor",
   "metadata": {},
   "source": [
    "# 5.3 Model Training\n",
    "지금까지 준비한 데이터셋과 모델을 통해 학습을 진행해 보겠습니다.\n",
    "학습은 총 3epoch 진행되며, 대략 1시간 가량 소요될 것입니다. 3epoch면 모델이 충분히 수렴하여 성능이 확인될 만큼은 아니나, 모델 학습이 정상적으로 진행되고 있음을 확인할 수 있는 수준은 될 것입니다.\n",
    "\n",
    "배치 사이즈나 epoch 등의 설정은 위의 args에서 관리하므로 진행전 값을 확인해 주세요."
   ]
  },
  {
   "cell_type": "code",
   "execution_count": 40,
   "id": "vertical-bangkok",
   "metadata": {},
   "outputs": [],
   "source": [
    "# train 셋으로 학습하면서 valid 셋으로 검증합니다.\n",
    "def train_model(model, args):\n",
    "    train_dataset = SessionDataset(args.tr)\n",
    "    train_loader = SessionDataLoader(train_dataset, batch_size=args.batch_size)\n",
    "\n",
    "    for epoch in range(1, args.epochs + 1):\n",
    "        total_step = len(args.tr) - args.tr['SessionId'].nunique()\n",
    "        tr_loader = tqdm(train_loader, total=total_step // args.batch_size, desc='Train', mininterval=1)\n",
    "        for feat, target, mask in tr_loader:\n",
    "            reset_hidden_states(model, mask)  # 종료된 session은 hidden_state를 초기화합니다. 아래 메서드에서 확인해주세요.\n",
    "\n",
    "            input_ohe = to_categorical(feat, num_classes=args.num_items)\n",
    "            input_ohe = np.expand_dims(input_ohe, axis=1)\n",
    "            target_ohe = to_categorical(target, num_classes=args.num_items)\n",
    "\n",
    "            result = model.train_on_batch(input_ohe, target_ohe)\n",
    "            tr_loader.set_postfix(train_loss=result[0], accuracy = result[1])\n",
    "\n",
    "        val_recall, val_mrr = get_metrics(args.val, model, args, args.k)  # valid set에 대해 검증합니다.\n",
    "\n",
    "        print(f\"\\t - Recall@{args.k} epoch {epoch}: {val_recall:3f}\")\n",
    "        print(f\"\\t - MRR@{args.k}    epoch {epoch}: {val_mrr:3f}\\n\")\n",
    "\n",
    "\n",
    "def reset_hidden_states(model, mask):\n",
    "    gru_layer = model.get_layer(name='GRU')  # model에서 gru layer를 가져옵니다.\n",
    "    hidden_states = gru_layer.states[0].numpy()  # gru_layer의 parameter를 가져옵니다.\n",
    "    for elt in mask:  # mask된 인덱스 즉, 종료된 세션의 인덱스를 돌면서\n",
    "        hidden_states[elt, :] = 0  # parameter를 초기화 합니다.\n",
    "    gru_layer.reset_states(states=hidden_states)\n",
    "\n",
    "\n",
    "def get_metrics(data, model, args, k: int):  # valid셋과 test셋을 평가하는 코드입니다. \n",
    "                                             # train과 거의 같지만 mrr, recall을 구하는 라인이 있습니다.\n",
    "    dataset = SessionDataset(data)\n",
    "    loader = SessionDataLoader(dataset, batch_size=args.batch_size)\n",
    "    recall_list, mrr_list = [], []\n",
    "\n",
    "    total_step = len(data) - data['SessionId'].nunique()\n",
    "    for inputs, label, mask in tqdm(loader, total=total_step // args.batch_size, desc='Evaluation', mininterval=1):\n",
    "        reset_hidden_states(model, mask)\n",
    "        input_ohe = to_categorical(inputs, num_classes=args.num_items)\n",
    "        input_ohe = np.expand_dims(input_ohe, axis=1)\n",
    "\n",
    "        pred = model.predict(input_ohe, batch_size=args.batch_size)\n",
    "        pred_arg = tf.argsort(pred, direction='DESCENDING')  # softmax 값이 큰 순서대로 sorting 합니다.\n",
    "\n",
    "        length = len(inputs)\n",
    "        recall_list.extend([recall_k(pred_arg[i], label[i], k) for i in range(length)])\n",
    "        mrr_list.extend([mrr_k(pred_arg[i], label[i], k) for i in range(length)])\n",
    "\n",
    "    recall, mrr = np.mean(recall_list), np.mean(mrr_list)\n",
    "    return recall, mrr"
   ]
  },
  {
   "cell_type": "code",
   "execution_count": 41,
   "id": "theoretical-mirror",
   "metadata": {},
   "outputs": [
    {
     "name": "stderr",
     "output_type": "stream",
     "text": [
      "Train: 100%|█████████▉| 1891/1895 [14:32<00:01,  2.17it/s, accuracy=0.114, train_loss=5.79] \n",
      "Evaluation:  77%|███████▋  | 17/22 [01:32<00:27,  5.46s/it]\n",
      "Train:   0%|          | 0/1895 [00:00<?, ?it/s]"
     ]
    },
    {
     "name": "stdout",
     "output_type": "stream",
     "text": [
      "\t - Recall@20 epoch 1: 0.451689\n",
      "\t - MRR@20    epoch 1: 0.165223\n",
      "\n"
     ]
    },
    {
     "name": "stderr",
     "output_type": "stream",
     "text": [
      "Train: 100%|█████████▉| 1891/1895 [14:26<00:01,  2.18it/s, accuracy=0.17, train_loss=4.8]  \n",
      "Evaluation:  77%|███████▋  | 17/22 [01:19<00:23,  4.67s/it]\n",
      "Train:   0%|          | 0/1895 [00:00<?, ?it/s]"
     ]
    },
    {
     "name": "stdout",
     "output_type": "stream",
     "text": [
      "\t - Recall@20 epoch 2: 0.597685\n",
      "\t - MRR@20    epoch 2: 0.243990\n",
      "\n"
     ]
    },
    {
     "name": "stderr",
     "output_type": "stream",
     "text": [
      "Train: 100%|█████████▉| 1891/1895 [14:16<00:01,  2.21it/s, accuracy=0.185, train_loss=4.38]\n",
      "Evaluation:  77%|███████▋  | 17/22 [01:12<00:21,  4.24s/it]"
     ]
    },
    {
     "name": "stdout",
     "output_type": "stream",
     "text": [
      "\t - Recall@20 epoch 3: 0.660185\n",
      "\t - MRR@20    epoch 3: 0.283488\n",
      "\n"
     ]
    },
    {
     "name": "stderr",
     "output_type": "stream",
     "text": [
      "\n"
     ]
    }
   ],
   "source": [
    "# 학습 시간이 다소 오래 소요됩니다. (예상시간 1시간)\n",
    "train_model(model, args)"
   ]
  },
  {
   "cell_type": "markdown",
   "id": "undefined-humor",
   "metadata": {},
   "source": [
    "Train: 100%|█████████▉| 1891/1895 [14:30<00:01,  2.17it/s, accuracy=0.125, train_loss=5.73]  \n",
    "Evaluation:  77%|███████▋  | 17/22 [01:34<00:27,  5.56s/it]\n",
    "Train:   0%|          | 0/1895 [00:00<?, ?it/s]\n",
    "         - Recall@20 epoch 1: 0.458209\n",
    "         - MRR@20    epoch 1: 0.168748\n",
    "\n",
    "Train: 100%|█████████▉| 1891/1895 [14:21<00:01,  2.20it/s, accuracy=0.166, train_loss=4.78]\n",
    "Evaluation:  77%|███████▋  | 17/22 [01:21<00:24,  4.81s/it]\n",
    "Train:   0%|          | 0/1895 [00:00<?, ?it/s]\n",
    "         - Recall@20 epoch 2: 0.598058\n",
    "         - MRR@20    epoch 2: 0.243035\n",
    "\n",
    "Train: 100%|█████████▉| 1891/1895 [14:22<00:01,  2.19it/s, accuracy=0.19, train_loss=4.36] \n",
    "Evaluation:  77%|███████▋  | 17/22 [01:15<00:22,  4.46s/it]\n",
    "         - Recall@20 epoch 3: 0.661075\n",
    "         - MRR@20    epoch 3: 0.282561"
   ]
  },
  {
   "cell_type": "markdown",
   "id": "electric-stable",
   "metadata": {},
   "source": [
    "# 5.4 Inference\n",
    "\n",
    "학습이 완료되었습니다. 지금까지 학습한 모델이 테스트셋에 대해서도 유사한 수준의 성능을 내는지 검증해 봅시다."
   ]
  },
  {
   "cell_type": "markdown",
   "id": "extensive-morocco",
   "metadata": {},
   "source": [
    "def test_model(model, args, test):\n",
    "    test_recall, test_mrr = get_metrics(test, model, args, 20)\n",
    "    print(f\"\\t - Recall@{args.k}: {test_recall:3f}\")\n",
    "    print(f\"\\t - MRR@{args.k}: {test_mrr:3f}\\n\")\n",
    "\n",
    "test_model(model, args, test)"
   ]
  },
  {
   "cell_type": "markdown",
   "id": "metropolitan-course",
   "metadata": {},
   "source": [
    "Evaluation:  81%|████████▏ | 22/27 [01:36<00:21,  4.40s/it]\n",
    "         - Recall@20: 0.658469\n",
    "         - MRR@20: 0.274482"
   ]
  },
  {
   "cell_type": "markdown",
   "id": "common-solomon",
   "metadata": {},
   "source": [
    "# 17-6. 프로젝트 - Movielens 영화 SBR\n",
    "\n",
    "이번에도 우리는 Movielens 1M Dataset을 기반으로, Session based Recommendation 시스템을 제작해 보겠습니다.\n",
    "\n",
    "1) wget으로 데이터 다운로드\n",
    "\n",
    "$ wget http://files.grouplens.org/datasets/movielens/ml-1m.zip\n",
    "\n",
    "\n",
    "2) 다운받은 데이터를 작업디렉토리로 이동\n",
    "\n",
    "$ mv ml-1m.zip ~/aiffel/yoochoose-data\n",
    "\n",
    "\n",
    "3) 압축 해제\n",
    "\n",
    "$ cd ~/aiffel/yoochoose-data && unzip ml-1m.zip"
   ]
  },
  {
   "cell_type": "code",
   "execution_count": 43,
   "id": "nonprofit-alberta",
   "metadata": {},
   "outputs": [
    {
     "data": {
      "text/html": [
       "<div>\n",
       "<style scoped>\n",
       "    .dataframe tbody tr th:only-of-type {\n",
       "        vertical-align: middle;\n",
       "    }\n",
       "\n",
       "    .dataframe tbody tr th {\n",
       "        vertical-align: top;\n",
       "    }\n",
       "\n",
       "    .dataframe thead th {\n",
       "        text-align: right;\n",
       "    }\n",
       "</style>\n",
       "<table border=\"1\" class=\"dataframe\">\n",
       "  <thead>\n",
       "    <tr style=\"text-align: right;\">\n",
       "      <th></th>\n",
       "      <th>UserId</th>\n",
       "      <th>ItemId</th>\n",
       "      <th>Rating</th>\n",
       "      <th>Time</th>\n",
       "    </tr>\n",
       "  </thead>\n",
       "  <tbody>\n",
       "    <tr>\n",
       "      <th>31</th>\n",
       "      <td>1</td>\n",
       "      <td>3186</td>\n",
       "      <td>4</td>\n",
       "      <td>978300019</td>\n",
       "    </tr>\n",
       "    <tr>\n",
       "      <th>22</th>\n",
       "      <td>1</td>\n",
       "      <td>1270</td>\n",
       "      <td>5</td>\n",
       "      <td>978300055</td>\n",
       "    </tr>\n",
       "    <tr>\n",
       "      <th>27</th>\n",
       "      <td>1</td>\n",
       "      <td>1721</td>\n",
       "      <td>4</td>\n",
       "      <td>978300055</td>\n",
       "    </tr>\n",
       "    <tr>\n",
       "      <th>37</th>\n",
       "      <td>1</td>\n",
       "      <td>1022</td>\n",
       "      <td>5</td>\n",
       "      <td>978300055</td>\n",
       "    </tr>\n",
       "    <tr>\n",
       "      <th>24</th>\n",
       "      <td>1</td>\n",
       "      <td>2340</td>\n",
       "      <td>3</td>\n",
       "      <td>978300103</td>\n",
       "    </tr>\n",
       "    <tr>\n",
       "      <th>...</th>\n",
       "      <td>...</td>\n",
       "      <td>...</td>\n",
       "      <td>...</td>\n",
       "      <td>...</td>\n",
       "    </tr>\n",
       "    <tr>\n",
       "      <th>1000019</th>\n",
       "      <td>6040</td>\n",
       "      <td>2917</td>\n",
       "      <td>4</td>\n",
       "      <td>997454429</td>\n",
       "    </tr>\n",
       "    <tr>\n",
       "      <th>999988</th>\n",
       "      <td>6040</td>\n",
       "      <td>1921</td>\n",
       "      <td>4</td>\n",
       "      <td>997454464</td>\n",
       "    </tr>\n",
       "    <tr>\n",
       "      <th>1000172</th>\n",
       "      <td>6040</td>\n",
       "      <td>1784</td>\n",
       "      <td>3</td>\n",
       "      <td>997454464</td>\n",
       "    </tr>\n",
       "    <tr>\n",
       "      <th>1000167</th>\n",
       "      <td>6040</td>\n",
       "      <td>161</td>\n",
       "      <td>3</td>\n",
       "      <td>997454486</td>\n",
       "    </tr>\n",
       "    <tr>\n",
       "      <th>1000042</th>\n",
       "      <td>6040</td>\n",
       "      <td>1221</td>\n",
       "      <td>4</td>\n",
       "      <td>998315055</td>\n",
       "    </tr>\n",
       "  </tbody>\n",
       "</table>\n",
       "<p>1000209 rows × 4 columns</p>\n",
       "</div>"
      ],
      "text/plain": [
       "         UserId  ItemId  Rating       Time\n",
       "31            1    3186       4  978300019\n",
       "22            1    1270       5  978300055\n",
       "27            1    1721       4  978300055\n",
       "37            1    1022       5  978300055\n",
       "24            1    2340       3  978300103\n",
       "...         ...     ...     ...        ...\n",
       "1000019    6040    2917       4  997454429\n",
       "999988     6040    1921       4  997454464\n",
       "1000172    6040    1784       3  997454464\n",
       "1000167    6040     161       3  997454486\n",
       "1000042    6040    1221       4  998315055\n",
       "\n",
       "[1000209 rows x 4 columns]"
      ]
     },
     "execution_count": 43,
     "metadata": {},
     "output_type": "execute_result"
    }
   ],
   "source": [
    "data_path = Path(os.getenv('HOME')+'/aiffel/yoochoose-data/ml-1m') \n",
    "\n",
    "train_path = data_path / 'ratings.dat'\n",
    "\n",
    "def load_data(data_path: Path, nrows=None):\n",
    "    data = pd.read_csv(data_path, sep='::', header=None, usecols=[0, 1, 2, 3], dtype={0: np.int32, 1: np.int32, 2: np.int32}, nrows=nrows)\n",
    "    data.columns = ['UserId', 'ItemId', 'Rating', 'Time']\n",
    "    return data\n",
    "\n",
    "data = load_data(train_path, None)\n",
    "data.sort_values(['UserId', 'Time'], inplace=True)  # data를 id와 시간 순서로 정렬해줍니다.\n",
    "data"
   ]
  },
  {
   "cell_type": "markdown",
   "id": "regulation-drill",
   "metadata": {},
   "source": [
    "---------------------------------------------------------------------------\n",
    "FileNotFoundError                         Traceback (most recent call last)\n",
    "<ipython-input-3445-b6fa384da005> in <module>\n",
    "      7     return data\n",
    "      8 \n",
    "----> 9 data = load_data(train_path, None)\n",
    "     10 data.sort_values(['UserId', 'Time'], inplace=True)  # data를 id와 시간 순서로 정렬해줍니다.\n",
    "     11 data\n",
    "\n",
    "<ipython-input-3445-b6fa384da005> in load_data(data_path, nrows)\n",
    "      3 \n",
    "      4 def load_data(data_path: Path, nrows=None):\n",
    "----> 5     data = pd.read_csv(data_path, sep='::', header=None, usecols=[0, 1, 2, 3], dtype={0: np.int32, 1: np.int32, 2: np.int32}, nrows=nrows)\n",
    "      6     data.columns = ['UserId', 'ItemId', 'Rating', 'Time']\n",
    "      7     return data\n",
    "\n",
    "~/anaconda3/envs/aiffel/lib/python3.7/site-packages/pandas/io/parsers.py in read_csv(filepath_or_buffer, sep, delimiter, header, names, index_col, usecols, squeeze, prefix, mangle_dupe_cols, dtype, engine, converters, true_values, false_values, skipinitialspace, skiprows, skipfooter, nrows, na_values, keep_default_na, na_filter, verbose, skip_blank_lines, parse_dates, infer_datetime_format, keep_date_col, date_parser, dayfirst, cache_dates, iterator, chunksize, compression, thousands, decimal, lineterminator, quotechar, quoting, doublequote, escapechar, comment, encoding, dialect, error_bad_lines, warn_bad_lines, delim_whitespace, low_memory, memory_map, float_precision, storage_options)\n",
    "    603     kwds.update(kwds_defaults)\n",
    "    604 \n",
    "--> 605     return _read(filepath_or_buffer, kwds)\n",
    "    606 \n",
    "    607 \n",
    "\n",
    "~/anaconda3/envs/aiffel/lib/python3.7/site-packages/pandas/io/parsers.py in _read(filepath_or_buffer, kwds)\n",
    "    455 \n",
    "    456     # Create the parser.\n",
    "--> 457     parser = TextFileReader(filepath_or_buffer, **kwds)\n",
    "    458 \n",
    "    459     if chunksize or iterator:\n",
    "\n",
    "~/anaconda3/envs/aiffel/lib/python3.7/site-packages/pandas/io/parsers.py in __init__(self, f, engine, **kwds)\n",
    "    812             self.options[\"has_index_names\"] = kwds[\"has_index_names\"]\n",
    "    813 \n",
    "--> 814         self._engine = self._make_engine(self.engine)\n",
    "    815 \n",
    "    816     def close(self):\n",
    "\n",
    "~/anaconda3/envs/aiffel/lib/python3.7/site-packages/pandas/io/parsers.py in _make_engine(self, engine)\n",
    "   1043             )\n",
    "   1044         # error: Too many arguments for \"ParserBase\"\n",
    "-> 1045         return mapping[engine](self.f, **self.options)  # type: ignore[call-arg]\n",
    "   1046 \n",
    "   1047     def _failover_to_python(self):\n",
    "\n",
    "~/anaconda3/envs/aiffel/lib/python3.7/site-packages/pandas/io/parsers.py in __init__(self, f, **kwds)\n",
    "   2286             self.data = cast(Iterator[str], f)\n",
    "   2287         else:\n",
    "-> 2288             self._open_handles(f, kwds)\n",
    "   2289             assert self.handles is not None\n",
    "   2290             assert hasattr(self.handles.handle, \"readline\")\n",
    "\n",
    "~/anaconda3/envs/aiffel/lib/python3.7/site-packages/pandas/io/parsers.py in _open_handles(self, src, kwds)\n",
    "   1361             compression=kwds.get(\"compression\", None),\n",
    "   1362             memory_map=kwds.get(\"memory_map\", False),\n",
    "-> 1363             storage_options=kwds.get(\"storage_options\", None),\n",
    "   1364         )\n",
    "   1365 \n",
    "\n",
    "~/anaconda3/envs/aiffel/lib/python3.7/site-packages/pandas/io/common.py in get_handle(path_or_buf, mode, encoding, compression, memory_map, is_text, errors, storage_options)\n",
    "    642                 encoding=ioargs.encoding,\n",
    "    643                 errors=errors,\n",
    "--> 644                 newline=\"\",\n",
    "    645             )\n",
    "    646         else:\n",
    "\n",
    "FileNotFoundError: [Errno 2] No such file or directory: '/home/aiffel-dj56/aiffel/yoochoose-data/ml-1m/ratings.dat'\n",
    "    "
   ]
  },
  {
   "cell_type": "markdown",
   "id": "fluid-philippines",
   "metadata": {},
   "source": [
    "    • 여기서 이전 실습내역과 가장 크게 다른 부분은 바로 SessionID 대신 UserID 항목이 들어갔다는 점입니다. 이 데이터셋은 명확한 1회 세션의 SessionID를 포함하지 않고 있습니다. 그래서 이번에는 UserID가 SessionID 역할을 해야 합니다.\n",
    "    \n",
    "    • Rating 정보가 포함되어 있습니다. 이전 실습내역에서는 이런 항목이 포함되어 있지 않았으므로, 무시하고 제외할 수 있습니다. 하지만, 직전에 봤던 영화가 맘에 들었는지 여부가 비슷한 영화를 더 고르게 하는 것과 상관이 있을 수도 있습니다. 아울러, Rating이 낮은 데이터를 어떻게 처리할지도 고민해야 합니다.\n",
    "    \n",
    "    • Time 항목에는 UTC time 가 포함되어, 1970년 1월 1일부터 경과된 초단위 시간이 기재되어 있습니다.\n",
    "    \n",
    "위와 같은 정보를 바탕으로 오늘의 실습과정과 유사한 프로젝트 과정을 진행해 보겠습니다."
   ]
  },
  {
   "cell_type": "markdown",
   "id": "earned-virtue",
   "metadata": {},
   "source": [
    "# Step 1. 데이터의 전처리"
   ]
  },
  {
   "cell_type": "markdown",
   "id": "second-optimization",
   "metadata": {},
   "source": [
    "위와 같이 간단히 구성해 본 데이터셋을 꼼꼼이 살펴보면서 항목별 기본분석, session length, session time, cleaning 등의 작업을 진행합니다.\n",
    "특히, 이 데이터셋에서는 Session이 아닌 UserID 단위로 데이터가 생성되어 있으므로, 이를 Session 단위로 어떻게 해석할지에 주의합니다."
   ]
  },
  {
   "cell_type": "markdown",
   "id": "universal-scroll",
   "metadata": {},
   "source": [
    "# Step 2. 미니 배치의 구성"
   ]
  },
  {
   "cell_type": "markdown",
   "id": "compliant-young",
   "metadata": {},
   "source": [
    "실습코드 내역을 참고하여 데이터셋과 미니 배치를 구성해 봅시다. Session-Parallel Mini-Batch의 개념에 따라, 학습 속도의 저하가 최소화될 수 있도록 구성합니다.\n",
    "단, 위 Step 1에서 Session 단위를 어떻게 정의했느냐에 따라서 Session-Parallel Mini-Batch이 굳이 필요하지 않을 수도 있습니다."
   ]
  },
  {
   "cell_type": "markdown",
   "id": "banned-concentration",
   "metadata": {},
   "source": [
    "# Step 3. 모델 구성"
   ]
  },
  {
   "cell_type": "markdown",
   "id": "presidential-butterfly",
   "metadata": {},
   "source": [
    "이 부분도 실습코드 내역을 참고하여 다양하게 모델 구조를 시도해볼 수 있습니다."
   ]
  },
  {
   "cell_type": "markdown",
   "id": "severe-layer",
   "metadata": {},
   "source": [
    "# Step 4. 모델 학습\n",
    "다양한 하이퍼파라미터를 변경해 보며 검증해 보도록 합니다. 실습코드에 언급되었던 Recall, MRR 등의 개념들도 함께 관리될 수 있도록 합니다."
   ]
  },
  {
   "cell_type": "markdown",
   "id": "familiar-yugoslavia",
   "metadata": {},
   "source": [
    "# Step 5. 모델 테스트\n",
    "미리 구성한 테스트셋을 바탕으로 Recall, MRR 을 확인해 봅니다."
   ]
  },
  {
   "cell_type": "markdown",
   "id": "favorite-palmer",
   "metadata": {},
   "source": [
    "# 루브릭\n",
    "아래의 기준을 바탕으로 프로젝트를 평가합니다.\n",
    "평가문항/상세기준\n",
    "\n",
    "1. Movielens 데이터셋을 session based recommendation 관점으로 전처리하는 과정이 체계적으로 진행되었다.\n",
    "\n",
    "데이터셋의 면밀한 분석을 토대로 세션단위 정의 과정(길이분석, 시간분석)을 합리적으로 수행한 과정이 기술되었다.\n",
    "\n",
    "2. RNN 기반의 예측 모델이 정상적으로 구성되어 안정적으로 훈련이 진행되었다.\n",
    "\n",
    "적절한 epoch만큼의 학습이 진행되는 과정에서 train loss가 안정적으로 감소하고, validation 단계에서의 Recall, MRR이 개선되는 것이 확인된다.\n",
    "\n",
    "3. 세션정의, 모델구조, 하이퍼파라미터 등을 변경해서 실험하여 Recall, MRR 등의 변화추이를 관찰하였다.\n",
    "\n",
    "3가지 이상의 변화를 시도하고 그 실험결과를 체계적으로 분석하였다.\n"
   ]
  },
  {
   "cell_type": "code",
   "execution_count": null,
   "id": "detailed-contribution",
   "metadata": {},
   "outputs": [],
   "source": []
  }
 ],
 "metadata": {
  "kernelspec": {
   "display_name": "aiffel",
   "language": "python",
   "name": "aiffel"
  },
  "language_info": {
   "codemirror_mode": {
    "name": "ipython",
    "version": 3
   },
   "file_extension": ".py",
   "mimetype": "text/x-python",
   "name": "python",
   "nbconvert_exporter": "python",
   "pygments_lexer": "ipython3",
   "version": "3.7.9"
  }
 },
 "nbformat": 4,
 "nbformat_minor": 5
}
