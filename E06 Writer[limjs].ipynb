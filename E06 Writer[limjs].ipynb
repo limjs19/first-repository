{
 "cells": [
  {
   "cell_type": "markdown",
   "id": "seventh-spencer",
   "metadata": {},
   "source": [
    "# 6. 프로젝트: 멋진 작사가 만들기"
   ]
  },
  {
   "cell_type": "markdown",
   "id": "polish-trouble",
   "metadata": {},
   "source": [
    "## Step 1. 데이터 다운로드  \n",
    "먼저 아래 링크에서 Song Lyrics 데이터를 다운로드  \n",
    "저장된 파일을 압축 해제한 후, 모든 txt 파일을 lyrics 폴더를 만들어 그 속에 저장  \n",
    "* Song Lyrics  "
   ]
  },
  {
   "cell_type": "markdown",
   "id": "municipal-overhead",
   "metadata": {},
   "source": [
    "## Step 2. 데이터 읽어오기\n",
    "glob 모듈을 사용하면 파일을 읽어오는 작업을 하기  \n",
    "glob 를 활용하여 모든 txt 파일을 읽어온 후, raw_corpus 리스트에 문장 단위로 저장"
   ]
  },
  {
   "cell_type": "code",
   "execution_count": 1,
   "id": "nasty-basement",
   "metadata": {},
   "outputs": [
    {
     "name": "stdout",
     "output_type": "stream",
     "text": [
      "데이터 크기: 187088\n",
      "Examples:\n",
      " ['Ooh....... New York x2 Grew up in a town that is famous as a place of movie scenes', 'Noise is always loud, there are sirens all around and the streets are mean', \"If I can make it here, I can make it anywhere, that's what they say\"]\n"
     ]
    }
   ],
   "source": [
    "import glob\n",
    "import os\n",
    "import re                  # 정규표현식을 위한 Regex 지원 모듈 (문장 데이터를 정돈하기 위해) \n",
    "import numpy as np         # 변환된 문장 데이터(행렬)을 편하게 처리하기 위해\n",
    "import tensorflow as tf    # 대망의 텐서플로우!\n",
    "\n",
    "from tensorflow import keras\n",
    "\n",
    "\n",
    "txt_file_path = os.getenv('HOME')+'/aiffel/lyricist/data/lyrics/*'\n",
    "txt_list = glob.glob(txt_file_path)\n",
    "\n",
    "raw_corpus = []\n",
    "\n",
    "# 여러개의 txt 파일을 모두 읽어서 raw_corpus에 담습니다.\n",
    "for txt_file in txt_list:\n",
    "    with open(txt_file, \"r\") as f:\n",
    "        raw = f.read().splitlines()\n",
    "        raw_corpus.extend(raw)\n",
    "\n",
    "print(\"데이터 크기:\", len(raw_corpus))\n",
    "print(\"Examples:\\n\", raw_corpus[:3])"
   ]
  },
  {
   "cell_type": "markdown",
   "id": "satisfied-watch",
   "metadata": {},
   "source": [
    "## Step 3. 데이터 정제  \n",
    "* 앞서 배운 테크닉들을 활용해 문장 생성에 적합한 모양새로 데이터를 정제  \n",
    "* preprocess_sentence() 함수를 활용해 데이터를 정제  \n",
    "* 긴 문장은 다른 데이터들이 과도한 Padding을 갖게 하므로 제거  \n",
    "* 토큰의 개수가 15개를 넘어가는 문장을 학습데이터에서 제외  "
   ]
  },
  {
   "cell_type": "code",
   "execution_count": 2,
   "id": "under-ready",
   "metadata": {},
   "outputs": [
    {
     "name": "stdout",
     "output_type": "stream",
     "text": [
      "0 Ooh....... New York x2 Grew up in a town that is famous as a place of movie scenes\n",
      "1 Noise is always loud, there are sirens all around and the streets are mean\n",
      "2 If I can make it here, I can make it anywhere, that's what they say\n",
      "3 Seeing my face in lights or my name on marquees found down on Broadway Even if it ain't all it seems, I got a pocket full of dreams\n",
      "4 Baby, I'm from New York\n",
      "5 Concrete jungle where dreams are made of\n",
      "6 There's nothing you can't do\n",
      "7 Now you're in New York\n",
      "8 These streets will make you feel brand new\n",
      "9 Big lights will inspire you\n"
     ]
    }
   ],
   "source": [
    "for idx, sentence in enumerate(raw_corpus):\n",
    "    if len(sentence) == 0: continue   # 길이가 0인 문장은 건너뜁니다.\n",
    "    if sentence[-1] == \":\": continue  # 문장의 끝이 : 인 문장은 건너뜁니다.\n",
    "\n",
    "    if idx > 9: break   # 일단 문장 10개만 확인해 볼 겁니다.\n",
    "        \n",
    "    print(idx,sentence)"
   ]
  },
  {
   "cell_type": "code",
   "execution_count": 3,
   "id": "scheduled-burton",
   "metadata": {},
   "outputs": [
    {
     "name": "stdout",
     "output_type": "stream",
     "text": [
      "<start> this is sample sentence . <end>\n"
     ]
    }
   ],
   "source": [
    "def preprocess_sentence(sentence):\n",
    "    sentence = sentence.lower().strip()       \n",
    "    # 소문자로 바꾸고 양쪽 공백을 삭제\n",
    "  \n",
    "    # 아래 3단계를 거쳐 sentence는 스페이스 1개를 delimeter로 하는 소문자 단어 시퀀스로 바뀝니다.\n",
    "    sentence = re.sub(r\"([?.!,¿])\", r\" \\1 \", sentence)        \n",
    "    # 패턴의 특수문자를 만나면 특수문자 양쪽에 공백을 추가\n",
    "    sentence = re.sub(r'[\" \"]+', \" \", sentence)                  \n",
    "    # 공백 패턴을 만나면 스페이스 1개로 치환\n",
    "    sentence = re.sub(r\"[^a-zA-Z?.!,¿]+\", \" \", sentence)  \n",
    "    # a-zA-Z?.!,¿ 패턴을 제외한 모든 문자(공백문자까지도)를 스페이스 1개로 치환\n",
    "\n",
    "    sentence = sentence.strip()\n",
    "\n",
    "    sentence = '<start> ' + sentence + ' <end>'      \n",
    "    # 이전 스텝에서 본 것처럼 문장 앞뒤로 <start>와 <end>를 단어처럼 붙여 줍니다\n",
    "    \n",
    "    return sentence\n",
    "\n",
    "print(preprocess_sentence(\"This @_is ;;;sample        sentence.\"))   \n",
    "# 이 문장이 어떻게 필터링되는지 확인해 보세요."
   ]
  },
  {
   "cell_type": "code",
   "execution_count": 4,
   "id": "clinical-catholic",
   "metadata": {},
   "outputs": [
    {
     "data": {
      "text/plain": [
       "['<start> noise is always loud , there are sirens all around and the streets are mean <end>',\n",
       " '<start> if i can make it here , i can make it anywhere , that s what they say <end>',\n",
       " '<start> baby , i m from new york <end>',\n",
       " '<start> concrete jungle where dreams are made of <end>',\n",
       " '<start> there s nothing you can t do <end>',\n",
       " '<start> now you re in new york <end>',\n",
       " '<start> these streets will make you feel brand new <end>',\n",
       " '<start> big lights will inspire you <end>',\n",
       " '<start> such a melting pot , on the corner selling rock , preachers pray to god <end>',\n",
       " '<start> hail a gypsy cab , takes me down from harlem to the brooklyn bridge <end>']"
      ]
     },
     "execution_count": 4,
     "metadata": {},
     "output_type": "execute_result"
    }
   ],
   "source": [
    "# 문장 길이 긴 것 빼고 다시 \n",
    "corpus = []\n",
    "\n",
    "for sentence in raw_corpus:\n",
    "    \n",
    "    if len(sentence) == 0: continue\n",
    "    #if len(sentence) > 15: continue\n",
    "    if sentence[-1] == \":\": continue    \n",
    "    if len(sentence.split()) <= 15:  \n",
    "        \n",
    "        corpus.append(preprocess_sentence(sentence))\n",
    "        \n",
    "corpus[:10]"
   ]
  },
  {
   "cell_type": "code",
   "execution_count": 5,
   "id": "sealed-savings",
   "metadata": {},
   "outputs": [
    {
     "name": "stdout",
     "output_type": "stream",
     "text": [
      "문장 길이의 평균 :  48.769329460610486\n",
      "문장 길이의 최대 :  123\n",
      "문장 길이 표준 편차 :  15.156410324887432\n",
      "pad_sequences maxlen :  109\n",
      "전체 문장의 0.9998099277131334%가 maxlen 설정값 이내에 포함됩니다.\n"
     ]
    }
   ],
   "source": [
    "total_data_text = list(corpus)\n",
    "\n",
    "#텍스트 데이터 문장길이의 리스트를 생성\n",
    "num_tokens = [len(tokens) for tokens in total_data_text]\n",
    "num_tokens = np.array(num_tokens)\n",
    "\n",
    "#문장 길이의 평균값, 최대값, 표준편차를 계산\n",
    "print(\"문장 길이의 평균 : \", np.mean(num_tokens))\n",
    "print(\"문장 길이의 최대 : \", np.max(num_tokens))\n",
    "print(\"문장 길이 표준 편차 : \", np.std(num_tokens))\n",
    "\n",
    "#최대 길이 (평균 + 4*표준편차) 너무 길면 시간이 오래 걸린다. \n",
    "max_tokens = np.mean(num_tokens) +4*np.std(num_tokens)\n",
    "maxlen = int(max_tokens)\n",
    "print(\"pad_sequences maxlen : \", maxlen)\n",
    "print(\"전체 문장의 {}%가 maxlen 설정값 이내에 포함됩니다.\".format(np.sum(num_tokens<max_tokens)/len(num_tokens)))"
   ]
  },
  {
   "cell_type": "code",
   "execution_count": 6,
   "id": "defensive-mexican",
   "metadata": {},
   "outputs": [
    {
     "name": "stderr",
     "output_type": "stream",
     "text": [
      "/home/aiffel-dj56/anaconda3/envs/aiffel/lib/python3.7/site-packages/seaborn/distributions.py:2557: FutureWarning: `distplot` is a deprecated function and will be removed in a future version. Please adapt your code to use either `displot` (a figure-level function with similar flexibility) or `histplot` (an axes-level function for histograms).\n",
      "  warnings.warn(msg, FutureWarning)\n"
     ]
    },
    {
     "data": {
      "image/png": "[encoded data removed]",
      "text/plain": [
       "<Figure size 432x288 with 1 Axes>"
      ]
     },
     "metadata": {
      "needs_background": "light"
     },
     "output_type": "display_data"
    }
   ],
   "source": [
    "import matplotlib.pyplot as plt\n",
    "import seaborn as sns\n",
    "\n",
    "#문장 길이 분포 확인\n",
    "plt.rcParams['figure.figsize'] = (6, 4)\n",
    "plt.rcParams['grid.color'] = '#F0F0F0'\n",
    "plt.rcParams['grid.linestyle'] = 'solid'\n",
    "sns.distplot(num_tokens)\n",
    "plt.style.use(\"bmh\")\n",
    "plt.show()"
   ]
  },
  {
   "cell_type": "code",
   "execution_count": 7,
   "id": "gross-efficiency",
   "metadata": {},
   "outputs": [
    {
     "name": "stdout",
     "output_type": "stream",
     "text": [
      "[[  26  169  945 ...   77  246    3]\n",
      " [  11   93    4 ...   43   70    3]\n",
      " [   2   51    4 ...    0    0    0]\n",
      " ...\n",
      " [   2    9  155 ...    0    0    0]\n",
      " [   2    8    9 ...    0    0    0]\n",
      " [   2    6 3081 ...    0    0    0]] <keras_preprocessing.text.Tokenizer object at 0x7f04d3bf5690>\n"
     ]
    }
   ],
   "source": [
    "def tokenize(corpus):\n",
    "    # 텐서플로우에서 제공하는 Tokenizer 패키지를 생성\n",
    "    tokenizer = tf.keras.preprocessing.text.Tokenizer(\n",
    "        num_words=12000,  # 전체 단어의 개수 \n",
    "        filters=' ',    # 별도로 전처리 로직을 추가할 수 있습니다. 이번에는 사용하지 않겠습니다.\n",
    "        oov_token=\"<unk>\"  # out-of-vocabulary, 사전에 없었던 단어는 어떤 토큰으로 대체할지\n",
    "    )\n",
    "    tokenizer.fit_on_texts(corpus)   # 우리가 구축한 corpus로부터 Tokenizer가 사전을 자동구축하게 됩니다.\n",
    "\n",
    "    # 이후 tokenizer를 활용하여 모델에 입력할 데이터셋을 구축하게 됩니다.\n",
    "    tensor = tokenizer.texts_to_sequences(corpus)   # tokenizer는 구축한 사전으로부터 corpus를 해석해 Tensor로 변환합니다.\n",
    "\n",
    "    # 입력 데이터의 시퀀스 길이를 일정하게 맞추기 위한 padding  메소드를 제공합니다.\n",
    "    # maxlen의 디폴트값은 None입니다. 이 경우 corpus의 가장 긴 문장을 기준으로 시퀀스 길이가 맞춰집니다.\n",
    "    tensor = tf.keras.preprocessing.sequence.pad_sequences(tensor, maxlen = 15, padding='post')  \n",
    "\n",
    "    print(tensor,tokenizer)\n",
    "    return tensor, tokenizer\n",
    "\n",
    "tensor, tokenizer = tokenize(corpus)"
   ]
  },
  {
   "cell_type": "code",
   "execution_count": 8,
   "id": "reflected-carolina",
   "metadata": {},
   "outputs": [
    {
     "name": "stdout",
     "output_type": "stream",
     "text": [
      "[[  26  169  945    4   62   77 3649   25  137    8]\n",
      " [  11   93    4    5   32   72   11 1543    4   17]\n",
      " [   2   51    4    5   22   74  155  707    3    0]]\n"
     ]
    }
   ],
   "source": [
    "print(tensor[:3, :10])"
   ]
  },
  {
   "cell_type": "code",
   "execution_count": 9,
   "id": "hindu-contributor",
   "metadata": {},
   "outputs": [
    {
     "data": {
      "text/plain": [
       "15"
      ]
     },
     "execution_count": 9,
     "metadata": {},
     "output_type": "execute_result"
    }
   ],
   "source": [
    "#데이터 길이 확인\n",
    "len(tensor[1])"
   ]
  },
  {
   "cell_type": "code",
   "execution_count": 10,
   "id": "substantial-health",
   "metadata": {},
   "outputs": [
    {
     "data": {
      "text/plain": [
       "array([  11,   93,    4,    5,   32,   72,   11, 1543,    4,   17,   16,\n",
       "         39,   43,   70,    3], dtype=int32)"
      ]
     },
     "execution_count": 10,
     "metadata": {},
     "output_type": "execute_result"
    }
   ],
   "source": [
    "tensor[1]"
   ]
  },
  {
   "cell_type": "code",
   "execution_count": 11,
   "id": "generic-spectrum",
   "metadata": {},
   "outputs": [
    {
     "name": "stdout",
     "output_type": "stream",
     "text": [
      "1 : <unk>\n",
      "2 : <start>\n",
      "3 : <end>\n",
      "4 : ,\n",
      "5 : i\n",
      "6 : the\n",
      "7 : you\n",
      "8 : and\n",
      "9 : a\n",
      "10 : to\n",
      "26729\n"
     ]
    }
   ],
   "source": [
    "for idx in tokenizer.index_word:\n",
    "    print(idx, \":\", tokenizer.index_word[idx])\n",
    "\n",
    "    if idx >= 10: break\n",
    "     \n",
    "print(len(tokenizer.index_word))"
   ]
  },
  {
   "cell_type": "code",
   "execution_count": 12,
   "id": "wireless-offset",
   "metadata": {},
   "outputs": [
    {
     "name": "stdout",
     "output_type": "stream",
     "text": [
      "[  26  169  945    4   62   77 3649   25  137    8    6  470   77  246]\n",
      "[ 169  945    4   62   77 3649   25  137    8    6  470   77  246    3]\n"
     ]
    }
   ],
   "source": [
    "src_input = tensor[:, :-1]  \n",
    "# tensor에서 마지막 토큰을 잘라내서 소스 문장을 생성합니다. \n",
    "#마지막 토큰은 <end>가 아니라 <pad>일 가능성이 높습니다.\n",
    "tgt_input = tensor[:, 1:]    # tensor에서 <start>를 잘라내서 타겟 문장을 생성합니다.\n",
    "\n",
    "print(src_input[0])\n",
    "print(tgt_input[0])"
   ]
  },
  {
   "cell_type": "markdown",
   "id": "ambient-dynamics",
   "metadata": {},
   "source": [
    "## Step 4. 평가 데이터셋 분리\n",
    "\n",
    "* 훈련 데이터와 평가 데이터를 분리  \n",
    "* tokenize() 함수로 데이터를 Tensor로 변환한 후,  \n",
    "* sklearn 모듈의 train_test_split() 함수를 사용해 훈련 데이터와 평가 데이터를 분리  \n",
    "* 단어장의 크기는 12,000 이상으로 설정\n",
    "* 총 데이터의 20%를 평가 데이터셋으로 사용\n",
    "\n",
    "enc_train, enc_val, dec_train, dec_val = <코드 작성>  \n",
    "여기까지 올바르게 진행했을 경우, 아래 실행 결과를 확인  \n",
    "\n",
    "print(\"Source Train:\", enc_train.shape)  \n",
    "print(\"Target Train:\", dec_train.shape)  \n",
    "out:  \n",
    "\n",
    "Source Train: (124960, 14)  \n",
    "Target Train: (124960, 14)  "
   ]
  },
  {
   "cell_type": "code",
   "execution_count": 13,
   "id": "closing-vegetable",
   "metadata": {},
   "outputs": [
    {
     "name": "stdout",
     "output_type": "stream",
     "text": [
      "Source Train: (134685, 14)\n",
      "Target Train: (134685, 14)\n",
      "Source Val: (33672, 14)\n",
      "Target Val: (33672, 14)\n"
     ]
    }
   ],
   "source": [
    "from sklearn.model_selection import train_test_split\n",
    "\n",
    "enc_train, enc_val, dec_train, dec_val = train_test_split(src_input, tgt_input, test_size=0.2)\n",
    "print(\"Source Train:\", enc_train.shape)  \n",
    "print(\"Target Train:\", dec_train.shape)  \n",
    "print(\"Source Val:\", enc_val.shape)\n",
    "print(\"Target Val:\", dec_val.shape)\n",
    "#학습데이터 갯수 124960보다 작은 결과"
   ]
  },
  {
   "cell_type": "code",
   "execution_count": 14,
   "id": "japanese-environment",
   "metadata": {},
   "outputs": [
    {
     "name": "stdout",
     "output_type": "stream",
     "text": [
      "168357\n",
      "657\n",
      "12001\n"
     ]
    },
    {
     "data": {
      "text/plain": [
       "<BatchDataset shapes: ((256, 14), (256, 14)), types: (tf.int32, tf.int32)>"
      ]
     },
     "execution_count": 14,
     "metadata": {},
     "output_type": "execute_result"
    }
   ],
   "source": [
    "BUFFER_SIZE = len(src_input)\n",
    "BATCH_SIZE = 256\n",
    "steps_per_epoch = len(src_input) // BATCH_SIZE\n",
    "print(BUFFER_SIZE)\n",
    "\n",
    "print(steps_per_epoch)\n",
    "VOCAB_SIZE = tokenizer.num_words + 1    # tokenizer가 구축한 단어사전 내 7000개와, 여기 포함되지 않은 0:<pad>를 포함하여 7001개\n",
    "print(VOCAB_SIZE)\n",
    "\n",
    "dataset = tf.data.Dataset.from_tensor_slices((enc_train, dec_train)).shuffle(BUFFER_SIZE)\n",
    "dataset = dataset.batch(BATCH_SIZE, drop_remainder=True)\n",
    "dataset\n",
    "\n",
    "val_dataset = tf.data.Dataset.from_tensor_slices((enc_val, dec_val)).shuffle(BUFFER_SIZE)\n",
    "val_dataset = val_dataset.batch(BATCH_SIZE, drop_remainder=True)\n",
    "val_dataset"
   ]
  },
  {
   "cell_type": "markdown",
   "id": "opponent-aside",
   "metadata": {},
   "source": [
    "## Step 5. 인공지능 만들기  \n",
    "모델의 Embedding Size와 Hidden Size를 조절  \n",
    "10 Epoch 안에 val_loss 값을 2.2 수준으로 줄일 수 있는 모델을 설계  \n",
    "(Loss는 아래 제시된 Loss 함수를 그대로 사용!)   \n",
    "멋진 모델이 생성한 가사 한 줄을 제출  "
   ]
  },
  {
   "cell_type": "code",
   "execution_count": 15,
   "id": "retired-montgomery",
   "metadata": {},
   "outputs": [],
   "source": [
    "class TextGenerator(tf.keras.Model):\n",
    "    def __init__(self, vocab_size, embedding_size, hidden_size):\n",
    "        super(TextGenerator, self).__init__()\n",
    "        \n",
    "        self.embedding = tf.keras.layers.Embedding(vocab_size, embedding_size)\n",
    "        self.rnn_1 = tf.keras.layers.LSTM(hidden_size, return_sequences=True)\n",
    "        self.rnn_2 = tf.keras.layers.LSTM(hidden_size, return_sequences=True)\n",
    "        self.linear = tf.keras.layers.Dense(vocab_size)\n",
    "        \n",
    "    def call(self, x):\n",
    "        out = self.embedding(x)\n",
    "        out = self.rnn_1(out)\n",
    "        out = self.rnn_2(out)\n",
    "        out = self.linear(out)\n",
    "        \n",
    "        return out\n",
    "    \n",
    "embedding_size = 256\n",
    "hidden_size = 1024\n",
    "model = TextGenerator(tokenizer.num_words + 1, embedding_size , hidden_size)"
   ]
  },
  {
   "cell_type": "code",
   "execution_count": 16,
   "id": "quality-blair",
   "metadata": {},
   "outputs": [
    {
     "data": {
      "text/plain": [
       "<tf.Tensor: shape=(256, 14, 12001), dtype=float32, numpy=\n",
       "array([[[-9.86662708e-05, -1.44382384e-05,  1.67084538e-04, ...,\n",
       "         -8.66470436e-05, -8.41885339e-05,  9.44619678e-05],\n",
       "        [-4.74708417e-04,  1.33309557e-04,  3.50772141e-04, ...,\n",
       "         -4.81913856e-04,  2.09167933e-06,  6.35895703e-05],\n",
       "        [-6.41575898e-04,  3.07951908e-04,  4.93681582e-04, ...,\n",
       "         -5.62634261e-04,  5.45209105e-07,  2.00161303e-04],\n",
       "        ...,\n",
       "        [-1.63103908e-03,  8.65140930e-04,  1.79054390e-04, ...,\n",
       "         -2.13655550e-03, -1.62124285e-03, -1.03065732e-03],\n",
       "        [-1.94084027e-03,  7.30594620e-04,  3.89241992e-04, ...,\n",
       "         -2.49823299e-03, -1.85819541e-03, -1.07272749e-03],\n",
       "        [-2.24723085e-03,  5.97679813e-04,  5.78227628e-04, ...,\n",
       "         -2.82214535e-03, -2.01437995e-03, -1.08253094e-03]],\n",
       "\n",
       "       [[-9.86662708e-05, -1.44382384e-05,  1.67084538e-04, ...,\n",
       "         -8.66470436e-05, -8.41885339e-05,  9.44619678e-05],\n",
       "        [-5.67752431e-05,  1.28624970e-05,  3.05002468e-04, ...,\n",
       "         -1.08052256e-04, -1.87914469e-04,  2.55510473e-04],\n",
       "        [ 2.05221768e-05,  6.38507772e-05,  1.07078362e-04, ...,\n",
       "         -3.41815285e-05, -3.40881845e-04,  3.36318830e-04],\n",
       "        ...,\n",
       "        [-7.60294439e-04,  6.21801359e-04, -9.57368407e-04, ...,\n",
       "         -7.27991865e-04, -9.23446205e-04, -7.34982546e-04],\n",
       "        [-8.86877649e-04,  6.55722572e-04, -7.50390638e-04, ...,\n",
       "         -8.95685982e-04, -1.24090898e-03, -9.82317841e-04],\n",
       "        [-1.09405536e-03,  6.60438789e-04, -4.79008857e-04, ...,\n",
       "         -1.15363614e-03, -1.53942150e-03, -1.22483948e-03]],\n",
       "\n",
       "       [[-9.86662708e-05, -1.44382384e-05,  1.67084538e-04, ...,\n",
       "         -8.66470436e-05, -8.41885339e-05,  9.44619678e-05],\n",
       "        [ 1.41530050e-04, -7.36419606e-05,  7.95544838e-05, ...,\n",
       "         -1.28766987e-05, -2.81388435e-04,  3.20525753e-04],\n",
       "        [ 2.75568775e-04, -1.20570847e-04,  5.05621138e-05, ...,\n",
       "          9.78399694e-05, -6.12296164e-04,  4.79318376e-04],\n",
       "        ...,\n",
       "        [-2.21306784e-03, -2.38137989e-04,  7.34911766e-04, ...,\n",
       "         -3.00717726e-03, -1.95027119e-03, -8.25923635e-04],\n",
       "        [-2.58202245e-03, -1.98936221e-04,  8.58324172e-04, ...,\n",
       "         -3.28540080e-03, -1.91960996e-03, -8.74077203e-04],\n",
       "        [-2.91427434e-03, -1.72593456e-04,  9.61909362e-04, ...,\n",
       "         -3.51661048e-03, -1.85336126e-03, -8.92179203e-04]],\n",
       "\n",
       "       ...,\n",
       "\n",
       "       [[-9.86662708e-05, -1.44382384e-05,  1.67084538e-04, ...,\n",
       "         -8.66470436e-05, -8.41885339e-05,  9.44619678e-05],\n",
       "        [-3.15667538e-04,  7.64517099e-05,  3.22199048e-04, ...,\n",
       "          7.09968663e-05,  3.23447784e-05,  1.23430480e-04],\n",
       "        [-4.38043644e-04,  3.10044590e-04,  1.87645579e-04, ...,\n",
       "          2.77032494e-04,  1.37369410e-04,  1.76141810e-04],\n",
       "        ...,\n",
       "        [-2.97095557e-03,  1.85899626e-05,  5.40573034e-04, ...,\n",
       "         -3.02452152e-03, -1.43374782e-03, -1.28138182e-03],\n",
       "        [-3.24623054e-03, -3.20444524e-05,  7.03817059e-04, ...,\n",
       "         -3.30980937e-03, -1.45893183e-03, -1.29047525e-03],\n",
       "        [-3.49397934e-03, -7.75130102e-05,  8.46770010e-04, ...,\n",
       "         -3.54330475e-03, -1.44765677e-03, -1.26811548e-03]],\n",
       "\n",
       "       [[-9.86662708e-05, -1.44382384e-05,  1.67084538e-04, ...,\n",
       "         -8.66470436e-05, -8.41885339e-05,  9.44619678e-05],\n",
       "        [-1.49288826e-05,  1.95634231e-04,  1.96504858e-04, ...,\n",
       "         -7.27406732e-05, -2.83776200e-04,  2.70269491e-04],\n",
       "        [ 3.19133105e-04,  3.93544251e-05, -8.53945239e-05, ...,\n",
       "          4.76406676e-05, -2.00235823e-04,  2.19888854e-04],\n",
       "        ...,\n",
       "        [ 1.48927633e-04,  1.27015228e-03,  4.29271633e-04, ...,\n",
       "         -7.54251261e-04,  6.87162683e-04,  1.80390038e-04],\n",
       "        [ 1.87216632e-04,  1.46545318e-03,  7.42344593e-04, ...,\n",
       "         -6.81124337e-04,  7.48508319e-04,  4.04519582e-04],\n",
       "        [ 7.79956463e-05,  1.58803212e-03,  7.45152822e-04, ...,\n",
       "         -6.99460856e-04,  5.29282494e-04,  5.71580662e-04]],\n",
       "\n",
       "       [[-9.86662708e-05, -1.44382384e-05,  1.67084538e-04, ...,\n",
       "         -8.66470436e-05, -8.41885339e-05,  9.44619678e-05],\n",
       "        [-2.59064574e-04,  1.48872568e-04, -3.33244679e-06, ...,\n",
       "         -1.81637733e-04, -1.04127219e-04,  1.81028852e-04],\n",
       "        [-3.53359879e-04,  4.92460153e-04, -2.35221567e-04, ...,\n",
       "         -2.46708281e-04, -1.25870574e-04,  3.47557099e-04],\n",
       "        ...,\n",
       "        [ 4.17600124e-04,  2.27626646e-04, -5.92523065e-05, ...,\n",
       "         -8.32433507e-05, -1.68163166e-03, -1.57171438e-04],\n",
       "        [ 3.79274497e-05,  1.98222566e-04,  1.31420893e-04, ...,\n",
       "         -5.03791030e-04, -1.90843293e-03, -4.79015696e-04],\n",
       "        [-4.27128631e-04,  1.94714230e-04,  3.42312269e-04, ...,\n",
       "         -9.88571788e-04, -2.07935157e-03, -7.58099835e-04]]],\n",
       "      dtype=float32)>"
      ]
     },
     "execution_count": 16,
     "metadata": {},
     "output_type": "execute_result"
    }
   ],
   "source": [
    "for src_sample, tgt_sample in dataset.take(1): break\n",
    "model(src_sample)"
   ]
  },
  {
   "cell_type": "code",
   "execution_count": 17,
   "id": "large-johnson",
   "metadata": {},
   "outputs": [
    {
     "name": "stdout",
     "output_type": "stream",
     "text": [
      "Model: \"text_generator\"\n",
      "_________________________________________________________________\n",
      "Layer (type)                 Output Shape              Param #   \n",
      "=================================================================\n",
      "embedding (Embedding)        multiple                  3072256   \n",
      "_________________________________________________________________\n",
      "lstm (LSTM)                  multiple                  5246976   \n",
      "_________________________________________________________________\n",
      "lstm_1 (LSTM)                multiple                  8392704   \n",
      "_________________________________________________________________\n",
      "dense (Dense)                multiple                  12301025  \n",
      "=================================================================\n",
      "Total params: 29,012,961\n",
      "Trainable params: 29,012,961\n",
      "Non-trainable params: 0\n",
      "_________________________________________________________________\n"
     ]
    }
   ],
   "source": [
    "model.summary()"
   ]
  },
  {
   "cell_type": "code",
   "execution_count": null,
   "id": "trying-maryland",
   "metadata": {},
   "outputs": [
    {
     "name": "stdout",
     "output_type": "stream",
     "text": [
      "Epoch 1/30\n",
      "526/526 [==============================] - 85s 162ms/step - loss: 3.6220 - val_loss: 3.2461\n",
      "Epoch 2/30\n",
      "526/526 [==============================] - 85s 162ms/step - loss: 3.1481 - val_loss: 3.0700\n",
      "Epoch 3/30\n",
      "526/526 [==============================] - 86s 163ms/step - loss: 2.9751 - val_loss: 2.9505\n",
      "Epoch 4/30\n",
      "526/526 [==============================] - 86s 163ms/step - loss: 2.8410 - val_loss: 2.8621\n",
      "Epoch 5/30\n",
      "263/526 [==============>...............] - ETA: 38s - loss: 2.7314"
     ]
    }
   ],
   "source": [
    "optimizer = tf.keras.optimizers.Adam()\n",
    "loss = tf.keras.losses.SparseCategoricalCrossentropy(\n",
    "    from_logits=True,\n",
    "    reduction='none'\n",
    ")\n",
    "\n",
    "model.compile(loss=loss, optimizer=optimizer)\n",
    "\n",
    "history = model.fit(dataset, epochs=30, validation_data=val_dataset)"
   ]
  },
  {
   "cell_type": "code",
   "execution_count": null,
   "id": "working-operations",
   "metadata": {},
   "outputs": [],
   "source": [
    "history_dict = history.history\n",
    "print(history_dict.keys()) # epoch에 따른 그래프를 그려볼 수 있는 항목들"
   ]
  },
  {
   "cell_type": "code",
   "execution_count": null,
   "id": "chemical-patio",
   "metadata": {},
   "outputs": [],
   "source": [
    "import matplotlib.pyplot as plt\n",
    "\n",
    "acc = history_dict['loss']\n",
    "loss = history_dict['loss']\n",
    "val_loss = history_dict['val_loss']\n",
    "\n",
    "epochs = range(1, len(acc) + 1)\n",
    "\n",
    "plt.plot(epochs, loss, 'g', label = \"Loss\")\n",
    "plt.plot(epochs, val_loss, 'r', label = \"Val_loss\")\n",
    "\n",
    "plt.xlabel('Epochs')\n",
    "plt.ylabel('Loss')\n",
    "plt.legend()\n",
    "\n",
    "plt.show()"
   ]
  },
  {
   "cell_type": "code",
   "execution_count": null,
   "id": "superior-dragon",
   "metadata": {},
   "outputs": [],
   "source": [
    "def generate_text(model, tokenizer, init_sentence=\"<start>\", max_len=20):\n",
    "    # 테스트를 위해서 입력받은 init_sentence도 일단 텐서로 변환합니다.\n",
    "    test_input = tokenizer.texts_to_sequences([init_sentence])\n",
    "    test_tensor = tf.convert_to_tensor(test_input, dtype=tf.int64)\n",
    "    end_token = tokenizer.word_index[\"<end>\"]\n",
    "\n",
    "    # 텍스트를 실제로 생성할때는 루프를 돌면서 단어 하나씩 생성해야 합니다. \n",
    "    while True:\n",
    "        predict = model(test_tensor)  # 입력받은 문장의 텐서를 입력합니다. \n",
    "        predict_word = tf.argmax(tf.nn.softmax(predict, axis=-1), axis=-1)[:, -1]   # 우리 모델이 예측한 마지막 단어가 바로 새롭게 생성한 단어가 됩니다. \n",
    "\n",
    "        # 우리 모델이 새롭게 예측한 단어를 입력 문장의 뒤에 붙여 줍니다. \n",
    "        test_tensor = tf.concat([test_tensor, \n",
    "                                                                 tf.expand_dims(predict_word, axis=0)], axis=-1)\n",
    "\n",
    "        # 우리 모델이 <end>를 예측했거나, max_len에 도달하지 않았다면  while 루프를 또 돌면서 다음 단어를 예측해야 합니다.\n",
    "        if predict_word.numpy()[0] == end_token: break\n",
    "        if test_tensor.shape[1] >= max_len: break\n",
    "\n",
    "    generated = \"\"\n",
    "    # 생성된 tensor 안에 있는 word index를 tokenizer.index_word 사전을 통해 실제 단어로 하나씩 변환합니다. \n",
    "    for word_index in test_tensor[0].numpy():\n",
    "        generated += tokenizer.index_word[word_index] + \" \"\n",
    "\n",
    "    return generated   # 이것이 최종적으로 모델이 생성한 자연어 문장입니다."
   ]
  },
  {
   "cell_type": "code",
   "execution_count": null,
   "id": "tamil-institution",
   "metadata": {},
   "outputs": [],
   "source": [
    "generate_text(model, tokenizer, init_sentence=\"<start> i love\", max_len=20)"
   ]
  },
  {
   "cell_type": "code",
   "execution_count": null,
   "id": "overhead-drinking",
   "metadata": {},
   "outputs": [],
   "source": [
    "generate_text(model, tokenizer, init_sentence=\"<start> love is\", max_len=20)"
   ]
  },
  {
   "cell_type": "markdown",
   "id": "stunning-shakespeare",
   "metadata": {},
   "source": [
    "## ♠ embedding_size = 512 hidden_size = 2048로 변경"
   ]
  },
  {
   "cell_type": "code",
   "execution_count": null,
   "id": "separate-fighter",
   "metadata": {},
   "outputs": [],
   "source": [
    "class TextGenerator(tf.keras.Model):\n",
    "    def __init__(self, vocab_size, embedding_size, hidden_size):\n",
    "        super(TextGenerator, self).__init__()\n",
    "        \n",
    "        self.embedding = tf.keras.layers.Embedding(vocab_size, embedding_size)\n",
    "        self.rnn_1 = tf.keras.layers.LSTM(hidden_size, return_sequences=True)\n",
    "        self.rnn_2 = tf.keras.layers.LSTM(hidden_size, return_sequences=True)\n",
    "        self.linear = tf.keras.layers.Dense(vocab_size)\n",
    "        \n",
    "    def call(self, x):\n",
    "        out = self.embedding(x)\n",
    "        out = self.rnn_1(out)\n",
    "        out = self.rnn_2(out)\n",
    "        out = self.linear(out)\n",
    "        \n",
    "        return out\n",
    "    \n",
    "embedding_size = 512\n",
    "hidden_size = 2048\n",
    "model = TextGenerator(tokenizer.num_words + 1, embedding_size , hidden_size)"
   ]
  },
  {
   "cell_type": "code",
   "execution_count": null,
   "id": "worldwide-mapping",
   "metadata": {},
   "outputs": [],
   "source": [
    "for src_sample, tgt_sample in dataset.take(1): break\n",
    "model(src_sample)"
   ]
  },
  {
   "cell_type": "code",
   "execution_count": null,
   "id": "civil-distributor",
   "metadata": {},
   "outputs": [],
   "source": [
    "model.summary()"
   ]
  },
  {
   "cell_type": "code",
   "execution_count": null,
   "id": "ordered-emperor",
   "metadata": {},
   "outputs": [],
   "source": [
    "optimizer = tf.keras.optimizers.Adam()\n",
    "loss = tf.keras.losses.SparseCategoricalCrossentropy(\n",
    "    from_logits=True,\n",
    "    reduction='none'\n",
    ")\n",
    "\n",
    "model.compile(loss=loss, optimizer=optimizer)\n",
    "\n",
    "history = model.fit(dataset, epochs=30, validation_data=val_dataset)"
   ]
  },
  {
   "cell_type": "code",
   "execution_count": null,
   "id": "lesser-aircraft",
   "metadata": {},
   "outputs": [],
   "source": [
    "history_dict = history.history\n",
    "print(history_dict.keys()) # epoch에 따른 그래프를 그려볼 수 있는 항목들"
   ]
  },
  {
   "cell_type": "code",
   "execution_count": null,
   "id": "noticed-conditioning",
   "metadata": {},
   "outputs": [],
   "source": [
    "import matplotlib.pyplot as plt\n",
    "\n",
    "acc = history_dict['loss']\n",
    "loss = history_dict['loss']\n",
    "val_loss = history_dict['val_loss']\n",
    "\n",
    "epochs = range(1, len(acc) + 1)\n",
    "\n",
    "plt.plot(epochs, loss, 'g', label = \"Loss\")\n",
    "plt.plot(epochs, val_loss, 'r', label = \"Val_loss\")\n",
    "\n",
    "plt.xlabel('Epochs')\n",
    "plt.ylabel('Loss')\n",
    "plt.legend()\n",
    "\n",
    "plt.show()"
   ]
  },
  {
   "cell_type": "code",
   "execution_count": null,
   "id": "eleven-chair",
   "metadata": {},
   "outputs": [],
   "source": [
    "def generate_text(model, tokenizer, init_sentence=\"<start>\", max_len=20):\n",
    "    # 테스트를 위해서 입력받은 init_sentence도 일단 텐서로 변환합니다.\n",
    "    test_input = tokenizer.texts_to_sequences([init_sentence])\n",
    "    test_tensor = tf.convert_to_tensor(test_input, dtype=tf.int64)\n",
    "    end_token = tokenizer.word_index[\"<end>\"]\n",
    "\n",
    "    # 텍스트를 실제로 생성할때는 루프를 돌면서 단어 하나씩 생성해야 합니다. \n",
    "    while True:\n",
    "        predict = model(test_tensor)  # 입력받은 문장의 텐서를 입력합니다. \n",
    "        predict_word = tf.argmax(tf.nn.softmax(predict, axis=-1), axis=-1)[:, -1]   # 우리 모델이 예측한 마지막 단어가 바로 새롭게 생성한 단어가 됩니다. \n",
    "\n",
    "        # 우리 모델이 새롭게 예측한 단어를 입력 문장의 뒤에 붙여 줍니다. \n",
    "        test_tensor = tf.concat([test_tensor, \n",
    "                                                                 tf.expand_dims(predict_word, axis=0)], axis=-1)\n",
    "\n",
    "        # 우리 모델이 <end>를 예측했거나, max_len에 도달하지 않았다면  while 루프를 또 돌면서 다음 단어를 예측해야 합니다.\n",
    "        if predict_word.numpy()[0] == end_token: break\n",
    "        if test_tensor.shape[1] >= max_len: break\n",
    "\n",
    "    generated = \"\"\n",
    "    # 생성된 tensor 안에 있는 word index를 tokenizer.index_word 사전을 통해 실제 단어로 하나씩 변환합니다. \n",
    "    for word_index in test_tensor[0].numpy():\n",
    "        generated += tokenizer.index_word[word_index] + \" \"\n",
    "\n",
    "    return generated   # 이것이 최종적으로 모델이 생성한 자연어 문장입니다."
   ]
  },
  {
   "cell_type": "code",
   "execution_count": null,
   "id": "postal-greenhouse",
   "metadata": {},
   "outputs": [],
   "source": [
    "generate_text(model, tokenizer, init_sentence=\"<start> i love\", max_len=20)"
   ]
  },
  {
   "cell_type": "code",
   "execution_count": null,
   "id": "progressive-lawyer",
   "metadata": {},
   "outputs": [],
   "source": [
    "generate_text(model, tokenizer, init_sentence=\"<start> love is\", max_len=20)"
   ]
  },
  {
   "cell_type": "markdown",
   "id": "acoustic-scottish",
   "metadata": {},
   "source": [
    "# ◈ 루브릭  \n",
    "\n",
    "아래의 기준을 바탕으로 프로젝트를 평가합니다.  \n",
    "\n",
    "평가문항/상세기준  \n",
    "1. 가사 텍스트 생성 모델이 정상적으로 동작하는가?  \n",
    "텍스트 제너레이션 결과가 그럴듯한 문장으로 생성되는가? \n",
    "\n",
    "\n",
    "2. 데이터의 전처리와 데이터셋 구성 과정이 체계적으로 진행되었는가?  \n",
    "특수문자 제거, 토크나이저 생성, 패딩처리 등의 과정이 빠짐없이 진행되었는가?  \n",
    "\n",
    "\n",
    "3. 텍스트 생성모델이 안정적으로 학습되었는가?  \n",
    "텍스트 생성모델의 validation loss가 2.2 이하로 낮아졌는가?  "
   ]
  },
  {
   "cell_type": "markdown",
   "id": "cleared-diamond",
   "metadata": {},
   "source": [
    "# ◈ 결론 및 고찰 "
   ]
  },
  {
   "cell_type": "markdown",
   "id": "loose-celtic",
   "metadata": {},
   "source": [
    "이전에 사용한 txt 파일 보다 더 풍부한 데이터를 사용하여 사전 Index를 만들고, 임베딩 벡터를 만들고, 학습을 해본 결과 start 단어 뒤에 오는 문장이 훨씬 자연스러워 짐을 알 수 있었다.\n",
    "예를 들어 이전에는 `i love` 를 입력했을 때 출력되는 값이 `i love thee not a jar o the clock behind` 였으나, 현재 개선된 학습 모델에서는 `i love`에 대해 `i love you`라고 답변이 나오고, `love is`에 대해서는 `love is it` 이라는 결과가 나옴을 알 수 있었다.   \n",
    "사용되는 정보의 양과 질이 좀더 결과에 좋은 영향을 미치지 않았나 생각해 보며, 또한 15개를 넘어가는 문장을 학습데이터에서 제외하고, 사전의 개수도 `7000에서 12000`으로 늘어난 것도 영향이 있다고 생각된다.  \n",
    "`validation loss결과`는 epoch이 30회 부터 1아래로 떨어지는 경향을 보였다.   \n",
    "embedding_size와 hidden_size를 크게 조절하여 모델 fit이 필요하다고 생각하여 결과를 얻어 보았다. validation loss가 `1.0633`에서 `1.0237`로 떨어져서 루브릭 기준의 2.2보다 더 훨씬 좋은 결과를 얻을 수 있었다. "
   ]
  },
  {
   "cell_type": "code",
   "execution_count": null,
   "id": "personalized-requirement",
   "metadata": {},
   "outputs": [],
   "source": []
  }
 ],
 "metadata": {
  "kernelspec": {
   "display_name": "aiffel",
   "language": "python",
   "name": "aiffel"
  },
  "language_info": {
   "codemirror_mode": {
    "name": "ipython",
    "version": 3
   },
   "file_extension": ".py",
   "mimetype": "text/x-python",
   "name": "python",
   "nbconvert_exporter": "python",
   "pygments_lexer": "ipython3",
   "version": "3.7.9"
  }
 },
 "nbformat": 4,
 "nbformat_minor": 5
}
