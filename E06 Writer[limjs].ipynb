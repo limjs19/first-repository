{
 "cells": [
  {
   "cell_type": "markdown",
   "id": "excited-ballet",
   "metadata": {},
   "source": [
    "# 6. 프로젝트: 멋진 작사가 만들기"
   ]
  },
  {
   "cell_type": "markdown",
   "id": "spare-research",
   "metadata": {},
   "source": [
    "## Step 1. 데이터 다운로드  \n",
    "먼저 아래 링크에서 Song Lyrics 데이터를 다운로드  \n",
    "저장된 파일을 압축 해제한 후, 모든 txt 파일을 lyrics 폴더를 만들어 그 속에 저장  \n",
    "* Song Lyrics  "
   ]
  },
  {
   "cell_type": "markdown",
   "id": "offensive-suspect",
   "metadata": {},
   "source": [
    "## Step 2. 데이터 읽어오기\n",
    "glob 모듈을 사용하면 파일을 읽어오는 작업을 하기  \n",
    "glob 를 활용하여 모든 txt 파일을 읽어온 후, raw_corpus 리스트에 문장 단위로 저장"
   ]
  },
  {
   "cell_type": "code",
   "execution_count": 1,
   "id": "democratic-tourist",
   "metadata": {},
   "outputs": [
    {
     "name": "stdout",
     "output_type": "stream",
     "text": [
      "데이터 크기: 187088\n",
      "Examples:\n",
      " ['Ooh....... New York x2 Grew up in a town that is famous as a place of movie scenes', 'Noise is always loud, there are sirens all around and the streets are mean', \"If I can make it here, I can make it anywhere, that's what they say\"]\n"
     ]
    }
   ],
   "source": [
    "import glob\n",
    "import os\n",
    "import re                  # 정규표현식을 위한 Regex 지원 모듈 (문장 데이터를 정돈하기 위해) \n",
    "import numpy as np         # 변환된 문장 데이터(행렬)을 편하게 처리하기 위해\n",
    "import tensorflow as tf    # 대망의 텐서플로우!\n",
    "\n",
    "from tensorflow import keras\n",
    "\n",
    "\n",
    "txt_file_path = os.getenv('HOME')+'/aiffel/lyricist/data/lyrics/*'\n",
    "txt_list = glob.glob(txt_file_path)\n",
    "\n",
    "raw_corpus = []\n",
    "\n",
    "# 여러개의 txt 파일을 모두 읽어서 raw_corpus에 담습니다.\n",
    "for txt_file in txt_list:\n",
    "    with open(txt_file, \"r\") as f:\n",
    "        raw = f.read().splitlines()\n",
    "        raw_corpus.extend(raw)\n",
    "\n",
    "print(\"데이터 크기:\", len(raw_corpus))\n",
    "print(\"Examples:\\n\", raw_corpus[:3])"
   ]
  },
  {
   "cell_type": "markdown",
   "id": "careful-chair",
   "metadata": {},
   "source": [
    "## Step 3. 데이터 정제  \n",
    "* 앞서 배운 테크닉들을 활용해 문장 생성에 적합한 모양새로 데이터를 정제  \n",
    "* preprocess_sentence() 함수를 활용해 데이터를 정제  \n",
    "* 긴 문장은 다른 데이터들이 과도한 Padding을 갖게 하므로 제거  \n",
    "* 토큰의 개수가 15개를 넘어가는 문장을 학습데이터에서 제외  "
   ]
  },
  {
   "cell_type": "code",
   "execution_count": 2,
   "id": "special-pennsylvania",
   "metadata": {},
   "outputs": [
    {
     "name": "stdout",
     "output_type": "stream",
     "text": [
      "0 Ooh....... New York x2 Grew up in a town that is famous as a place of movie scenes\n",
      "1 Noise is always loud, there are sirens all around and the streets are mean\n",
      "2 If I can make it here, I can make it anywhere, that's what they say\n",
      "3 Seeing my face in lights or my name on marquees found down on Broadway Even if it ain't all it seems, I got a pocket full of dreams\n",
      "4 Baby, I'm from New York\n",
      "5 Concrete jungle where dreams are made of\n",
      "6 There's nothing you can't do\n",
      "7 Now you're in New York\n",
      "8 These streets will make you feel brand new\n",
      "9 Big lights will inspire you\n"
     ]
    }
   ],
   "source": [
    "for idx, sentence in enumerate(raw_corpus):\n",
    "    if len(sentence) == 0: continue   # 길이가 0인 문장은 건너뜁니다.\n",
    "    if sentence[-1] == \":\": continue  # 문장의 끝이 : 인 문장은 건너뜁니다.\n",
    "\n",
    "    if idx > 9: break   # 일단 문장 10개만 확인해 볼 겁니다.\n",
    "        \n",
    "    print(idx,sentence)"
   ]
  },
  {
   "cell_type": "code",
   "execution_count": 3,
   "id": "opened-experience",
   "metadata": {},
   "outputs": [
    {
     "name": "stdout",
     "output_type": "stream",
     "text": [
      "<start> this is sample sentence . <end>\n"
     ]
    }
   ],
   "source": [
    "def preprocess_sentence(sentence):\n",
    "    sentence = sentence.lower().strip()       \n",
    "    # 소문자로 바꾸고 양쪽 공백을 삭제\n",
    "  \n",
    "    # 아래 3단계를 거쳐 sentence는 스페이스 1개를 delimeter로 하는 소문자 단어 시퀀스로 바뀝니다.\n",
    "    sentence = re.sub(r\"([?.!,¿])\", r\" \\1 \", sentence)        \n",
    "    # 패턴의 특수문자를 만나면 특수문자 양쪽에 공백을 추가\n",
    "    sentence = re.sub(r'[\" \"]+', \" \", sentence)                  \n",
    "    # 공백 패턴을 만나면 스페이스 1개로 치환\n",
    "    sentence = re.sub(r\"[^a-zA-Z?.!,¿]+\", \" \", sentence)  \n",
    "    # a-zA-Z?.!,¿ 패턴을 제외한 모든 문자(공백문자까지도)를 스페이스 1개로 치환\n",
    "\n",
    "    sentence = sentence.strip()\n",
    "\n",
    "    sentence = '<start> ' + sentence + ' <end>'      \n",
    "    # 이전 스텝에서 본 것처럼 문장 앞뒤로 <start>와 <end>를 단어처럼 붙여 줍니다\n",
    "    \n",
    "    return sentence\n",
    "\n",
    "print(preprocess_sentence(\"This @_is ;;;sample        sentence.\"))   \n",
    "# 이 문장이 어떻게 필터링되는지 확인해 보세요."
   ]
  },
  {
   "cell_type": "code",
   "execution_count": 4,
   "id": "bored-occasion",
   "metadata": {},
   "outputs": [
    {
     "data": {
      "text/plain": [
       "['<start> oh , oh , oh , <end>',\n",
       " '<start> you can be sure <end>',\n",
       " '<start> oh oh oh oh <end>',\n",
       " '<start> oh oh oh oh <end>',\n",
       " '<start> oh oh oh oh <end>',\n",
       " '<start> oh , oh , oh , <end>',\n",
       " '<start> you can be sure <end>',\n",
       " '<start> oh oh oh oh <end>',\n",
       " '<start> oh oh oh oh <end>',\n",
       " '<start> oh oh oh oh <end>']"
      ]
     },
     "execution_count": 4,
     "metadata": {},
     "output_type": "execute_result"
    }
   ],
   "source": [
    "# 문장 길이 긴 것 빼고 다시 \n",
    "corpus = []\n",
    "\n",
    "for sentence in raw_corpus:\n",
    "    if len(sentence) == 0: continue\n",
    "    if len(sentence) > 15: continue\n",
    "    if sentence[-1] == \":\": continue    \n",
    "        \n",
    "    corpus.append(preprocess_sentence(sentence))\n",
    "        \n",
    "corpus[:10]"
   ]
  },
  {
   "cell_type": "code",
   "execution_count": 5,
   "id": "coral-vulnerability",
   "metadata": {},
   "outputs": [
    {
     "name": "stdout",
     "output_type": "stream",
     "text": [
      "문장 길이의 평균 :  24.541784702549574\n",
      "문장 길이의 최대 :  35\n",
      "문장 길이 표준 편차 :  3.6829496414281495\n",
      "pad_sequences maxlen :  39\n",
      "전체 문장의 1.0%가 maxlen 설정값 이내에 포함됩니다.\n"
     ]
    }
   ],
   "source": [
    "total_data_text = list(corpus)\n",
    "\n",
    "#텍스트 데이터 문장길이의 리스트를 생성\n",
    "num_tokens = [len(tokens) for tokens in total_data_text]\n",
    "num_tokens = np.array(num_tokens)\n",
    "\n",
    "#문장 길이의 평균값, 최대값, 표준편차를 계산\n",
    "print(\"문장 길이의 평균 : \", np.mean(num_tokens))\n",
    "print(\"문장 길이의 최대 : \", np.max(num_tokens))\n",
    "print(\"문장 길이 표준 편차 : \", np.std(num_tokens))\n",
    "\n",
    "#최대 길이 (평균 + 4*표준편차) 너무 길면 시간이 오래 걸린다. \n",
    "max_tokens = np.mean(num_tokens) +4*np.std(num_tokens)\n",
    "maxlen = int(max_tokens)\n",
    "print(\"pad_sequences maxlen : \", maxlen)\n",
    "print(\"전체 문장의 {}%가 maxlen 설정값 이내에 포함됩니다.\".format(np.sum(num_tokens<max_tokens)/len(num_tokens)))"
   ]
  },
  {
   "cell_type": "code",
   "execution_count": 6,
   "id": "solid-valuable",
   "metadata": {},
   "outputs": [
    {
     "name": "stderr",
     "output_type": "stream",
     "text": [
      "/home/aiffel-dj56/anaconda3/envs/aiffel/lib/python3.7/site-packages/seaborn/distributions.py:2557: FutureWarning: `distplot` is a deprecated function and will be removed in a future version. Please adapt your code to use either `displot` (a figure-level function with similar flexibility) or `histplot` (an axes-level function for histograms).\n",
      "  warnings.warn(msg, FutureWarning)\n"
     ]
    },
    {
     "data": {
      "image/png": "[encoded data removed]",
      "text/plain": [
       "<Figure size 432x288 with 1 Axes>"
      ]
     },
     "metadata": {
      "needs_background": "light"
     },
     "output_type": "display_data"
    }
   ],
   "source": [
    "import matplotlib.pyplot as plt\n",
    "import seaborn as sns\n",
    "\n",
    "#문장 길이 분포 확인\n",
    "plt.rcParams['figure.figsize'] = (6, 4)\n",
    "plt.rcParams['grid.color'] = '#F0F0F0'\n",
    "plt.rcParams['grid.linestyle'] = 'solid'\n",
    "sns.distplot(num_tokens)\n",
    "plt.style.use(\"bmh\")\n",
    "plt.show()"
   ]
  },
  {
   "cell_type": "code",
   "execution_count": 7,
   "id": "computational-duration",
   "metadata": {},
   "outputs": [
    {
     "name": "stdout",
     "output_type": "stream",
     "text": [
      "[[   2    8    5 ...    0    0    0]\n",
      " [   2    7   39 ...    0    0    0]\n",
      " [   2    8    8 ...    0    0    0]\n",
      " ...\n",
      " [   2   93  111 ...    0    0    0]\n",
      " [   2  953    6 ...    0    0    0]\n",
      " [   2 1643   90 ...    0    0    0]] <keras_preprocessing.text.Tokenizer object at 0x7fd6c13d3310>\n"
     ]
    }
   ],
   "source": [
    "def tokenize(corpus):\n",
    "    # 텐서플로우에서 제공하는 Tokenizer 패키지를 생성\n",
    "    tokenizer = tf.keras.preprocessing.text.Tokenizer(\n",
    "        num_words=12000,  # 전체 단어의 개수 \n",
    "        filters=' ',    # 별도로 전처리 로직을 추가할 수 있습니다. 이번에는 사용하지 않겠습니다.\n",
    "        oov_token=\"<unk>\"  # out-of-vocabulary, 사전에 없었던 단어는 어떤 토큰으로 대체할지\n",
    "    )\n",
    "    tokenizer.fit_on_texts(corpus)   # 우리가 구축한 corpus로부터 Tokenizer가 사전을 자동구축하게 됩니다.\n",
    "\n",
    "    # 이후 tokenizer를 활용하여 모델에 입력할 데이터셋을 구축하게 됩니다.\n",
    "    tensor = tokenizer.texts_to_sequences(corpus)   # tokenizer는 구축한 사전으로부터 corpus를 해석해 Tensor로 변환합니다.\n",
    "\n",
    "    # 입력 데이터의 시퀀스 길이를 일정하게 맞추기 위한 padding  메소드를 제공합니다.\n",
    "    # maxlen의 디폴트값은 None입니다. 이 경우 corpus의 가장 긴 문장을 기준으로 시퀀스 길이가 맞춰집니다.\n",
    "    tensor = tf.keras.preprocessing.sequence.pad_sequences(tensor, maxlen = 15, padding='post')  \n",
    "\n",
    "    print(tensor,tokenizer)\n",
    "    return tensor, tokenizer\n",
    "\n",
    "tensor, tokenizer = tokenize(corpus)"
   ]
  },
  {
   "cell_type": "code",
   "execution_count": 8,
   "id": "interior-coach",
   "metadata": {},
   "outputs": [
    {
     "name": "stdout",
     "output_type": "stream",
     "text": [
      "[[  2   8   5   8   5   8   5   3   0   0]\n",
      " [  2   7  39  48 489   3   0   0   0   0]\n",
      " [  2   8   8   8   8   3   0   0   0   0]]\n"
     ]
    }
   ],
   "source": [
    "print(tensor[:3, :10])"
   ]
  },
  {
   "cell_type": "code",
   "execution_count": 9,
   "id": "ideal-kingston",
   "metadata": {},
   "outputs": [
    {
     "data": {
      "text/plain": [
       "15"
      ]
     },
     "execution_count": 9,
     "metadata": {},
     "output_type": "execute_result"
    }
   ],
   "source": [
    "#데이터 길이 확인\n",
    "len(tensor[1])"
   ]
  },
  {
   "cell_type": "code",
   "execution_count": 10,
   "id": "willing-mustang",
   "metadata": {},
   "outputs": [
    {
     "data": {
      "text/plain": [
       "array([  2,   7,  39,  48, 489,   3,   0,   0,   0,   0,   0,   0,   0,\n",
       "         0,   0], dtype=int32)"
      ]
     },
     "execution_count": 10,
     "metadata": {},
     "output_type": "execute_result"
    }
   ],
   "source": [
    "tensor[1]"
   ]
  },
  {
   "cell_type": "code",
   "execution_count": 11,
   "id": "civilian-gentleman",
   "metadata": {},
   "outputs": [
    {
     "name": "stdout",
     "output_type": "stream",
     "text": [
      "1 : <unk>\n",
      "2 : <start>\n",
      "3 : <end>\n",
      "4 : i\n",
      "5 : ,\n",
      "6 : .\n",
      "7 : you\n",
      "8 : oh\n",
      "9 : it\n",
      "10 : me\n",
      "3416\n"
     ]
    }
   ],
   "source": [
    "for idx in tokenizer.index_word:\n",
    "    print(idx, \":\", tokenizer.index_word[idx])\n",
    "\n",
    "    if idx >= 10: break\n",
    "     \n",
    "print(len(tokenizer.index_word))"
   ]
  },
  {
   "cell_type": "code",
   "execution_count": 12,
   "id": "biological-bloom",
   "metadata": {},
   "outputs": [
    {
     "name": "stdout",
     "output_type": "stream",
     "text": [
      "[2 8 5 8 5 8 5 3 0 0 0 0 0 0]\n",
      "[8 5 8 5 8 5 3 0 0 0 0 0 0 0]\n"
     ]
    }
   ],
   "source": [
    "src_input = tensor[:, :-1]  \n",
    "# tensor에서 마지막 토큰을 잘라내서 소스 문장을 생성합니다. \n",
    "#마지막 토큰은 <end>가 아니라 <pad>일 가능성이 높습니다.\n",
    "tgt_input = tensor[:, 1:]    # tensor에서 <start>를 잘라내서 타겟 문장을 생성합니다.\n",
    "\n",
    "print(src_input[0])\n",
    "print(tgt_input[0])"
   ]
  },
  {
   "cell_type": "code",
   "execution_count": 13,
   "id": "passing-sodium",
   "metadata": {},
   "outputs": [
    {
     "name": "stdout",
     "output_type": "stream",
     "text": [
      "14120\n",
      "55\n",
      "12001\n"
     ]
    },
    {
     "data": {
      "text/plain": [
       "<BatchDataset shapes: ((256, 14), (256, 14)), types: (tf.int32, tf.int32)>"
      ]
     },
     "execution_count": 13,
     "metadata": {},
     "output_type": "execute_result"
    }
   ],
   "source": [
    "BUFFER_SIZE = len(src_input)\n",
    "BATCH_SIZE = 256\n",
    "steps_per_epoch = len(src_input) // BATCH_SIZE\n",
    "print(BUFFER_SIZE)\n",
    "\n",
    "print(steps_per_epoch)\n",
    "VOCAB_SIZE = tokenizer.num_words + 1    # tokenizer가 구축한 단어사전 내 7000개와, 여기 포함되지 않은 0:<pad>를 포함하여 7001개\n",
    "print(VOCAB_SIZE)\n",
    "\n",
    "dataset = tf.data.Dataset.from_tensor_slices((src_input, tgt_input)).shuffle(BUFFER_SIZE)\n",
    "dataset = dataset.batch(BATCH_SIZE, drop_remainder=True)\n",
    "dataset"
   ]
  },
  {
   "cell_type": "markdown",
   "id": "focused-mobility",
   "metadata": {},
   "source": [
    "## Step 4. 평가 데이터셋 분리\n",
    "\n",
    "* 훈련 데이터와 평가 데이터를 분리  \n",
    "* tokenize() 함수로 데이터를 Tensor로 변환한 후,  \n",
    "* sklearn 모듈의 train_test_split() 함수를 사용해 훈련 데이터와 평가 데이터를 분리  \n",
    "* 단어장의 크기는 12,000 이상으로 설정\n",
    "* 총 데이터의 20%를 평가 데이터셋으로 사용\n",
    "\n",
    "enc_train, enc_val, dec_train, dec_val = <코드 작성>  \n",
    "여기까지 올바르게 진행했을 경우, 아래 실행 결과를 확인  \n",
    "\n",
    "print(\"Source Train:\", enc_train.shape)  \n",
    "print(\"Target Train:\", dec_train.shape)  \n",
    "out:  \n",
    "\n",
    "Source Train: (124960, 14)  \n",
    "Target Train: (124960, 14)  "
   ]
  },
  {
   "cell_type": "code",
   "execution_count": 14,
   "id": "rough-convert",
   "metadata": {},
   "outputs": [
    {
     "name": "stdout",
     "output_type": "stream",
     "text": [
      "Source Train: (11296, 14)\n",
      "Target Train: (11296, 14)\n"
     ]
    }
   ],
   "source": [
    "from sklearn.model_selection import train_test_split\n",
    "\n",
    "enc_train, enc_val, dec_train, dec_val = train_test_split(src_input, tgt_input, test_size=0.2)\n",
    "print(\"Source Train:\", enc_train.shape)  \n",
    "print(\"Target Train:\", dec_train.shape)  \n",
    "\n",
    "#학습데이터 갯수 124960보다 작은 결과"
   ]
  },
  {
   "cell_type": "markdown",
   "id": "floating-poetry",
   "metadata": {},
   "source": [
    "## Step 5. 인공지능 만들기  \n",
    "모델의 Embedding Size와 Hidden Size를 조절  \n",
    "10 Epoch 안에 val_loss 값을 2.2 수준으로 줄일 수 있는 모델을 설계  \n",
    "(Loss는 아래 제시된 Loss 함수를 그대로 사용!)   \n",
    "멋진 모델이 생성한 가사 한 줄을 제출  "
   ]
  },
  {
   "cell_type": "code",
   "execution_count": 15,
   "id": "casual-fraction",
   "metadata": {},
   "outputs": [],
   "source": [
    "class TextGenerator(tf.keras.Model):\n",
    "    def __init__(self, vocab_size, embedding_size, hidden_size):\n",
    "        super(TextGenerator, self).__init__()\n",
    "        \n",
    "        self.embedding = tf.keras.layers.Embedding(vocab_size, embedding_size)\n",
    "        self.rnn_1 = tf.keras.layers.LSTM(hidden_size, return_sequences=True)\n",
    "        self.rnn_2 = tf.keras.layers.LSTM(hidden_size, return_sequences=True)\n",
    "        self.linear = tf.keras.layers.Dense(vocab_size)\n",
    "        \n",
    "    def call(self, x):\n",
    "        out = self.embedding(x)\n",
    "        out = self.rnn_1(out)\n",
    "        out = self.rnn_2(out)\n",
    "        out = self.linear(out)\n",
    "        \n",
    "        return out\n",
    "    \n",
    "embedding_size = 256\n",
    "hidden_size = 1024\n",
    "model = TextGenerator(tokenizer.num_words + 1, embedding_size , hidden_size)"
   ]
  },
  {
   "cell_type": "code",
   "execution_count": 16,
   "id": "breathing-attraction",
   "metadata": {},
   "outputs": [
    {
     "data": {
      "text/plain": [
       "<tf.Tensor: shape=(256, 14, 12001), dtype=float32, numpy=\n",
       "array([[[ 2.51281872e-05,  3.84564599e-04, -8.45932518e-05, ...,\n",
       "          5.38982895e-05,  6.12864242e-05, -6.96704001e-06],\n",
       "        [-1.01457059e-04,  4.67945385e-04, -2.53133127e-04, ...,\n",
       "          4.60407929e-04, -7.59436880e-05,  5.54663893e-05],\n",
       "        [-3.33604345e-04,  5.48078038e-04, -2.28889214e-04, ...,\n",
       "          6.68782857e-04, -1.85930694e-04,  3.41390230e-04],\n",
       "        ...,\n",
       "        [-2.00391933e-03,  3.37700767e-04, -1.82372413e-03, ...,\n",
       "         -2.47789873e-03,  1.24888471e-03, -4.78060865e-05],\n",
       "        [-2.33704154e-03,  3.55865428e-04, -1.96975120e-03, ...,\n",
       "         -2.71337503e-03,  1.27004727e-03, -1.29208071e-04],\n",
       "        [-2.61787721e-03,  3.77870456e-04, -2.10872805e-03, ...,\n",
       "         -2.86525488e-03,  1.24442461e-03, -2.19340582e-04]],\n",
       "\n",
       "       [[ 2.51281872e-05,  3.84564599e-04, -8.45932518e-05, ...,\n",
       "          5.38982895e-05,  6.12864242e-05, -6.96704001e-06],\n",
       "        [ 2.79867963e-04,  3.25817266e-04,  4.35834118e-05, ...,\n",
       "          5.64307229e-05, -1.20047325e-05,  1.64050361e-05],\n",
       "        [ 6.97589712e-04,  3.20616498e-04, -2.08909842e-04, ...,\n",
       "         -7.76169545e-05,  8.40764551e-06,  5.53303244e-06],\n",
       "        ...,\n",
       "        [-2.56631570e-03,  2.27564291e-04, -1.94097415e-03, ...,\n",
       "         -2.67155538e-03,  7.45039782e-04, -2.50537385e-04],\n",
       "        [-2.79517681e-03,  2.80399778e-04, -2.09953892e-03, ...,\n",
       "         -2.71780975e-03,  6.98202697e-04, -3.71191825e-04],\n",
       "        [-2.97992839e-03,  3.26029462e-04, -2.24544434e-03, ...,\n",
       "         -2.73474958e-03,  6.37058867e-04, -4.89367289e-04]],\n",
       "\n",
       "       [[ 2.51281872e-05,  3.84564599e-04, -8.45932518e-05, ...,\n",
       "          5.38982895e-05,  6.12864242e-05, -6.96704001e-06],\n",
       "        [-5.16114596e-05,  5.40180132e-04, -1.35832073e-04, ...,\n",
       "         -2.93394958e-04,  2.24413423e-04,  2.10921316e-05],\n",
       "        [-1.97025656e-04,  5.83187793e-04, -1.57546499e-04, ...,\n",
       "         -8.46705865e-04,  4.03507089e-04,  6.17286205e-05],\n",
       "        ...,\n",
       "        [-2.68981140e-03,  9.30513997e-05, -1.74571353e-03, ...,\n",
       "         -4.07356163e-03,  8.55222519e-04, -1.78266851e-06],\n",
       "        [-2.91966111e-03,  1.08990484e-04, -1.94266567e-03, ...,\n",
       "         -4.07095859e-03,  8.30570934e-04, -1.06072679e-04],\n",
       "        [-3.10058286e-03,  1.36602946e-04, -2.12673494e-03, ...,\n",
       "         -4.01649019e-03,  7.86416407e-04, -2.19720197e-04]],\n",
       "\n",
       "       ...,\n",
       "\n",
       "       [[ 2.51281872e-05,  3.84564599e-04, -8.45932518e-05, ...,\n",
       "          5.38982895e-05,  6.12864242e-05, -6.96704001e-06],\n",
       "        [ 5.72048048e-05,  5.14633371e-04, -1.21098594e-04, ...,\n",
       "          1.66849859e-04,  3.18452367e-04, -4.95347958e-05],\n",
       "        [ 3.85151216e-04,  6.08668313e-04, -4.52650798e-04, ...,\n",
       "          1.21564546e-04,  5.16937056e-04, -1.02118007e-04],\n",
       "        ...,\n",
       "        [-2.74173939e-03,  2.29371610e-04, -2.04829220e-03, ...,\n",
       "         -2.62600114e-03,  1.07180851e-03, -2.14591710e-04],\n",
       "        [-2.94927927e-03,  2.57933658e-04, -2.19105184e-03, ...,\n",
       "         -2.70453049e-03,  9.81082674e-04, -3.27413698e-04],\n",
       "        [-3.11434455e-03,  2.86316907e-04, -2.32325727e-03, ...,\n",
       "         -2.74798064e-03,  8.80024279e-04, -4.41666169e-04]],\n",
       "\n",
       "       [[ 2.51281872e-05,  3.84564599e-04, -8.45932518e-05, ...,\n",
       "          5.38982895e-05,  6.12864242e-05, -6.96704001e-06],\n",
       "        [-1.07955282e-04,  4.47024155e-04,  6.11593132e-05, ...,\n",
       "          1.53418714e-05,  3.05675145e-04, -1.11143700e-05],\n",
       "        [-2.65099778e-04,  4.69291292e-04,  1.23926540e-04, ...,\n",
       "         -3.92319023e-04,  5.94013487e-04,  8.28587144e-06],\n",
       "        ...,\n",
       "        [-2.69706734e-03,  2.99335603e-04, -1.67920976e-03, ...,\n",
       "         -3.37107503e-03,  1.22971961e-03, -2.47750868e-04],\n",
       "        [-2.90248659e-03,  3.26205045e-04, -1.86485657e-03, ...,\n",
       "         -3.39365727e-03,  1.14856067e-03, -3.55149037e-04],\n",
       "        [-3.06666153e-03,  3.54360091e-04, -2.03788513e-03, ...,\n",
       "         -3.37435654e-03,  1.05191756e-03, -4.65410412e-04]],\n",
       "\n",
       "       [[ 2.51281872e-05,  3.84564599e-04, -8.45932518e-05, ...,\n",
       "          5.38982895e-05,  6.12864242e-05, -6.96704001e-06],\n",
       "        [ 1.42106263e-04,  8.30889330e-04, -3.20022518e-04, ...,\n",
       "          1.45716564e-04,  1.20608071e-04,  1.01699356e-04],\n",
       "        [ 2.43546892e-04,  1.12533499e-03, -8.80233783e-05, ...,\n",
       "          6.22195133e-04, -1.17011492e-04,  1.85312907e-04],\n",
       "        ...,\n",
       "        [-2.46261456e-03,  4.26152663e-04, -1.48219382e-03, ...,\n",
       "         -2.47131335e-03,  1.09569717e-03, -1.62258584e-04],\n",
       "        [-2.74582906e-03,  4.08175925e-04, -1.68117101e-03, ...,\n",
       "         -2.62948149e-03,  1.05547067e-03, -2.68666481e-04],\n",
       "        [-2.97545339e-03,  4.01616911e-04, -1.87005370e-03, ...,\n",
       "         -2.72997282e-03,  9.88306012e-04, -3.76520533e-04]]],\n",
       "      dtype=float32)>"
      ]
     },
     "execution_count": 16,
     "metadata": {},
     "output_type": "execute_result"
    }
   ],
   "source": [
    "for src_sample, tgt_sample in dataset.take(1): break\n",
    "model(src_sample)"
   ]
  },
  {
   "cell_type": "code",
   "execution_count": 17,
   "id": "listed-acoustic",
   "metadata": {},
   "outputs": [
    {
     "name": "stdout",
     "output_type": "stream",
     "text": [
      "Model: \"text_generator\"\n",
      "_________________________________________________________________\n",
      "Layer (type)                 Output Shape              Param #   \n",
      "=================================================================\n",
      "embedding (Embedding)        multiple                  3072256   \n",
      "_________________________________________________________________\n",
      "lstm (LSTM)                  multiple                  5246976   \n",
      "_________________________________________________________________\n",
      "lstm_1 (LSTM)                multiple                  8392704   \n",
      "_________________________________________________________________\n",
      "dense (Dense)                multiple                  12301025  \n",
      "=================================================================\n",
      "Total params: 29,012,961\n",
      "Trainable params: 29,012,961\n",
      "Non-trainable params: 0\n",
      "_________________________________________________________________\n"
     ]
    }
   ],
   "source": [
    "model.summary()"
   ]
  },
  {
   "cell_type": "code",
   "execution_count": 18,
   "id": "union-albania",
   "metadata": {},
   "outputs": [
    {
     "name": "stdout",
     "output_type": "stream",
     "text": [
      "Epoch 1/30\n",
      "55/55 [==============================] - 7s 120ms/step - loss: 2.5496\n",
      "Epoch 2/30\n",
      "55/55 [==============================] - 7s 120ms/step - loss: 1.4538\n",
      "Epoch 3/30\n",
      "55/55 [==============================] - 7s 124ms/step - loss: 1.2562\n",
      "Epoch 4/30\n",
      "55/55 [==============================] - 7s 124ms/step - loss: 1.2022\n",
      "Epoch 5/30\n",
      "55/55 [==============================] - 7s 122ms/step - loss: 1.1765\n",
      "Epoch 6/30\n",
      "55/55 [==============================] - 7s 119ms/step - loss: 1.1555\n",
      "Epoch 7/30\n",
      "55/55 [==============================] - 7s 122ms/step - loss: 1.1325\n",
      "Epoch 8/30\n",
      "55/55 [==============================] - 7s 119ms/step - loss: 1.1082\n",
      "Epoch 9/30\n",
      "55/55 [==============================] - 7s 119ms/step - loss: 1.0825\n",
      "Epoch 10/30\n",
      "55/55 [==============================] - 7s 119ms/step - loss: 1.0611\n",
      "Epoch 11/30\n",
      "55/55 [==============================] - 7s 119ms/step - loss: 1.0383\n",
      "Epoch 12/30\n",
      "55/55 [==============================] - 7s 120ms/step - loss: 1.0185\n",
      "Epoch 13/30\n",
      "55/55 [==============================] - 7s 119ms/step - loss: 0.9998\n",
      "Epoch 14/30\n",
      "55/55 [==============================] - 7s 120ms/step - loss: 0.9824\n",
      "Epoch 15/30\n",
      "55/55 [==============================] - 7s 120ms/step - loss: 0.9658\n",
      "Epoch 16/30\n",
      "55/55 [==============================] - 7s 120ms/step - loss: 0.9500\n",
      "Epoch 17/30\n",
      "55/55 [==============================] - 7s 120ms/step - loss: 0.9341\n",
      "Epoch 18/30\n",
      "55/55 [==============================] - 7s 120ms/step - loss: 0.9200\n",
      "Epoch 19/30\n",
      "55/55 [==============================] - 7s 121ms/step - loss: 0.9048\n",
      "Epoch 20/30\n",
      "55/55 [==============================] - 7s 122ms/step - loss: 0.8911\n",
      "Epoch 21/30\n",
      "55/55 [==============================] - 7s 122ms/step - loss: 0.8778\n",
      "Epoch 22/30\n",
      "55/55 [==============================] - 7s 119ms/step - loss: 0.8642\n",
      "Epoch 23/30\n",
      "55/55 [==============================] - 7s 119ms/step - loss: 0.8522\n",
      "Epoch 24/30\n",
      "55/55 [==============================] - 7s 120ms/step - loss: 0.8404\n",
      "Epoch 25/30\n",
      "55/55 [==============================] - 7s 125ms/step - loss: 0.8294\n",
      "Epoch 26/30\n",
      "55/55 [==============================] - 7s 128ms/step - loss: 0.8180\n",
      "Epoch 27/30\n",
      "55/55 [==============================] - 7s 124ms/step - loss: 0.8077\n",
      "Epoch 28/30\n",
      "55/55 [==============================] - 7s 119ms/step - loss: 0.7984\n",
      "Epoch 29/30\n",
      "55/55 [==============================] - 7s 120ms/step - loss: 0.7892\n",
      "Epoch 30/30\n",
      "55/55 [==============================] - 7s 120ms/step - loss: 0.7794\n"
     ]
    }
   ],
   "source": [
    "optimizer = tf.keras.optimizers.Adam()\n",
    "loss = tf.keras.losses.SparseCategoricalCrossentropy(\n",
    "    from_logits=True,\n",
    "    reduction='none'\n",
    ")\n",
    "\n",
    "model.compile(loss=loss, optimizer=optimizer)\n",
    "history = model.fit(dataset, epochs=30)"
   ]
  },
  {
   "cell_type": "code",
   "execution_count": 19,
   "id": "indoor-cream",
   "metadata": {},
   "outputs": [
    {
     "name": "stdout",
     "output_type": "stream",
     "text": [
      "dict_keys(['loss'])\n"
     ]
    }
   ],
   "source": [
    "history_dict = history.history\n",
    "print(history_dict.keys()) # epoch에 따른 그래프를 그려볼 수 있는 항목들"
   ]
  },
  {
   "cell_type": "code",
   "execution_count": 20,
   "id": "isolated-wealth",
   "metadata": {},
   "outputs": [
    {
     "data": {
      "image/png": "[encoded data removed]",
      "text/plain": [
       "<Figure size 432x288 with 1 Axes>"
      ]
     },
     "metadata": {
      "needs_background": "light"
     },
     "output_type": "display_data"
    }
   ],
   "source": [
    "import matplotlib.pyplot as plt\n",
    "\n",
    "acc = history_dict['loss']\n",
    "loss = history_dict['loss']\n",
    "\n",
    "epochs = range(1, len(acc) + 1)\n",
    "\n",
    "plt.plot(epochs, loss, 'bo', label = \"Loss\")\n",
    "plt.xlabel('Epochs')\n",
    "plt.ylabel('Loss')\n",
    "plt.legend()\n",
    "\n",
    "plt.show()"
   ]
  },
  {
   "cell_type": "code",
   "execution_count": 21,
   "id": "respective-consensus",
   "metadata": {},
   "outputs": [],
   "source": [
    "def generate_text(model, tokenizer, init_sentence=\"<start>\", max_len=20):\n",
    "    # 테스트를 위해서 입력받은 init_sentence도 일단 텐서로 변환합니다.\n",
    "    test_input = tokenizer.texts_to_sequences([init_sentence])\n",
    "    test_tensor = tf.convert_to_tensor(test_input, dtype=tf.int64)\n",
    "    end_token = tokenizer.word_index[\"<end>\"]\n",
    "\n",
    "    # 텍스트를 실제로 생성할때는 루프를 돌면서 단어 하나씩 생성해야 합니다. \n",
    "    while True:\n",
    "        predict = model(test_tensor)  # 입력받은 문장의 텐서를 입력합니다. \n",
    "        predict_word = tf.argmax(tf.nn.softmax(predict, axis=-1), axis=-1)[:, -1]   # 우리 모델이 예측한 마지막 단어가 바로 새롭게 생성한 단어가 됩니다. \n",
    "\n",
    "        # 우리 모델이 새롭게 예측한 단어를 입력 문장의 뒤에 붙여 줍니다. \n",
    "        test_tensor = tf.concat([test_tensor, \n",
    "                                                                 tf.expand_dims(predict_word, axis=0)], axis=-1)\n",
    "\n",
    "        # 우리 모델이 <end>를 예측했거나, max_len에 도달하지 않았다면  while 루프를 또 돌면서 다음 단어를 예측해야 합니다.\n",
    "        if predict_word.numpy()[0] == end_token: break\n",
    "        if test_tensor.shape[1] >= max_len: break\n",
    "\n",
    "    generated = \"\"\n",
    "    # 생성된 tensor 안에 있는 word index를 tokenizer.index_word 사전을 통해 실제 단어로 하나씩 변환합니다. \n",
    "    for word_index in test_tensor[0].numpy():\n",
    "        generated += tokenizer.index_word[word_index] + \" \"\n",
    "\n",
    "    return generated   # 이것이 최종적으로 모델이 생성한 자연어 문장입니다."
   ]
  },
  {
   "cell_type": "code",
   "execution_count": 22,
   "id": "driving-sense",
   "metadata": {},
   "outputs": [],
   "source": [
    "#Loss\n",
    "loss = tf.keras.losses.SparseCategoricalCrossentropy(\n",
    "    from_logits=True, reduction='none')\n",
    "\n",
    "#results = model.evaluate(dec_train, dec_val, verbose = 2)\n",
    "#print(results)\n",
    "\n",
    "#enc_train, enc_val, dec_train, dec_val"
   ]
  },
  {
   "cell_type": "code",
   "execution_count": 23,
   "id": "dated-local",
   "metadata": {},
   "outputs": [
    {
     "data": {
      "text/plain": [
       "'<start> i love you <end> '"
      ]
     },
     "execution_count": 23,
     "metadata": {},
     "output_type": "execute_result"
    }
   ],
   "source": [
    "generate_text(model, tokenizer, init_sentence=\"<start> i love\", max_len=20)"
   ]
  },
  {
   "cell_type": "code",
   "execution_count": 24,
   "id": "working-ambassador",
   "metadata": {},
   "outputs": [
    {
     "data": {
      "text/plain": [
       "'<start> love is it <end> '"
      ]
     },
     "execution_count": 24,
     "metadata": {},
     "output_type": "execute_result"
    }
   ],
   "source": [
    "generate_text(model, tokenizer, init_sentence=\"<start> love is\", max_len=20)"
   ]
  },
  {
   "cell_type": "markdown",
   "id": "confident-nebraska",
   "metadata": {},
   "source": [
    "# ◈ 루브릭  \n",
    "\n",
    "아래의 기준을 바탕으로 프로젝트를 평가합니다.  \n",
    "\n",
    "평가문항/상세기준  \n",
    "1. 가사 텍스트 생성 모델이 정상적으로 동작하는가?  \n",
    "텍스트 제너레이션 결과가 그럴듯한 문장으로 생성되는가? \n",
    "\n",
    "\n",
    "2. 데이터의 전처리와 데이터셋 구성 과정이 체계적으로 진행되었는가?  \n",
    "특수문자 제거, 토크나이저 생성, 패딩처리 등의 과정이 빠짐없이 진행되었는가?  \n",
    "\n",
    "\n",
    "3. 텍스트 생성모델이 안정적으로 학습되었는가?  \n",
    "텍스트 생성모델의 validation loss가 2.2 이하로 낮아졌는가?  "
   ]
  },
  {
   "cell_type": "markdown",
   "id": "african-findings",
   "metadata": {},
   "source": [
    "# ◈ 결론 및 고찰 "
   ]
  },
  {
   "cell_type": "markdown",
   "id": "hairy-interface",
   "metadata": {},
   "source": [
    "이전에 사용한 txt 파일 보다 더 풍부한 데이터를 사용하여 사전 Index를 만들고, 임베딩 벡터를 만들고, 학습을 해본 결과 start 단어 뒤에 오는 문장이 훨씬 자연스러워 짐을 알 수 있었다.\n",
    "예를 들어 이전에는 `i love` 를 입력했을 때 출력되는 값이 `i love thee not a jar o the clock behind` 였으나, 현재 개선된 학습 모델에서는 `i love`에 대해 `i love you`라고 답변이 나오고, `love is`에 대해서는 `love is it` 이라는 결과가 나옴을 알 수 있었다.   \n",
    "사용되는 정보의 양과 질이 좀더 결과에 좋은 영향을 미치지 않았나 생각해 보며, 또한 15개를 넘어가는 문장을 학습데이터에서 제외하고, 사전의 개수도 `7000에서 12000`으로 늘어난 것도 영향이 있다고 생각된다.  \n",
    "`loss결과`는 epoch가 10회 이상부터 1아래로 떨어지는 경향을 보였으면 적어도 10회 가량의 모델 fit이 필요하다고 생각된다."
   ]
  },
  {
   "cell_type": "code",
   "execution_count": null,
   "id": "infectious-breeding",
   "metadata": {},
   "outputs": [],
   "source": []
  }
 ],
 "metadata": {
  "kernelspec": {
   "display_name": "aiffel",
   "language": "python",
   "name": "aiffel"
  },
  "language_info": {
   "codemirror_mode": {
    "name": "ipython",
    "version": 3
   },
   "file_extension": ".py",
   "mimetype": "text/x-python",
   "name": "python",
   "nbconvert_exporter": "python",
   "pygments_lexer": "ipython3",
   "version": "3.7.9"
  }
 },
 "nbformat": 4,
 "nbformat_minor": 5
}
