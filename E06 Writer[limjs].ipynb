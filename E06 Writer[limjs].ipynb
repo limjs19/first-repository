{
 "cells": [
  {
   "cell_type": "markdown",
   "id": "leading-privilege",
   "metadata": {},
   "source": [
    "# 6. 프로젝트: 멋진 작사가 만들기"
   ]
  },
  {
   "cell_type": "markdown",
   "id": "intellectual-title",
   "metadata": {},
   "source": [
    "## Step 1. 데이터 다운로드  \n",
    "먼저 아래 링크에서 Song Lyrics 데이터를 다운로드  \n",
    "저장된 파일을 압축 해제한 후, 모든 txt 파일을 lyrics 폴더를 만들어 그 속에 저장  \n",
    "* Song Lyrics  "
   ]
  },
  {
   "cell_type": "markdown",
   "id": "appreciated-suggestion",
   "metadata": {},
   "source": [
    "## Step 2. 데이터 읽어오기\n",
    "glob 모듈을 사용하면 파일을 읽어오는 작업을 하기  \n",
    "glob 를 활용하여 모든 txt 파일을 읽어온 후, raw_corpus 리스트에 문장 단위로 저장"
   ]
  },
  {
   "cell_type": "code",
   "execution_count": 1,
   "id": "prescription-costs",
   "metadata": {},
   "outputs": [
    {
     "name": "stdout",
     "output_type": "stream",
     "text": [
      "데이터 크기: 187088\n",
      "Examples:\n",
      " ['Ooh....... New York x2 Grew up in a town that is famous as a place of movie scenes', 'Noise is always loud, there are sirens all around and the streets are mean', \"If I can make it here, I can make it anywhere, that's what they say\"]\n"
     ]
    }
   ],
   "source": [
    "import glob\n",
    "import os\n",
    "import re                  # 정규표현식을 위한 Regex 지원 모듈 (문장 데이터를 정돈하기 위해) \n",
    "import numpy as np         # 변환된 문장 데이터(행렬)을 편하게 처리하기 위해\n",
    "import tensorflow as tf    # 대망의 텐서플로우!\n",
    "\n",
    "from tensorflow import keras\n",
    "\n",
    "\n",
    "txt_file_path = os.getenv('HOME')+'/aiffel/lyricist/data/lyrics/*'\n",
    "txt_list = glob.glob(txt_file_path)\n",
    "\n",
    "raw_corpus = []\n",
    "\n",
    "# 여러개의 txt 파일을 모두 읽어서 raw_corpus에 담습니다.\n",
    "for txt_file in txt_list:\n",
    "    with open(txt_file, \"r\") as f:\n",
    "        raw = f.read().splitlines()\n",
    "        raw_corpus.extend(raw)\n",
    "\n",
    "print(\"데이터 크기:\", len(raw_corpus))\n",
    "print(\"Examples:\\n\", raw_corpus[:3])"
   ]
  },
  {
   "cell_type": "markdown",
   "id": "statistical-running",
   "metadata": {},
   "source": [
    "## Step 3. 데이터 정제  \n",
    "* 앞서 배운 테크닉들을 활용해 문장 생성에 적합한 모양새로 데이터를 정제  \n",
    "* preprocess_sentence() 함수를 활용해 데이터를 정제  \n",
    "* 긴 문장은 다른 데이터들이 과도한 Padding을 갖게 하므로 제거  \n",
    "* 토큰의 개수가 15개를 넘어가는 문장을 학습데이터에서 제외  "
   ]
  },
  {
   "cell_type": "code",
   "execution_count": 2,
   "id": "novel-category",
   "metadata": {},
   "outputs": [
    {
     "name": "stdout",
     "output_type": "stream",
     "text": [
      "0 Ooh....... New York x2 Grew up in a town that is famous as a place of movie scenes\n",
      "1 Noise is always loud, there are sirens all around and the streets are mean\n",
      "2 If I can make it here, I can make it anywhere, that's what they say\n",
      "3 Seeing my face in lights or my name on marquees found down on Broadway Even if it ain't all it seems, I got a pocket full of dreams\n",
      "4 Baby, I'm from New York\n",
      "5 Concrete jungle where dreams are made of\n",
      "6 There's nothing you can't do\n",
      "7 Now you're in New York\n",
      "8 These streets will make you feel brand new\n",
      "9 Big lights will inspire you\n"
     ]
    }
   ],
   "source": [
    "for idx, sentence in enumerate(raw_corpus):\n",
    "    if len(sentence) == 0: continue   # 길이가 0인 문장은 건너뜁니다.\n",
    "    if sentence[-1] == \":\": continue  # 문장의 끝이 : 인 문장은 건너뜁니다.\n",
    "\n",
    "    if idx > 9: break   # 일단 문장 10개만 확인해 볼 겁니다.\n",
    "        \n",
    "    print(idx,sentence)"
   ]
  },
  {
   "cell_type": "code",
   "execution_count": 3,
   "id": "chubby-secret",
   "metadata": {},
   "outputs": [
    {
     "name": "stdout",
     "output_type": "stream",
     "text": [
      "<start> this is sample sentence . <end>\n"
     ]
    }
   ],
   "source": [
    "def preprocess_sentence(sentence):\n",
    "    sentence = sentence.lower().strip()       \n",
    "    # 소문자로 바꾸고 양쪽 공백을 삭제\n",
    "  \n",
    "    # 아래 3단계를 거쳐 sentence는 스페이스 1개를 delimeter로 하는 소문자 단어 시퀀스로 바뀝니다.\n",
    "    sentence = re.sub(r\"([?.!,¿])\", r\" \\1 \", sentence)        \n",
    "    # 패턴의 특수문자를 만나면 특수문자 양쪽에 공백을 추가\n",
    "    sentence = re.sub(r'[\" \"]+', \" \", sentence)                  \n",
    "    # 공백 패턴을 만나면 스페이스 1개로 치환\n",
    "    sentence = re.sub(r\"[^a-zA-Z?.!,¿]+\", \" \", sentence)  \n",
    "    # a-zA-Z?.!,¿ 패턴을 제외한 모든 문자(공백문자까지도)를 스페이스 1개로 치환\n",
    "\n",
    "    sentence = sentence.strip()\n",
    "\n",
    "    sentence = '<start> ' + sentence + ' <end>'      \n",
    "    # 이전 스텝에서 본 것처럼 문장 앞뒤로 <start>와 <end>를 단어처럼 붙여 줍니다\n",
    "    \n",
    "    return sentence\n",
    "\n",
    "print(preprocess_sentence(\"This @_is ;;;sample        sentence.\"))   \n",
    "# 이 문장이 어떻게 필터링되는지 확인해 보세요."
   ]
  },
  {
   "cell_type": "code",
   "execution_count": 4,
   "id": "fixed-trouble",
   "metadata": {},
   "outputs": [
    {
     "data": {
      "text/plain": [
       "['<start> oh , oh , oh , <end>',\n",
       " '<start> you can be sure <end>',\n",
       " '<start> oh oh oh oh <end>',\n",
       " '<start> oh oh oh oh <end>',\n",
       " '<start> oh oh oh oh <end>',\n",
       " '<start> oh , oh , oh , <end>',\n",
       " '<start> you can be sure <end>',\n",
       " '<start> oh oh oh oh <end>',\n",
       " '<start> oh oh oh oh <end>',\n",
       " '<start> oh oh oh oh <end>']"
      ]
     },
     "execution_count": 4,
     "metadata": {},
     "output_type": "execute_result"
    }
   ],
   "source": [
    "# 문장 길이 긴 것 빼고 다시 \n",
    "corpus = []\n",
    "\n",
    "for sentence in raw_corpus:\n",
    "    if len(sentence) == 0: continue\n",
    "    if len(sentence) > 15: continue\n",
    "    if sentence[-1] == \":\": continue    \n",
    "        \n",
    "    corpus.append(preprocess_sentence(sentence))\n",
    "        \n",
    "corpus[:10]"
   ]
  },
  {
   "cell_type": "code",
   "execution_count": 5,
   "id": "medical-estimate",
   "metadata": {},
   "outputs": [
    {
     "name": "stdout",
     "output_type": "stream",
     "text": [
      "문장 길이의 평균 :  24.541784702549574\n",
      "문장 길이의 최대 :  35\n",
      "문장 길이 표준 편차 :  3.6829496414281495\n",
      "pad_sequences maxlen :  39\n",
      "전체 문장의 1.0%가 maxlen 설정값 이내에 포함됩니다.\n"
     ]
    }
   ],
   "source": [
    "total_data_text = list(corpus)\n",
    "\n",
    "#텍스트 데이터 문장길이의 리스트를 생성\n",
    "num_tokens = [len(tokens) for tokens in total_data_text]\n",
    "num_tokens = np.array(num_tokens)\n",
    "\n",
    "#문장 길이의 평균값, 최대값, 표준편차를 계산\n",
    "print(\"문장 길이의 평균 : \", np.mean(num_tokens))\n",
    "print(\"문장 길이의 최대 : \", np.max(num_tokens))\n",
    "print(\"문장 길이 표준 편차 : \", np.std(num_tokens))\n",
    "\n",
    "#최대 길이 (평균 + 4*표준편차) 너무 길면 시간이 오래 걸린다. \n",
    "max_tokens = np.mean(num_tokens) +4*np.std(num_tokens)\n",
    "maxlen = int(max_tokens)\n",
    "print(\"pad_sequences maxlen : \", maxlen)\n",
    "print(\"전체 문장의 {}%가 maxlen 설정값 이내에 포함됩니다.\".format(np.sum(num_tokens<max_tokens)/len(num_tokens)))"
   ]
  },
  {
   "cell_type": "code",
   "execution_count": 6,
   "id": "metallic-participation",
   "metadata": {},
   "outputs": [
    {
     "name": "stderr",
     "output_type": "stream",
     "text": [
      "/home/aiffel-dj56/anaconda3/envs/aiffel/lib/python3.7/site-packages/seaborn/distributions.py:2557: FutureWarning: `distplot` is a deprecated function and will be removed in a future version. Please adapt your code to use either `displot` (a figure-level function with similar flexibility) or `histplot` (an axes-level function for histograms).\n",
      "  warnings.warn(msg, FutureWarning)\n"
     ]
    },
    {
     "data": {
      "image/png": "[encoded data removed]",
      "text/plain": [
       "<Figure size 432x288 with 1 Axes>"
      ]
     },
     "metadata": {
      "needs_background": "light"
     },
     "output_type": "display_data"
    }
   ],
   "source": [
    "import matplotlib.pyplot as plt\n",
    "import seaborn as sns\n",
    "\n",
    "#문장 길이 분포 확인\n",
    "plt.rcParams['figure.figsize'] = (6, 4)\n",
    "plt.rcParams['grid.color'] = '#F0F0F0'\n",
    "plt.rcParams['grid.linestyle'] = 'solid'\n",
    "sns.distplot(num_tokens)\n",
    "plt.style.use(\"bmh\")\n",
    "plt.show()"
   ]
  },
  {
   "cell_type": "code",
   "execution_count": 7,
   "id": "appointed-sheriff",
   "metadata": {},
   "outputs": [
    {
     "name": "stdout",
     "output_type": "stream",
     "text": [
      "[[   2    8    5 ...    0    0    0]\n",
      " [   2    7   39 ...    0    0    0]\n",
      " [   2    8    8 ...    0    0    0]\n",
      " ...\n",
      " [   2   93  111 ...    0    0    0]\n",
      " [   2  953    6 ...    0    0    0]\n",
      " [   2 1643   90 ...    0    0    0]] <keras_preprocessing.text.Tokenizer object at 0x7f4d4b0fcc10>\n"
     ]
    }
   ],
   "source": [
    "def tokenize(corpus):\n",
    "    # 텐서플로우에서 제공하는 Tokenizer 패키지를 생성\n",
    "    tokenizer = tf.keras.preprocessing.text.Tokenizer(\n",
    "        num_words=12000,  # 전체 단어의 개수 \n",
    "        filters=' ',    # 별도로 전처리 로직을 추가할 수 있습니다. 이번에는 사용하지 않겠습니다.\n",
    "        oov_token=\"<unk>\"  # out-of-vocabulary, 사전에 없었던 단어는 어떤 토큰으로 대체할지\n",
    "    )\n",
    "    tokenizer.fit_on_texts(corpus)   # 우리가 구축한 corpus로부터 Tokenizer가 사전을 자동구축하게 됩니다.\n",
    "\n",
    "    # 이후 tokenizer를 활용하여 모델에 입력할 데이터셋을 구축하게 됩니다.\n",
    "    tensor = tokenizer.texts_to_sequences(corpus)   # tokenizer는 구축한 사전으로부터 corpus를 해석해 Tensor로 변환합니다.\n",
    "\n",
    "    # 입력 데이터의 시퀀스 길이를 일정하게 맞추기 위한 padding  메소드를 제공합니다.\n",
    "    # maxlen의 디폴트값은 None입니다. 이 경우 corpus의 가장 긴 문장을 기준으로 시퀀스 길이가 맞춰집니다.\n",
    "    tensor = tf.keras.preprocessing.sequence.pad_sequences(tensor, maxlen = 15, padding='post')  \n",
    "\n",
    "    print(tensor,tokenizer)\n",
    "    return tensor, tokenizer\n",
    "\n",
    "tensor, tokenizer = tokenize(corpus)"
   ]
  },
  {
   "cell_type": "code",
   "execution_count": 8,
   "id": "labeled-constant",
   "metadata": {},
   "outputs": [
    {
     "name": "stdout",
     "output_type": "stream",
     "text": [
      "[[  2   8   5   8   5   8   5   3   0   0]\n",
      " [  2   7  39  48 489   3   0   0   0   0]\n",
      " [  2   8   8   8   8   3   0   0   0   0]]\n"
     ]
    }
   ],
   "source": [
    "print(tensor[:3, :10])"
   ]
  },
  {
   "cell_type": "code",
   "execution_count": 9,
   "id": "prostate-trace",
   "metadata": {},
   "outputs": [
    {
     "data": {
      "text/plain": [
       "15"
      ]
     },
     "execution_count": 9,
     "metadata": {},
     "output_type": "execute_result"
    }
   ],
   "source": [
    "#데이터 길이 확인\n",
    "len(tensor[1])"
   ]
  },
  {
   "cell_type": "code",
   "execution_count": 10,
   "id": "therapeutic-narrow",
   "metadata": {},
   "outputs": [
    {
     "data": {
      "text/plain": [
       "array([  2,   7,  39,  48, 489,   3,   0,   0,   0,   0,   0,   0,   0,\n",
       "         0,   0], dtype=int32)"
      ]
     },
     "execution_count": 10,
     "metadata": {},
     "output_type": "execute_result"
    }
   ],
   "source": [
    "tensor[1]"
   ]
  },
  {
   "cell_type": "code",
   "execution_count": 11,
   "id": "completed-crowd",
   "metadata": {},
   "outputs": [
    {
     "name": "stdout",
     "output_type": "stream",
     "text": [
      "1 : <unk>\n",
      "2 : <start>\n",
      "3 : <end>\n",
      "4 : i\n",
      "5 : ,\n",
      "6 : .\n",
      "7 : you\n",
      "8 : oh\n",
      "9 : it\n",
      "10 : me\n",
      "3416\n"
     ]
    }
   ],
   "source": [
    "for idx in tokenizer.index_word:\n",
    "    print(idx, \":\", tokenizer.index_word[idx])\n",
    "\n",
    "    if idx >= 10: break\n",
    "     \n",
    "print(len(tokenizer.index_word))"
   ]
  },
  {
   "cell_type": "code",
   "execution_count": 12,
   "id": "illegal-headline",
   "metadata": {},
   "outputs": [
    {
     "name": "stdout",
     "output_type": "stream",
     "text": [
      "[2 8 5 8 5 8 5 3 0 0 0 0 0 0]\n",
      "[8 5 8 5 8 5 3 0 0 0 0 0 0 0]\n"
     ]
    }
   ],
   "source": [
    "src_input = tensor[:, :-1]  \n",
    "# tensor에서 마지막 토큰을 잘라내서 소스 문장을 생성합니다. \n",
    "#마지막 토큰은 <end>가 아니라 <pad>일 가능성이 높습니다.\n",
    "tgt_input = tensor[:, 1:]    # tensor에서 <start>를 잘라내서 타겟 문장을 생성합니다.\n",
    "\n",
    "print(src_input[0])\n",
    "print(tgt_input[0])"
   ]
  },
  {
   "cell_type": "markdown",
   "id": "impaired-quarterly",
   "metadata": {},
   "source": [
    "## Step 4. 평가 데이터셋 분리\n",
    "\n",
    "* 훈련 데이터와 평가 데이터를 분리  \n",
    "* tokenize() 함수로 데이터를 Tensor로 변환한 후,  \n",
    "* sklearn 모듈의 train_test_split() 함수를 사용해 훈련 데이터와 평가 데이터를 분리  \n",
    "* 단어장의 크기는 12,000 이상으로 설정\n",
    "* 총 데이터의 20%를 평가 데이터셋으로 사용\n",
    "\n",
    "enc_train, enc_val, dec_train, dec_val = <코드 작성>  \n",
    "여기까지 올바르게 진행했을 경우, 아래 실행 결과를 확인  \n",
    "\n",
    "print(\"Source Train:\", enc_train.shape)  \n",
    "print(\"Target Train:\", dec_train.shape)  \n",
    "out:  \n",
    "\n",
    "Source Train: (124960, 14)  \n",
    "Target Train: (124960, 14)  "
   ]
  },
  {
   "cell_type": "code",
   "execution_count": 13,
   "id": "increased-typing",
   "metadata": {},
   "outputs": [
    {
     "name": "stdout",
     "output_type": "stream",
     "text": [
      "Source Train: (11296, 14)\n",
      "Target Train: (11296, 14)\n",
      "Source Val: (2824, 14)\n",
      "Target Val: (2824, 14)\n"
     ]
    }
   ],
   "source": [
    "from sklearn.model_selection import train_test_split\n",
    "\n",
    "enc_train, enc_val, dec_train, dec_val = train_test_split(src_input, tgt_input, test_size=0.2)\n",
    "print(\"Source Train:\", enc_train.shape)  \n",
    "print(\"Target Train:\", dec_train.shape)  \n",
    "print(\"Source Val:\", enc_val.shape)\n",
    "print(\"Target Val:\", dec_val.shape)\n",
    "#학습데이터 갯수 124960보다 작은 결과"
   ]
  },
  {
   "cell_type": "code",
   "execution_count": 14,
   "id": "guilty-thunder",
   "metadata": {},
   "outputs": [
    {
     "name": "stdout",
     "output_type": "stream",
     "text": [
      "14120\n",
      "55\n",
      "12001\n"
     ]
    },
    {
     "data": {
      "text/plain": [
       "<BatchDataset shapes: ((256, 14), (256, 14)), types: (tf.int32, tf.int32)>"
      ]
     },
     "execution_count": 14,
     "metadata": {},
     "output_type": "execute_result"
    }
   ],
   "source": [
    "BUFFER_SIZE = len(src_input)\n",
    "BATCH_SIZE = 256\n",
    "steps_per_epoch = len(src_input) // BATCH_SIZE\n",
    "print(BUFFER_SIZE)\n",
    "\n",
    "print(steps_per_epoch)\n",
    "VOCAB_SIZE = tokenizer.num_words + 1    # tokenizer가 구축한 단어사전 내 7000개와, 여기 포함되지 않은 0:<pad>를 포함하여 7001개\n",
    "print(VOCAB_SIZE)\n",
    "\n",
    "dataset = tf.data.Dataset.from_tensor_slices((enc_train, dec_train)).shuffle(BUFFER_SIZE)\n",
    "dataset = dataset.batch(BATCH_SIZE, drop_remainder=True)\n",
    "dataset\n",
    "\n",
    "val_dataset = tf.data.Dataset.from_tensor_slices((enc_val, dec_val)).shuffle(BUFFER_SIZE)\n",
    "val_dataset = val_dataset.batch(BATCH_SIZE, drop_remainder=True)\n",
    "val_dataset"
   ]
  },
  {
   "cell_type": "markdown",
   "id": "handmade-wages",
   "metadata": {},
   "source": [
    "## Step 5. 인공지능 만들기  \n",
    "모델의 Embedding Size와 Hidden Size를 조절  \n",
    "10 Epoch 안에 val_loss 값을 2.2 수준으로 줄일 수 있는 모델을 설계  \n",
    "(Loss는 아래 제시된 Loss 함수를 그대로 사용!)   \n",
    "멋진 모델이 생성한 가사 한 줄을 제출  "
   ]
  },
  {
   "cell_type": "code",
   "execution_count": 15,
   "id": "olive-latest",
   "metadata": {},
   "outputs": [],
   "source": [
    "class TextGenerator(tf.keras.Model):\n",
    "    def __init__(self, vocab_size, embedding_size, hidden_size):\n",
    "        super(TextGenerator, self).__init__()\n",
    "        \n",
    "        self.embedding = tf.keras.layers.Embedding(vocab_size, embedding_size)\n",
    "        self.rnn_1 = tf.keras.layers.LSTM(hidden_size, return_sequences=True)\n",
    "        self.rnn_2 = tf.keras.layers.LSTM(hidden_size, return_sequences=True)\n",
    "        self.linear = tf.keras.layers.Dense(vocab_size)\n",
    "        \n",
    "    def call(self, x):\n",
    "        out = self.embedding(x)\n",
    "        out = self.rnn_1(out)\n",
    "        out = self.rnn_2(out)\n",
    "        out = self.linear(out)\n",
    "        \n",
    "        return out\n",
    "    \n",
    "embedding_size = 256\n",
    "hidden_size = 1024\n",
    "model = TextGenerator(tokenizer.num_words + 1, embedding_size , hidden_size)"
   ]
  },
  {
   "cell_type": "code",
   "execution_count": 16,
   "id": "engaging-birmingham",
   "metadata": {},
   "outputs": [
    {
     "data": {
      "text/plain": [
       "<tf.Tensor: shape=(256, 14, 12001), dtype=float32, numpy=\n",
       "array([[[ 5.52476649e-06,  2.09077538e-04, -3.02550237e-04, ...,\n",
       "          2.69864595e-05, -7.93056824e-06, -1.46909239e-04],\n",
       "        [ 8.81117885e-05,  2.65207840e-04, -6.87294581e-04, ...,\n",
       "          6.62438106e-05,  2.77704999e-06, -2.54866260e-04],\n",
       "        [ 2.04160839e-04,  2.31947837e-04, -1.04914315e-03, ...,\n",
       "          9.10305607e-05,  3.49974689e-05, -3.62796447e-04],\n",
       "        ...,\n",
       "        [ 1.70285802e-03, -3.00672837e-04, -3.40791390e-04, ...,\n",
       "         -1.94475419e-04, -1.34064513e-03, -1.72178249e-03],\n",
       "        [ 1.93707051e-03, -4.70789033e-04, -4.29594103e-04, ...,\n",
       "         -1.16999108e-04, -1.33822404e-03, -1.85595453e-03],\n",
       "        [ 2.15823459e-03, -6.35433826e-04, -5.21665672e-04, ...,\n",
       "         -5.15629326e-05, -1.30681170e-03, -1.98286586e-03]],\n",
       "\n",
       "       [[ 5.52476649e-06,  2.09077538e-04, -3.02550237e-04, ...,\n",
       "          2.69864595e-05, -7.93056824e-06, -1.46909239e-04],\n",
       "        [-4.93119296e-06,  2.82761641e-04, -3.75692965e-04, ...,\n",
       "          8.72409873e-05,  2.24787989e-04, -1.63516481e-04],\n",
       "        [-1.93765081e-04,  2.27692522e-04, -4.76385088e-04, ...,\n",
       "         -3.58171019e-05,  4.03713086e-04, -3.32090640e-05],\n",
       "        ...,\n",
       "        [ 1.77375111e-03, -4.89278580e-04, -2.08871807e-05, ...,\n",
       "         -3.15514946e-04, -9.90666100e-04, -1.73859438e-03],\n",
       "        [ 2.02321936e-03, -6.22860563e-04, -1.13078640e-04, ...,\n",
       "         -2.02818555e-04, -1.00919965e-03, -1.96538540e-03],\n",
       "        [ 2.25024088e-03, -7.54582521e-04, -2.10419006e-04, ...,\n",
       "         -1.11990244e-04, -1.00241438e-03, -2.16218363e-03]],\n",
       "\n",
       "       [[ 5.52476649e-06,  2.09077538e-04, -3.02550237e-04, ...,\n",
       "          2.69864595e-05, -7.93056824e-06, -1.46909239e-04],\n",
       "        [ 2.24032497e-04,  1.88399543e-04, -3.23031360e-04, ...,\n",
       "         -1.87535319e-04,  2.71861674e-04,  7.69172129e-06],\n",
       "        [ 5.40012959e-04,  2.36541993e-04, -4.22752200e-04, ...,\n",
       "         -4.21722827e-04,  2.30127087e-04,  1.70292755e-04],\n",
       "        ...,\n",
       "        [ 8.62852437e-04,  1.69379728e-05,  4.99882211e-04, ...,\n",
       "         -5.14907442e-05, -1.49925950e-03, -1.29661139e-03],\n",
       "        [ 1.15036196e-03, -1.40014512e-04,  3.62180494e-04, ...,\n",
       "         -4.00885892e-06, -1.52663351e-03, -1.50852255e-03],\n",
       "        [ 1.43183209e-03, -3.07198468e-04,  2.15279768e-04, ...,\n",
       "          3.14220961e-05, -1.50844618e-03, -1.70650752e-03]],\n",
       "\n",
       "       ...,\n",
       "\n",
       "       [[ 5.52476649e-06,  2.09077538e-04, -3.02550237e-04, ...,\n",
       "          2.69864595e-05, -7.93056824e-06, -1.46909239e-04],\n",
       "        [ 2.24032497e-04,  1.88399543e-04, -3.23031360e-04, ...,\n",
       "         -1.87535319e-04,  2.71861674e-04,  7.69172129e-06],\n",
       "        [ 5.40012959e-04,  2.36541993e-04, -4.22752200e-04, ...,\n",
       "         -4.21722827e-04,  2.30127087e-04,  1.70292755e-04],\n",
       "        ...,\n",
       "        [ 1.71109568e-03, -4.42296820e-04,  1.24431026e-04, ...,\n",
       "         -4.86912868e-05, -1.37428753e-03, -1.46391301e-03],\n",
       "        [ 1.95857743e-03, -5.85050147e-04, -2.64470873e-06, ...,\n",
       "          1.94041581e-06, -1.35438680e-03, -1.67607458e-03],\n",
       "        [ 2.19138083e-03, -7.25029851e-04, -1.29266497e-04, ...,\n",
       "          3.68860237e-05, -1.30846712e-03, -1.86754367e-03]],\n",
       "\n",
       "       [[ 5.52476649e-06,  2.09077538e-04, -3.02550237e-04, ...,\n",
       "          2.69864595e-05, -7.93056824e-06, -1.46909239e-04],\n",
       "        [ 1.93865460e-04,  3.28958995e-04, -3.92923772e-04, ...,\n",
       "          2.74231243e-05, -2.73499481e-05, -2.45190458e-04],\n",
       "        [ 2.84342066e-04,  5.28694538e-04, -9.13710537e-05, ...,\n",
       "         -3.38424172e-04, -8.65872935e-05, -3.75878706e-04],\n",
       "        ...,\n",
       "        [ 2.25983048e-03, -4.46103426e-04,  8.04412593e-06, ...,\n",
       "         -3.25291301e-04, -1.25801098e-03, -2.07554782e-03],\n",
       "        [ 2.45358120e-03, -6.30124821e-04, -1.38526884e-04, ...,\n",
       "         -2.80835258e-04, -1.18209806e-03, -2.22869846e-03],\n",
       "        [ 2.63004028e-03, -7.97446992e-04, -2.73645972e-04, ...,\n",
       "         -2.41329530e-04, -1.10176473e-03, -2.36286013e-03]],\n",
       "\n",
       "       [[ 5.52476649e-06,  2.09077538e-04, -3.02550237e-04, ...,\n",
       "          2.69864595e-05, -7.93056824e-06, -1.46909239e-04],\n",
       "        [-1.19063763e-04,  4.95872519e-04, -3.86371132e-04, ...,\n",
       "          1.67449893e-04, -2.06886310e-04, -1.00463272e-04],\n",
       "        [-3.52889532e-04,  6.63487939e-04, -4.38486983e-04, ...,\n",
       "          3.40785744e-04, -2.16443004e-04,  1.39028882e-04],\n",
       "        ...,\n",
       "        [ 1.73631124e-03, -6.54082542e-05,  7.31583641e-05, ...,\n",
       "         -2.52341033e-05, -1.58600241e-03, -1.48058939e-03],\n",
       "        [ 1.99326524e-03, -2.83716654e-04, -8.18606713e-05, ...,\n",
       "         -9.68414861e-06, -1.50290423e-03, -1.70807517e-03],\n",
       "        [ 2.22557527e-03, -4.87170153e-04, -2.28752280e-04, ...,\n",
       "          2.40830263e-06, -1.40641106e-03, -1.91218639e-03]]],\n",
       "      dtype=float32)>"
      ]
     },
     "execution_count": 16,
     "metadata": {},
     "output_type": "execute_result"
    }
   ],
   "source": [
    "for src_sample, tgt_sample in dataset.take(1): break\n",
    "model(src_sample)"
   ]
  },
  {
   "cell_type": "code",
   "execution_count": 17,
   "id": "lyric-silicon",
   "metadata": {},
   "outputs": [
    {
     "name": "stdout",
     "output_type": "stream",
     "text": [
      "Model: \"text_generator\"\n",
      "_________________________________________________________________\n",
      "Layer (type)                 Output Shape              Param #   \n",
      "=================================================================\n",
      "embedding (Embedding)        multiple                  3072256   \n",
      "_________________________________________________________________\n",
      "lstm (LSTM)                  multiple                  5246976   \n",
      "_________________________________________________________________\n",
      "lstm_1 (LSTM)                multiple                  8392704   \n",
      "_________________________________________________________________\n",
      "dense (Dense)                multiple                  12301025  \n",
      "=================================================================\n",
      "Total params: 29,012,961\n",
      "Trainable params: 29,012,961\n",
      "Non-trainable params: 0\n",
      "_________________________________________________________________\n"
     ]
    }
   ],
   "source": [
    "model.summary()"
   ]
  },
  {
   "cell_type": "code",
   "execution_count": 18,
   "id": "cellular-nightlife",
   "metadata": {},
   "outputs": [
    {
     "name": "stdout",
     "output_type": "stream",
     "text": [
      "Epoch 1/30\n",
      "44/44 [==============================] - 6s 147ms/step - loss: 2.7398 - val_loss: 1.7257\n",
      "Epoch 2/30\n",
      "44/44 [==============================] - 6s 131ms/step - loss: 1.5232 - val_loss: 1.4318\n",
      "Epoch 3/30\n",
      "44/44 [==============================] - 6s 131ms/step - loss: 1.2976 - val_loss: 1.3058\n",
      "Epoch 4/30\n",
      "44/44 [==============================] - 6s 132ms/step - loss: 1.2197 - val_loss: 1.2704\n",
      "Epoch 5/30\n",
      "44/44 [==============================] - 6s 132ms/step - loss: 1.1877 - val_loss: 1.2528\n",
      "Epoch 6/30\n",
      "44/44 [==============================] - 6s 133ms/step - loss: 1.1657 - val_loss: 1.2407\n",
      "Epoch 7/30\n",
      "44/44 [==============================] - 6s 138ms/step - loss: 1.1485 - val_loss: 1.2307\n",
      "Epoch 8/30\n",
      "44/44 [==============================] - 6s 138ms/step - loss: 1.1284 - val_loss: 1.2195\n",
      "Epoch 9/30\n",
      "44/44 [==============================] - 6s 133ms/step - loss: 1.1052 - val_loss: 1.1996\n",
      "Epoch 10/30\n",
      "44/44 [==============================] - 6s 134ms/step - loss: 1.0814 - val_loss: 1.1849\n",
      "Epoch 11/30\n",
      "44/44 [==============================] - 6s 135ms/step - loss: 1.0605 - val_loss: 1.1758\n",
      "Epoch 12/30\n",
      "44/44 [==============================] - 6s 135ms/step - loss: 1.0412 - val_loss: 1.1605\n",
      "Epoch 13/30\n",
      "44/44 [==============================] - 6s 133ms/step - loss: 1.0246 - val_loss: 1.1558\n",
      "Epoch 14/30\n",
      "44/44 [==============================] - 6s 134ms/step - loss: 1.0073 - val_loss: 1.1443\n",
      "Epoch 15/30\n",
      "44/44 [==============================] - 6s 133ms/step - loss: 0.9926 - val_loss: 1.1359\n",
      "Epoch 16/30\n",
      "44/44 [==============================] - 6s 133ms/step - loss: 0.9783 - val_loss: 1.1310\n",
      "Epoch 17/30\n",
      "44/44 [==============================] - 6s 133ms/step - loss: 0.9673 - val_loss: 1.1229\n",
      "Epoch 18/30\n",
      "44/44 [==============================] - 6s 133ms/step - loss: 0.9531 - val_loss: 1.1190\n",
      "Epoch 19/30\n",
      "44/44 [==============================] - 6s 133ms/step - loss: 0.9397 - val_loss: 1.1121\n",
      "Epoch 20/30\n",
      "44/44 [==============================] - 6s 134ms/step - loss: 0.9277 - val_loss: 1.1061\n",
      "Epoch 21/30\n",
      "44/44 [==============================] - 6s 134ms/step - loss: 0.9165 - val_loss: 1.1016\n",
      "Epoch 22/30\n",
      "44/44 [==============================] - 6s 133ms/step - loss: 0.9046 - val_loss: 1.0969\n",
      "Epoch 23/30\n",
      "44/44 [==============================] - 6s 134ms/step - loss: 0.8940 - val_loss: 1.0898\n",
      "Epoch 24/30\n",
      "44/44 [==============================] - 6s 134ms/step - loss: 0.8811 - val_loss: 1.0880\n",
      "Epoch 25/30\n",
      "44/44 [==============================] - 6s 140ms/step - loss: 0.8706 - val_loss: 1.0833\n",
      "Epoch 26/30\n",
      "44/44 [==============================] - 6s 143ms/step - loss: 0.8609 - val_loss: 1.0771\n",
      "Epoch 27/30\n",
      "44/44 [==============================] - 6s 138ms/step - loss: 0.8506 - val_loss: 1.0727\n",
      "Epoch 28/30\n",
      "44/44 [==============================] - 6s 134ms/step - loss: 0.8399 - val_loss: 1.0686\n",
      "Epoch 29/30\n",
      "44/44 [==============================] - 6s 134ms/step - loss: 0.8302 - val_loss: 1.0666\n",
      "Epoch 30/30\n",
      "44/44 [==============================] - 6s 134ms/step - loss: 0.8212 - val_loss: 1.0633\n"
     ]
    }
   ],
   "source": [
    "optimizer = tf.keras.optimizers.Adam()\n",
    "loss = tf.keras.losses.SparseCategoricalCrossentropy(\n",
    "    from_logits=True,\n",
    "    reduction='none'\n",
    ")\n",
    "\n",
    "model.compile(loss=loss, optimizer=optimizer)\n",
    "\n",
    "history = model.fit(dataset, epochs=30, validation_data=val_dataset)"
   ]
  },
  {
   "cell_type": "code",
   "execution_count": 19,
   "id": "desirable-george",
   "metadata": {},
   "outputs": [
    {
     "name": "stdout",
     "output_type": "stream",
     "text": [
      "dict_keys(['loss', 'val_loss'])\n"
     ]
    }
   ],
   "source": [
    "history_dict = history.history\n",
    "print(history_dict.keys()) # epoch에 따른 그래프를 그려볼 수 있는 항목들"
   ]
  },
  {
   "cell_type": "code",
   "execution_count": 20,
   "id": "accurate-hardware",
   "metadata": {},
   "outputs": [
    {
     "data": {
      "image/png": "[encoded data removed]",
      "text/plain": [
       "<Figure size 432x288 with 1 Axes>"
      ]
     },
     "metadata": {
      "needs_background": "light"
     },
     "output_type": "display_data"
    }
   ],
   "source": [
    "import matplotlib.pyplot as plt\n",
    "\n",
    "acc = history_dict['loss']\n",
    "loss = history_dict['loss']\n",
    "val_loss = history_dict['val_loss']\n",
    "\n",
    "epochs = range(1, len(acc) + 1)\n",
    "\n",
    "plt.plot(epochs, loss, 'g', label = \"Loss\")\n",
    "plt.plot(epochs, val_loss, 'r', label = \"Val_loss\")\n",
    "\n",
    "plt.xlabel('Epochs')\n",
    "plt.ylabel('Loss')\n",
    "plt.legend()\n",
    "\n",
    "plt.show()"
   ]
  },
  {
   "cell_type": "code",
   "execution_count": 21,
   "id": "selective-manhattan",
   "metadata": {},
   "outputs": [],
   "source": [
    "def generate_text(model, tokenizer, init_sentence=\"<start>\", max_len=20):\n",
    "    # 테스트를 위해서 입력받은 init_sentence도 일단 텐서로 변환합니다.\n",
    "    test_input = tokenizer.texts_to_sequences([init_sentence])\n",
    "    test_tensor = tf.convert_to_tensor(test_input, dtype=tf.int64)\n",
    "    end_token = tokenizer.word_index[\"<end>\"]\n",
    "\n",
    "    # 텍스트를 실제로 생성할때는 루프를 돌면서 단어 하나씩 생성해야 합니다. \n",
    "    while True:\n",
    "        predict = model(test_tensor)  # 입력받은 문장의 텐서를 입력합니다. \n",
    "        predict_word = tf.argmax(tf.nn.softmax(predict, axis=-1), axis=-1)[:, -1]   # 우리 모델이 예측한 마지막 단어가 바로 새롭게 생성한 단어가 됩니다. \n",
    "\n",
    "        # 우리 모델이 새롭게 예측한 단어를 입력 문장의 뒤에 붙여 줍니다. \n",
    "        test_tensor = tf.concat([test_tensor, \n",
    "                                                                 tf.expand_dims(predict_word, axis=0)], axis=-1)\n",
    "\n",
    "        # 우리 모델이 <end>를 예측했거나, max_len에 도달하지 않았다면  while 루프를 또 돌면서 다음 단어를 예측해야 합니다.\n",
    "        if predict_word.numpy()[0] == end_token: break\n",
    "        if test_tensor.shape[1] >= max_len: break\n",
    "\n",
    "    generated = \"\"\n",
    "    # 생성된 tensor 안에 있는 word index를 tokenizer.index_word 사전을 통해 실제 단어로 하나씩 변환합니다. \n",
    "    for word_index in test_tensor[0].numpy():\n",
    "        generated += tokenizer.index_word[word_index] + \" \"\n",
    "\n",
    "    return generated   # 이것이 최종적으로 모델이 생성한 자연어 문장입니다."
   ]
  },
  {
   "cell_type": "code",
   "execution_count": 22,
   "id": "adopted-productivity",
   "metadata": {},
   "outputs": [
    {
     "data": {
      "text/plain": [
       "'<start> i love you <end> '"
      ]
     },
     "execution_count": 22,
     "metadata": {},
     "output_type": "execute_result"
    }
   ],
   "source": [
    "generate_text(model, tokenizer, init_sentence=\"<start> i love\", max_len=20)"
   ]
  },
  {
   "cell_type": "code",
   "execution_count": 23,
   "id": "polish-advice",
   "metadata": {},
   "outputs": [
    {
     "data": {
      "text/plain": [
       "'<start> love is <end> '"
      ]
     },
     "execution_count": 23,
     "metadata": {},
     "output_type": "execute_result"
    }
   ],
   "source": [
    "generate_text(model, tokenizer, init_sentence=\"<start> love is\", max_len=20)"
   ]
  },
  {
   "cell_type": "markdown",
   "id": "vulnerable-chest",
   "metadata": {},
   "source": [
    "## ♠ embedding_size = 512 hidden_size = 2048로 변경"
   ]
  },
  {
   "cell_type": "code",
   "execution_count": 24,
   "id": "thrown-justice",
   "metadata": {},
   "outputs": [],
   "source": [
    "class TextGenerator(tf.keras.Model):\n",
    "    def __init__(self, vocab_size, embedding_size, hidden_size):\n",
    "        super(TextGenerator, self).__init__()\n",
    "        \n",
    "        self.embedding = tf.keras.layers.Embedding(vocab_size, embedding_size)\n",
    "        self.rnn_1 = tf.keras.layers.LSTM(hidden_size, return_sequences=True)\n",
    "        self.rnn_2 = tf.keras.layers.LSTM(hidden_size, return_sequences=True)\n",
    "        self.linear = tf.keras.layers.Dense(vocab_size)\n",
    "        \n",
    "    def call(self, x):\n",
    "        out = self.embedding(x)\n",
    "        out = self.rnn_1(out)\n",
    "        out = self.rnn_2(out)\n",
    "        out = self.linear(out)\n",
    "        \n",
    "        return out\n",
    "    \n",
    "embedding_size = 512\n",
    "hidden_size = 2048\n",
    "model = TextGenerator(tokenizer.num_words + 1, embedding_size , hidden_size)"
   ]
  },
  {
   "cell_type": "code",
   "execution_count": 25,
   "id": "sapphire-importance",
   "metadata": {},
   "outputs": [
    {
     "data": {
      "text/plain": [
       "<tf.Tensor: shape=(256, 14, 12001), dtype=float32, numpy=\n",
       "array([[[-2.46669631e-04,  1.61341333e-04, -2.53406179e-04, ...,\n",
       "         -2.25391093e-04,  1.11982663e-04,  2.35919375e-04],\n",
       "        [-2.88147887e-04,  2.70947989e-04, -3.01268068e-04, ...,\n",
       "         -4.78212896e-04, -1.31551249e-04,  4.22345824e-04],\n",
       "        [-1.15825096e-04,  1.32440691e-04, -1.50222419e-04, ...,\n",
       "         -1.79727343e-04, -1.43672238e-04,  2.83025089e-04],\n",
       "        ...,\n",
       "        [ 3.43603641e-03,  1.73624232e-03, -3.25252954e-03, ...,\n",
       "         -1.71671412e-03,  1.78942131e-03,  1.37091812e-03],\n",
       "        [ 4.15198412e-03,  1.73218211e-03, -3.56824277e-03, ...,\n",
       "         -1.77423307e-03,  2.11849553e-03,  1.51169312e-03],\n",
       "        [ 4.80539445e-03,  1.70333835e-03, -3.81624978e-03, ...,\n",
       "         -1.80688512e-03,  2.42405711e-03,  1.59991882e-03]],\n",
       "\n",
       "       [[-2.46669631e-04,  1.61341333e-04, -2.53406179e-04, ...,\n",
       "         -2.25391093e-04,  1.11982663e-04,  2.35919375e-04],\n",
       "        [-2.88147887e-04,  2.70947989e-04, -3.01268068e-04, ...,\n",
       "         -4.78212896e-04, -1.31551249e-04,  4.22345824e-04],\n",
       "        [-2.67956057e-04,  3.73468240e-04, -6.22751424e-04, ...,\n",
       "         -7.92489096e-04, -2.50235171e-04,  4.01117810e-04],\n",
       "        ...,\n",
       "        [ 3.67138023e-03,  1.74140453e-03, -3.41548887e-03, ...,\n",
       "         -2.36320775e-03,  1.81485084e-03,  1.15163357e-03],\n",
       "        [ 4.35219193e-03,  1.73824339e-03, -3.64895165e-03, ...,\n",
       "         -2.25089001e-03,  2.15899618e-03,  1.28668407e-03],\n",
       "        [ 4.97610401e-03,  1.70623267e-03, -3.83242476e-03, ...,\n",
       "         -2.14038743e-03,  2.47696764e-03,  1.37931120e-03]],\n",
       "\n",
       "       [[-2.46669631e-04,  1.61341333e-04, -2.53406179e-04, ...,\n",
       "         -2.25391093e-04,  1.11982663e-04,  2.35919375e-04],\n",
       "        [-1.72610002e-04,  1.83418815e-04, -4.73095628e-04, ...,\n",
       "         -6.11086027e-04,  1.90207604e-04,  2.37347602e-04],\n",
       "        [-4.62623575e-04,  2.40893743e-04, -3.32071795e-04, ...,\n",
       "         -1.21815689e-03,  1.72445114e-04, -1.58611674e-05],\n",
       "        ...,\n",
       "        [ 4.89147007e-03,  1.52602606e-03, -3.87441530e-03, ...,\n",
       "         -2.00564973e-03,  2.90463655e-03,  1.74245960e-03],\n",
       "        [ 5.45960199e-03,  1.50443637e-03, -4.03333455e-03, ...,\n",
       "         -1.95112731e-03,  3.13973310e-03,  1.75418460e-03],\n",
       "        [ 5.96362771e-03,  1.47451716e-03, -4.14688839e-03, ...,\n",
       "         -1.89680036e-03,  3.34692118e-03,  1.74390734e-03]],\n",
       "\n",
       "       ...,\n",
       "\n",
       "       [[-2.46669631e-04,  1.61341333e-04, -2.53406179e-04, ...,\n",
       "         -2.25391093e-04,  1.11982663e-04,  2.35919375e-04],\n",
       "        [-3.31693096e-04, -1.16148709e-04, -4.30818211e-04, ...,\n",
       "         -4.42047021e-04,  1.75533380e-04,  1.63735778e-04],\n",
       "        [-6.47172565e-04, -1.85581113e-04, -3.08826653e-04, ...,\n",
       "         -8.34350067e-04,  2.64580362e-04, -2.62075657e-04],\n",
       "        ...,\n",
       "        [ 3.96922603e-03,  1.49765308e-03, -3.76457861e-03, ...,\n",
       "         -1.77561399e-03,  2.57701171e-03,  1.53535267e-03],\n",
       "        [ 4.66402760e-03,  1.47808867e-03, -4.00839839e-03, ...,\n",
       "         -1.72965822e-03,  2.81511643e-03,  1.61831139e-03],\n",
       "        [ 5.28472383e-03,  1.44416955e-03, -4.18727379e-03, ...,\n",
       "         -1.68663030e-03,  3.03097069e-03,  1.66172418e-03]],\n",
       "\n",
       "       [[-2.46669631e-04,  1.61341333e-04, -2.53406179e-04, ...,\n",
       "         -2.25391093e-04,  1.11982663e-04,  2.35919375e-04],\n",
       "        [-5.71059587e-04,  3.24520806e-04, -5.02403011e-04, ...,\n",
       "         -1.44244477e-04,  6.86095791e-06,  4.31483204e-04],\n",
       "        [-9.45984444e-04,  4.48811130e-04, -3.29690811e-04, ...,\n",
       "         -8.37279440e-05, -2.03422867e-04,  6.98937452e-04],\n",
       "        ...,\n",
       "        [ 1.21551310e-03,  2.39524525e-03, -3.25151347e-03, ...,\n",
       "         -9.30052483e-04,  7.70448823e-04,  1.78301020e-03],\n",
       "        [ 2.13104510e-03,  2.40782998e-03, -3.66087793e-03, ...,\n",
       "         -1.03115942e-03,  1.24460028e-03,  1.93667074e-03],\n",
       "        [ 3.00225988e-03,  2.37000990e-03, -3.98666784e-03, ...,\n",
       "         -1.11473817e-03,  1.68088661e-03,  2.02277047e-03]],\n",
       "\n",
       "       [[-2.46669631e-04,  1.61341333e-04, -2.53406179e-04, ...,\n",
       "         -2.25391093e-04,  1.11982663e-04,  2.35919375e-04],\n",
       "        [-3.78078083e-04,  5.73363039e-04, -5.79005748e-04, ...,\n",
       "         -7.60345893e-06, -2.01906645e-04,  4.95111046e-04],\n",
       "        [-4.18403593e-04,  7.45172321e-04, -6.74676558e-04, ...,\n",
       "         -1.74628494e-05, -5.97293547e-04,  5.97598148e-04],\n",
       "        ...,\n",
       "        [ 2.89789401e-03,  1.77430222e-03, -3.38247465e-03, ...,\n",
       "         -1.63717195e-03,  2.02379725e-03,  1.41537981e-03],\n",
       "        [ 3.68129765e-03,  1.78989745e-03, -3.64357629e-03, ...,\n",
       "         -1.68058893e-03,  2.34110886e-03,  1.49416691e-03],\n",
       "        [ 4.39792778e-03,  1.77317648e-03, -3.84358596e-03, ...,\n",
       "         -1.70654664e-03,  2.63012387e-03,  1.53769401e-03]]],\n",
       "      dtype=float32)>"
      ]
     },
     "execution_count": 25,
     "metadata": {},
     "output_type": "execute_result"
    }
   ],
   "source": [
    "for src_sample, tgt_sample in dataset.take(1): break\n",
    "model(src_sample)"
   ]
  },
  {
   "cell_type": "code",
   "execution_count": 26,
   "id": "previous-writing",
   "metadata": {},
   "outputs": [
    {
     "name": "stdout",
     "output_type": "stream",
     "text": [
      "Model: \"text_generator_1\"\n",
      "_________________________________________________________________\n",
      "Layer (type)                 Output Shape              Param #   \n",
      "=================================================================\n",
      "embedding_1 (Embedding)      multiple                  6144512   \n",
      "_________________________________________________________________\n",
      "lstm_2 (LSTM)                multiple                  20979712  \n",
      "_________________________________________________________________\n",
      "lstm_3 (LSTM)                multiple                  33562624  \n",
      "_________________________________________________________________\n",
      "dense_1 (Dense)              multiple                  24590049  \n",
      "=================================================================\n",
      "Total params: 85,276,897\n",
      "Trainable params: 85,276,897\n",
      "Non-trainable params: 0\n",
      "_________________________________________________________________\n"
     ]
    }
   ],
   "source": [
    "model.summary()"
   ]
  },
  {
   "cell_type": "code",
   "execution_count": 27,
   "id": "commercial-being",
   "metadata": {},
   "outputs": [
    {
     "name": "stdout",
     "output_type": "stream",
     "text": [
      "Epoch 1/30\n",
      "44/44 [==============================] - 18s 409ms/step - loss: 2.2488 - val_loss: 1.4306\n",
      "Epoch 2/30\n",
      "44/44 [==============================] - 18s 404ms/step - loss: 1.2880 - val_loss: 1.2764\n",
      "Epoch 3/30\n",
      "44/44 [==============================] - 18s 408ms/step - loss: 1.1990 - val_loss: 1.2455\n",
      "Epoch 4/30\n",
      "44/44 [==============================] - 18s 399ms/step - loss: 1.1595 - val_loss: 1.2318\n",
      "Epoch 5/30\n",
      "44/44 [==============================] - 17s 393ms/step - loss: 1.1312 - val_loss: 1.2126\n",
      "Epoch 6/30\n",
      "44/44 [==============================] - 18s 402ms/step - loss: 1.1035 - val_loss: 1.1982\n",
      "Epoch 7/30\n",
      "44/44 [==============================] - 18s 412ms/step - loss: 1.2394 - val_loss: 1.2192\n",
      "Epoch 8/30\n",
      "44/44 [==============================] - 18s 412ms/step - loss: 1.0868 - val_loss: 1.1840\n",
      "Epoch 9/30\n",
      "44/44 [==============================] - 18s 411ms/step - loss: 1.0499 - val_loss: 1.1648\n",
      "Epoch 10/30\n",
      "44/44 [==============================] - 18s 415ms/step - loss: 1.0214 - val_loss: 1.1474\n",
      "Epoch 11/30\n",
      "44/44 [==============================] - 18s 413ms/step - loss: 0.9940 - val_loss: 1.1311\n",
      "Epoch 12/30\n",
      "44/44 [==============================] - 18s 414ms/step - loss: 0.9667 - val_loss: 1.1147\n",
      "Epoch 13/30\n",
      "44/44 [==============================] - 18s 416ms/step - loss: 0.9405 - val_loss: 1.1039\n",
      "Epoch 14/30\n",
      "44/44 [==============================] - 18s 414ms/step - loss: 0.9169 - val_loss: 1.0946\n",
      "Epoch 15/30\n",
      "44/44 [==============================] - 18s 412ms/step - loss: 0.8941 - val_loss: 1.0839\n",
      "Epoch 16/30\n",
      "44/44 [==============================] - 18s 411ms/step - loss: 0.8734 - val_loss: 1.0751\n",
      "Epoch 17/30\n",
      "44/44 [==============================] - 18s 411ms/step - loss: 0.8529 - val_loss: 1.0647\n",
      "Epoch 18/30\n",
      "44/44 [==============================] - 18s 412ms/step - loss: 0.8330 - val_loss: 1.0545\n",
      "Epoch 19/30\n",
      "44/44 [==============================] - 18s 415ms/step - loss: 0.8166 - val_loss: 1.0517\n",
      "Epoch 20/30\n",
      "44/44 [==============================] - 18s 420ms/step - loss: 0.7987 - val_loss: 1.0460\n",
      "Epoch 21/30\n",
      "44/44 [==============================] - 18s 417ms/step - loss: 0.7836 - val_loss: 1.0404\n",
      "Epoch 22/30\n",
      "44/44 [==============================] - 18s 419ms/step - loss: 0.7689 - val_loss: 1.0371\n",
      "Epoch 23/30\n",
      "44/44 [==============================] - 18s 420ms/step - loss: 0.7547 - val_loss: 1.0337\n",
      "Epoch 24/30\n",
      "44/44 [==============================] - 19s 423ms/step - loss: 0.7426 - val_loss: 1.0302\n",
      "Epoch 25/30\n",
      "44/44 [==============================] - 18s 413ms/step - loss: 0.7311 - val_loss: 1.0266\n",
      "Epoch 26/30\n",
      "44/44 [==============================] - 18s 417ms/step - loss: 0.7198 - val_loss: 1.0295\n",
      "Epoch 27/30\n",
      "44/44 [==============================] - 18s 417ms/step - loss: 0.7099 - val_loss: 1.0231\n",
      "Epoch 28/30\n",
      "44/44 [==============================] - 18s 420ms/step - loss: 0.7011 - val_loss: 1.0241\n",
      "Epoch 29/30\n",
      "44/44 [==============================] - 19s 421ms/step - loss: 0.6935 - val_loss: 1.0214\n",
      "Epoch 30/30\n",
      "44/44 [==============================] - 19s 426ms/step - loss: 0.6868 - val_loss: 1.0237\n"
     ]
    }
   ],
   "source": [
    "optimizer = tf.keras.optimizers.Adam()\n",
    "loss = tf.keras.losses.SparseCategoricalCrossentropy(\n",
    "    from_logits=True,\n",
    "    reduction='none'\n",
    ")\n",
    "\n",
    "model.compile(loss=loss, optimizer=optimizer)\n",
    "\n",
    "history = model.fit(dataset, epochs=30, validation_data=val_dataset)"
   ]
  },
  {
   "cell_type": "code",
   "execution_count": 28,
   "id": "apparent-bloom",
   "metadata": {},
   "outputs": [
    {
     "name": "stdout",
     "output_type": "stream",
     "text": [
      "dict_keys(['loss', 'val_loss'])\n"
     ]
    }
   ],
   "source": [
    "history_dict = history.history\n",
    "print(history_dict.keys()) # epoch에 따른 그래프를 그려볼 수 있는 항목들"
   ]
  },
  {
   "cell_type": "code",
   "execution_count": 29,
   "id": "ranking-damage",
   "metadata": {},
   "outputs": [
    {
     "data": {
      "image/png": "[encoded data removed]",
      "text/plain": [
       "<Figure size 432x288 with 1 Axes>"
      ]
     },
     "metadata": {
      "needs_background": "light"
     },
     "output_type": "display_data"
    }
   ],
   "source": [
    "import matplotlib.pyplot as plt\n",
    "\n",
    "acc = history_dict['loss']\n",
    "loss = history_dict['loss']\n",
    "val_loss = history_dict['val_loss']\n",
    "\n",
    "epochs = range(1, len(acc) + 1)\n",
    "\n",
    "plt.plot(epochs, loss, 'g', label = \"Loss\")\n",
    "plt.plot(epochs, val_loss, 'r', label = \"Val_loss\")\n",
    "\n",
    "plt.xlabel('Epochs')\n",
    "plt.ylabel('Loss')\n",
    "plt.legend()\n",
    "\n",
    "plt.show()"
   ]
  },
  {
   "cell_type": "code",
   "execution_count": 30,
   "id": "regulated-circulation",
   "metadata": {},
   "outputs": [],
   "source": [
    "def generate_text(model, tokenizer, init_sentence=\"<start>\", max_len=20):\n",
    "    # 테스트를 위해서 입력받은 init_sentence도 일단 텐서로 변환합니다.\n",
    "    test_input = tokenizer.texts_to_sequences([init_sentence])\n",
    "    test_tensor = tf.convert_to_tensor(test_input, dtype=tf.int64)\n",
    "    end_token = tokenizer.word_index[\"<end>\"]\n",
    "\n",
    "    # 텍스트를 실제로 생성할때는 루프를 돌면서 단어 하나씩 생성해야 합니다. \n",
    "    while True:\n",
    "        predict = model(test_tensor)  # 입력받은 문장의 텐서를 입력합니다. \n",
    "        predict_word = tf.argmax(tf.nn.softmax(predict, axis=-1), axis=-1)[:, -1]   # 우리 모델이 예측한 마지막 단어가 바로 새롭게 생성한 단어가 됩니다. \n",
    "\n",
    "        # 우리 모델이 새롭게 예측한 단어를 입력 문장의 뒤에 붙여 줍니다. \n",
    "        test_tensor = tf.concat([test_tensor, \n",
    "                                                                 tf.expand_dims(predict_word, axis=0)], axis=-1)\n",
    "\n",
    "        # 우리 모델이 <end>를 예측했거나, max_len에 도달하지 않았다면  while 루프를 또 돌면서 다음 단어를 예측해야 합니다.\n",
    "        if predict_word.numpy()[0] == end_token: break\n",
    "        if test_tensor.shape[1] >= max_len: break\n",
    "\n",
    "    generated = \"\"\n",
    "    # 생성된 tensor 안에 있는 word index를 tokenizer.index_word 사전을 통해 실제 단어로 하나씩 변환합니다. \n",
    "    for word_index in test_tensor[0].numpy():\n",
    "        generated += tokenizer.index_word[word_index] + \" \"\n",
    "\n",
    "    return generated   # 이것이 최종적으로 모델이 생성한 자연어 문장입니다."
   ]
  },
  {
   "cell_type": "code",
   "execution_count": 31,
   "id": "greek-daniel",
   "metadata": {},
   "outputs": [
    {
     "data": {
      "text/plain": [
       "'<start> i love you <end> '"
      ]
     },
     "execution_count": 31,
     "metadata": {},
     "output_type": "execute_result"
    }
   ],
   "source": [
    "generate_text(model, tokenizer, init_sentence=\"<start> i love\", max_len=20)"
   ]
  },
  {
   "cell_type": "code",
   "execution_count": 32,
   "id": "sudden-violin",
   "metadata": {},
   "outputs": [
    {
     "data": {
      "text/plain": [
       "'<start> love is a woman <end> '"
      ]
     },
     "execution_count": 32,
     "metadata": {},
     "output_type": "execute_result"
    }
   ],
   "source": [
    "generate_text(model, tokenizer, init_sentence=\"<start> love is\", max_len=20)"
   ]
  },
  {
   "cell_type": "markdown",
   "id": "moderate-element",
   "metadata": {},
   "source": [
    "# ◈ 루브릭  \n",
    "\n",
    "아래의 기준을 바탕으로 프로젝트를 평가합니다.  \n",
    "\n",
    "평가문항/상세기준  \n",
    "1. 가사 텍스트 생성 모델이 정상적으로 동작하는가?  \n",
    "텍스트 제너레이션 결과가 그럴듯한 문장으로 생성되는가? \n",
    "\n",
    "\n",
    "2. 데이터의 전처리와 데이터셋 구성 과정이 체계적으로 진행되었는가?  \n",
    "특수문자 제거, 토크나이저 생성, 패딩처리 등의 과정이 빠짐없이 진행되었는가?  \n",
    "\n",
    "\n",
    "3. 텍스트 생성모델이 안정적으로 학습되었는가?  \n",
    "텍스트 생성모델의 validation loss가 2.2 이하로 낮아졌는가?  "
   ]
  },
  {
   "cell_type": "markdown",
   "id": "incorporate-repair",
   "metadata": {},
   "source": [
    "# ◈ 결론 및 고찰 "
   ]
  },
  {
   "cell_type": "markdown",
   "id": "listed-breast",
   "metadata": {},
   "source": [
    "이전에 사용한 txt 파일 보다 더 풍부한 데이터를 사용하여 사전 Index를 만들고, 임베딩 벡터를 만들고, 학습을 해본 결과 start 단어 뒤에 오는 문장이 훨씬 자연스러워 짐을 알 수 있었다.\n",
    "예를 들어 이전에는 `i love` 를 입력했을 때 출력되는 값이 `i love thee not a jar o the clock behind` 였으나, 현재 개선된 학습 모델에서는 `i love`에 대해 `i love you`라고 답변이 나오고, `love is`에 대해서는 `love is it` 이라는 결과가 나옴을 알 수 있었다.   \n",
    "사용되는 정보의 양과 질이 좀더 결과에 좋은 영향을 미치지 않았나 생각해 보며, 또한 15개를 넘어가는 문장을 학습데이터에서 제외하고, 사전의 개수도 `7000에서 12000`으로 늘어난 것도 영향이 있다고 생각된다.  \n",
    "`validation loss결과`는 epoch이 30회 부터 1아래로 떨어지는 경향을 보였다.   \n",
    "embedding_size와 hidden_size를 크게 조절하여 모델 fit이 필요하다고 생각하여 결과를 얻어 보았다. validation loss가 `1.0633`에서 `1.0237`로 떨어져서 루브릭 기준의 2.2보다 더 훨씬 좋은 결과를 얻을 수 있었다. "
   ]
  },
  {
   "cell_type": "code",
   "execution_count": null,
   "id": "wanted-credits",
   "metadata": {},
   "outputs": [],
   "source": []
  }
 ],
 "metadata": {
  "kernelspec": {
   "display_name": "aiffel",
   "language": "python",
   "name": "aiffel"
  },
  "language_info": {
   "codemirror_mode": {
    "name": "ipython",
    "version": 3
   },
   "file_extension": ".py",
   "mimetype": "text/x-python",
   "name": "python",
   "nbconvert_exporter": "python",
   "pygments_lexer": "ipython3",
   "version": "3.7.9"
  }
 },
 "nbformat": 4,
 "nbformat_minor": 5
}
