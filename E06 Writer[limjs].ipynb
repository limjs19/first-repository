{
 "cells": [
  {
   "cell_type": "markdown",
   "id": "unlikely-station",
   "metadata": {},
   "source": [
    "# 6. 프로젝트: 멋진 작사가 만들기"
   ]
  },
  {
   "cell_type": "markdown",
   "id": "loose-samoa",
   "metadata": {},
   "source": [
    "## Step 1. 데이터 다운로드  \n",
    "먼저 아래 링크에서 Song Lyrics 데이터를 다운로드  \n",
    "저장된 파일을 압축 해제한 후, 모든 txt 파일을 lyrics 폴더를 만들어 그 속에 저장  \n",
    "* Song Lyrics  "
   ]
  },
  {
   "cell_type": "markdown",
   "id": "severe-constitutional",
   "metadata": {},
   "source": [
    "## Step 2. 데이터 읽어오기\n",
    "glob 모듈을 사용하면 파일을 읽어오는 작업을 하기  \n",
    "glob 를 활용하여 모든 txt 파일을 읽어온 후, raw_corpus 리스트에 문장 단위로 저장"
   ]
  },
  {
   "cell_type": "code",
   "execution_count": 1,
   "id": "average-queue",
   "metadata": {},
   "outputs": [
    {
     "name": "stdout",
     "output_type": "stream",
     "text": [
      "데이터 크기: 187088\n",
      "Examples:\n",
      " ['Ooh....... New York x2 Grew up in a town that is famous as a place of movie scenes', 'Noise is always loud, there are sirens all around and the streets are mean', \"If I can make it here, I can make it anywhere, that's what they say\"]\n"
     ]
    }
   ],
   "source": [
    "import glob\n",
    "import os\n",
    "import re                  # 정규표현식을 위한 Regex 지원 모듈 (문장 데이터를 정돈하기 위해) \n",
    "import numpy as np         # 변환된 문장 데이터(행렬)을 편하게 처리하기 위해\n",
    "import tensorflow as tf    # 대망의 텐서플로우!\n",
    "\n",
    "from tensorflow import keras\n",
    "\n",
    "\n",
    "txt_file_path = os.getenv('HOME')+'/aiffel/lyricist/data/lyrics/*'\n",
    "txt_list = glob.glob(txt_file_path)\n",
    "\n",
    "raw_corpus = []\n",
    "\n",
    "# 여러개의 txt 파일을 모두 읽어서 raw_corpus에 담습니다.\n",
    "for txt_file in txt_list:\n",
    "    with open(txt_file, \"r\") as f:\n",
    "        raw = f.read().splitlines()\n",
    "        raw_corpus.extend(raw)\n",
    "\n",
    "print(\"데이터 크기:\", len(raw_corpus))\n",
    "print(\"Examples:\\n\", raw_corpus[:3])"
   ]
  },
  {
   "cell_type": "markdown",
   "id": "generic-birth",
   "metadata": {},
   "source": [
    "## Step 3. 데이터 정제  \n",
    "* 앞서 배운 테크닉들을 활용해 문장 생성에 적합한 모양새로 데이터를 정제  \n",
    "* preprocess_sentence() 함수를 활용해 데이터를 정제  \n",
    "* 긴 문장은 다른 데이터들이 과도한 Padding을 갖게 하므로 제거  \n",
    "* 토큰의 개수가 15개를 넘어가는 문장을 학습데이터에서 제외  "
   ]
  },
  {
   "cell_type": "code",
   "execution_count": 2,
   "id": "offshore-romantic",
   "metadata": {},
   "outputs": [
    {
     "name": "stdout",
     "output_type": "stream",
     "text": [
      "0 Ooh....... New York x2 Grew up in a town that is famous as a place of movie scenes\n",
      "1 Noise is always loud, there are sirens all around and the streets are mean\n",
      "2 If I can make it here, I can make it anywhere, that's what they say\n",
      "3 Seeing my face in lights or my name on marquees found down on Broadway Even if it ain't all it seems, I got a pocket full of dreams\n",
      "4 Baby, I'm from New York\n",
      "5 Concrete jungle where dreams are made of\n",
      "6 There's nothing you can't do\n",
      "7 Now you're in New York\n",
      "8 These streets will make you feel brand new\n",
      "9 Big lights will inspire you\n"
     ]
    }
   ],
   "source": [
    "for idx, sentence in enumerate(raw_corpus):\n",
    "    if len(sentence) == 0: continue   # 길이가 0인 문장은 건너뜁니다.\n",
    "    if sentence[-1] == \":\": continue  # 문장의 끝이 : 인 문장은 건너뜁니다.\n",
    "\n",
    "    if idx > 9: break   # 일단 문장 10개만 확인해 볼 겁니다.\n",
    "        \n",
    "    print(idx,sentence)"
   ]
  },
  {
   "cell_type": "code",
   "execution_count": 3,
   "id": "distinct-harmony",
   "metadata": {},
   "outputs": [
    {
     "name": "stdout",
     "output_type": "stream",
     "text": [
      "<start> this is sample sentence . <end>\n"
     ]
    }
   ],
   "source": [
    "def preprocess_sentence(sentence):\n",
    "    sentence = sentence.lower().strip()       \n",
    "    # 소문자로 바꾸고 양쪽 공백을 삭제\n",
    "  \n",
    "    # 아래 3단계를 거쳐 sentence는 스페이스 1개를 delimeter로 하는 소문자 단어 시퀀스로 바뀝니다.\n",
    "    sentence = re.sub(r\"([?.!,¿])\", r\" \\1 \", sentence)        \n",
    "    # 패턴의 특수문자를 만나면 특수문자 양쪽에 공백을 추가\n",
    "    sentence = re.sub(r'[\" \"]+', \" \", sentence)                  \n",
    "    # 공백 패턴을 만나면 스페이스 1개로 치환\n",
    "    sentence = re.sub(r\"[^a-zA-Z?.!,¿]+\", \" \", sentence)  \n",
    "    # a-zA-Z?.!,¿ 패턴을 제외한 모든 문자(공백문자까지도)를 스페이스 1개로 치환\n",
    "\n",
    "    sentence = sentence.strip()\n",
    "\n",
    "    sentence = '<start> ' + sentence + ' <end>'      \n",
    "    # 이전 스텝에서 본 것처럼 문장 앞뒤로 <start>와 <end>를 단어처럼 붙여 줍니다\n",
    "    \n",
    "    return sentence\n",
    "\n",
    "print(preprocess_sentence(\"This @_is ;;;sample        sentence.\"))   \n",
    "# 이 문장이 어떻게 필터링되는지 확인해 보세요."
   ]
  },
  {
   "cell_type": "code",
   "execution_count": 4,
   "id": "differential-scanning",
   "metadata": {},
   "outputs": [
    {
     "data": {
      "text/plain": [
       "['<start> ooh . . . . . . . new york x grew up in a town that is famous as a place of movie scenes <end>',\n",
       " '<start> noise is always loud , there are sirens all around and the streets are mean <end>',\n",
       " '<start> if i can make it here , i can make it anywhere , that s what they say <end>',\n",
       " '<start> baby , i m from new york <end>',\n",
       " '<start> concrete jungle where dreams are made of <end>',\n",
       " '<start> there s nothing you can t do <end>',\n",
       " '<start> now you re in new york <end>',\n",
       " '<start> these streets will make you feel brand new <end>',\n",
       " '<start> big lights will inspire you <end>',\n",
       " '<start> such a melting pot , on the corner selling rock , preachers pray to god <end>']"
      ]
     },
     "execution_count": 4,
     "metadata": {},
     "output_type": "execute_result"
    }
   ],
   "source": [
    "# 문장 길이 긴 것 빼고 다시 \n",
    "corpus = []\n",
    "\n",
    "for sentence in raw_corpus:\n",
    "    \n",
    "    if len(sentence) == 0: continue\n",
    "    #if len(sentence) > 15: continue   #character 15개로 하면 앞쪽 문장 일부만 사용하게 된다. \n",
    "    if sentence[-1] == \":\": continue       \n",
    "    if len(sentence.split()) <= 20:    #문장에 대한 split()으로 단어의 개수를 확인하여 20개 단어 이내로 자름\n",
    "        \n",
    "        corpus.append(preprocess_sentence(sentence))\n",
    "        \n",
    "corpus[:10]"
   ]
  },
  {
   "cell_type": "code",
   "execution_count": 5,
   "id": "declared-potato",
   "metadata": {},
   "outputs": [
    {
     "name": "stdout",
     "output_type": "stream",
     "text": [
      "문장 길이의 평균 :  50.3284554809689\n",
      "문장 길이의 최대 :  146\n",
      "문장 길이 표준 편차 :  17.34856691852576\n",
      "pad_sequences maxlen :  119\n",
      "전체 문장의 0.9988092978308513%가 maxlen 설정값 이내에 포함됩니다.\n"
     ]
    }
   ],
   "source": [
    "total_data_text = list(corpus)\n",
    "\n",
    "#텍스트 데이터 문장길이의 리스트를 생성\n",
    "num_tokens = [len(tokens) for tokens in total_data_text]\n",
    "num_tokens = np.array(num_tokens)\n",
    "\n",
    "#문장 길이의 평균값, 최대값, 표준편차를 계산\n",
    "print(\"문장 길이의 평균 : \", np.mean(num_tokens))\n",
    "print(\"문장 길이의 최대 : \", np.max(num_tokens))\n",
    "print(\"문장 길이 표준 편차 : \", np.std(num_tokens))\n",
    "\n",
    "#최대 길이 (평균 + 4*표준편차) 너무 길면 시간이 오래 걸린다. \n",
    "max_tokens = np.mean(num_tokens) +4*np.std(num_tokens)\n",
    "maxlen = int(max_tokens)\n",
    "print(\"pad_sequences maxlen : \", maxlen)\n",
    "print(\"전체 문장의 {}%가 maxlen 설정값 이내에 포함됩니다.\".format(np.sum(num_tokens<max_tokens)/len(num_tokens)))"
   ]
  },
  {
   "cell_type": "code",
   "execution_count": 6,
   "id": "another-punch",
   "metadata": {},
   "outputs": [
    {
     "name": "stderr",
     "output_type": "stream",
     "text": [
      "/home/aiffel-dj56/anaconda3/envs/aiffel/lib/python3.7/site-packages/seaborn/distributions.py:2557: FutureWarning: `distplot` is a deprecated function and will be removed in a future version. Please adapt your code to use either `displot` (a figure-level function with similar flexibility) or `histplot` (an axes-level function for histograms).\n",
      "  warnings.warn(msg, FutureWarning)\n"
     ]
    },
    {
     "data": {
      "image/png": "[encoded data removed]",
      "text/plain": [
       "<Figure size 432x288 with 1 Axes>"
      ]
     },
     "metadata": {
      "needs_background": "light"
     },
     "output_type": "display_data"
    }
   ],
   "source": [
    "import matplotlib.pyplot as plt\n",
    "import seaborn as sns\n",
    "\n",
    "#문장 길이 분포 확인\n",
    "plt.rcParams['figure.figsize'] = (6, 4)\n",
    "plt.rcParams['grid.color'] = '#F0F0F0'\n",
    "plt.rcParams['grid.linestyle'] = 'solid'\n",
    "sns.distplot(num_tokens)\n",
    "plt.style.use(\"bmh\")\n",
    "plt.show()"
   ]
  },
  {
   "cell_type": "code",
   "execution_count": 7,
   "id": "naughty-console",
   "metadata": {},
   "outputs": [
    {
     "name": "stdout",
     "output_type": "stream",
     "text": [
      "[[  21   21  150 ...  959 4113    3]\n",
      " [   2 1406   26 ...    0    0    0]\n",
      " [   2   52    5 ...   45   68    3]\n",
      " ...\n",
      " [   2    9  150 ...    0    0    0]\n",
      " [   2    8    9 ...    0    0    0]\n",
      " [   2    6 3209 ...    0    0    0]] <keras_preprocessing.text.Tokenizer object at 0x7f457135add0>\n"
     ]
    }
   ],
   "source": [
    "def tokenize(corpus):\n",
    "    # 텐서플로우에서 제공하는 Tokenizer 패키지를 생성\n",
    "    tokenizer = tf.keras.preprocessing.text.Tokenizer(\n",
    "        num_words=12000,  # 전체 단어의 개수 \n",
    "        filters=' ',    # 별도로 전처리 로직을 추가할 수 있습니다. 이번에는 사용하지 않겠습니다.\n",
    "        oov_token=\"<unk>\"  # out-of-vocabulary, 사전에 없었던 단어는 어떤 토큰으로 대체할지\n",
    "    )\n",
    "    tokenizer.fit_on_texts(corpus)   # 우리가 구축한 corpus로부터 Tokenizer가 사전을 자동구축하게 됩니다.\n",
    "\n",
    "    # 이후 tokenizer를 활용하여 모델에 입력할 데이터셋을 구축하게 됩니다.\n",
    "    tensor = tokenizer.texts_to_sequences(corpus)   # tokenizer는 구축한 사전으로부터 corpus를 해석해 Tensor로 변환합니다.\n",
    "\n",
    "    # 입력 데이터의 시퀀스 길이를 일정하게 맞추기 위한 padding  메소드를 제공합니다.\n",
    "    # maxlen의 디폴트값은 None입니다. 이 경우 corpus의 가장 긴 문장을 기준으로 시퀀스 길이가 맞춰집니다.\n",
    "    tensor = tf.keras.preprocessing.sequence.pad_sequences(tensor, maxlen = 20, padding='post')  \n",
    "\n",
    "    print(tensor,tokenizer)\n",
    "    return tensor, tokenizer\n",
    "\n",
    "tensor, tokenizer = tokenize(corpus)"
   ]
  },
  {
   "cell_type": "code",
   "execution_count": 8,
   "id": "wound-classics",
   "metadata": {},
   "outputs": [
    {
     "name": "stdout",
     "output_type": "stream",
     "text": [
      "[[  21   21  150  612  448 1394   29   14    9  373]\n",
      " [   2 1406   26  171  925    4   64   77 3792   25]\n",
      " [   2   52    5   32   72   11   92    4    5   32]]\n"
     ]
    }
   ],
   "source": [
    "print(tensor[:3, :10])"
   ]
  },
  {
   "cell_type": "code",
   "execution_count": 9,
   "id": "extreme-spectrum",
   "metadata": {},
   "outputs": [
    {
     "data": {
      "text/plain": [
       "20"
      ]
     },
     "execution_count": 9,
     "metadata": {},
     "output_type": "execute_result"
    }
   ],
   "source": [
    "#데이터 길이 확인\n",
    "len(tensor[1])"
   ]
  },
  {
   "cell_type": "code",
   "execution_count": 10,
   "id": "derived-movie",
   "metadata": {},
   "outputs": [
    {
     "data": {
      "text/plain": [
       "array([   2, 1406,   26,  171,  925,    4,   64,   77, 3792,   25,  140,\n",
       "          8,    6,  485,   77,  249,    3,    0,    0,    0], dtype=int32)"
      ]
     },
     "execution_count": 10,
     "metadata": {},
     "output_type": "execute_result"
    }
   ],
   "source": [
    "tensor[1]"
   ]
  },
  {
   "cell_type": "code",
   "execution_count": 11,
   "id": "hungarian-september",
   "metadata": {},
   "outputs": [
    {
     "name": "stdout",
     "output_type": "stream",
     "text": [
      "1 : <unk>\n",
      "2 : <start>\n",
      "3 : <end>\n",
      "4 : ,\n",
      "5 : i\n",
      "6 : the\n",
      "7 : you\n",
      "8 : and\n",
      "9 : a\n",
      "10 : to\n",
      "27263\n"
     ]
    }
   ],
   "source": [
    "for idx in tokenizer.index_word:\n",
    "    print(idx, \":\", tokenizer.index_word[idx])\n",
    "\n",
    "    if idx >= 10: break\n",
    "     \n",
    "print(len(tokenizer.index_word))"
   ]
  },
  {
   "cell_type": "code",
   "execution_count": 12,
   "id": "express-citizenship",
   "metadata": {},
   "outputs": [
    {
     "name": "stdout",
     "output_type": "stream",
     "text": [
      "[  21   21  150  612  448 1394   29   14    9  373   17   26 1335   81\n",
      "    9  250   19  959 4113]\n",
      "[  21  150  612  448 1394   29   14    9  373   17   26 1335   81    9\n",
      "  250   19  959 4113    3]\n"
     ]
    }
   ],
   "source": [
    "src_input = tensor[:, :-1]  \n",
    "# tensor에서 마지막 토큰을 잘라내서 소스 문장을 생성합니다. \n",
    "#마지막 토큰은 <end>가 아니라 <pad>일 가능성이 높습니다.\n",
    "tgt_input = tensor[:, 1:]    # tensor에서 <start>를 잘라내서 타겟 문장을 생성합니다.\n",
    "\n",
    "print(src_input[0])\n",
    "print(tgt_input[0])"
   ]
  },
  {
   "cell_type": "markdown",
   "id": "satisfied-statement",
   "metadata": {},
   "source": [
    "## Step 4. 평가 데이터셋 분리\n",
    "\n",
    "* 훈련 데이터와 평가 데이터를 분리  \n",
    "* tokenize() 함수로 데이터를 Tensor로 변환한 후,  \n",
    "* sklearn 모듈의 train_test_split() 함수를 사용해 훈련 데이터와 평가 데이터를 분리  \n",
    "* 단어장의 크기는 12,000 이상으로 설정\n",
    "* 총 데이터의 20%를 평가 데이터셋으로 사용\n",
    "\n",
    "enc_train, enc_val, dec_train, dec_val = <코드 작성>  \n",
    "여기까지 올바르게 진행했을 경우, 아래 실행 결과를 확인  \n",
    "\n",
    "print(\"Source Train:\", enc_train.shape)  \n",
    "print(\"Target Train:\", dec_train.shape)  \n",
    "out:  \n",
    "\n",
    "Source Train: (124960, 14)  \n",
    "Target Train: (124960, 14)  "
   ]
  },
  {
   "cell_type": "code",
   "execution_count": 13,
   "id": "painted-reason",
   "metadata": {},
   "outputs": [
    {
     "name": "stdout",
     "output_type": "stream",
     "text": [
      "Source Train: (139077, 19)\n",
      "Target Train: (139077, 19)\n",
      "Source Val: (34770, 19)\n",
      "Target Val: (34770, 19)\n"
     ]
    }
   ],
   "source": [
    "from sklearn.model_selection import train_test_split\n",
    "\n",
    "enc_train, enc_val, dec_train, dec_val = train_test_split(src_input, tgt_input, test_size=0.2)\n",
    "print(\"Source Train:\", enc_train.shape)  \n",
    "print(\"Target Train:\", dec_train.shape)  \n",
    "print(\"Source Val:\", enc_val.shape)\n",
    "print(\"Target Val:\", dec_val.shape)\n",
    "#학습데이터 갯수 124960보다 작은 결과?"
   ]
  },
  {
   "cell_type": "code",
   "execution_count": 14,
   "id": "smaller-essay",
   "metadata": {},
   "outputs": [
    {
     "name": "stdout",
     "output_type": "stream",
     "text": [
      "173847\n",
      "679\n",
      "12001\n"
     ]
    },
    {
     "data": {
      "text/plain": [
       "<BatchDataset shapes: ((256, 19), (256, 19)), types: (tf.int32, tf.int32)>"
      ]
     },
     "execution_count": 14,
     "metadata": {},
     "output_type": "execute_result"
    }
   ],
   "source": [
    "BUFFER_SIZE = len(src_input)\n",
    "BATCH_SIZE = 256\n",
    "steps_per_epoch = len(src_input) // BATCH_SIZE\n",
    "print(BUFFER_SIZE)\n",
    "\n",
    "print(steps_per_epoch)\n",
    "VOCAB_SIZE = tokenizer.num_words + 1    # tokenizer가 구축한 단어사전 내 7000개와, 여기 포함되지 않은 0:<pad>를 포함하여 7001개\n",
    "print(VOCAB_SIZE)\n",
    "\n",
    "dataset = tf.data.Dataset.from_tensor_slices((enc_train, dec_train)).shuffle(BUFFER_SIZE)\n",
    "dataset = dataset.batch(BATCH_SIZE, drop_remainder=True)\n",
    "dataset\n",
    "\n",
    "val_dataset = tf.data.Dataset.from_tensor_slices((enc_val, dec_val)).shuffle(BUFFER_SIZE)\n",
    "val_dataset = val_dataset.batch(BATCH_SIZE, drop_remainder=True)\n",
    "val_dataset"
   ]
  },
  {
   "cell_type": "markdown",
   "id": "changing-fever",
   "metadata": {},
   "source": [
    "## Step 5. 인공지능 만들기  \n",
    "모델의 Embedding Size와 Hidden Size를 조절  \n",
    "10 Epoch 안에 val_loss 값을 2.2 수준으로 줄일 수 있는 모델을 설계  \n",
    "(Loss는 아래 제시된 Loss 함수를 그대로 사용!)   \n",
    "멋진 모델이 생성한 가사 한 줄을 제출  "
   ]
  },
  {
   "cell_type": "code",
   "execution_count": 15,
   "id": "associate-layout",
   "metadata": {},
   "outputs": [],
   "source": [
    "class TextGenerator(tf.keras.Model):\n",
    "    def __init__(self, vocab_size, embedding_size, hidden_size):\n",
    "        super(TextGenerator, self).__init__()\n",
    "        \n",
    "        self.embedding = tf.keras.layers.Embedding(vocab_size, embedding_size)\n",
    "        self.rnn_1 = tf.keras.layers.LSTM(hidden_size, return_sequences=True)\n",
    "        self.rnn_2 = tf.keras.layers.LSTM(hidden_size, return_sequences=True)\n",
    "        self.linear = tf.keras.layers.Dense(vocab_size)\n",
    "        \n",
    "    def call(self, x):\n",
    "        out = self.embedding(x)\n",
    "        out = self.rnn_1(out)\n",
    "        out = self.rnn_2(out)\n",
    "        out = self.linear(out)\n",
    "        \n",
    "        return out\n",
    "    \n",
    "embedding_size = 256\n",
    "hidden_size = 1024\n",
    "model = TextGenerator(tokenizer.num_words + 1, embedding_size , hidden_size)"
   ]
  },
  {
   "cell_type": "code",
   "execution_count": 16,
   "id": "respected-dream",
   "metadata": {},
   "outputs": [
    {
     "data": {
      "text/plain": [
       "<tf.Tensor: shape=(256, 19, 12001), dtype=float32, numpy=\n",
       "array([[[ 5.00359165e-05,  1.52397406e-04, -1.30384178e-05, ...,\n",
       "          6.21494291e-06, -8.47407428e-05, -3.45385961e-05],\n",
       "        [ 2.95125355e-05,  1.68066385e-04, -1.76794128e-04, ...,\n",
       "          7.60986586e-05, -2.36674387e-04,  4.27971318e-05],\n",
       "        [ 6.55065669e-05,  2.70470220e-04, -8.36355975e-05, ...,\n",
       "          1.20647521e-04, -3.42606887e-04, -4.43542012e-05],\n",
       "        ...,\n",
       "        [-9.44517204e-04, -2.33676960e-03, -5.43027418e-04, ...,\n",
       "          2.19126305e-04, -2.23468058e-03, -1.23671349e-03],\n",
       "        [-9.88299493e-04, -2.33864784e-03, -5.27808210e-04, ...,\n",
       "          2.50323559e-04, -2.35582702e-03, -1.31327088e-03],\n",
       "        [-1.02098670e-03, -2.32676556e-03, -5.11482125e-04, ...,\n",
       "          2.72244943e-04, -2.46392703e-03, -1.37925067e-03]],\n",
       "\n",
       "       [[ 5.00359165e-05,  1.52397406e-04, -1.30384178e-05, ...,\n",
       "          6.21494291e-06, -8.47407428e-05, -3.45385961e-05],\n",
       "        [ 1.95103485e-06,  3.52921255e-04,  2.09167833e-04, ...,\n",
       "         -4.39460964e-05, -1.76140857e-05,  2.46819312e-04],\n",
       "        [ 3.21960426e-04,  2.13872801e-04,  4.59198258e-04, ...,\n",
       "         -1.14562245e-04,  6.80866578e-05,  2.69035023e-04],\n",
       "        ...,\n",
       "        [-8.71679047e-04, -2.23942986e-03, -4.69282648e-04, ...,\n",
       "         -1.06130181e-04, -2.03151046e-03, -6.27094880e-04],\n",
       "        [-9.65022948e-04, -2.29256647e-03, -4.46334685e-04, ...,\n",
       "         -1.89190687e-05, -2.17175856e-03, -8.01976363e-04],\n",
       "        [-1.03616179e-03, -2.31989007e-03, -4.24539845e-04, ...,\n",
       "          5.48398057e-05, -2.29630386e-03, -9.55095573e-04]],\n",
       "\n",
       "       [[ 5.00359165e-05,  1.52397406e-04, -1.30384178e-05, ...,\n",
       "          6.21494291e-06, -8.47407428e-05, -3.45385961e-05],\n",
       "        [-1.09136883e-04, -5.79243715e-05,  1.98060734e-04, ...,\n",
       "         -8.88825889e-05,  6.14278588e-06, -1.56537950e-04],\n",
       "        [-6.71374437e-05, -9.46111832e-05,  2.57854495e-04, ...,\n",
       "         -1.21119265e-04,  3.14451347e-04, -3.36486009e-05],\n",
       "        ...,\n",
       "        [-4.81362280e-04, -2.26363144e-03, -4.82606090e-04, ...,\n",
       "          2.57603751e-05, -2.37417896e-03, -1.00535143e-03],\n",
       "        [-5.96351048e-04, -2.30084686e-03, -4.84895892e-04, ...,\n",
       "          9.95915325e-05, -2.49399943e-03, -1.12120470e-03],\n",
       "        [-6.91977388e-04, -2.31578434e-03, -4.83096112e-04, ...,\n",
       "          1.59229108e-04, -2.59681791e-03, -1.22174108e-03]],\n",
       "\n",
       "       ...,\n",
       "\n",
       "       [[-5.49835568e-05,  2.60509132e-05,  9.75822913e-05, ...,\n",
       "          1.88742459e-04, -1.57006260e-04,  1.25263570e-04],\n",
       "        [-5.82042885e-05, -2.27622426e-04,  3.87107022e-04, ...,\n",
       "          3.29860777e-04, -4.43218538e-04,  3.07384791e-04],\n",
       "        [-1.97554182e-04, -3.73089279e-04,  7.15468195e-04, ...,\n",
       "          2.37306100e-04, -4.18648735e-04,  5.38413005e-04],\n",
       "        ...,\n",
       "        [-6.77631993e-04,  2.69590266e-04,  1.05655682e-03, ...,\n",
       "          8.48840747e-04, -4.99496295e-04, -2.54480314e-04],\n",
       "        [-9.26818699e-04,  1.87042519e-04,  1.09566352e-03, ...,\n",
       "          9.34971322e-04, -1.76765912e-04,  5.60350873e-06],\n",
       "        [-1.18252763e-03, -1.30831850e-05,  7.50178588e-04, ...,\n",
       "          1.01076427e-03,  2.98837054e-04,  4.71172651e-04]],\n",
       "\n",
       "       [[ 5.00359165e-05,  1.52397406e-04, -1.30384178e-05, ...,\n",
       "          6.21494291e-06, -8.47407428e-05, -3.45385961e-05],\n",
       "        [ 1.57732808e-04,  3.23232351e-04,  1.08285189e-04, ...,\n",
       "          1.01303660e-04, -3.06897855e-04,  9.00220693e-05],\n",
       "        [ 1.09866487e-04,  4.70225321e-04,  1.08865188e-05, ...,\n",
       "          2.83568195e-04, -4.25102189e-04,  5.78462088e-04],\n",
       "        ...,\n",
       "        [-8.37335130e-04, -1.92257180e-03, -7.11949542e-05, ...,\n",
       "         -1.28325730e-04, -2.05699634e-03, -7.85301672e-05],\n",
       "        [-8.68245552e-04, -2.02182890e-03, -2.29396566e-04, ...,\n",
       "         -7.77899913e-05, -2.20156740e-03, -3.50070739e-04],\n",
       "        [-8.99028266e-04, -2.09138263e-03, -3.46270681e-04, ...,\n",
       "         -1.74908018e-05, -2.32437672e-03, -5.87060873e-04]],\n",
       "\n",
       "       [[ 5.00359165e-05,  1.52397406e-04, -1.30384178e-05, ...,\n",
       "          6.21494291e-06, -8.47407428e-05, -3.45385961e-05],\n",
       "        [ 4.50067775e-04,  2.91929115e-04, -8.75651458e-05, ...,\n",
       "          6.08730443e-05, -6.88525251e-05, -1.64048295e-04],\n",
       "        [ 7.58956070e-04,  3.80940182e-04, -5.96207210e-05, ...,\n",
       "          1.71659383e-04, -1.37900046e-04, -3.60701291e-04],\n",
       "        ...,\n",
       "        [-3.13063174e-05, -1.89152139e-03, -3.70935566e-04, ...,\n",
       "         -1.19350425e-05, -1.11287623e-03, -3.22935346e-04],\n",
       "        [-2.14351458e-04, -2.06539943e-03, -3.97801545e-04, ...,\n",
       "         -1.75523328e-05, -1.34464493e-03, -5.31723548e-04],\n",
       "        [-3.73803196e-04, -2.18833308e-03, -4.15000337e-04, ...,\n",
       "          2.14450711e-06, -1.55157351e-03, -7.17983523e-04]]],\n",
       "      dtype=float32)>"
      ]
     },
     "execution_count": 16,
     "metadata": {},
     "output_type": "execute_result"
    }
   ],
   "source": [
    "for src_sample, tgt_sample in dataset.take(1): break\n",
    "model(src_sample)"
   ]
  },
  {
   "cell_type": "code",
   "execution_count": 17,
   "id": "minute-banking",
   "metadata": {},
   "outputs": [
    {
     "name": "stdout",
     "output_type": "stream",
     "text": [
      "Model: \"text_generator\"\n",
      "_________________________________________________________________\n",
      "Layer (type)                 Output Shape              Param #   \n",
      "=================================================================\n",
      "embedding (Embedding)        multiple                  3072256   \n",
      "_________________________________________________________________\n",
      "lstm (LSTM)                  multiple                  5246976   \n",
      "_________________________________________________________________\n",
      "lstm_1 (LSTM)                multiple                  8392704   \n",
      "_________________________________________________________________\n",
      "dense (Dense)                multiple                  12301025  \n",
      "=================================================================\n",
      "Total params: 29,012,961\n",
      "Trainable params: 29,012,961\n",
      "Non-trainable params: 0\n",
      "_________________________________________________________________\n"
     ]
    }
   ],
   "source": [
    "model.summary()"
   ]
  },
  {
   "cell_type": "code",
   "execution_count": 18,
   "id": "grand-celebration",
   "metadata": {},
   "outputs": [
    {
     "name": "stdout",
     "output_type": "stream",
     "text": [
      "Epoch 1/10\n",
      "543/543 [==============================] - 101s 185ms/step - loss: 2.8436 - val_loss: 2.5360\n",
      "Epoch 2/10\n",
      "543/543 [==============================] - 99s 183ms/step - loss: 2.4534 - val_loss: 2.3969\n",
      "Epoch 3/10\n",
      "543/543 [==============================] - 98s 181ms/step - loss: 2.3243 - val_loss: 2.3083\n",
      "Epoch 4/10\n",
      "543/543 [==============================] - 99s 182ms/step - loss: 2.2280 - val_loss: 2.2443\n",
      "Epoch 5/10\n",
      "543/543 [==============================] - 99s 182ms/step - loss: 2.1449 - val_loss: 2.1903\n",
      "Epoch 6/10\n",
      "543/543 [==============================] - 101s 185ms/step - loss: 2.0690 - val_loss: 2.1464\n",
      "Epoch 7/10\n",
      "543/543 [==============================] - 99s 182ms/step - loss: 1.9970 - val_loss: 2.1075\n",
      "Epoch 8/10\n",
      "543/543 [==============================] - 99s 182ms/step - loss: 1.9295 - val_loss: 2.0761\n",
      "Epoch 9/10\n",
      "543/543 [==============================] - 99s 182ms/step - loss: 1.8653 - val_loss: 2.0491\n",
      "Epoch 10/10\n",
      "543/543 [==============================] - 100s 185ms/step - loss: 1.8039 - val_loss: 2.0258\n"
     ]
    }
   ],
   "source": [
    "optimizer = tf.keras.optimizers.Adam()\n",
    "loss = tf.keras.losses.SparseCategoricalCrossentropy(\n",
    "    from_logits=True,\n",
    "    reduction='none'\n",
    ")\n",
    "\n",
    "model.compile(loss=loss, optimizer=optimizer)\n",
    "\n",
    "history = model.fit(dataset, epochs=10, validation_data=val_dataset)"
   ]
  },
  {
   "cell_type": "code",
   "execution_count": 19,
   "id": "selective-patrol",
   "metadata": {},
   "outputs": [
    {
     "name": "stdout",
     "output_type": "stream",
     "text": [
      "dict_keys(['loss', 'val_loss'])\n"
     ]
    }
   ],
   "source": [
    "history_dict = history.history\n",
    "print(history_dict.keys()) # epoch에 따른 그래프를 그려볼 수 있는 항목들"
   ]
  },
  {
   "cell_type": "code",
   "execution_count": 20,
   "id": "recent-architect",
   "metadata": {},
   "outputs": [
    {
     "data": {
      "image/png": "[encoded data removed]",
      "text/plain": [
       "<Figure size 432x288 with 1 Axes>"
      ]
     },
     "metadata": {
      "needs_background": "light"
     },
     "output_type": "display_data"
    }
   ],
   "source": [
    "import matplotlib.pyplot as plt\n",
    "\n",
    "acc = history_dict['loss']\n",
    "loss = history_dict['loss']\n",
    "val_loss = history_dict['val_loss']\n",
    "\n",
    "epochs = range(1, len(acc) + 1)\n",
    "\n",
    "plt.plot(epochs, loss, 'g', label = \"Loss\")\n",
    "plt.plot(epochs, val_loss, 'r', label = \"Val_loss\")\n",
    "\n",
    "plt.xlabel('Epochs')\n",
    "plt.ylabel('Loss')\n",
    "plt.legend()\n",
    "\n",
    "plt.show()"
   ]
  },
  {
   "cell_type": "code",
   "execution_count": 21,
   "id": "quiet-virus",
   "metadata": {},
   "outputs": [],
   "source": [
    "def generate_text(model, tokenizer, init_sentence=\"<start>\", max_len=20):\n",
    "    # 테스트를 위해서 입력받은 init_sentence도 일단 텐서로 변환합니다.\n",
    "    test_input = tokenizer.texts_to_sequences([init_sentence])\n",
    "    test_tensor = tf.convert_to_tensor(test_input, dtype=tf.int64)\n",
    "    end_token = tokenizer.word_index[\"<end>\"]\n",
    "\n",
    "    # 텍스트를 실제로 생성할때는 루프를 돌면서 단어 하나씩 생성해야 합니다. \n",
    "    while True:\n",
    "        predict = model(test_tensor)  # 입력받은 문장의 텐서를 입력합니다. \n",
    "        predict_word = tf.argmax(tf.nn.softmax(predict, axis=-1), axis=-1)[:, -1]   # 우리 모델이 예측한 마지막 단어가 바로 새롭게 생성한 단어가 됩니다. \n",
    "\n",
    "        # 우리 모델이 새롭게 예측한 단어를 입력 문장의 뒤에 붙여 줍니다. \n",
    "        test_tensor = tf.concat([test_tensor, \n",
    "                                                                 tf.expand_dims(predict_word, axis=0)], axis=-1)\n",
    "\n",
    "        # 우리 모델이 <end>를 예측했거나, max_len에 도달하지 않았다면  while 루프를 또 돌면서 다음 단어를 예측해야 합니다.\n",
    "        if predict_word.numpy()[0] == end_token: break\n",
    "        if test_tensor.shape[1] >= max_len: break\n",
    "\n",
    "    generated = \"\"\n",
    "    # 생성된 tensor 안에 있는 word index를 tokenizer.index_word 사전을 통해 실제 단어로 하나씩 변환합니다. \n",
    "    for word_index in test_tensor[0].numpy():\n",
    "        generated += tokenizer.index_word[word_index] + \" \"\n",
    "\n",
    "    return generated   # 이것이 최종적으로 모델이 생성한 자연어 문장입니다."
   ]
  },
  {
   "cell_type": "code",
   "execution_count": 22,
   "id": "atmospheric-modification",
   "metadata": {},
   "outputs": [
    {
     "data": {
      "text/plain": [
       "'<start> i love you , i m so bad <end> '"
      ]
     },
     "execution_count": 22,
     "metadata": {},
     "output_type": "execute_result"
    }
   ],
   "source": [
    "generate_text(model, tokenizer, init_sentence=\"<start> i love\", max_len=20)"
   ]
  },
  {
   "cell_type": "code",
   "execution_count": 23,
   "id": "accessory-fever",
   "metadata": {},
   "outputs": [
    {
     "data": {
      "text/plain": [
       "'<start> love is a beautiful thing <end> '"
      ]
     },
     "execution_count": 23,
     "metadata": {},
     "output_type": "execute_result"
    }
   ],
   "source": [
    "generate_text(model, tokenizer, init_sentence=\"<start> love is\", max_len=20)"
   ]
  },
  {
   "cell_type": "markdown",
   "id": "healthy-hawaiian",
   "metadata": {},
   "source": [
    "## ♠ embedding_size = 512 hidden_size = 2048로 변경"
   ]
  },
  {
   "cell_type": "code",
   "execution_count": 24,
   "id": "experienced-berlin",
   "metadata": {},
   "outputs": [],
   "source": [
    "class TextGenerator(tf.keras.Model):\n",
    "    def __init__(self, vocab_size, embedding_size, hidden_size):\n",
    "        super(TextGenerator, self).__init__()\n",
    "        \n",
    "        self.embedding = tf.keras.layers.Embedding(vocab_size, embedding_size)\n",
    "        self.rnn_1 = tf.keras.layers.LSTM(hidden_size, return_sequences=True)\n",
    "        self.rnn_2 = tf.keras.layers.LSTM(hidden_size, return_sequences=True)\n",
    "        self.linear = tf.keras.layers.Dense(vocab_size)\n",
    "        \n",
    "    def call(self, x):\n",
    "        out = self.embedding(x)\n",
    "        out = self.rnn_1(out)\n",
    "        out = self.rnn_2(out)\n",
    "        out = self.linear(out)\n",
    "        \n",
    "        return out\n",
    "    \n",
    "embedding_size = 512\n",
    "hidden_size = 2048\n",
    "model = TextGenerator(tokenizer.num_words + 1, embedding_size , hidden_size)"
   ]
  },
  {
   "cell_type": "code",
   "execution_count": 25,
   "id": "raised-orlando",
   "metadata": {},
   "outputs": [
    {
     "data": {
      "text/plain": [
       "<tf.Tensor: shape=(256, 19, 12001), dtype=float32, numpy=\n",
       "array([[[ 6.14820819e-05, -1.19509903e-04, -1.17972981e-04, ...,\n",
       "          2.57631880e-04, -3.78810742e-04,  2.20894144e-04],\n",
       "        [-2.97167775e-04, -3.45566397e-04, -2.17289620e-04, ...,\n",
       "          8.00672278e-04, -5.70716104e-04,  2.00440321e-04],\n",
       "        [-5.37542684e-04, -5.21325099e-04, -1.39773811e-05, ...,\n",
       "          6.05902111e-04, -4.24277765e-04,  2.54634127e-04],\n",
       "        ...,\n",
       "        [-2.02153274e-03, -3.68946558e-03,  1.83508382e-03, ...,\n",
       "         -7.71637831e-04,  6.47880719e-04, -1.13943650e-03],\n",
       "        [-2.00808933e-03, -3.90393729e-03,  1.76296453e-03, ...,\n",
       "         -7.37967028e-04,  6.19378639e-04, -1.09742279e-03],\n",
       "        [-1.98604120e-03, -4.07705642e-03,  1.67137873e-03, ...,\n",
       "         -7.05882499e-04,  5.85762784e-04, -1.03098829e-03]],\n",
       "\n",
       "       [[ 6.14820819e-05, -1.19509903e-04, -1.17972981e-04, ...,\n",
       "          2.57631880e-04, -3.78810742e-04,  2.20894144e-04],\n",
       "        [ 1.94888809e-04,  3.07932904e-04,  4.61739583e-05, ...,\n",
       "          5.79115469e-04, -5.88791852e-04,  7.79646725e-05],\n",
       "        [ 3.21352127e-04,  8.66606366e-04,  9.19832237e-05, ...,\n",
       "          7.78162910e-04, -6.77050091e-04, -4.56899252e-05],\n",
       "        ...,\n",
       "        [-1.75734120e-03, -4.44911607e-03,  2.15433328e-03, ...,\n",
       "         -5.76495426e-04,  6.21955318e-04, -1.24441599e-03],\n",
       "        [-1.75832177e-03, -4.57558781e-03,  2.00747536e-03, ...,\n",
       "         -5.52729471e-04,  5.89793315e-04, -1.12651661e-03],\n",
       "        [-1.74890982e-03, -4.67066234e-03,  1.85697072e-03, ...,\n",
       "         -5.33454877e-04,  5.53426275e-04, -1.00322196e-03]],\n",
       "\n",
       "       [[ 6.14820819e-05, -1.19509903e-04, -1.17972981e-04, ...,\n",
       "          2.57631880e-04, -3.78810742e-04,  2.20894144e-04],\n",
       "        [ 7.57388398e-06, -1.02609461e-04, -1.44987891e-04, ...,\n",
       "          3.33732954e-04, -8.21946946e-04, -2.48605756e-05],\n",
       "        [ 1.89607672e-04, -5.08875455e-05,  8.37838525e-05, ...,\n",
       "         -1.06504704e-04, -1.03640801e-03, -1.16394716e-04],\n",
       "        ...,\n",
       "        [-1.55344896e-03, -1.69586472e-03,  1.13364297e-03, ...,\n",
       "         -6.75560383e-04, -2.19781887e-05, -1.52872060e-03],\n",
       "        [-1.58205128e-03, -2.10238365e-03,  1.33593928e-03, ...,\n",
       "         -6.17000274e-04,  1.26022496e-04, -1.61969452e-03],\n",
       "        [-1.61055371e-03, -2.48299516e-03,  1.48276740e-03, ...,\n",
       "         -5.52733487e-04,  2.46354641e-04, -1.65816536e-03]],\n",
       "\n",
       "       ...,\n",
       "\n",
       "       [[ 6.14820819e-05, -1.19509903e-04, -1.17972981e-04, ...,\n",
       "          2.57631880e-04, -3.78810742e-04,  2.20894144e-04],\n",
       "        [-3.56208548e-05, -2.73845071e-04,  2.48859171e-04, ...,\n",
       "          3.40060680e-04, -7.35690526e-04, -1.66173559e-04],\n",
       "        [-2.51006015e-04, -2.06015524e-04,  9.38581434e-05, ...,\n",
       "          1.38660007e-05, -9.79199540e-04, -4.61675081e-04],\n",
       "        ...,\n",
       "        [-1.56701182e-03, -3.74945486e-03,  1.93817611e-03, ...,\n",
       "         -6.46393339e-04,  5.74487727e-04, -1.17900490e-03],\n",
       "        [-1.59459107e-03, -3.91828315e-03,  1.86943635e-03, ...,\n",
       "         -5.88481955e-04,  5.73223107e-04, -1.09604106e-03],\n",
       "        [-1.61599566e-03, -4.05932683e-03,  1.78056723e-03, ...,\n",
       "         -5.40353707e-04,  5.60957356e-04, -1.00133021e-03]],\n",
       "\n",
       "       [[ 6.14820819e-05, -1.19509903e-04, -1.17972981e-04, ...,\n",
       "          2.57631880e-04, -3.78810742e-04,  2.20894144e-04],\n",
       "        [ 1.42920020e-04, -2.70008750e-04, -1.00537254e-05, ...,\n",
       "          2.57538457e-04, -5.38087741e-04,  1.76996196e-04],\n",
       "        [-6.88266518e-05, -3.48371686e-04, -5.31995647e-06, ...,\n",
       "          4.21013101e-04, -6.24520704e-04, -1.08236636e-04],\n",
       "        ...,\n",
       "        [-1.99799147e-03, -3.86112975e-03,  1.58628891e-03, ...,\n",
       "         -6.10555173e-04,  6.07940019e-04, -1.41925563e-03],\n",
       "        [-2.00159708e-03, -4.08091536e-03,  1.58414606e-03, ...,\n",
       "         -6.01160515e-04,  5.85186353e-04, -1.31739886e-03],\n",
       "        [-1.99080445e-03, -4.25364915e-03,  1.55022077e-03, ...,\n",
       "         -5.90964919e-04,  5.56656392e-04, -1.20359636e-03]],\n",
       "\n",
       "       [[ 6.14820819e-05, -1.19509903e-04, -1.17972981e-04, ...,\n",
       "          2.57631880e-04, -3.78810742e-04,  2.20894144e-04],\n",
       "        [-3.01887718e-04, -4.75321838e-04, -2.70786084e-04, ...,\n",
       "          1.00333753e-04, -7.91677274e-04,  3.09483148e-04],\n",
       "        [-6.32827752e-04, -7.54513429e-04, -4.19395772e-04, ...,\n",
       "         -7.94932689e-08, -6.97063166e-04,  2.75112747e-04],\n",
       "        ...,\n",
       "        [-1.33830600e-03, -2.25599878e-03,  8.62823799e-04, ...,\n",
       "          2.34976047e-04, -4.42504679e-05, -6.43744133e-04],\n",
       "        [-1.39812403e-03, -2.65054987e-03,  1.11674715e-03, ...,\n",
       "          7.84531658e-05,  8.47342308e-05, -7.92797946e-04],\n",
       "        [-1.45830307e-03, -3.00262868e-03,  1.29971141e-03, ...,\n",
       "         -4.30849941e-05,  1.93606102e-04, -8.96812300e-04]]],\n",
       "      dtype=float32)>"
      ]
     },
     "execution_count": 25,
     "metadata": {},
     "output_type": "execute_result"
    }
   ],
   "source": [
    "for src_sample, tgt_sample in dataset.take(1): break\n",
    "model(src_sample)"
   ]
  },
  {
   "cell_type": "code",
   "execution_count": 26,
   "id": "becoming-findings",
   "metadata": {},
   "outputs": [
    {
     "name": "stdout",
     "output_type": "stream",
     "text": [
      "Model: \"text_generator_1\"\n",
      "_________________________________________________________________\n",
      "Layer (type)                 Output Shape              Param #   \n",
      "=================================================================\n",
      "embedding_1 (Embedding)      multiple                  6144512   \n",
      "_________________________________________________________________\n",
      "lstm_2 (LSTM)                multiple                  20979712  \n",
      "_________________________________________________________________\n",
      "lstm_3 (LSTM)                multiple                  33562624  \n",
      "_________________________________________________________________\n",
      "dense_1 (Dense)              multiple                  24590049  \n",
      "=================================================================\n",
      "Total params: 85,276,897\n",
      "Trainable params: 85,276,897\n",
      "Non-trainable params: 0\n",
      "_________________________________________________________________\n"
     ]
    }
   ],
   "source": [
    "model.summary()"
   ]
  },
  {
   "cell_type": "code",
   "execution_count": 27,
   "id": "frequent-settle",
   "metadata": {},
   "outputs": [
    {
     "name": "stdout",
     "output_type": "stream",
     "text": [
      "Epoch 1/10\n",
      "543/543 [==============================] - 290s 534ms/step - loss: 2.6749 - val_loss: 2.9878\n",
      "Epoch 2/10\n",
      "543/543 [==============================] - 293s 540ms/step - loss: 2.2115 - val_loss: 2.1362\n",
      "Epoch 3/10\n",
      "543/543 [==============================] - 295s 543ms/step - loss: 1.9595 - val_loss: 1.9975\n",
      "Epoch 4/10\n",
      "543/543 [==============================] - 308s 567ms/step - loss: 1.7250 - val_loss: 1.8943\n",
      "Epoch 5/10\n",
      "543/543 [==============================] - 309s 569ms/step - loss: 1.5053 - val_loss: 1.8206\n",
      "Epoch 6/10\n",
      "543/543 [==============================] - 310s 572ms/step - loss: 1.3050 - val_loss: 1.7699\n",
      "Epoch 7/10\n",
      "543/543 [==============================] - 311s 572ms/step - loss: 1.1327 - val_loss: 1.7443\n",
      "Epoch 8/10\n",
      "543/543 [==============================] - 312s 574ms/step - loss: 0.9914 - val_loss: 1.7366\n",
      "Epoch 9/10\n",
      "543/543 [==============================] - 307s 564ms/step - loss: 0.8828 - val_loss: 1.7484\n",
      "Epoch 10/10\n",
      "543/543 [==============================] - 291s 536ms/step - loss: 0.8089 - val_loss: 1.7642\n"
     ]
    }
   ],
   "source": [
    "optimizer = tf.keras.optimizers.Adam()\n",
    "loss = tf.keras.losses.SparseCategoricalCrossentropy(\n",
    "    from_logits=True,\n",
    "    reduction='none'\n",
    ")\n",
    "\n",
    "model.compile(loss=loss, optimizer=optimizer)\n",
    "\n",
    "history = model.fit(dataset, epochs=10, validation_data=val_dataset)"
   ]
  },
  {
   "cell_type": "code",
   "execution_count": 28,
   "id": "certain-refrigerator",
   "metadata": {},
   "outputs": [
    {
     "name": "stdout",
     "output_type": "stream",
     "text": [
      "dict_keys(['loss', 'val_loss'])\n"
     ]
    }
   ],
   "source": [
    "history_dict = history.history\n",
    "print(history_dict.keys()) # epoch에 따른 그래프를 그려볼 수 있는 항목들"
   ]
  },
  {
   "cell_type": "code",
   "execution_count": 29,
   "id": "precious-wagner",
   "metadata": {},
   "outputs": [
    {
     "data": {
      "image/png": "[encoded data removed]",
      "text/plain": [
       "<Figure size 432x288 with 1 Axes>"
      ]
     },
     "metadata": {
      "needs_background": "light"
     },
     "output_type": "display_data"
    }
   ],
   "source": [
    "import matplotlib.pyplot as plt\n",
    "\n",
    "acc = history_dict['loss']\n",
    "loss = history_dict['loss']\n",
    "val_loss = history_dict['val_loss']\n",
    "\n",
    "epochs = range(1, len(acc) + 1)\n",
    "\n",
    "plt.plot(epochs, loss, 'g', label = \"Loss\")\n",
    "plt.plot(epochs, val_loss, 'r', label = \"Val_loss\")\n",
    "\n",
    "plt.xlabel('Epochs')\n",
    "plt.ylabel('Loss')\n",
    "plt.legend()\n",
    "\n",
    "plt.show()"
   ]
  },
  {
   "cell_type": "code",
   "execution_count": 30,
   "id": "dedicated-parcel",
   "metadata": {},
   "outputs": [],
   "source": [
    "def generate_text(model, tokenizer, init_sentence=\"<start>\", max_len=20):\n",
    "    # 테스트를 위해서 입력받은 init_sentence도 일단 텐서로 변환합니다.\n",
    "    test_input = tokenizer.texts_to_sequences([init_sentence])\n",
    "    test_tensor = tf.convert_to_tensor(test_input, dtype=tf.int64)\n",
    "    end_token = tokenizer.word_index[\"<end>\"]\n",
    "\n",
    "    # 텍스트를 실제로 생성할때는 루프를 돌면서 단어 하나씩 생성해야 합니다. \n",
    "    while True:\n",
    "        predict = model(test_tensor)  # 입력받은 문장의 텐서를 입력합니다. \n",
    "        predict_word = tf.argmax(tf.nn.softmax(predict, axis=-1), axis=-1)[:, -1]   # 우리 모델이 예측한 마지막 단어가 바로 새롭게 생성한 단어가 됩니다. \n",
    "\n",
    "        # 우리 모델이 새롭게 예측한 단어를 입력 문장의 뒤에 붙여 줍니다. \n",
    "        test_tensor = tf.concat([test_tensor, \n",
    "                                                                 tf.expand_dims(predict_word, axis=0)], axis=-1)\n",
    "\n",
    "        # 우리 모델이 <end>를 예측했거나, max_len에 도달하지 않았다면  while 루프를 또 돌면서 다음 단어를 예측해야 합니다.\n",
    "        if predict_word.numpy()[0] == end_token: break\n",
    "        if test_tensor.shape[1] >= max_len: break\n",
    "\n",
    "    generated = \"\"\n",
    "    # 생성된 tensor 안에 있는 word index를 tokenizer.index_word 사전을 통해 실제 단어로 하나씩 변환합니다. \n",
    "    for word_index in test_tensor[0].numpy():\n",
    "        generated += tokenizer.index_word[word_index] + \" \"\n",
    "\n",
    "    return generated   # 이것이 최종적으로 모델이 생성한 자연어 문장입니다."
   ]
  },
  {
   "cell_type": "code",
   "execution_count": 31,
   "id": "roman-joyce",
   "metadata": {},
   "outputs": [
    {
     "data": {
      "text/plain": [
       "'<start> i love the way you lie <end> '"
      ]
     },
     "execution_count": 31,
     "metadata": {},
     "output_type": "execute_result"
    }
   ],
   "source": [
    "generate_text(model, tokenizer, init_sentence=\"<start> i love\", max_len=20)"
   ]
  },
  {
   "cell_type": "code",
   "execution_count": 32,
   "id": "provincial-rating",
   "metadata": {},
   "outputs": [
    {
     "data": {
      "text/plain": [
       "'<start> love is a beautiful thing yeah , oh , oh <end> '"
      ]
     },
     "execution_count": 32,
     "metadata": {},
     "output_type": "execute_result"
    }
   ],
   "source": [
    "generate_text(model, tokenizer, init_sentence=\"<start> love is\", max_len=20)"
   ]
  },
  {
   "cell_type": "markdown",
   "id": "through-pension",
   "metadata": {},
   "source": [
    "# ◈ 루브릭  \n",
    "\n",
    "아래의 기준을 바탕으로 프로젝트를 평가합니다.  \n",
    "\n",
    "평가문항/상세기준  \n",
    "1. 가사 텍스트 생성 모델이 정상적으로 동작하는가?  \n",
    "텍스트 제너레이션 결과가 그럴듯한 문장으로 생성되는가? \n",
    "\n",
    "\n",
    "2. 데이터의 전처리와 데이터셋 구성 과정이 체계적으로 진행되었는가?  \n",
    "특수문자 제거, 토크나이저 생성, 패딩처리 등의 과정이 빠짐없이 진행되었는가?  \n",
    "\n",
    "\n",
    "3. 텍스트 생성모델이 안정적으로 학습되었는가?  \n",
    "텍스트 생성모델의 validation loss가 2.2 이하로 낮아졌는가?  "
   ]
  },
  {
   "cell_type": "markdown",
   "id": "collective-horizon",
   "metadata": {},
   "source": [
    "# ◈ 결론 및 고찰 "
   ]
  },
  {
   "cell_type": "markdown",
   "id": "indie-lighting",
   "metadata": {},
   "source": [
    "### ♠ 문장길이 15이내로 학습 데이터 만든 경우 epoch = 30 \n",
    "#### (학습데이터 124960보다 큼 : 134685개)\n",
    "\n",
    "### embedding_size = 256 hidden_size = 1024에서 Loss & Validation Loss\n",
    "![png](./img/E06-01.png)   \n",
    "\n",
    "### embedding_size = 512 hidden_size = 2048에서 Loss & Validation Loss\n",
    "![png](./img/E06-02.png)\n",
    "\n",
    "### ♠ 문장길이 20이내로 학습 데이터 만든 경우 epoch = 10 \n",
    "#### (학습데이터 124960보다 큼 : 139077개)\n",
    "\n",
    "### embedding_size = 256 hidden_size = 1024에서 Loss & Validation Loss\n",
    "![png](./img/E06-03.png)   \n",
    "\n",
    "### embedding_size = 512 hidden_size = 2048에서 Loss & Validation Loss\n",
    "![png](./img/E06-04.png)\n",
    "\n",
    "위 그래프와 같이 `validation loss결과`는 epoch이 30회 가까이 지속하여도 2 아래로 떨어지지 않고 오히려 발산하는 경향을 보였다. 적절한 데이터 셋이 아니여서 좋지 못한 결과를 얻은 것으로 생각되어서  \n",
    "학습 데이터의 개수를 `문장의 단어를 20개`로 제한하고 `epoch를 10회`로 학습해 보았다.  \n",
    "또한, embedding_size와 hidden_size를 크게 조절하여 모델 fit이 필요하다고 생각하여 함께 결과를 얻어 보았다.  \n",
    "`embedding_size = 512 hidden_size = 2048로 변경`하고 얻은 validation loss는 기존에 `2.0258`에서 `1.7366`로 떨어져서 훨씬 더 좋은 결과를 얻을 수 있었다.   \n",
    "아이펠 노트에서 사용한 txt 파일 보다 더 풍부한 데이터를 사용하여 사전 Index를 만들고, 임베딩 벡터를 만들고, 학습을 해본 결과 start 단어 뒤에 오는 문장이 훨씬 자연스러워 짐을 알 수 있었다.  \n",
    "예를 들어 이전에는 `i love` 를 입력했을 때 출력되는 값이 `i love you , i m so bad` 였으나, 현재 개선된 학습 모델에서는 `i love`에 대해 `i love the way you lie`라고 답변이 나오고, `love is`에 대해서는 `love is a beautiful thing yeah , oh , oh ` 이라는 결과가 나옴을 알 수 있었다.   \n",
    "사용되는 정보의 양과 질이 좀더 결과에 좋은 영향을 미치지 않았나 생각해 보며, 또한 20개를 넘어가는 문장을 학습데이터에서 제외하고, 사전의 개수도 `7000에서 12000`으로 늘어난 것도 영향이 있다고 생각된다.  \n",
    "\n",
    "### ※ 초반 학습할 문장을 잘못 지정하여 작고 편향된 데이터를 가지고 학습을 시킨 결과, validation loss가 2보다 작은 값으로 수치적으로 좋은 결과인 것처럼 보여지는 문제가 있었다.  (학습 데이터 셋을 수정하여 해결)\n",
    "### lens(sentence)에서 lens(sentence.split())으로 char에서 word 단위로 끊어서 학습할 자료를 다시 구하여 문제를 해결할 수 있었다. \n",
    "\n",
    "### 결과적으로 epoch 10 이내에서 embedding_size = 512와 hidden_size = 2048로 학습한 결과,  Validation Loss가 2보다도 훨씬 작은 `1.7366`의 결과를 얻을 수 있었다."
   ]
  },
  {
   "cell_type": "code",
   "execution_count": null,
   "id": "furnished-industry",
   "metadata": {},
   "outputs": [],
   "source": []
  }
 ],
 "metadata": {
  "kernelspec": {
   "display_name": "aiffel",
   "language": "python",
   "name": "aiffel"
  },
  "language_info": {
   "codemirror_mode": {
    "name": "ipython",
    "version": 3
   },
   "file_extension": ".py",
   "mimetype": "text/x-python",
   "name": "python",
   "nbconvert_exporter": "python",
   "pygments_lexer": "ipython3",
   "version": "3.7.9"
  }
 },
 "nbformat": 4,
 "nbformat_minor": 5
}
