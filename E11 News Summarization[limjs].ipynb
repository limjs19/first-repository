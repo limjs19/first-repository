{
 "cells": [
  {
   "cell_type": "markdown",
   "metadata": {},
   "source": [
    "# E11. news_summarization"
   ]
  },
  {
   "cell_type": "markdown",
   "metadata": {},
   "source": [
    "## ◈ 프로젝트 목표"
   ]
  },
  {
   "cell_type": "markdown",
   "metadata": {},
   "source": [
    "## ◈학습 목표\n",
    "- Extractive/Abstractive summarization 이해하기  \n",
    "- 단어장 크기를 줄이는 다양한 text normalization 적용해보기  \n",
    "- seq2seq의 성능을 Up시키는 Attention Mechanism 적용하기  "
   ]
  },
  {
   "cell_type": "markdown",
   "metadata": {},
   "source": [
    "## ◈ 데이터 확인"
   ]
  },
  {
   "cell_type": "markdown",
   "metadata": {},
   "source": [
    "## ◈ 목차\n",
    "Step 1. 데이터 수집하기  \n",
    "Step 2. Step 1. 데이터 수집하기  \n",
    "Step 3. 어텐션 메커니즘 사용하기 (추상적 요약)  \n",
    "Step 4. 실제 결과와 요약문 비교하기 (추상적 요약)  \n",
    "Step 5.  Summa을 이용해서 추출적 요약해보기"
   ]
  },
  {
   "cell_type": "markdown",
   "metadata": {},
   "source": [
    "## ◈ 데이터 \n",
    "\n",
    "- 뉴스 기사 데이터(newssummarymore.csv)  \n",
    "- ID, headlines, text"
   ]
  },
  {
   "cell_type": "markdown",
   "metadata": {},
   "source": [
    "## Step 1. 데이터 수집하기\n",
    "- 뉴스 기사 데이터(newssummarymore.csv)를 사용  \n",
    "- sunnysai12345/News_Summary"
   ]
  },
  {
   "cell_type": "code",
   "execution_count": 1,
   "metadata": {},
   "outputs": [
    {
     "name": "stderr",
     "output_type": "stream",
     "text": [
      "[nltk_data] Downloading package stopwords to /home/aiffel-\n",
      "[nltk_data]     dj56/nltk_data...\n",
      "[nltk_data]   Package stopwords is already up-to-date!\n"
     ]
    }
   ],
   "source": [
    "# 라이브러리 로드 \n",
    "import nltk\n",
    "nltk.download('stopwords')\n",
    "\n",
    "import numpy as np\n",
    "import pandas as pd\n",
    "import os\n",
    "import re\n",
    "import matplotlib.pyplot as plt\n",
    "from nltk.corpus import stopwords\n",
    "from bs4 import BeautifulSoup \n",
    "from tensorflow.keras.preprocessing.text import Tokenizer \n",
    "from tensorflow.keras.preprocessing.sequence import pad_sequences\n",
    "import urllib.request"
   ]
  },
  {
   "cell_type": "code",
   "execution_count": 2,
   "metadata": {},
   "outputs": [
    {
     "data": {
      "text/html": [
       "<div>\n",
       "<style scoped>\n",
       "    .dataframe tbody tr th:only-of-type {\n",
       "        vertical-align: middle;\n",
       "    }\n",
       "\n",
       "    .dataframe tbody tr th {\n",
       "        vertical-align: top;\n",
       "    }\n",
       "\n",
       "    .dataframe thead th {\n",
       "        text-align: right;\n",
       "    }\n",
       "</style>\n",
       "<table border=\"1\" class=\"dataframe\">\n",
       "  <thead>\n",
       "    <tr style=\"text-align: right;\">\n",
       "      <th></th>\n",
       "      <th>headlines</th>\n",
       "      <th>text</th>\n",
       "    </tr>\n",
       "  </thead>\n",
       "  <tbody>\n",
       "    <tr>\n",
       "      <th>83602</th>\n",
       "      <td>Eight UAE princesses convicted of human traffi...</td>\n",
       "      <td>Eight UAE princesses have been convicted of hu...</td>\n",
       "    </tr>\n",
       "    <tr>\n",
       "      <th>94272</th>\n",
       "      <td>SpaceX could reuse 100% rocket components by 2...</td>\n",
       "      <td>Following his space exploration startup SpaceX...</td>\n",
       "    </tr>\n",
       "    <tr>\n",
       "      <th>75000</th>\n",
       "      <td>Baby teargassed and beaten by Kenyan police dies</td>\n",
       "      <td>A six-month-old girl, who was allegedly tearga...</td>\n",
       "    </tr>\n",
       "    <tr>\n",
       "      <th>22812</th>\n",
       "      <td>What led to the road safety protests in Bangla...</td>\n",
       "      <td>The road safety protests in Bangladesh began a...</td>\n",
       "    </tr>\n",
       "    <tr>\n",
       "      <th>84072</th>\n",
       "      <td>Civic body demolishes part of Arshad Warsi's M...</td>\n",
       "      <td>Mumbai's civic body Brihanmumbai Municipal Cor...</td>\n",
       "    </tr>\n",
       "    <tr>\n",
       "      <th>45569</th>\n",
       "      <td>Auto driver's daughter in U'khand tops PCS-jud...</td>\n",
       "      <td>Poonam Todi, daughter of an auto driver in Utt...</td>\n",
       "    </tr>\n",
       "    <tr>\n",
       "      <th>71301</th>\n",
       "      <td>Player falls off chair while swatting a fly at...</td>\n",
       "      <td>USA's Sloane Stephens fell off a chair while t...</td>\n",
       "    </tr>\n",
       "    <tr>\n",
       "      <th>40059</th>\n",
       "      <td>Gauri Lankesh murder accused left us in 2008: ...</td>\n",
       "      <td>The Hindu Janajagruti Samiti on Saturday claim...</td>\n",
       "    </tr>\n",
       "    <tr>\n",
       "      <th>86860</th>\n",
       "      <td>Man Utd Europe's most valuable club, valued at...</td>\n",
       "      <td>Manchester United has been named Europe's most...</td>\n",
       "    </tr>\n",
       "    <tr>\n",
       "      <th>41920</th>\n",
       "      <td>France to make school education compulsory fro...</td>\n",
       "      <td>France will make school education compulsory f...</td>\n",
       "    </tr>\n",
       "  </tbody>\n",
       "</table>\n",
       "</div>"
      ],
      "text/plain": [
       "                                               headlines  \\\n",
       "83602  Eight UAE princesses convicted of human traffi...   \n",
       "94272  SpaceX could reuse 100% rocket components by 2...   \n",
       "75000   Baby teargassed and beaten by Kenyan police dies   \n",
       "22812  What led to the road safety protests in Bangla...   \n",
       "84072  Civic body demolishes part of Arshad Warsi's M...   \n",
       "45569  Auto driver's daughter in U'khand tops PCS-jud...   \n",
       "71301  Player falls off chair while swatting a fly at...   \n",
       "40059  Gauri Lankesh murder accused left us in 2008: ...   \n",
       "86860  Man Utd Europe's most valuable club, valued at...   \n",
       "41920  France to make school education compulsory fro...   \n",
       "\n",
       "                                                    text  \n",
       "83602  Eight UAE princesses have been convicted of hu...  \n",
       "94272  Following his space exploration startup SpaceX...  \n",
       "75000  A six-month-old girl, who was allegedly tearga...  \n",
       "22812  The road safety protests in Bangladesh began a...  \n",
       "84072  Mumbai's civic body Brihanmumbai Municipal Cor...  \n",
       "45569  Poonam Todi, daughter of an auto driver in Utt...  \n",
       "71301  USA's Sloane Stephens fell off a chair while t...  \n",
       "40059  The Hindu Janajagruti Samiti on Saturday claim...  \n",
       "86860  Manchester United has been named Europe's most...  \n",
       "41920  France will make school education compulsory f...  "
      ]
     },
     "execution_count": 2,
     "metadata": {},
     "output_type": "execute_result"
    }
   ],
   "source": [
    "import urllib.request\n",
    "urllib.request.urlretrieve(\"https://raw.githubusercontent.com/sunnysai12345/News_Summary/master/news_summary_more.csv\", filename=\"news_summary_more.csv\")\n",
    "data = pd.read_csv('news_summary_more.csv', encoding='iso-8859-1')\n",
    "data.sample(10)"
   ]
  },
  {
   "cell_type": "code",
   "execution_count": 3,
   "metadata": {
    "scrolled": false
   },
   "outputs": [
    {
     "data": {
      "text/html": [
       "<div>\n",
       "<style scoped>\n",
       "    .dataframe tbody tr th:only-of-type {\n",
       "        vertical-align: middle;\n",
       "    }\n",
       "\n",
       "    .dataframe tbody tr th {\n",
       "        vertical-align: top;\n",
       "    }\n",
       "\n",
       "    .dataframe thead th {\n",
       "        text-align: right;\n",
       "    }\n",
       "</style>\n",
       "<table border=\"1\" class=\"dataframe\">\n",
       "  <thead>\n",
       "    <tr style=\"text-align: right;\">\n",
       "      <th></th>\n",
       "      <th>headlines</th>\n",
       "      <th>text</th>\n",
       "    </tr>\n",
       "  </thead>\n",
       "  <tbody>\n",
       "    <tr>\n",
       "      <th>2560</th>\n",
       "      <td>From time to time a CBI probe should happen: A...</td>\n",
       "      <td>After reports claimed Samajwadi Party Presiden...</td>\n",
       "    </tr>\n",
       "    <tr>\n",
       "      <th>62412</th>\n",
       "      <td>Broadcom proposes to acquire Qualcomm for $130...</td>\n",
       "      <td>Chipmaker Broadcom on Monday said it has offer...</td>\n",
       "    </tr>\n",
       "    <tr>\n",
       "      <th>60767</th>\n",
       "      <td>Ã¢ÂÂ¹5L fine on Delhi schools with no rainwat...</td>\n",
       "      <td>The National Green Tribunal has directed all g...</td>\n",
       "    </tr>\n",
       "    <tr>\n",
       "      <th>10050</th>\n",
       "      <td>In 10 years, Jet Airways lost 3 times of what ...</td>\n",
       "      <td>India's largest full-service carrier Jet Airwa...</td>\n",
       "    </tr>\n",
       "    <tr>\n",
       "      <th>11993</th>\n",
       "      <td>What cases was CBI chief Alok Verma handling b...</td>\n",
       "      <td>CBI Director Alok Verma was supposed to take a...</td>\n",
       "    </tr>\n",
       "    <tr>\n",
       "      <th>42896</th>\n",
       "      <td>Abhishek Bachchan's look from comeback film Ma...</td>\n",
       "      <td>Actor Abhishek Bachchan's look from his comeba...</td>\n",
       "    </tr>\n",
       "    <tr>\n",
       "      <th>430</th>\n",
       "      <td>UK company's delivery boy stands on van, throw...</td>\n",
       "      <td>A video showing UK-based delivery company Herm...</td>\n",
       "    </tr>\n",
       "    <tr>\n",
       "      <th>97439</th>\n",
       "      <td>Kohli has become the Donald Trump of world spo...</td>\n",
       "      <td>After Indian captain Virat Kohli accused some ...</td>\n",
       "    </tr>\n",
       "    <tr>\n",
       "      <th>55547</th>\n",
       "      <td>Tendulkar-backed Smartron buys 60% stake in st...</td>\n",
       "      <td>Hyderabad-based device maker Smartron, which i...</td>\n",
       "    </tr>\n",
       "    <tr>\n",
       "      <th>40002</th>\n",
       "      <td>ABD almost fell flat on his face before fastes...</td>\n",
       "      <td>South Africa's Dale Steyn has revealed AB de V...</td>\n",
       "    </tr>\n",
       "    <tr>\n",
       "      <th>9514</th>\n",
       "      <td>Two men suspected to be behind Amritsar blast ...</td>\n",
       "      <td>Two men, suspected to be involved in the blast...</td>\n",
       "    </tr>\n",
       "    <tr>\n",
       "      <th>86202</th>\n",
       "      <td>Hrithik to play Super 30 founder Anand in next...</td>\n",
       "      <td>According to reports, actor Hrithik Roshan wil...</td>\n",
       "    </tr>\n",
       "    <tr>\n",
       "      <th>85154</th>\n",
       "      <td>Govt approves 2% interest subsidy for short te...</td>\n",
       "      <td>The government today approved the Interest Sub...</td>\n",
       "    </tr>\n",
       "    <tr>\n",
       "      <th>22364</th>\n",
       "      <td>How does a player get featured on the Lord's H...</td>\n",
       "      <td>A cricketer's name gets featured on the Honour...</td>\n",
       "    </tr>\n",
       "    <tr>\n",
       "      <th>49894</th>\n",
       "      <td>Religion not the only criteria for custody of ...</td>\n",
       "      <td>The Supreme Court has said religion is only on...</td>\n",
       "    </tr>\n",
       "  </tbody>\n",
       "</table>\n",
       "</div>"
      ],
      "text/plain": [
       "                                               headlines  \\\n",
       "2560   From time to time a CBI probe should happen: A...   \n",
       "62412  Broadcom proposes to acquire Qualcomm for $130...   \n",
       "60767  Ã¢ÂÂ¹5L fine on Delhi schools with no rainwat...   \n",
       "10050  In 10 years, Jet Airways lost 3 times of what ...   \n",
       "11993  What cases was CBI chief Alok Verma handling b...   \n",
       "42896  Abhishek Bachchan's look from comeback film Ma...   \n",
       "430    UK company's delivery boy stands on van, throw...   \n",
       "97439  Kohli has become the Donald Trump of world spo...   \n",
       "55547  Tendulkar-backed Smartron buys 60% stake in st...   \n",
       "40002  ABD almost fell flat on his face before fastes...   \n",
       "9514   Two men suspected to be behind Amritsar blast ...   \n",
       "86202  Hrithik to play Super 30 founder Anand in next...   \n",
       "85154  Govt approves 2% interest subsidy for short te...   \n",
       "22364  How does a player get featured on the Lord's H...   \n",
       "49894  Religion not the only criteria for custody of ...   \n",
       "\n",
       "                                                    text  \n",
       "2560   After reports claimed Samajwadi Party Presiden...  \n",
       "62412  Chipmaker Broadcom on Monday said it has offer...  \n",
       "60767  The National Green Tribunal has directed all g...  \n",
       "10050  India's largest full-service carrier Jet Airwa...  \n",
       "11993  CBI Director Alok Verma was supposed to take a...  \n",
       "42896  Actor Abhishek Bachchan's look from his comeba...  \n",
       "430    A video showing UK-based delivery company Herm...  \n",
       "97439  After Indian captain Virat Kohli accused some ...  \n",
       "55547  Hyderabad-based device maker Smartron, which i...  \n",
       "40002  South Africa's Dale Steyn has revealed AB de V...  \n",
       "9514   Two men, suspected to be involved in the blast...  \n",
       "86202  According to reports, actor Hrithik Roshan wil...  \n",
       "85154  The government today approved the Interest Sub...  \n",
       "22364  A cricketer's name gets featured on the Honour...  \n",
       "49894  The Supreme Court has said religion is only on...  "
      ]
     },
     "execution_count": 3,
     "metadata": {},
     "output_type": "execute_result"
    }
   ],
   "source": [
    "data = data[['headlines','text']]\n",
    "data.head()\n",
    "#랜덤한 15개 샘플 출력\n",
    "data.sample(15)"
   ]
  },
  {
   "cell_type": "markdown",
   "metadata": {},
   "source": [
    "## Step 2. 데이터 전처리하기 (추상적 요약)\n",
    "- 중복제거\n",
    "- null값 제거\n",
    "- 불용어 제거\n",
    "- 문장길이 분포 시각화\n",
    "- 데이터의 크기를 결정  \n",
    "- 샘플의 최대 길이 정하기\n",
    "- 문장의 시작과 끝을 표시\n",
    "- 데이터 나누기 \n",
    "- 정수 인코딩"
   ]
  },
  {
   "cell_type": "markdown",
   "metadata": {},
   "source": [
    "## - 중복제거"
   ]
  },
  {
   "cell_type": "code",
   "execution_count": 4,
   "metadata": {},
   "outputs": [
    {
     "name": "stdout",
     "output_type": "stream",
     "text": [
      "headlines 열에서 중복을 배제한 유일한 샘플의 수 : 98280\n",
      "text 열에서 중복을 배제한 유일한 샘플의 수 : 98360\n"
     ]
    }
   ],
   "source": [
    "print('headlines 열에서 중복을 배제한 유일한 샘플의 수 :', data['headlines'].nunique())\n",
    "print('text 열에서 중복을 배제한 유일한 샘플의 수 :', data['text'].nunique())"
   ]
  },
  {
   "cell_type": "markdown",
   "metadata": {},
   "source": [
    "text 열에서 중복을 배제한 유일한 샘플의 수 : 98360  \n",
    "headlines 열에서 중복을 배제한 유일한 샘플의 수 : 98280  \n",
    "headlines은 같은 경우가 있을 수 있어서   \n",
    "유니크한 데이터가 `text > headlines` 인 상황   \n",
    "text 자체가 중복이 된 경우, 중복 샘플이므로 제거  "
   ]
  },
  {
   "cell_type": "code",
   "execution_count": 5,
   "metadata": {},
   "outputs": [
    {
     "name": "stdout",
     "output_type": "stream",
     "text": [
      "전체 샘플수 : 98360\n"
     ]
    }
   ],
   "source": [
    "#데이터프레임의 drop_duplicates()를 사용\n",
    "data.drop_duplicates(subset = ['text'], inplace = True)\n",
    "print('전체 샘플수 :',(len(data)))"
   ]
  },
  {
   "cell_type": "markdown",
   "metadata": {},
   "source": [
    "## - null값 제거"
   ]
  },
  {
   "cell_type": "markdown",
   "metadata": {},
   "source": [
    "데이터프레임에 Null 값이 있는지 확인  \n",
    "`.isnull().sum()`을 사용"
   ]
  },
  {
   "cell_type": "code",
   "execution_count": 6,
   "metadata": {},
   "outputs": [
    {
     "name": "stdout",
     "output_type": "stream",
     "text": [
      "headlines    0\n",
      "text         0\n",
      "dtype: int64\n"
     ]
    }
   ],
   "source": [
    "print(data.isnull().sum())"
   ]
  },
  {
   "cell_type": "markdown",
   "metadata": {},
   "source": [
    "데이터프레임에서 Null을 제거할 때는 `dropna() 함수`를 사용"
   ]
  },
  {
   "cell_type": "code",
   "execution_count": 7,
   "metadata": {},
   "outputs": [
    {
     "name": "stdout",
     "output_type": "stream",
     "text": [
      "전체 샘플수 : 98360\n"
     ]
    }
   ],
   "source": [
    "data.dropna(axis = 0, inplace = True)\n",
    "print('전체 샘플수 :',(len(data)))"
   ]
  },
  {
   "cell_type": "markdown",
   "metadata": {},
   "source": [
    "## - 불용어 제거 "
   ]
  },
  {
   "cell_type": "markdown",
   "metadata": {},
   "source": [
    "**텍스트 정규화와 불용어 제거**   \n",
    "다른 단어로 간주하게 해서 연산량을 늘리는 것보다는 기계 학습 전에 미리 같은 표현으로 통일시켜주는 것이 기계의 연산량을 줄일 수 있는 방법   \n",
    "`텍스트 정규화(text normalization)`  \n",
    "사전(dictionary) 구성"
   ]
  },
  {
   "cell_type": "code",
   "execution_count": 8,
   "metadata": {},
   "outputs": [
    {
     "name": "stdout",
     "output_type": "stream",
     "text": [
      "정규화 사전의 수:  120\n"
     ]
    }
   ],
   "source": [
    "contractions = {\"ain't\": \"is not\", \"aren't\": \"are not\",\"can't\": \"cannot\", \"'cause\": \"because\", \"could've\": \"could have\", \"couldn't\": \"could not\",\n",
    "                           \"didn't\": \"did not\",  \"doesn't\": \"does not\", \"don't\": \"do not\", \"hadn't\": \"had not\", \"hasn't\": \"has not\", \"haven't\": \"have not\",\n",
    "                           \"he'd\": \"he would\",\"he'll\": \"he will\", \"he's\": \"he is\", \"how'd\": \"how did\", \"how'd'y\": \"how do you\", \"how'll\": \"how will\", \"how's\": \"how is\",\n",
    "                           \"I'd\": \"I would\", \"I'd've\": \"I would have\", \"I'll\": \"I will\", \"I'll've\": \"I will have\",\"I'm\": \"I am\", \"I've\": \"I have\", \"i'd\": \"i would\",\n",
    "                           \"i'd've\": \"i would have\", \"i'll\": \"i will\",  \"i'll've\": \"i will have\",\"i'm\": \"i am\", \"i've\": \"i have\", \"isn't\": \"is not\", \"it'd\": \"it would\",\n",
    "                           \"it'd've\": \"it would have\", \"it'll\": \"it will\", \"it'll've\": \"it will have\",\"it's\": \"it is\", \"let's\": \"let us\", \"ma'am\": \"madam\",\n",
    "                           \"mayn't\": \"may not\", \"might've\": \"might have\",\"mightn't\": \"might not\",\"mightn't've\": \"might not have\", \"must've\": \"must have\",\n",
    "                           \"mustn't\": \"must not\", \"mustn't've\": \"must not have\", \"needn't\": \"need not\", \"needn't've\": \"need not have\",\"o'clock\": \"of the clock\",\n",
    "                           \"oughtn't\": \"ought not\", \"oughtn't've\": \"ought not have\", \"shan't\": \"shall not\", \"sha'n't\": \"shall not\", \"shan't've\": \"shall not have\",\n",
    "                           \"she'd\": \"she would\", \"she'd've\": \"she would have\", \"she'll\": \"she will\", \"she'll've\": \"she will have\", \"she's\": \"she is\",\n",
    "                           \"should've\": \"should have\", \"shouldn't\": \"should not\", \"shouldn't've\": \"should not have\", \"so've\": \"so have\",\"so's\": \"so as\",\n",
    "                           \"this's\": \"this is\",\"that'd\": \"that would\", \"that'd've\": \"that would have\", \"that's\": \"that is\", \"there'd\": \"there would\",\n",
    "                           \"there'd've\": \"there would have\", \"there's\": \"there is\", \"here's\": \"here is\",\"they'd\": \"they would\", \"they'd've\": \"they would have\",\n",
    "                           \"they'll\": \"they will\", \"they'll've\": \"they will have\", \"they're\": \"they are\", \"they've\": \"they have\", \"to've\": \"to have\",\n",
    "                           \"wasn't\": \"was not\", \"we'd\": \"we would\", \"we'd've\": \"we would have\", \"we'll\": \"we will\", \"we'll've\": \"we will have\", \"we're\": \"we are\",\n",
    "                           \"we've\": \"we have\", \"weren't\": \"were not\", \"what'll\": \"what will\", \"what'll've\": \"what will have\", \"what're\": \"what are\",\n",
    "                           \"what's\": \"what is\", \"what've\": \"what have\", \"when's\": \"when is\", \"when've\": \"when have\", \"where'd\": \"where did\", \"where's\": \"where is\",\n",
    "                           \"where've\": \"where have\", \"who'll\": \"who will\", \"who'll've\": \"who will have\", \"who's\": \"who is\", \"who've\": \"who have\",\n",
    "                           \"why's\": \"why is\", \"why've\": \"why have\", \"will've\": \"will have\", \"won't\": \"will not\", \"won't've\": \"will not have\",\n",
    "                           \"would've\": \"would have\", \"wouldn't\": \"would not\", \"wouldn't've\": \"would not have\", \"y'all\": \"you all\",\n",
    "                           \"y'all'd\": \"you all would\",\"y'all'd've\": \"you all would have\",\"y'all're\": \"you all are\",\"y'all've\": \"you all have\",\n",
    "                           \"you'd\": \"you would\", \"you'd've\": \"you would have\", \"you'll\": \"you will\", \"you'll've\": \"you will have\",\n",
    "                           \"you're\": \"you are\", \"you've\": \"you have\"}\n",
    "\n",
    "print(\"정규화 사전의 수: \",len(contractions))"
   ]
  },
  {
   "cell_type": "code",
   "execution_count": 9,
   "metadata": {
    "scrolled": true
   },
   "outputs": [
    {
     "name": "stdout",
     "output_type": "stream",
     "text": [
      "불용어 개수 : 179\n",
      "['i', 'me', 'my', 'myself', 'we', 'our', 'ours', 'ourselves', 'you', \"you're\", \"you've\", \"you'll\", \"you'd\", 'your', 'yours', 'yourself', 'yourselves', 'he', 'him', 'his', 'himself', 'she', \"she's\", 'her', 'hers', 'herself', 'it', \"it's\", 'its', 'itself', 'they', 'them', 'their', 'theirs', 'themselves', 'what', 'which', 'who', 'whom', 'this', 'that', \"that'll\", 'these', 'those', 'am', 'is', 'are', 'was', 'were', 'be', 'been', 'being', 'have', 'has', 'had', 'having', 'do', 'does', 'did', 'doing', 'a', 'an', 'the', 'and', 'but', 'if', 'or', 'because', 'as', 'until', 'while', 'of', 'at', 'by', 'for', 'with', 'about', 'against', 'between', 'into', 'through', 'during', 'before', 'after', 'above', 'below', 'to', 'from', 'up', 'down', 'in', 'out', 'on', 'off', 'over', 'under', 'again', 'further', 'then', 'once', 'here', 'there', 'when', 'where', 'why', 'how', 'all', 'any', 'both', 'each', 'few', 'more', 'most', 'other', 'some', 'such', 'no', 'nor', 'not', 'only', 'own', 'same', 'so', 'than', 'too', 'very', 's', 't', 'can', 'will', 'just', 'don', \"don't\", 'should', \"should've\", 'now', 'd', 'll', 'm', 'o', 're', 've', 'y', 'ain', 'aren', \"aren't\", 'couldn', \"couldn't\", 'didn', \"didn't\", 'doesn', \"doesn't\", 'hadn', \"hadn't\", 'hasn', \"hasn't\", 'haven', \"haven't\", 'isn', \"isn't\", 'ma', 'mightn', \"mightn't\", 'mustn', \"mustn't\", 'needn', \"needn't\", 'shan', \"shan't\", 'shouldn', \"shouldn't\", 'wasn', \"wasn't\", 'weren', \"weren't\", 'won', \"won't\", 'wouldn', \"wouldn't\"]\n"
     ]
    }
   ],
   "source": [
    "print('불용어 개수 :', len(stopwords.words('english') ))\n",
    "print(stopwords.words('english'))"
   ]
  },
  {
   "cell_type": "code",
   "execution_count": 10,
   "metadata": {},
   "outputs": [],
   "source": [
    "from tqdm.notebook import tqdm"
   ]
  },
  {
   "cell_type": "code",
   "execution_count": 11,
   "metadata": {},
   "outputs": [
    {
     "data": {
      "application/vnd.jupyter.widget-view+json": {
       "model_id": "5655aff8639a4816afda87a80e6c66d5",
       "version_major": 2,
       "version_minor": 0
      },
      "text/plain": [
       "  0%|          | 0/98360 [00:00<?, ?it/s]"
      ]
     },
     "metadata": {},
     "output_type": "display_data"
    },
    {
     "data": {
      "application/vnd.jupyter.widget-view+json": {
       "model_id": "8afd8e7cc17e4c5f9035695e75a03eb8",
       "version_major": 2,
       "version_minor": 0
      },
      "text/plain": [
       "  0%|          | 0/98360 [00:00<?, ?it/s]"
      ]
     },
     "metadata": {},
     "output_type": "display_data"
    }
   ],
   "source": [
    "length = [len(x.split()) for x in tqdm(data['text'].values)]\n",
    "str_length = [len(x) for x in tqdm(data['text'].values)]"
   ]
  },
  {
   "cell_type": "code",
   "execution_count": 12,
   "metadata": {},
   "outputs": [
    {
     "data": {
      "text/plain": [
       "array([ 1, 38, 40, 41, 42, 43, 44, 45, 46, 47, 48, 49, 50, 51, 52, 53, 54,\n",
       "       55, 56, 57, 58, 59, 60, 61, 62, 63, 64, 65, 66, 91])"
      ]
     },
     "execution_count": 12,
     "metadata": {},
     "output_type": "execute_result"
    }
   ],
   "source": [
    "np.unique(length)"
   ]
  },
  {
   "cell_type": "code",
   "execution_count": 13,
   "metadata": {},
   "outputs": [
    {
     "data": {
      "text/plain": [
       "array([  4, 245, 249, 261, 265, 266, 268, 271, 272, 273, 274, 276, 277,\n",
       "       278, 280, 281, 282, 283, 284, 285, 286, 287, 288, 289, 290, 291,\n",
       "       292, 293, 294, 295, 296, 297, 298, 299, 300, 301, 302, 303, 304,\n",
       "       305, 306, 307, 308, 309, 310, 311, 312, 313, 314, 315, 316, 317,\n",
       "       318, 319, 320, 321, 322, 323, 324, 325, 326, 327, 328, 329, 330,\n",
       "       331, 332, 333, 334, 335, 336, 337, 338, 339, 340, 341, 342, 343,\n",
       "       344, 345, 346, 347, 348, 349, 350, 351, 352, 353, 354, 355, 356,\n",
       "       357, 358, 359, 360, 361, 362, 363, 364, 365, 366, 367, 368, 369,\n",
       "       370, 371, 372, 373, 374, 375, 376, 377, 378, 379, 380, 381, 382,\n",
       "       383, 384, 385, 386, 387, 388, 389, 390, 391, 392, 393, 394, 395,\n",
       "       396, 397, 398, 399, 400, 401, 402, 403, 404, 405, 406, 407, 408,\n",
       "       409, 410, 411, 412, 413, 414, 415, 416, 417, 418, 419, 420, 421,\n",
       "       422, 423, 424, 425, 427, 428, 429, 430, 431, 432, 433, 434, 438,\n",
       "       439, 442, 444, 459, 513])"
      ]
     },
     "execution_count": 13,
     "metadata": {},
     "output_type": "execute_result"
    }
   ],
   "source": [
    "np.unique(str_length)"
   ]
  },
  {
   "cell_type": "code",
   "execution_count": 14,
   "metadata": {},
   "outputs": [
    {
     "data": {
      "application/vnd.jupyter.widget-view+json": {
       "model_id": "495e25219ed24b48b2de9f9ee2cbde80",
       "version_major": 2,
       "version_minor": 0
      },
      "text/plain": [
       "  0%|          | 0/98360 [00:00<?, ?it/s]"
      ]
     },
     "metadata": {},
     "output_type": "display_data"
    },
    {
     "data": {
      "application/vnd.jupyter.widget-view+json": {
       "model_id": "36248a4240b545a38a1fc13d767a7aa2",
       "version_major": 2,
       "version_minor": 0
      },
      "text/plain": [
       "  0%|          | 0/98360 [00:00<?, ?it/s]"
      ]
     },
     "metadata": {},
     "output_type": "display_data"
    }
   ],
   "source": [
    "head_length = [len(x.split()) for x in tqdm(data['headlines'].values)]\n",
    "head_str_length = [len(x) for x in tqdm(data['headlines'].values)]"
   ]
  },
  {
   "cell_type": "code",
   "execution_count": 15,
   "metadata": {},
   "outputs": [
    {
     "data": {
      "text/plain": [
       "array([ 1,  3,  4,  5,  6,  7,  8,  9, 10, 11, 12, 13, 14, 15, 16, 18])"
      ]
     },
     "execution_count": 15,
     "metadata": {},
     "output_type": "execute_result"
    }
   ],
   "source": [
    "np.unique(head_length)"
   ]
  },
  {
   "cell_type": "code",
   "execution_count": 16,
   "metadata": {},
   "outputs": [
    {
     "data": {
      "text/plain": [
       "array([ 9, 30, 31, 32, 33, 34, 35, 36, 37, 38, 39, 40, 41, 42, 43, 44, 45,\n",
       "       46, 47, 48, 49, 50, 51, 52, 53, 54, 55, 56, 57, 58, 59, 60, 61, 62,\n",
       "       63, 64, 65, 66, 67, 68, 69, 70, 71, 72, 73, 74, 75, 76, 77, 78, 79,\n",
       "       80, 82, 83, 84, 86])"
      ]
     },
     "execution_count": 16,
     "metadata": {},
     "output_type": "execute_result"
    }
   ],
   "source": [
    "np.unique(head_str_length)"
   ]
  },
  {
   "cell_type": "code",
   "execution_count": 17,
   "metadata": {},
   "outputs": [],
   "source": [
    "#데이터 전처리 함수\n",
    "def preprocess_sentence(sentence, remove_stopwords=True):\n",
    "    sentence = sentence.lower() # 텍스트 소문자화\n",
    "    sentence = BeautifulSoup(sentence, \"lxml\").text # <br />, <a href = ...> 등의 html 태그 제거\n",
    "    sentence = re.sub(r'\\([^)]*\\)', '', sentence) # 괄호로 닫힌 문자열 (...) 제거 Ex) my husband (and myself!) for => my husband for\n",
    "    sentence = re.sub('\"','', sentence) # 쌍따옴표 \" 제거\n",
    "    sentence = ' '.join([contractions[t] if t in contractions else t for t in sentence.split(\" \")]) # 약어 정규화\n",
    "    sentence = re.sub(r\"'s\\b\",\"\",sentence) # 소유격 제거. Ex) roland's -> roland\n",
    "    sentence = re.sub(\"[^a-zA-Z]\", \" \", sentence) # 영어 외 문자(숫자, 특수문자 등) 공백으로 변환\n",
    "    sentence = re.sub('[m]{2,}', 'mm', sentence) # m이 3개 이상이면 2개로 변경. Ex) ummmmmmm yeah -> umm yeah\n",
    "    \n",
    "    # 불용어 제거 (Text)\n",
    "    if remove_stopwords:\n",
    "        tokens = ' '.join(word for word in sentence.split() if not word in stopwords.words('english') if len(word) > 1)\n",
    "    # 불용어 미제거 (Summary)\n",
    "    else:\n",
    "        tokens = ' '.join(word for word in sentence.split() if len(word) > 1)\n",
    "    return tokens\n",
    "    "
   ]
  },
  {
   "cell_type": "code",
   "execution_count": 18,
   "metadata": {},
   "outputs": [
    {
     "name": "stdout",
     "output_type": "stream",
     "text": [
      "everything bought great infact ordered twice third ordered wasfor mother father\n",
      "great way to start the day\n"
     ]
    }
   ],
   "source": [
    "temp_text = 'Everything I bought was great, infact I ordered twice and the third ordered was<br />for my mother and father.'\n",
    "temp_summary = 'Great way to start (or finish) the day!!!'\n",
    "\n",
    "print(preprocess_sentence(temp_text))\n",
    "print(preprocess_sentence(temp_summary, False))  # 불용어를 제거하지 않습니다."
   ]
  },
  {
   "cell_type": "markdown",
   "metadata": {},
   "source": [
    "알파벳이 소문자로 변환  \n",
    "html 태그가 제거  \n",
    "(or finish)와 같은 괄호로 묶였던 단어 시퀀스가 제거  \n",
    "특수문자가 제거  \n"
   ]
  },
  {
   "cell_type": "code",
   "execution_count": 19,
   "metadata": {},
   "outputs": [
    {
     "data": {
      "application/vnd.jupyter.widget-view+json": {
       "model_id": "c69cd7b194f34140ba969c2e57ccab66",
       "version_major": 2,
       "version_minor": 0
      },
      "text/plain": [
       "  0%|          | 0/98360 [00:00<?, ?it/s]"
      ]
     },
     "metadata": {},
     "output_type": "display_data"
    },
    {
     "data": {
      "text/plain": [
       "['saurav kant alumnus upgrad iiit pg program machine learning artificial intelligence sr systems engineer infosys almost years work experience program upgrad degree career support helped transition data scientist tech mahindra salary hike upgrad online power learning powered lakh careers',\n",
       " 'kunal shah credit card bill payment platform cred gave users chance win free food swiggy one year pranav kaushik delhi techie bagged reward spending cred coins users get one cred coin per rupee bill paid used avail rewards brands like ixigo bookmyshow ubereats cult fit',\n",
       " 'new zealand defeated india wickets fourth odi hamilton thursday win first match five match odi series india lost international match rohit sharma captaincy consecutive victories dating back march match witnessed india getting seventh lowest total odi cricket history',\n",
       " 'aegon life iterm insurance plan customers enjoy tax benefits premiums paid save taxes plan provides life cover age years also customers options insure critical illnesses disability accidental death benefit rider life cover age years',\n",
       " 'speaking sexual harassment allegations rajkumar hirani sonam kapoor said known hirani many years true metoo movement get derailed metoo movement always believe woman case need reserve judgment added hirani accused assistant worked sanju']"
      ]
     },
     "execution_count": 19,
     "metadata": {},
     "output_type": "execute_result"
    }
   ],
   "source": [
    "clean_text = []\n",
    "\n",
    "# 전체 Text 데이터에 대한 전처리 : 10분 이상 시간이 걸릴 수 있습니다. \n",
    "for s in tqdm(data['text']):\n",
    "    clean_text.append(preprocess_sentence(s))\n",
    "\n",
    "# 전처리 후 출력\n",
    "clean_text[:5]"
   ]
  },
  {
   "cell_type": "code",
   "execution_count": 20,
   "metadata": {},
   "outputs": [
    {
     "data": {
      "application/vnd.jupyter.widget-view+json": {
       "model_id": "10c542ca336b4c60b4a7376372f82aef",
       "version_major": 2,
       "version_minor": 0
      },
      "text/plain": [
       "  0%|          | 0/98360 [00:00<?, ?it/s]"
      ]
     },
     "metadata": {},
     "output_type": "display_data"
    },
    {
     "data": {
      "text/plain": [
       "['upgrad learner switches to career in ml al with salary hike',\n",
       " 'delhi techie wins free food from swiggy for one year on cred',\n",
       " 'new zealand end rohit sharma led india match winning streak',\n",
       " 'aegon life iterm insurance plan helps customers save tax',\n",
       " 'have known hirani for yrs what if metoo claims are not true sonam']"
      ]
     },
     "execution_count": 20,
     "metadata": {},
     "output_type": "execute_result"
    }
   ],
   "source": [
    "clean_headlines = []\n",
    "\n",
    "# 전체 Summary 데이터에 대한 전처리 : 5분 이상 시간이 걸릴 수 있습니다. \n",
    "for s in tqdm(data['headlines']):\n",
    "    clean_headlines.append(preprocess_sentence(s, False))\n",
    "\n",
    "clean_headlines[:5]"
   ]
  },
  {
   "cell_type": "code",
   "execution_count": 21,
   "metadata": {},
   "outputs": [],
   "source": [
    "#전처리 과정중 빈공백 null로 변환\n",
    "data['text'] = clean_text\n",
    "data['headlines'] = clean_headlines\n",
    "\n",
    "# 빈 값을 Null 값으로 변환\n",
    "data.replace('', np.nan, inplace=True)"
   ]
  },
  {
   "cell_type": "markdown",
   "metadata": {},
   "source": [
    "`.isnull().sum()`을 사용해서 Null 값이 생겼는지 확인"
   ]
  },
  {
   "cell_type": "code",
   "execution_count": 22,
   "metadata": {},
   "outputs": [
    {
     "data": {
      "text/plain": [
       "headlines    0\n",
       "text         0\n",
       "dtype: int64"
      ]
     },
     "execution_count": 22,
     "metadata": {},
     "output_type": "execute_result"
    }
   ],
   "source": [
    "#null 있는지 확인\n",
    "data.isnull().sum()"
   ]
  },
  {
   "cell_type": "code",
   "execution_count": 23,
   "metadata": {},
   "outputs": [
    {
     "name": "stdout",
     "output_type": "stream",
     "text": [
      "전체 샘플수 : 98360\n"
     ]
    }
   ],
   "source": [
    "#null 삭제\n",
    "#data.dropna(axis=0, inplace=True)\n",
    "\n",
    "print('전체 샘플수 :',(len(data)))#데이터 전처리 함수"
   ]
  },
  {
   "cell_type": "markdown",
   "metadata": {},
   "source": [
    "## - 샘플의 최대 길이 정하기\n",
    "text와 headlines의 최소, 최대, 평균 길이  "
   ]
  },
  {
   "cell_type": "code",
   "execution_count": 24,
   "metadata": {},
   "outputs": [
    {
     "name": "stdout",
     "output_type": "stream",
     "text": [
      "텍스트의 최소 길이 : 1\n",
      "텍스트의 최대 길이 : 91\n",
      "텍스트의 평균 길이 : 58.23813542090281\n",
      "헤드라인의 최소 길이 : 1\n",
      "헤드라인의 최대 길이 : 18\n",
      "헤드라인의 평균 길이 : 9.553660024400163\n"
     ]
    }
   ],
   "source": [
    "# 길이 분포 출력\n",
    "import matplotlib.pyplot as plt\n",
    "\n",
    "text_len = [len(s.split()) for s in data['text']]\n",
    "headlines_len = [len(s.split()) for s in data['headlines']]\n",
    "\n",
    "print('텍스트의 최소 길이 : {}'.format(np.min(text_len)))\n",
    "print('텍스트의 최대 길이 : {}'.format(np.max(text_len)))\n",
    "print('텍스트의 평균 길이 : {}'.format(np.mean(text_len)))\n",
    "print('헤드라인의 최소 길이 : {}'.format(np.min(headlines_len)))\n",
    "print('헤드라인의 최대 길이 : {}'.format(np.max(headlines_len)))\n",
    "print('헤드라인의 평균 길이 : {}'.format(np.mean(headlines_len)))"
   ]
  },
  {
   "cell_type": "markdown",
   "metadata": {},
   "source": [
    "## - 문장 길이 분포 시각화"
   ]
  },
  {
   "cell_type": "code",
   "execution_count": 25,
   "metadata": {},
   "outputs": [
    {
     "data": {
      "image/png": "[encoded data removed]",
      "text/plain": [
       "<Figure size 432x288 with 2 Axes>"
      ]
     },
     "metadata": {
      "needs_background": "light"
     },
     "output_type": "display_data"
    },
    {
     "data": {
      "image/png": "[encoded data removed]",
      "text/plain": [
       "<Figure size 432x288 with 1 Axes>"
      ]
     },
     "metadata": {
      "needs_background": "light"
     },
     "output_type": "display_data"
    },
    {
     "data": {
      "image/png": "[encoded data removed]",
      "text/plain": [
       "<Figure size 432x288 with 1 Axes>"
      ]
     },
     "metadata": {
      "needs_background": "light"
     },
     "output_type": "display_data"
    }
   ],
   "source": [
    "plt.subplot(1,2,1)\n",
    "plt.boxplot(headlines_len)\n",
    "plt.title('headlines')\n",
    "plt.subplot(1,2,2)\n",
    "plt.boxplot(text_len)\n",
    "plt.title('text')\n",
    "plt.tight_layout()\n",
    "plt.show()\n",
    "\n",
    "plt.title('headlines')\n",
    "plt.hist(headlines_len, bins = 40)\n",
    "plt.xlabel('length of samples')\n",
    "plt.ylabel('number of samples')\n",
    "plt.show()\n",
    "\n",
    "plt.title('text')\n",
    "plt.hist(text_len, bins = 40)\n",
    "plt.xlabel('length of samples')\n",
    "plt.ylabel('number of samples')\n",
    "plt.show()"
   ]
  },
  {
   "cell_type": "markdown",
   "metadata": {},
   "source": [
    "텍스트의 최소 길이 : 1  \n",
    "텍스트의 최대 길이 : 60  \n",
    "텍스트의 평균 길이 : 35.09968483123221  \n",
    "헤드라인의 최소 길이 : 1  \n",
    "헤드라인의 최대 길이 : 16  \n",
    "헤드라인의 평균 길이 : 9.299532330215534  "
   ]
  },
  {
   "cell_type": "markdown",
   "metadata": {},
   "source": [
    "## - 데이터의 크기를 결정  "
   ]
  },
  {
   "cell_type": "code",
   "execution_count": 26,
   "metadata": {},
   "outputs": [],
   "source": [
    "text_max_len = 60\n",
    "headlines_max_len = 14"
   ]
  },
  {
   "cell_type": "code",
   "execution_count": 27,
   "metadata": {},
   "outputs": [],
   "source": [
    "def below_threshold_len(max_len, nested_list):\n",
    "  cnt = 0\n",
    "  for s in nested_list:\n",
    "    if(len(s.split()) <= max_len):\n",
    "        cnt = cnt + 1\n",
    "  print('전체 샘플 중 길이가 %s 이하인 샘플의 비율: %s'%(max_len, (cnt / len(nested_list))))\n",
    "  "
   ]
  },
  {
   "cell_type": "code",
   "execution_count": 28,
   "metadata": {},
   "outputs": [
    {
     "name": "stdout",
     "output_type": "stream",
     "text": [
      "전체 샘플 중 길이가 60 이하인 샘플의 비율: 0.997448149654331\n",
      "전체 샘플 중 길이가 14 이하인 샘플의 비율: 0.9992069947132981\n"
     ]
    }
   ],
   "source": [
    "below_threshold_len(text_max_len, data['text'])\n",
    "below_threshold_len(headlines_max_len,  data['headlines'])"
   ]
  },
  {
   "cell_type": "code",
   "execution_count": 29,
   "metadata": {},
   "outputs": [
    {
     "name": "stdout",
     "output_type": "stream",
     "text": [
      "전체 샘플수 : 98031\n"
     ]
    }
   ],
   "source": [
    "data = data[data['text'].apply(lambda x: len(x.split()) <= text_max_len)]\n",
    "data = data[data['headlines'].apply(lambda x: len(x.split()) <= headlines_max_len)]\n",
    "print('전체 샘플수 :',(len(data)))"
   ]
  },
  {
   "cell_type": "markdown",
   "metadata": {},
   "source": [
    "## - 문장의 시작과 끝을 표시"
   ]
  },
  {
   "cell_type": "code",
   "execution_count": 30,
   "metadata": {},
   "outputs": [
    {
     "data": {
      "text/html": [
       "<div>\n",
       "<style scoped>\n",
       "    .dataframe tbody tr th:only-of-type {\n",
       "        vertical-align: middle;\n",
       "    }\n",
       "\n",
       "    .dataframe tbody tr th {\n",
       "        vertical-align: top;\n",
       "    }\n",
       "\n",
       "    .dataframe thead th {\n",
       "        text-align: right;\n",
       "    }\n",
       "</style>\n",
       "<table border=\"1\" class=\"dataframe\">\n",
       "  <thead>\n",
       "    <tr style=\"text-align: right;\">\n",
       "      <th></th>\n",
       "      <th>headlines</th>\n",
       "      <th>text</th>\n",
       "      <th>decoder_input</th>\n",
       "      <th>decoder_target</th>\n",
       "    </tr>\n",
       "  </thead>\n",
       "  <tbody>\n",
       "    <tr>\n",
       "      <th>0</th>\n",
       "      <td>upGrad learner switches to career in ML &amp; Al w...</td>\n",
       "      <td>Saurav Kant, an alumnus of upGrad and IIIT-B's...</td>\n",
       "      <td>sostoken upGrad learner switches to career in ...</td>\n",
       "      <td>upGrad learner switches to career in ML &amp; Al w...</td>\n",
       "    </tr>\n",
       "    <tr>\n",
       "      <th>1</th>\n",
       "      <td>Delhi techie wins free food from Swiggy for on...</td>\n",
       "      <td>Kunal Shah's credit card bill payment platform...</td>\n",
       "      <td>sostoken Delhi techie wins free food from Swig...</td>\n",
       "      <td>Delhi techie wins free food from Swiggy for on...</td>\n",
       "    </tr>\n",
       "    <tr>\n",
       "      <th>2</th>\n",
       "      <td>New Zealand end Rohit Sharma-led India's 12-ma...</td>\n",
       "      <td>New Zealand defeated India by 8 wickets in the...</td>\n",
       "      <td>sostoken New Zealand end Rohit Sharma-led Indi...</td>\n",
       "      <td>New Zealand end Rohit Sharma-led India's 12-ma...</td>\n",
       "    </tr>\n",
       "    <tr>\n",
       "      <th>3</th>\n",
       "      <td>Aegon life iTerm insurance plan helps customer...</td>\n",
       "      <td>With Aegon Life iTerm Insurance plan, customer...</td>\n",
       "      <td>sostoken Aegon life iTerm insurance plan helps...</td>\n",
       "      <td>Aegon life iTerm insurance plan helps customer...</td>\n",
       "    </tr>\n",
       "    <tr>\n",
       "      <th>4</th>\n",
       "      <td>Have known Hirani for yrs, what if MeToo claim...</td>\n",
       "      <td>Speaking about the sexual harassment allegatio...</td>\n",
       "      <td>sostoken Have known Hirani for yrs, what if Me...</td>\n",
       "      <td>Have known Hirani for yrs, what if MeToo claim...</td>\n",
       "    </tr>\n",
       "  </tbody>\n",
       "</table>\n",
       "</div>"
      ],
      "text/plain": [
       "                                           headlines  \\\n",
       "0  upGrad learner switches to career in ML & Al w...   \n",
       "1  Delhi techie wins free food from Swiggy for on...   \n",
       "2  New Zealand end Rohit Sharma-led India's 12-ma...   \n",
       "3  Aegon life iTerm insurance plan helps customer...   \n",
       "4  Have known Hirani for yrs, what if MeToo claim...   \n",
       "\n",
       "                                                text  \\\n",
       "0  Saurav Kant, an alumnus of upGrad and IIIT-B's...   \n",
       "1  Kunal Shah's credit card bill payment platform...   \n",
       "2  New Zealand defeated India by 8 wickets in the...   \n",
       "3  With Aegon Life iTerm Insurance plan, customer...   \n",
       "4  Speaking about the sexual harassment allegatio...   \n",
       "\n",
       "                                       decoder_input  \\\n",
       "0  sostoken upGrad learner switches to career in ...   \n",
       "1  sostoken Delhi techie wins free food from Swig...   \n",
       "2  sostoken New Zealand end Rohit Sharma-led Indi...   \n",
       "3  sostoken Aegon life iTerm insurance plan helps...   \n",
       "4  sostoken Have known Hirani for yrs, what if Me...   \n",
       "\n",
       "                                      decoder_target  \n",
       "0  upGrad learner switches to career in ML & Al w...  \n",
       "1  Delhi techie wins free food from Swiggy for on...  \n",
       "2  New Zealand end Rohit Sharma-led India's 12-ma...  \n",
       "3  Aegon life iTerm insurance plan helps customer...  \n",
       "4  Have known Hirani for yrs, what if MeToo claim...  "
      ]
     },
     "execution_count": 30,
     "metadata": {},
     "output_type": "execute_result"
    }
   ],
   "source": [
    "#요약 데이터에는 시작 토큰과 종료 토큰을 추가한다.\n",
    "data['decoder_input'] = data['headlines'].apply(lambda x : 'sostoken '+ x)\n",
    "data['decoder_target'] = data['headlines'].apply(lambda x : x + ' eostoken')\n",
    "data.head()"
   ]
  },
  {
   "cell_type": "code",
   "execution_count": 31,
   "metadata": {},
   "outputs": [],
   "source": [
    "encoder_input = np.array(data['text']) # 인코더의 입력\n",
    "decoder_input = np.array(data['decoder_input']) # 디코더의 입력\n",
    "decoder_target = np.array(data['decoder_target']) # 디코더의 레이블"
   ]
  },
  {
   "cell_type": "code",
   "execution_count": 32,
   "metadata": {},
   "outputs": [
    {
     "name": "stdout",
     "output_type": "stream",
     "text": [
      "[21048  5613 89737 ... 30592 93296 41110]\n"
     ]
    }
   ],
   "source": [
    "indices = np.arange(encoder_input.shape[0])\n",
    "np.random.shuffle(indices)\n",
    "print(indices)"
   ]
  },
  {
   "cell_type": "code",
   "execution_count": 33,
   "metadata": {},
   "outputs": [],
   "source": [
    "encoder_input = encoder_input[indices]\n",
    "decoder_input = decoder_input[indices]\n",
    "decoder_target = decoder_target[indices]"
   ]
  },
  {
   "cell_type": "code",
   "execution_count": 34,
   "metadata": {},
   "outputs": [
    {
     "name": "stdout",
     "output_type": "stream",
     "text": [
      "테스트 데이터의 수 : 19606\n"
     ]
    }
   ],
   "source": [
    "n_of_val = int(len(encoder_input)*0.2)\n",
    "print('테스트 데이터의 수 :',n_of_val)"
   ]
  },
  {
   "cell_type": "markdown",
   "metadata": {},
   "source": [
    "## - 데이터 나누기"
   ]
  },
  {
   "cell_type": "markdown",
   "metadata": {},
   "source": [
    "훈련데이터와 테스트데이터 나누기  "
   ]
  },
  {
   "cell_type": "code",
   "execution_count": 35,
   "metadata": {},
   "outputs": [
    {
     "name": "stdout",
     "output_type": "stream",
     "text": [
      "훈련 데이터의 개수 : 78425\n",
      "훈련 레이블의 개수 : 78425\n",
      "테스트 데이터의 개수 : 19606\n",
      "테스트 레이블의 개수 : 19606\n"
     ]
    }
   ],
   "source": [
    "encoder_input_train = encoder_input[:-n_of_val]\n",
    "decoder_input_train = decoder_input[:-n_of_val]\n",
    "decoder_target_train = decoder_target[:-n_of_val]\n",
    "\n",
    "encoder_input_test = encoder_input[-n_of_val:]\n",
    "decoder_input_test = decoder_input[-n_of_val:]\n",
    "decoder_target_test = decoder_target[-n_of_val:]\n",
    "\n",
    "print('훈련 데이터의 개수 :', len(encoder_input_train))\n",
    "print('훈련 레이블의 개수 :',len(decoder_input_train))\n",
    "print('테스트 데이터의 개수 :',len(encoder_input_test))\n",
    "print('테스트 레이블의 개수 :',len(decoder_input_test))"
   ]
  },
  {
   "cell_type": "markdown",
   "metadata": {},
   "source": [
    "훈련 데이터의 개수 : 78671  \n",
    "훈련 레이블의 개수 : 78671  \n",
    "테스트 데이터의 개수 : 19667  \n",
    "테스트 레이블의 개수 : 19667  "
   ]
  },
  {
   "cell_type": "markdown",
   "metadata": {},
   "source": [
    "## - 정수 인코딩\n",
    "단어 집합(vocaburary) 만들기 및 정수 인코딩  \n",
    "각 단어에 고유한 정수를 맵핑하는 작업  `단어 집합(vocaburary)`  \n",
    "Keras의 토크나이저를 사용  "
   ]
  },
  {
   "cell_type": "code",
   "execution_count": 36,
   "metadata": {},
   "outputs": [],
   "source": [
    "src_tokenizer = Tokenizer() # 토크나이저 정의\n",
    "src_tokenizer.fit_on_texts(encoder_input_train) # 입력된 데이터로부터 단어 집합 생성"
   ]
  },
  {
   "cell_type": "markdown",
   "metadata": {},
   "source": [
    "단어 집합이 생성  \n",
    "각 단어에 고유한 정수가 부여  \n",
    "단어 집합은 src_tokenizer.word_index에 저장  \n",
    "`src_tokenizer.word_counts.items()`"
   ]
  },
  {
   "cell_type": "code",
   "execution_count": 37,
   "metadata": {},
   "outputs": [
    {
     "name": "stdout",
     "output_type": "stream",
     "text": [
      "단어 집합(vocabulary)의 크기 : 91035\n",
      "등장 빈도가 6번 이하인 희귀 단어의 수: 66327\n",
      "단어 집합에서 희귀 단어를 제외시킬 경우의 단어 집합의 크기 24708\n",
      "단어 집합에서 희귀 단어의 비율: 72.85879057505356\n",
      "전체 등장 빈도에서 희귀 단어 등장 빈도 비율: 2.7302194424575226\n"
     ]
    }
   ],
   "source": [
    "threshold = 7\n",
    "total_cnt = len(src_tokenizer.word_index) # 단어의 수\n",
    "rare_cnt = 0 # 등장 빈도수가 threshold보다 작은 단어의 개수를 카운트\n",
    "total_freq = 0 # 훈련 데이터의 전체 단어 빈도수 총 합\n",
    "rare_freq = 0 # 등장 빈도수가 threshold보다 작은 단어의 등장 빈도수의 총 합\n",
    "\n",
    "# 단어와 빈도수의 쌍(pair)을 key와 value로 받는다.\n",
    "for key, value in src_tokenizer.word_counts.items():\n",
    "    total_freq = total_freq + value\n",
    "\n",
    "    # 단어의 등장 빈도수가 threshold보다 작으면\n",
    "    if(value < threshold):\n",
    "        rare_cnt = rare_cnt + 1\n",
    "        rare_freq = rare_freq + value\n",
    "\n",
    "print('단어 집합(vocabulary)의 크기 :',total_cnt)\n",
    "print('등장 빈도가 %s번 이하인 희귀 단어의 수: %s'%(threshold - 1, rare_cnt))\n",
    "print('단어 집합에서 희귀 단어를 제외시킬 경우의 단어 집합의 크기 %s'%(total_cnt - rare_cnt))\n",
    "print(\"단어 집합에서 희귀 단어의 비율:\", (rare_cnt / total_cnt)*100)\n",
    "print(\"전체 등장 빈도에서 희귀 단어 등장 빈도 비율:\", (rare_freq / total_freq)*100)"
   ]
  },
  {
   "cell_type": "markdown",
   "metadata": {},
   "source": [
    "단어 집합(vocabulary)의 크기 : 69557  \n",
    "등장 빈도가 6번 이하인 희귀 단어의 수: 47423  \n",
    "단어 집합에서 희귀 단어를 제외시킬 경우의 단어 집합의 크기 22134   \n",
    "단어 집합에서 희귀 단어의 비율: 68.1786160990267  \n",
    "전체 등장 빈도에서 희귀 단어 등장 빈도 비율: 3.494565148505529  \n",
    "\n",
    "등장 빈도가 threshold 값인 7회 미만, 즉, 6회 이하인 단어들은 단어 집합에서 무려 70% 이상을 차지하네요. 하지만, 실제로 훈련 데이터에서 등장 빈도로 차지하는 비중은 상대적으로 적은 수치인 3.39%밖에 되지 않아요.\n",
    "\n",
    "그래서 등장 빈도가 6회 이하인 단어들은 정수 인코딩 과정에서 빼고, 훈련 데이터에서 제거하고자 합니다. 위에서 이를 제외한 단어 집합의 크기를 8,233으로 계산했는데, 이와 비슷한 값으로 어림잡아 단어 집합의 크기를 8000으로 제한해볼게요. 토크나이저를 정의할 때 num_words의 값을 정해주면, 단어 집합의 크기를 제한할 수 있어요."
   ]
  },
  {
   "cell_type": "code",
   "execution_count": 38,
   "metadata": {},
   "outputs": [],
   "source": [
    "src_vocab = 22000\n",
    "src_tokenizer = Tokenizer(num_words = src_vocab) # 단어 집합의 크기를 22000으로 제한\n",
    "src_tokenizer.fit_on_texts(encoder_input_train) # 단어 집합 재생성."
   ]
  },
  {
   "cell_type": "code",
   "execution_count": 39,
   "metadata": {},
   "outputs": [
    {
     "name": "stdout",
     "output_type": "stream",
     "text": [
      "[[84, 77, 107, 2589, 2824, 6725, 12, 8237, 15, 17, 12833, 413, 19237, 7709, 22, 1, 4488, 3056, 16761, 7, 1, 841, 5, 1618, 5775, 4, 87, 419, 19237, 13, 1, 5464, 413, 5, 588, 107, 6725, 11089, 20, 8734, 1048, 8878, 577, 5726, 7709, 6, 45, 413, 11850, 34, 40, 1350, 22, 1, 4040], [151, 1056, 1672, 8, 33, 313, 1, 391, 53, 474, 5, 203, 15, 1, 568, 61, 6, 904, 1061, 19238, 1, 391, 133, 1082, 5, 53, 510, 92, 7, 6, 1704, 3115, 12, 269, 7, 120, 362, 832, 170, 12, 163, 7, 1, 510, 1141, 15, 1575, 170, 6, 2396, 1745, 872], [1, 9143, 449, 639, 8346, 16112, 7, 37, 2407, 1931, 20, 4365, 7, 195, 81, 1, 133, 275, 639, 1568, 560, 4, 402, 11851, 16, 1185, 2486, 65, 2, 66, 128, 997, 106, 104, 210, 405, 3848, 15, 1, 1576, 1158, 689, 21, 910, 3, 158, 474, 11852, 3, 4973, 10831, 15, 3, 12834, 3462, 5666, 6, 8735, 6, 6652, 990]]\n"
     ]
    }
   ],
   "source": [
    "# 텍스트 시퀀스를 정수 시퀀스로 변환\n",
    "encoder_input_train = src_tokenizer.texts_to_sequences(encoder_input_train) \n",
    "encoder_input_test = src_tokenizer.texts_to_sequences(encoder_input_test)\n",
    "\n",
    "#잘 진행되었는지 샘플 출력\n",
    "print(encoder_input_train[:3])"
   ]
  },
  {
   "cell_type": "code",
   "execution_count": 40,
   "metadata": {},
   "outputs": [],
   "source": [
    "#headlines 토큰화\n",
    "tar_tokenizer = Tokenizer()\n",
    "tar_tokenizer.fit_on_texts(decoder_input_train)"
   ]
  },
  {
   "cell_type": "markdown",
   "metadata": {},
   "source": [
    "이제 단어 집합이 생성되는 동시에 각 단어에 고유한 정수가 부여되었어요. 이는 tar_tokenizer.word_index에 저장되어있어요. tar_tokenizer.word_counts.items()에는 단어와 각 단어의 등장 빈도수가 저장되어져 있는데, 이를 통해서 통계적인 정보를 얻어서, 등장 빈도수가 6회 미만인 단어들이 이 데이터에서 얼만큼의 비중을 차지하는지 확인해볼게요."
   ]
  },
  {
   "cell_type": "code",
   "execution_count": 41,
   "metadata": {},
   "outputs": [
    {
     "name": "stdout",
     "output_type": "stream",
     "text": [
      "단어 집합(vocabulary)의 크기 : 40635\n",
      "등장 빈도가 7번 이하인 희귀 단어의 수: 31228\n",
      "단어 집합에서 희귀 단어를 제외시킬 경우의 단어 집합의 크기 9407\n",
      "단어 집합에서 희귀 단어의 비율: 76.85000615233173\n",
      "전체 등장 빈도에서 희귀 단어 등장 빈도 비율: 7.570118264665113\n"
     ]
    }
   ],
   "source": [
    "threshold = 8\n",
    "total_cnt = len(tar_tokenizer.word_index) # 단어의 수\n",
    "rare_cnt = 0 # 등장 빈도수가 threshold보다 작은 단어의 개수를 카운트\n",
    "total_freq = 0 # 훈련 데이터의 전체 단어 빈도수 총 합\n",
    "rare_freq = 0 # 등장 빈도수가 threshold보다 작은 단어의 등장 빈도수의 총 합\n",
    "\n",
    "# 단어와 빈도수의 쌍(pair)을 key와 value로 받는다.\n",
    "for key, value in tar_tokenizer.word_counts.items():\n",
    "    total_freq = total_freq + value\n",
    "\n",
    "    # 단어의 등장 빈도수가 threshold보다 작으면\n",
    "    if(value < threshold):\n",
    "        rare_cnt = rare_cnt + 1\n",
    "        rare_freq = rare_freq + value\n",
    "\n",
    "print('단어 집합(vocabulary)의 크기 :',total_cnt)\n",
    "print('등장 빈도가 %s번 이하인 희귀 단어의 수: %s'%(threshold - 1, rare_cnt))\n",
    "print('단어 집합에서 희귀 단어를 제외시킬 경우의 단어 집합의 크기 %s'%(total_cnt - rare_cnt))\n",
    "print(\"단어 집합에서 희귀 단어의 비율:\", (rare_cnt / total_cnt)*100)\n",
    "print(\"전체 등장 빈도에서 희귀 단어 등장 빈도 비율:\", (rare_freq / total_freq)*100)"
   ]
  },
  {
   "cell_type": "code",
   "execution_count": 42,
   "metadata": {},
   "outputs": [
    {
     "name": "stdout",
     "output_type": "stream",
     "text": [
      "input\n",
      "input  [[1, 4915, 257, 2133, 213, 5921, 6, 595, 24, 1494], [1, 441, 3141, 307, 227, 29, 204, 6, 172, 17], [1, 4, 1085, 3640, 1998, 2490, 239], [1, 47, 814, 3, 2206, 8, 4080, 908, 220], [1, 4081, 4489, 5256, 45, 415, 8, 487, 1074, 61]]\n",
      "target\n",
      "decoder  [[4915, 257, 2133, 213, 5921, 6, 595, 24, 1494, 2], [441, 3141, 307, 227, 29, 204, 6, 172, 17, 2], [4, 1085, 3640, 1998, 2490, 239, 2], [47, 814, 3, 2206, 8, 4080, 908, 220, 2], [4081, 4489, 5256, 45, 415, 8, 487, 1074, 61, 2]]\n"
     ]
    }
   ],
   "source": [
    "tar_vocab = 8800\n",
    "tar_tokenizer = Tokenizer(num_words = tar_vocab) \n",
    "tar_tokenizer.fit_on_texts(decoder_input_train)\n",
    "tar_tokenizer.fit_on_texts(decoder_target_train)\n",
    "\n",
    "# 텍스트 시퀀스를 정수 시퀀스로 변환\n",
    "decoder_input_train = tar_tokenizer.texts_to_sequences(decoder_input_train) \n",
    "decoder_target_train = tar_tokenizer.texts_to_sequences(decoder_target_train)\n",
    "decoder_input_test = tar_tokenizer.texts_to_sequences(decoder_input_test)\n",
    "decoder_target_test = tar_tokenizer.texts_to_sequences(decoder_target_test)\n",
    "\n",
    "#잘 변환되었는지 확인\n",
    "print('input')\n",
    "print('input ',decoder_input_train[:5])\n",
    "print('target')\n",
    "print('decoder ',decoder_target_train[:5])"
   ]
  },
  {
   "cell_type": "code",
   "execution_count": 43,
   "metadata": {},
   "outputs": [
    {
     "name": "stdout",
     "output_type": "stream",
     "text": [
      "삭제할 훈련 데이터의 개수 : 0\n",
      "삭제할 테스트 데이터의 개수 : 1\n",
      "훈련 데이터의 개수 : 78425\n",
      "훈련 레이블의 개수 : 78425\n",
      "테스트 데이터의 개수 : 19605\n",
      "테스트 레이블의 개수 : 19605\n"
     ]
    },
    {
     "name": "stderr",
     "output_type": "stream",
     "text": [
      "/home/aiffel-dj56/anaconda3/envs/aiffel/lib/python3.7/site-packages/numpy/core/_asarray.py:83: VisibleDeprecationWarning: Creating an ndarray from ragged nested sequences (which is a list-or-tuple of lists-or-tuples-or ndarrays with different lengths or shapes) is deprecated. If you meant to do this, you must specify 'dtype=object' when creating the ndarray\n",
      "  return array(a, dtype, copy=False, order=order)\n"
     ]
    }
   ],
   "source": [
    "drop_train = [index for index, sentence in enumerate(decoder_input_train) if len(sentence) == 1]\n",
    "drop_test = [index for index, sentence in enumerate(decoder_input_test) if len(sentence) == 1]\n",
    "\n",
    "print('삭제할 훈련 데이터의 개수 :',len(drop_train))\n",
    "print('삭제할 테스트 데이터의 개수 :',len(drop_test))\n",
    "\n",
    "encoder_input_train = np.delete(encoder_input_train, drop_train, axis=0)\n",
    "decoder_input_train = np.delete(decoder_input_train, drop_train, axis=0)\n",
    "decoder_target_train = np.delete(decoder_target_train, drop_train, axis=0)\n",
    "\n",
    "encoder_input_test = np.delete(encoder_input_test, drop_test, axis=0)\n",
    "decoder_input_test = np.delete(decoder_input_test, drop_test, axis=0)\n",
    "decoder_target_test = np.delete(decoder_target_test, drop_test, axis=0)\n",
    "\n",
    "print('훈련 데이터의 개수 :', len(encoder_input_train))\n",
    "print('훈련 레이블의 개수 :',len(decoder_input_train))\n",
    "print('테스트 데이터의 개수 :',len(encoder_input_test))\n",
    "print('테스트 레이블의 개수 :',len(decoder_input_test))"
   ]
  },
  {
   "cell_type": "markdown",
   "metadata": {},
   "source": [
    "## 패딩하기\n",
    "텍스트 시퀀스를 정수 시퀀스로 변환했다면, 이제 서로 다른 길이의 샘플들을 병렬 처리하기 위해 같은 길이로 맞춰주는 패딩 작업을 해주어야 해야해요. 아까 정해두었던 최대 길이로 패딩해 줄 거에요. 최대 길이보다 짧은 데이터들은 뒤의 공간에 숫자 0을 넣어 최대 길이로 길이를 맞춰줄게요."
   ]
  },
  {
   "cell_type": "code",
   "execution_count": 44,
   "metadata": {},
   "outputs": [],
   "source": [
    "encoder_input_train = pad_sequences(encoder_input_train, maxlen = text_max_len, padding='post')\n",
    "encoder_input_test = pad_sequences(encoder_input_test, maxlen = text_max_len, padding='post')\n",
    "decoder_input_train = pad_sequences(decoder_input_train, maxlen = headlines_max_len, padding='post')\n",
    "decoder_target_train = pad_sequences(decoder_target_train, maxlen = headlines_max_len, padding='post')\n",
    "decoder_input_test = pad_sequences(decoder_input_test, maxlen = headlines_max_len, padding='post')\n",
    "decoder_target_test = pad_sequences(decoder_target_test, maxlen = headlines_max_len, padding='post')"
   ]
  },
  {
   "cell_type": "markdown",
   "metadata": {},
   "source": [
    "## Step 3. 어텐션 메커니즘 사용하기 (추상적 요약)\n",
    "일반적인 seq2seq보다는 어텐션 메커니즘을 사용한 seq2seq를 사용하는 것이 더 나은 성능을 얻을 수 있어요. 실습 내용을 참고하여 어텐션 메커니즘을 사용한 seq2seq를 설계해 보세요."
   ]
  },
  {
   "cell_type": "markdown",
   "metadata": {},
   "source": [
    "## -인코더 모델 설계\n",
    "이제는 모델을 설계할 시간이에요. 우선 함수형 API를 이용해서 인코더를 설계해 볼게요."
   ]
  },
  {
   "cell_type": "code",
   "execution_count": 45,
   "metadata": {},
   "outputs": [
    {
     "name": "stdout",
     "output_type": "stream",
     "text": [
      "WARNING:tensorflow:Layer lstm will not use cuDNN kernel since it doesn't meet the cuDNN kernel criteria. It will use generic GPU kernel as fallback when running on GPU\n",
      "WARNING:tensorflow:Layer lstm_1 will not use cuDNN kernel since it doesn't meet the cuDNN kernel criteria. It will use generic GPU kernel as fallback when running on GPU\n",
      "WARNING:tensorflow:Layer lstm_2 will not use cuDNN kernel since it doesn't meet the cuDNN kernel criteria. It will use generic GPU kernel as fallback when running on GPU\n"
     ]
    }
   ],
   "source": [
    "from tensorflow.keras.layers import Input, LSTM, Embedding, Dense, Concatenate\n",
    "from tensorflow.keras.models import Model\n",
    "from tensorflow.keras.callbacks import EarlyStopping, ModelCheckpoint\n",
    "\n",
    "\n",
    "# 인코더 설계 시작\n",
    "embedding_dim = 128\n",
    "hidden_size = 256\n",
    "\n",
    "# 인코더\n",
    "encoder_inputs = Input(shape=(text_max_len,))\n",
    "\n",
    "# 인코더의 임베딩 층\n",
    "enc_emb = Embedding(src_vocab, embedding_dim)(encoder_inputs)\n",
    "\n",
    "# 인코더의 LSTM 1\n",
    "encoder_lstm1 = LSTM(hidden_size, return_sequences=True, return_state=True ,dropout = 0.4, recurrent_dropout = 0.4)\n",
    "encoder_output1, state_h1, state_c1 = encoder_lstm1(enc_emb)\n",
    "\n",
    "# 인코더의 LSTM 2\n",
    "encoder_lstm2 = LSTM(hidden_size, return_sequences=True, return_state=True, dropout=0.4, recurrent_dropout=0.4)\n",
    "encoder_output2, state_h2, state_c2 = encoder_lstm2(encoder_output1)\n",
    "\n",
    "# 인코더의 LSTM 3\n",
    "encoder_lstm3 = LSTM(hidden_size, return_state=True, return_sequences=True, dropout=0.4, recurrent_dropout=0.4)\n",
    "encoder_outputs, state_h, state_c= encoder_lstm3(encoder_output2)"
   ]
  },
  {
   "cell_type": "markdown",
   "metadata": {},
   "source": [
    "## -디코더 모델 설계"
   ]
  },
  {
   "cell_type": "code",
   "execution_count": 46,
   "metadata": {},
   "outputs": [
    {
     "name": "stdout",
     "output_type": "stream",
     "text": [
      "WARNING:tensorflow:Layer lstm_3 will not use cuDNN kernel since it doesn't meet the cuDNN kernel criteria. It will use generic GPU kernel as fallback when running on GPU\n"
     ]
    }
   ],
   "source": [
    "# 디코더 설계\n",
    "\n",
    "decoder_inputs = Input(shape=(None,))\n",
    "\n",
    "# 디코더의 임베딩 층\n",
    "dec_emb_layer = Embedding(tar_vocab, embedding_dim)\n",
    "dec_emb = dec_emb_layer(decoder_inputs)\n",
    "\n",
    "# 디코더의 LSTM\n",
    "decoder_lstm = LSTM(hidden_size, return_sequences = True, return_state = True, dropout = 0.4, recurrent_dropout=0.2)\n",
    "decoder_outputs, _, _ = decoder_lstm(dec_emb, initial_state = [state_h, state_c])"
   ]
  },
  {
   "cell_type": "code",
   "execution_count": 47,
   "metadata": {},
   "outputs": [
    {
     "name": "stdout",
     "output_type": "stream",
     "text": [
      "Model: \"model\"\n",
      "__________________________________________________________________________________________________\n",
      "Layer (type)                    Output Shape         Param #     Connected to                     \n",
      "==================================================================================================\n",
      "input_1 (InputLayer)            [(None, 60)]         0                                            \n",
      "__________________________________________________________________________________________________\n",
      "embedding (Embedding)           (None, 60, 128)      2816000     input_1[0][0]                    \n",
      "__________________________________________________________________________________________________\n",
      "lstm (LSTM)                     [(None, 60, 256), (N 394240      embedding[0][0]                  \n",
      "__________________________________________________________________________________________________\n",
      "input_2 (InputLayer)            [(None, None)]       0                                            \n",
      "__________________________________________________________________________________________________\n",
      "lstm_1 (LSTM)                   [(None, 60, 256), (N 525312      lstm[0][0]                       \n",
      "__________________________________________________________________________________________________\n",
      "embedding_1 (Embedding)         (None, None, 128)    1126400     input_2[0][0]                    \n",
      "__________________________________________________________________________________________________\n",
      "lstm_2 (LSTM)                   [(None, 60, 256), (N 525312      lstm_1[0][0]                     \n",
      "__________________________________________________________________________________________________\n",
      "lstm_3 (LSTM)                   [(None, None, 256),  394240      embedding_1[0][0]                \n",
      "                                                                 lstm_2[0][1]                     \n",
      "                                                                 lstm_2[0][2]                     \n",
      "__________________________________________________________________________________________________\n",
      "dense (Dense)                   (None, None, 8800)   2261600     lstm_3[0][0]                     \n",
      "==================================================================================================\n",
      "Total params: 8,043,104\n",
      "Trainable params: 8,043,104\n",
      "Non-trainable params: 0\n",
      "__________________________________________________________________________________________________\n"
     ]
    }
   ],
   "source": [
    "# 디코더의 출력층\n",
    "decoder_softmax_layer = Dense(tar_vocab, activation = 'softmax')\n",
    "decoder_softmax_outputs = decoder_softmax_layer(decoder_outputs) \n",
    "\n",
    "# 모델 정의\n",
    "model = Model([encoder_inputs, decoder_inputs], decoder_softmax_outputs)\n",
    "model.summary()"
   ]
  },
  {
   "cell_type": "markdown",
   "metadata": {},
   "source": [
    "## - 어텐션 매커니즘"
   ]
  },
  {
   "cell_type": "code",
   "execution_count": 48,
   "metadata": {},
   "outputs": [],
   "source": [
    "urllib.request.urlretrieve(\"https://raw.githubusercontent.com/thushv89/attention_keras/master/src/layers/attention.py\", filename=\"attention.py\")\n",
    "from attention import AttentionLayer"
   ]
  },
  {
   "cell_type": "code",
   "execution_count": 49,
   "metadata": {},
   "outputs": [
    {
     "name": "stdout",
     "output_type": "stream",
     "text": [
      "Model: \"model_1\"\n",
      "__________________________________________________________________________________________________\n",
      "Layer (type)                    Output Shape         Param #     Connected to                     \n",
      "==================================================================================================\n",
      "input_1 (InputLayer)            [(None, 60)]         0                                            \n",
      "__________________________________________________________________________________________________\n",
      "embedding (Embedding)           (None, 60, 128)      2816000     input_1[0][0]                    \n",
      "__________________________________________________________________________________________________\n",
      "lstm (LSTM)                     [(None, 60, 256), (N 394240      embedding[0][0]                  \n",
      "__________________________________________________________________________________________________\n",
      "input_2 (InputLayer)            [(None, None)]       0                                            \n",
      "__________________________________________________________________________________________________\n",
      "lstm_1 (LSTM)                   [(None, 60, 256), (N 525312      lstm[0][0]                       \n",
      "__________________________________________________________________________________________________\n",
      "embedding_1 (Embedding)         (None, None, 128)    1126400     input_2[0][0]                    \n",
      "__________________________________________________________________________________________________\n",
      "lstm_2 (LSTM)                   [(None, 60, 256), (N 525312      lstm_1[0][0]                     \n",
      "__________________________________________________________________________________________________\n",
      "lstm_3 (LSTM)                   [(None, None, 256),  394240      embedding_1[0][0]                \n",
      "                                                                 lstm_2[0][1]                     \n",
      "                                                                 lstm_2[0][2]                     \n",
      "__________________________________________________________________________________________________\n",
      "attention_layer (AttentionLayer ((None, None, 256),  131328      lstm_2[0][0]                     \n",
      "                                                                 lstm_3[0][0]                     \n",
      "__________________________________________________________________________________________________\n",
      "concat_layer (Concatenate)      (None, None, 512)    0           lstm_3[0][0]                     \n",
      "                                                                 attention_layer[0][0]            \n",
      "__________________________________________________________________________________________________\n",
      "dense_1 (Dense)                 (None, None, 8800)   4514400     concat_layer[0][0]               \n",
      "==================================================================================================\n",
      "Total params: 10,427,232\n",
      "Trainable params: 10,427,232\n",
      "Non-trainable params: 0\n",
      "__________________________________________________________________________________________________\n"
     ]
    }
   ],
   "source": [
    "# 어텐션 층(어텐션 함수)\n",
    "attn_layer = AttentionLayer(name='attention_layer')\n",
    "# 인코더와 디코더의 모든 time step의 hidden state를 어텐션 층에 전달하고 결과를 리턴\n",
    "attn_out, attn_states = attn_layer([encoder_outputs, decoder_outputs])\n",
    "\n",
    "# 어텐션의 결과와 디코더의 hidden state들을 연결\n",
    "decoder_concat_input = Concatenate(axis = -1, name='concat_layer')([decoder_outputs, attn_out])\n",
    "\n",
    "# 디코더의 출력층\n",
    "decoder_softmax_layer = Dense(tar_vocab, activation='softmax')\n",
    "decoder_softmax_outputs = decoder_softmax_layer(decoder_concat_input)\n",
    "\n",
    "# 모델 정의\n",
    "model = Model([encoder_inputs, decoder_inputs], decoder_softmax_outputs)\n",
    "model.summary()"
   ]
  },
  {
   "cell_type": "markdown",
   "metadata": {},
   "source": [
    "## - 모델 훈련"
   ]
  },
  {
   "cell_type": "code",
   "execution_count": 50,
   "metadata": {},
   "outputs": [
    {
     "name": "stdout",
     "output_type": "stream",
     "text": [
      "Epoch 1/50\n",
      "307/307 [==============================] - 130s 424ms/step - loss: 4.9605 - val_loss: 4.6075\n",
      "Epoch 2/50\n",
      "307/307 [==============================] - 129s 420ms/step - loss: 4.4370 - val_loss: 4.2517\n",
      "Epoch 3/50\n",
      "307/307 [==============================] - 130s 424ms/step - loss: 4.1193 - val_loss: 3.9984\n",
      "Epoch 4/50\n",
      "307/307 [==============================] - 129s 419ms/step - loss: 3.8841 - val_loss: 3.8240\n",
      "Epoch 5/50\n",
      "307/307 [==============================] - 129s 420ms/step - loss: 3.6944 - val_loss: 3.6822\n",
      "Epoch 6/50\n",
      "307/307 [==============================] - 129s 421ms/step - loss: 3.5346 - val_loss: 3.5695\n",
      "Epoch 7/50\n",
      "307/307 [==============================] - 129s 420ms/step - loss: 3.3995 - val_loss: 3.4793\n",
      "Epoch 8/50\n",
      "307/307 [==============================] - 128s 417ms/step - loss: 3.2841 - val_loss: 3.4109\n",
      "Epoch 9/50\n",
      "307/307 [==============================] - 128s 418ms/step - loss: 3.1829 - val_loss: 3.3541\n",
      "Epoch 10/50\n",
      "307/307 [==============================] - 128s 418ms/step - loss: 3.0929 - val_loss: 3.2981\n",
      "Epoch 11/50\n",
      "307/307 [==============================] - 129s 419ms/step - loss: 3.0112 - val_loss: 3.2618\n",
      "Epoch 12/50\n",
      "307/307 [==============================] - 129s 419ms/step - loss: 2.9363 - val_loss: 3.2245\n",
      "Epoch 13/50\n",
      "307/307 [==============================] - 128s 417ms/step - loss: 2.8698 - val_loss: 3.2004\n",
      "Epoch 14/50\n",
      "307/307 [==============================] - 132s 431ms/step - loss: 2.8089 - val_loss: 3.1776\n",
      "Epoch 15/50\n",
      "307/307 [==============================] - 130s 424ms/step - loss: 2.7518 - val_loss: 3.1523\n",
      "Epoch 16/50\n",
      "307/307 [==============================] - 131s 427ms/step - loss: 2.6973 - val_loss: 3.1317\n",
      "Epoch 17/50\n",
      "307/307 [==============================] - 131s 425ms/step - loss: 2.6497 - val_loss: 3.1180\n",
      "Epoch 18/50\n",
      "307/307 [==============================] - 131s 426ms/step - loss: 2.6065 - val_loss: 3.0970\n",
      "Epoch 19/50\n",
      "307/307 [==============================] - 132s 430ms/step - loss: 2.5655 - val_loss: 3.0867\n",
      "Epoch 20/50\n",
      "307/307 [==============================] - 133s 433ms/step - loss: 2.5268 - val_loss: 3.0744\n",
      "Epoch 21/50\n",
      "307/307 [==============================] - 133s 432ms/step - loss: 2.4884 - val_loss: 3.0732\n",
      "Epoch 22/50\n",
      "307/307 [==============================] - 131s 426ms/step - loss: 2.4515 - val_loss: 3.0661\n",
      "Epoch 23/50\n",
      "307/307 [==============================] - 131s 428ms/step - loss: 2.4173 - val_loss: 3.0474\n",
      "Epoch 24/50\n",
      "307/307 [==============================] - 131s 426ms/step - loss: 2.3857 - val_loss: 3.0385\n",
      "Epoch 25/50\n",
      "307/307 [==============================] - 131s 425ms/step - loss: 2.3568 - val_loss: 3.0337\n",
      "Epoch 26/50\n",
      "307/307 [==============================] - 130s 422ms/step - loss: 2.3297 - val_loss: 3.0283\n",
      "Epoch 27/50\n",
      "307/307 [==============================] - 131s 427ms/step - loss: 2.3025 - val_loss: 3.0228\n",
      "Epoch 28/50\n",
      "307/307 [==============================] - 130s 423ms/step - loss: 2.2776 - val_loss: 3.0229\n",
      "Epoch 29/50\n",
      "307/307 [==============================] - 135s 439ms/step - loss: 2.2534 - val_loss: 3.0233\n",
      "Epoch 00029: early stopping\n"
     ]
    }
   ],
   "source": [
    "model.compile(optimizer='rmsprop', loss='sparse_categorical_crossentropy')\n",
    "es = EarlyStopping(monitor='val_loss', mode='min', verbose=1, patience = 2)\n",
    "history = model.fit(x = [encoder_input_train, decoder_input_train], y = decoder_target_train, \\\n",
    "          validation_data = ([encoder_input_test, decoder_input_test], decoder_target_test),\n",
    "          batch_size = 256, callbacks=[es], epochs = 50)\n",
    "          "
   ]
  },
  {
   "cell_type": "code",
   "execution_count": 51,
   "metadata": {},
   "outputs": [
    {
     "data": {
      "image/png": "[encoded data removed]",
      "text/plain": [
       "<Figure size 432x288 with 1 Axes>"
      ]
     },
     "metadata": {
      "needs_background": "light"
     },
     "output_type": "display_data"
    }
   ],
   "source": [
    "plt.plot(history.history['loss'], label='train')\n",
    "plt.plot(history.history['val_loss'], label='test')\n",
    "plt.legend()\n",
    "plt.show()"
   ]
  },
  {
   "cell_type": "markdown",
   "metadata": {},
   "source": [
    "## Step 4. 실제 결과와 요약문 비교하기 (추상적 요약)\n",
    "원래의 요약문(headlines 열)과 학습을 통해 얻은 추상적 요약의 결과를 비교해보세요."
   ]
  },
  {
   "cell_type": "markdown",
   "metadata": {},
   "source": [
    "## - 인퍼런스 모델 구현하기\n",
    "테스트 단계에서는 정수 인덱스 행렬로 존재하던 텍스트 데이터를 실제 데이터로 복원해야 하므로,   \n",
    "필요한 3개의 사전을 아래와 같이 미리 준비"
   ]
  },
  {
   "cell_type": "code",
   "execution_count": 52,
   "metadata": {},
   "outputs": [],
   "source": [
    "src_index_to_word = src_tokenizer.index_word # 원문 단어 집합에서 정수 -> 단어를 얻음\n",
    "tar_word_to_index = tar_tokenizer.word_index # 요약 단어 집합에서 단어 -> 정수를 얻음\n",
    "tar_index_to_word = tar_tokenizer.index_word # 요약 단어 집합에서 정수 -> 단어를 얻음"
   ]
  },
  {
   "cell_type": "markdown",
   "metadata": {},
   "source": [
    "seq2seq는 훈련할 때와 실제 동작할 때(인퍼런스 단계)의 방식이 다르므로 그에 맞게 모델 설계를 별개로 진행해야 한다는 것, 알고 계시나요?\n",
    "\n",
    "훈련 단계에서는 디코더의 입력부에 정답이 되는 문장 전체를 한꺼번에 넣고 디코더의 출력과 한번에 비교할 수 있으므로, 인코더와 디코더를 엮은 통짜 모델 하나만 준비했습니다.\n",
    "\n",
    "그러나 정답 문장이 없는 인퍼런스 단계에서는 만들어야 할 문장의 길이만큼 디코더가 반복 구조로 동작해야 하기 때문에 부득이하게 인퍼런스를 위한 모델 설계를 별도로 해주어야 합니다. 이때는 인코더 모델과 디코더 모델을 분리해서 설계합니다."
   ]
  },
  {
   "cell_type": "code",
   "execution_count": 53,
   "metadata": {},
   "outputs": [],
   "source": [
    "# 인코더 설계\n",
    "encoder_model = Model(inputs=encoder_inputs, outputs=[encoder_outputs, state_h, state_c])\n",
    "\n",
    "# 이전 시점의 상태들을 저장하는 텐서\n",
    "decoder_state_input_h = Input(shape=(hidden_size,))\n",
    "decoder_state_input_c = Input(shape=(hidden_size,))\n",
    "\n",
    "dec_emb2 = dec_emb_layer(decoder_inputs)\n",
    "# 문장의 다음 단어를 예측하기 위해서 초기 상태(initial_state)를 이전 시점의 상태로 사용. 이는 뒤의 함수 decode_sequence()에 구현\n",
    "# 훈련 과정에서와 달리 LSTM의 리턴하는 은닉 상태와 셀 상태인 state_h와 state_c를 버리지 않음.\n",
    "decoder_outputs2, state_h2, state_c2 = decoder_lstm(dec_emb2, initial_state=[decoder_state_input_h, decoder_state_input_c])"
   ]
  },
  {
   "cell_type": "markdown",
   "metadata": {},
   "source": [
    "어텐션 메커니즘을 사용하는 출력층을 설계해 주세요."
   ]
  },
  {
   "cell_type": "code",
   "execution_count": 54,
   "metadata": {},
   "outputs": [],
   "source": [
    "# 어텐션 함수\n",
    "decoder_hidden_state_input = Input(shape=(text_max_len, hidden_size))\n",
    "attn_out_inf, attn_states_inf = attn_layer([decoder_hidden_state_input, decoder_outputs2])\n",
    "decoder_inf_concat = Concatenate(axis=-1, name='concat')([decoder_outputs2, attn_out_inf])\n",
    "\n",
    "# 디코더의 출력층\n",
    "decoder_outputs2 = decoder_softmax_layer(decoder_inf_concat) \n",
    "\n",
    "# 최종 디코더 모델\n",
    "decoder_model = Model(\n",
    "    [decoder_inputs] + [decoder_hidden_state_input,decoder_state_input_h, decoder_state_input_c],\n",
    "    [decoder_outputs2] + [state_h2, state_c2])\n",
    "    "
   ]
  },
  {
   "cell_type": "markdown",
   "metadata": {},
   "source": [
    "인퍼런스 단계에서 단어 시퀀스를 완성하는 함수를 만들어주세요."
   ]
  },
  {
   "cell_type": "code",
   "execution_count": 55,
   "metadata": {},
   "outputs": [],
   "source": [
    "def decode_sequence(input_seq):\n",
    "    # 입력으로부터 인코더의 상태를 얻음\n",
    "    e_out, e_h, e_c = encoder_model.predict(input_seq)\n",
    "\n",
    "     # <SOS>에 해당하는 토큰 생성\n",
    "    target_seq = np.zeros((1,1))\n",
    "    target_seq[0, 0] = tar_word_to_index['sostoken']\n",
    "\n",
    "    stop_condition = False\n",
    "    decoded_sentence = ''\n",
    "    while not stop_condition: # stop_condition이 True가 될 때까지 루프 반복\n",
    "\n",
    "        output_tokens, h, c = decoder_model.predict([target_seq] + [e_out, e_h, e_c])\n",
    "        sampled_token_index = np.argmax(output_tokens[0, -1, :])\n",
    "        sampled_token = tar_index_to_word[sampled_token_index]\n",
    "\n",
    "        if(sampled_token!='eostoken'):\n",
    "            decoded_sentence += ' '+sampled_token\n",
    "\n",
    "        #  <eos>에 도달하거나 최대 길이를 넘으면 중단.\n",
    "        if (sampled_token == 'eostoken'  or len(decoded_sentence.split()) >= (headlines_max_len-1)):\n",
    "            stop_condition = True\n",
    "\n",
    "        # 길이가 1인 타겟 시퀀스를 업데이트\n",
    "        target_seq = np.zeros((1,1))\n",
    "        target_seq[0, 0] = sampled_token_index\n",
    "\n",
    "        # 상태를 업데이트 합니다.\n",
    "        e_h, e_c = h, c\n",
    "\n",
    "    return decoded_sentence"
   ]
  },
  {
   "cell_type": "markdown",
   "metadata": {},
   "source": [
    "## - 모델 테스트하기  \n",
    "테스트 단계에서는 정수 시퀀스를 텍스트 시퀀스로 변환하여 결과를 확인하는 것이 편하겠죠. 주어진 정수 시퀀스를 텍스트 시퀀스로 변환하는 함수를 만들어볼게요. 함수를 만들 때, Text의 정수 시퀀스에서는 패딩을 위해 사용되는 숫자 0을 제외시키고 Summary의 정수 시퀀스에서는 숫자 0, 시작 토큰의 인덱스, 종료 토큰의 인덱스를 출력에서 제외시키도록 만들거에요."
   ]
  },
  {
   "cell_type": "code",
   "execution_count": 56,
   "metadata": {},
   "outputs": [],
   "source": [
    "# 원문의 정수 시퀀스를 텍스트 시퀀스로 변환\n",
    "def seq2text(input_seq):\n",
    "    temp=''\n",
    "    for i in input_seq:\n",
    "        if(i!=0):\n",
    "            temp = temp + src_index_to_word[i]+' '\n",
    "    return temp\n",
    "\n",
    "# 요약문의 정수 시퀀스를 텍스트 시퀀스로 변환\n",
    "def seq2summary(input_seq):\n",
    "    temp=''\n",
    "    for i in input_seq:\n",
    "        if((i!=0 and i!=tar_word_to_index['sostoken']) and i!=tar_word_to_index['eostoken']):\n",
    "            temp = temp + tar_index_to_word[i] + ' '\n",
    "    return temp\n",
    "    "
   ]
  },
  {
   "cell_type": "code",
   "execution_count": 57,
   "metadata": {
    "scrolled": false
   },
   "outputs": [
    {
     "name": "stdout",
     "output_type": "stream",
     "text": [
      "원문 : steel has filed a petition in the gujarat high court challenging the insolvency proceedings initiated against it based on rbi's directions essar steel said the company cleared a debt of ã¢ââ¹3 crore in 2016 17 and employs around 4 500 people the company said it was trying to a solution approved by its board and slammed rbi's decision as arbitrary \n",
      "실제 요약 : essar steel challenges rbi's insolvency move in gujarat hc \n",
      "예측 요약 :  tata steel moves hc against bankruptcy\n",
      "\n",
      "\n",
      "원문 : the united kingdom has topped forbes' rankings of best countries in the world for business in 2018 for the first time up from fifth last year the list ranks 153 countries on 15 factors including property rights innovation taxes and red tape the uk is followed by new zealand and the netherlands while india was ranked 62nd on the list \n",
      "실제 요약 : uk tops list of best countries for business in 2018 \n",
      "예측 요약 :  uk named world's top country in top rankings\n",
      "\n",
      "\n",
      "원문 : kendall jenner gigi hadid and bella hadid walked the runway at victoria's secret fashion show 2018 held in new york on thursday other models who were part of the show included who returned after two years and who walked the show's runway for the last time greek born designer mary worked on this year's collection \n",
      "실제 요약 : kendall jenner gigi hadid walk the ramp at secret show \n",
      "예측 요약 :  kylie jenner performs with new york show\n",
      "\n",
      "\n",
      "원문 : according to bloomberg taxi hailing platform uber's head of product daniel said that the startup has started charging some passengers more than others based on what it predicts they're willing to pay the new system is reportedly called route based pricing under its upfront pricing system uber calculated fares using a combination of mileage time distance and geographic demand \n",
      "실제 요약 : uber charges some passengers more than others report \n",
      "예측 요약 :  uber co founder invests in less than its services\n",
      "\n",
      "\n",
      "원문 : the student organisations of both the ruling and opposition parties in kerala conducted across the state on saturday this comes after the centre imposed a nationwide ban on the sale of cattle for slaughter ruling cpi m 's student wing had called for holding such at 210 centres in the state where cooked beef was served to the public \n",
      "실제 요약 : kerala students hold against ban on cattle sale \n",
      "예측 요약 :  kerala youth protest over ban on sale of sabarimala\n",
      "\n",
      "\n",
      "원문 : 93 hat tricks witnessed in men's international cricket till now only one has been an all lbw hat trick which was achieved by pakistani bowler javed against india in 1991 javed who turns 46 today took the wickets of ravi shastri mohammed azharuddin and sachin tendulkar in consecutive deliveries to help pakistan win the odi tri series final at sharjah \n",
      "실제 요약 : only all lbw hat trick involved sachin shastri \n",
      "예측 요약 :  only hat trick in india came to hat trick\n",
      "\n",
      "\n",
      "원문 : karnataka pubs can resume business after the supreme court allowed the state government to highways within municipal limits the state's excise department had stopped of liquor licenses that expired on july 1 following the apex court's orders that banned the sale of liquor near highways around 10 liquor in karnataka had closed down after the order \n",
      "실제 요약 : karnataka govt to liquor post sc order \n",
      "예측 요약 :  k'taka cm seeks to sc order liquor sale in haryana\n",
      "\n",
      "\n",
      "원문 : men allegedly gangraped a woman in west bengal and thrust a glass bottle in her private parts police said according to them the culprits probably used the bottle they were drinking from the woman's 13 year old daughter said she cried for help but no neighbour came to rescue the woman was admitted to a hospital in a critical condition \n",
      "실제 요약 : woman gangraped in wb glass bottle in private parts \n",
      "예측 요약 :  woman gangraped by newborn in kolkata\n",
      "\n",
      "\n",
      "원문 : seventeen students and a staff member were admitted to the hospital on thursday with symptoms of food poisoning after they ate the mid day meal served at a mumbai school authorities said the services of the have been stopped following the incident further the police launched a probe into the matter while the food and drug administration collected food samples \n",
      "실제 요약 : 17 kids fall ill after eating mid day meal at mumbai school \n",
      "예측 요약 :  students hospitalised after eating meal at meal in hospital\n",
      "\n",
      "\n",
      "원문 : rajkummar rao has said that content has become king in bollywood while adding it's a very exciting time to be an actor in the industry he further said i've always wanted to do content driven films and am very happy that now that's what our audience also wants to see rajkummar also said he's very grateful to all the critics \n",
      "실제 요약 : content has become king to be in b'wood rajkummar \n",
      "예측 요약 :  rajkummar rao is the best person to be a actor rao\n",
      "\n",
      "\n",
      "원문 : hours after the us recognised jerusalem as israel's capital bjp mp subramanian swamy called for the shifting of india's embassy in israel to jerusalem from tel aviv he said israel has international recognition of a part of jerusalem as its territory meanwhile external affairs ministry has said india's position on palestine would remain consistent and independent \n",
      "실제 요약 : india should shift embassy in israel to jerusalem swamy \n",
      "예측 요약 :  bjp mp swamy calls jerusalem embassy move to jerusalem\n",
      "\n",
      "\n",
      "원문 : karni sena has threatened to not allow cbfc chairman prasoon joshi to enter the upcoming jaipur literature festival which is scheduled to be held starting january 25 this comes after joshi had passed sanjay leela bhansali's 'padmaavat' despite objections from the rajput group joshi is scheduled to participate in the session 'main aur woh conversations with at the festival \n",
      "실제 요약 : won't let cbfc chief joshi enter jaipur lit fest karni sena \n",
      "예측 요약 :  karni sena chief refuses to take part of padmavati in padmavati\n",
      "\n",
      "\n",
      "원문 : the death toll resulting from the intense cold weather in southern nepal has risen to 24 as per reports the weather prompted the closure of several academic institutions and affected regular activities in the country authorities distributed relief materials including and blankets to the people to cope with the weather \n",
      "실제 요약 : death toll in nepal cold wave rises to 24 \n",
      "예측 요약 :  death toll from volcano rises to avoid floods\n",
      "\n",
      "\n",
      "원문 : parineeti chopra has said that if anybody makes negative comments about arjun kapoor she could even kill for him she added i can't hear anyone saying anything bad about arjun i have this love for him parineeti further said my relationship with arjun is such that i can kick him and tell him shut up and behave \n",
      "실제 요약 : i can even kill for arjun kapoor says parineeti chopra \n",
      "예측 요약 :  i am not a mom parineeti on article\n",
      "\n",
      "\n",
      "원문 : olympic bronze medalist boxer mary kom has been assured of her sixth medal at the asian women's boxing championships after she advanced to the semi finals of the tournament the 34 year old defeated chinese meng pin in the quarterfinals of the light category on saturday five time world champion mary kom will face of japan in the semi finals \n",
      "실제 요약 : mary kom assured of 6th medal at asian boxing championships \n",
      "예측 요약 :  mary kom wins silver medal at asian championships\n",
      "\n",
      "\n",
      "원문 : the inaugural 2 2 dialogue between india and the us was a defining moment us defence secretary james mattis has said he added that the defence cooperation between the two countries is on the right track meanwhile us state department said the dialogue was an indication of india's emergence as a global power and net security provider in the region \n",
      "실제 요약 : us says 2 2 dialogue with india a \n",
      "예측 요약 :  india has a threat to us defence minister\n",
      "\n",
      "\n",
      "원문 : humans of hindutva a popular facebook page that fun at hinduism was taken down on thursday after its anonymous creator was reportedly threatened by trolls the routinely fun at religious moral policing cow protection vigilantes and superstition a journalist who is a friend of the creator tweeted he's scared for his wife and children \n",
      "실제 요약 : fb page of taken down post death threat \n",
      "예측 요약 :  facebook blames facebook for violence\n",
      "\n",
      "\n",
      "원문 : an archive of 33 intimate handwritten letters written by princess diana providing insights into her troubled marriage with prince charles and personal is expected to fetch over ã¢ââ¹79 lakhs at an auction the letters which were addressed to and were written between 1978 and 1997 will be up for online bidding on august 18 n \n",
      "실제 요약 : intimate letters to fetch over lakh at auction \n"
     ]
    },
    {
     "name": "stdout",
     "output_type": "stream",
     "text": [
      "예측 요약 :  name name on sale of its own show\n",
      "\n",
      "\n",
      "원문 : ministry has included former indian cricketer virender sehwag and domestic cricketer vinay lamba in their anti doping appeals panel it is for the first time that cricketers have found a place in an anti doping panel of india's national anti doping agency this comes after a report claimed that an unnamed indian cricketer had tested positive for doping in 2016 \n",
      "실제 요약 : virender sehwag part of sports anti doping panel \n",
      "예측 요약 :  sehwag sehwag banned from doping panel\n",
      "\n",
      "\n",
      "원문 : vogue editor chambers who worked at british vogue for 36 years has claimed it took new editor in chief edward three minutes to fire her no one in the building knew it was going to happen except the man who did it she added at the time of her departure vogue had published an article announcing chambers would step down \n",
      "실제 요약 : it took them 3 minutes to fire me ex vogue editor \n",
      "예측 요약 :  i was bullets at the bus was fired for me vogue\n",
      "\n",
      "\n",
      "원문 : kerala police has booked bjp mp and republic tv director rajeev chandrasekhar for allegedly retweeting a fake video from his twitter account reports said the video originally showed a bjp worker attacking an ambulance after an rss worker's death however chandrasekhar retweeted the video posted by an rss worker who dubbed the incident as an attack by cpi m workers \n",
      "실제 요약 : republic tv director booked for sharing fake tweet reports \n",
      "예측 요약 :  kerala bjp mp booked for calling fake news\n",
      "\n",
      "\n",
      "원문 : filmmaker actor tandon who gave shah rukh khan his first break with the tv serial 'dil passed away on sunday aged 88 he had been unwell and for the last few months tandon is known for directing which was india's entry to oscars 1967 and for acting in films like and express' \n",
      "실제 요약 : director for srk dies at 88 \n",
      "예측 요약 :  srk srk passes away aged srk\n",
      "\n",
      "\n",
      "원문 : the un general assembly on thursday voted 128 9 in favour of a resolution opposing the us move to recognise jerusalem as israel's capital us president donald trump had earlier threatened to cut aid to countries which vote against the us move notably jerusalem is claimed as the capital by both israel and palestine \n",
      "실제 요약 : un votes 128 9 to reject us decision on jerusalem \n",
      "예측 요약 :  un extends support for jerusalem to jerusalem\n",
      "\n",
      "\n",
      "원문 : shiv sena minister diwakar has announced all mps mlas and panchayat samiti members of the party will donate one month's salary to farmers as relief sena chief uddhav thackeray will also contribute ã¢ââ¹10 lakh but the amount will not go to the chief minister's relief fund shiv sena has 21 mps in both the houses and 63 mlas \n",
      "실제 요약 : shiv sena mps mlas pledge a salary to farmers \n",
      "예측 요약 :  shiv sena announces support for bandh over maratha quota\n",
      "\n",
      "\n",
      "원문 : speaking about indian captain virat kohli's batting indian spinner ravichandran ashwin said that the entire dressing room felt at ease after watching kohli defend his first ball at the crease in england when virat walked out to bat every time against england i just felt that an incredible man was walking out to bat every single time ashwin said \n",
      "실제 요약 : teammates felt at ease after kohli 1st ball ashwin \n",
      "예측 요약 :  kohli threatened to kohli before getting out of test\n",
      "\n",
      "\n",
      "원문 : dia mirza while sharing a tweet by akshay kumar on the recent meeting of bollywood personalities with pm narendra modi over issues concerning film industry questioned why there were no women in the meeting she wrote this is wonderful is there a reason why there were no women in this room earlier director shrivastava had also criticised the meeting \n",
      "실제 요약 : why were there no women dia to akshay on meet with pm \n",
      "예측 요약 :  pm modi is not a child sequel azmi\n",
      "\n",
      "\n",
      "원문 : security agencies will test anti drone technology in delhi from next month according to the civil aviation ministry the ministry has identified several technologies including devices to catch drones mid flight and to hack drones to block their communication systems this comes amid government's plans to legalise the use of drones for recreational and commercial purposes \n",
      "실제 요약 : anti drone tech to be tested in delhi from next month \n",
      "예측 요약 :  tests tests drone test security to be launched\n",
      "\n",
      "\n",
      "원문 : a collection of 148 letters from english mathematician and alan turing has been uncovered at the university of manchester one of replies regarding a conference invitation to the us reads i would not like the journey and i america turing known for cracking world war ii code had died aged 41 from cyanide poisoning \n",
      "실제 요약 : letters from found in uk \n",
      "예측 요약 :  man city creates pro pro art\n",
      "\n",
      "\n",
      "원문 : two female bikers and acharya embarked on a journey on tuesday to cover the estimated 4 000 kilometre distance from kanyakumari to leh in less than 100 hours the bikers who said travelling is not unsafe for women in india hope to enter limca book of records for the feat they will be passing destinations like hyderabad and agra \n",
      "실제 요약 : women bikers hope to cover 4 000 km in under 100 hours \n",
      "예측 요약 :  women in pictures of the largest railway station\n",
      "\n",
      "\n",
      "원문 : five nuclear tests in may 1998 under atal bihari vajpayee's second term as prime minister vajpayee had then declared india a full fledged nuclear state the sixth nation to do so interestingly just nine months later the delhi lahore bus service was inaugurated by vajpayee in which he travelled and was welcomed at wagah border by pakistani counterpart nawaz sharif \n",
      "실제 요약 : vajpayee went to pakistan in bus 9 months after india's nuke tests \n",
      "예측 요약 :  china to launch vajpayee in china after vajpayee\n",
      "\n",
      "\n",
      "원문 : dera devotee has revealed that gurmeet ram rahim singh used to lure devotees into donating their children who were to be given to those followers who did not have kids we gave away our two and a half month old child just because we had faith in ram rahim so we did what he told us to the devotee said \n",
      "실제 요약 : ram rahim devotees into their children \n",
      "예측 요약 :  ram rahim should go together to work together dera\n",
      "\n",
      "\n",
      "원문 : israel based woman has developed a ã¢ââ¹2 600 device called which allows users to track their glasses using an app the wireless device can be attached to either side of the glasses and after connecting to the app it uses bluetooth technology to send signals directly to the app for the glasses \n",
      "실제 요약 : ã¢ââ¹2 600 device to track users' glasses through app made \n",
      "예측 요약 :  israeli woman uses smart to avoid\n",
      "\n",
      "\n",
      "원문 : over 1 000 people were injured on friday in clashes with israeli troops during the 'day of protests across the occupied west bank east jerusalem and gaza strip two palestinians were also shot dead by the israeli army the clashes emerged as palestinians protested against us president donald trump's recognition of jerusalem as israel's capital \n",
      "실제 요약 : 1 000 injured in of protest on us' jerusalem move \n",
      "예측 요약 :  1 000 injured in clashes against muslims in jerusalem\n",
      "\n",
      "\n",
      "원문 : a us woman has said she was fired by her employer austin bank texas national association after her intimate photo shoot with her fiancãâ© went viral said the bank told her it was family oriented and was concerned how the photos would reflect on the company she said she remains proud of the photos taken by wolf rose photography \n",
      "실제 요약 : company fires us woman for intimate photo shoot with fiancãâ© \n",
      "예측 요약 :  woman sues husband for stealing her on her wedding\n",
      "\n",
      "\n",
      "원문 : a special cbi court in ranchi on saturday acquitted former bihar cm jagannath mishra and five others in one of the six fodder scam cases meanwhile 16 people including lalu prasad yadav were found guilty in the case this particular case is linked to the fraudulent withdrawal of around ã¢ââ¹90 lakh from the treasury during 1991 94 \n",
      "실제 요약 : ex bihar cm jagannath mishra acquitted in fodder scam case \n",
      "예측 요약 :  cbi court surrenders in bihar cm tejashwi in fodder scam case\n",
      "\n",
      "\n",
      "원문 : two mass graves containing dozens of bodies of civilians and syrian troops killed by islamic state militants have been found in the syrian province of raqqa syria last month declared a victory over the militant group after fighting it for three years is had seized large parts of syria in 2014 and proclaimed a caliphate in the region n \n",
      "실제 요약 : mass of civilians troops killed by is found in syria \n",
      "예측 요약 :  2 civilians killed in isis in syria\n",
      "\n",
      "\n",
      "원문 : actress asia argento who alleged hollywood producer harvey weinstein raped her has been accused of sexually assaulting actor and rock musician jimmy when he was 17 as per reports she reportedly paid him 380 000 to keep him from pressing charges he has also reportedly handed over the copyright of a selfie of them lying in bed to the actress \n",
      "실제 요약 : actress who accused harvey faces sexual assault allegation report \n"
     ]
    },
    {
     "name": "stdout",
     "output_type": "stream",
     "text": [
      "예측 요약 :  tv actress accuses weinstein of rape scene\n",
      "\n",
      "\n",
      "원문 : the oldest known in the world passed away on sunday a day after celebrating his 69th birthday his death appeared to be a heartbreaking accident as died after getting stuck in a maintenance hatch south florida museum ceo anne said weã¢ââre all devastated staff volunteers and board members considered him a star added \n",
      "실제 요약 : world's oldest dies a day after birthday \n",
      "예측 요약 :  world's oldest dies at kolkata\n",
      "\n",
      "\n",
      "원문 : bengaluru and us based drug research startup research has raised 9 million in series a funding led by university of tokyo edge capital the round also saw participation from holdings and capital founded in 2014 is working on developing ways to fight bacterial drug resistance and take its drugs to clinical trials \n",
      "실제 요약 : drug research startup raises 9 million in series a \n",
      "예측 요약 :  startup raises 5 mn in series b funding\n",
      "\n",
      "\n",
      "원문 : bcci's committee of administrators has said the board's treasurer had objected to the cash awards announced for the team after their win over australia saying such announcements could only be made at general body meetings india have won today what is the point of announcing the award three weeks later it will look strange if we did so coa said \n",
      "실제 요약 : bcci to cash award for team bcci panel \n",
      "예측 요약 :  bcci has lost to win games of team bcci\n",
      "\n",
      "\n",
      "원문 : a whatsapp admin has been arrested in mumbai for allegedly adding a woman without her consent to a group where pornographic content was shared during the investigation it was revealed that the complainant who's a was added to the whatsapp group in september mumbai police said he has been booked under ipc and sections of information technology act \n",
      "실제 요약 : whatsapp admin held for allegedly adding woman to porn group \n",
      "예측 요약 :  whatsapp held for woman for facebook post porn\n",
      "\n",
      "\n",
      "원문 : the family of a bjp youth leader who shot himself after his girlfriend's father asked him to prove love through suicide has donated his organs his girlfriend's father had purportedly promised him marriage if he survived stating the couple would unite in next birth if he doesn't atul lokhande was declared brain dead after which his family made the decision \n",
      "실제 요약 : family donates organs of bjp leader who killed self for love \n",
      "예측 요약 :  bjp leader killed self after daughter her daughter\n",
      "\n",
      "\n",
      "원문 : amitabh bachchan tweeted that every day is father's day while sharing pictures to mark the day on sunday he shared a few childhood pictures with children shweta and abhishek and also posted pictures with his father late bachchan abhishek also shared a picture with amitabh to mark father's day \n",
      "실제 요약 : is father's day tweets amitabh bachchan \n",
      "예측 요약 :  amitabh bachchan day amitabh bachchan on his day\n",
      "\n",
      "\n",
      "원문 : scientists from the international ocean discovery program on friday set sail to explore the lost continent of a huge underwater east of australia broke away from the super continent roughly 75 million years ago researchers said it should be considered a new continent as it was a distinct geological entity meeting the criteria applying to other continents \n",
      "실제 요약 : scientists set to study 8th \n",
      "예측 요약 :  new may be a great species of\n",
      "\n",
      "\n",
      "원문 : actress ali who recently revealed she was diagnosed with cancer has said she wants to get better to welcome her third my children are the reason for me to overcome the cancer my daughter is three months pregnant she's due in the first week of june she added is suffering from stage 3 and ovarian cancer \n",
      "실제 요약 : have to get better to welcome on cancer diagnosis \n",
      "예측 요약 :  i want to get my first child to get pregnancy cancer\n",
      "\n",
      "\n",
      "원문 : the doctors at delhi's government run chacha nehru bal managed to save a premature baby weighing 550 gm who had been admitted to the hospital after four days of his birth the baby had developed severe respiratory distress doctors said the doctors considered care only after he attained 1 5 kilograms of weight following two months of medical care \n",
      "실제 요약 : delhi govt hospital saves baby weighing gm \n",
      "예측 요약 :  delhi doctors save baby from hospital\n",
      "\n",
      "\n",
      "원문 : actor ranveer singh has said that he wants to be the best family man possible while adding that he also wants to raise two children i think i'll make a great dad he added ranveer who is rumoured to be dating deepika padukone further said i believe that one person can be heart and soul \n",
      "실제 요약 : want to raise 2 kids be the best family man ranveer singh \n",
      "예측 요약 :  i want to kill myself as a child ranveer singh\n",
      "\n",
      "\n",
      "원문 : four vehicles and a liquor were set on fire in the violence that erupted on tuesday in punjab's dera baba nanak after two men were killed in a road accident the two were riding a two wheeler when they were hit by a vehicle owned by a liquor contractor the victims' families have claimed the contractor deliberately killed them \n",
      "실제 요약 : violence erupts in punjab town after 2 die in road accident \n",
      "예측 요약 :  4 vehicles of fire set fire on fire in bihar\n",
      "\n",
      "\n",
      "원문 : varun dhawan will star in shashank next film which will be an action entertainer and will be produced by karan johar confirming the news shashank said we are still the movie it's something both he varun and i have never done before which will also star varun and will be produced by karan has been postponed \n",
      "실제 요약 : varun dhawan to star in next action film \n",
      "예측 요약 :  varun to star in upcoming film with karan johar\n",
      "\n",
      "\n",
      "원문 : scientists have reported the discovery of a new species of in a japanese parking lot bringing the known species count to 168 in the country itself also known as water bears are the world's most resilient species the eight legged micro animal known to dinosaurs can withstand extreme temperatures and can survive without water in space and radiation \n",
      "실제 요약 : new species of found in japanese parking lot \n",
      "예측 요약 :  new species of new species found in\n",
      "\n",
      "\n"
     ]
    }
   ],
   "source": [
    "for i in range(50, 100):\n",
    "    print(\"원문 :\", seq2text(encoder_input_test[i]))\n",
    "    print(\"실제 요약 :\", seq2summary(decoder_input_test[i]))\n",
    "    print(\"예측 요약 :\", decode_sequence(encoder_input_test[i].reshape(1, text_max_len)))\n",
    "    print(\"\\n\")\n",
    "    "
   ]
  },
  {
   "cell_type": "markdown",
   "metadata": {},
   "source": [
    "## Step 5. Summa을 이용해서 추출적 요약해보기\n",
    "추상적 요약은 추출적 요약과는 달리 문장의 표현력을 다양하게 가져갈 수 있지만, 추출적 요약에 비해서 난이도가 높아요. 반대로 말하면 추출적 요약은 추상적 요약에 비해 난이도가 낮고 기존 문장에서 문장을 꺼내오는 것이므로 잘못된 요약이 나올 가능성이 낮아요.\n",
    "\n",
    "Summa의 summarize를 사용하여 추출적 요약을 해보세요."
   ]
  },
  {
   "cell_type": "code",
   "execution_count": 58,
   "metadata": {},
   "outputs": [],
   "source": [
    "import requests\n",
    "from summa.summarizer import summarize"
   ]
  },
  {
   "cell_type": "code",
   "execution_count": 59,
   "metadata": {},
   "outputs": [
    {
     "name": "stdout",
     "output_type": "stream",
     "text": [
      "0       Saurav Kant, an alumnus of upGrad and IIIT-B's...\n",
      "1       Kunal Shah's credit card bill payment platform...\n",
      "2       New Zealand defeated India by 8 wickets in the...\n",
      "3       With Aegon Life iTerm Insurance plan, customer...\n",
      "4       Speaking about the sexual harassment allegatio...\n",
      "                              ...                        \n",
      "1501    An explosion caused due to illegal taps on a g...\n",
      "1502    India's richest man Mukesh Ambani on Friday sa...\n",
      "1503    Market regulator SEBI on Friday rejected India...\n",
      "1504    Philippines' richest man Henry Sy, who started...\n",
      "1505    Addressing the controversy surrounding the rel...\n",
      "Name: text, Length: 1500, dtype: object\n"
     ]
    }
   ],
   "source": [
    "input_text = data['text']\n",
    "print(input_text[:1500])"
   ]
  },
  {
   "cell_type": "code",
   "execution_count": 60,
   "metadata": {
    "scrolled": true
   },
   "outputs": [
    {
     "data": {
      "text/plain": [
       "\"Two minor cousins in Uttar Pradesh's Gorakhpur were allegedly repeatedly burnt with tongs and forced to eat human excreta by their family for being friends with two boys from the same school. The cousins revealed their ordeal to the police and Child Welfare Committee after being brought back to Gorakhpur from Nepal, where they had fled to escape the torture.\""
      ]
     },
     "execution_count": 60,
     "metadata": {},
     "output_type": "execute_result"
    }
   ],
   "source": [
    "input_text[10]"
   ]
  },
  {
   "cell_type": "code",
   "execution_count": 61,
   "metadata": {},
   "outputs": [
    {
     "name": "stdout",
     "output_type": "stream",
     "text": [
      "Original Sentence:\n",
      "A new song titled 'Khatar Patar' from Varun Dhawan and Anushka Sharma starrer 'Sui Dhaaga- Made in India' has been released. Sung by Papon, the song has been composed by Anu Malik and written by Varun Grover. Sharing the song, Varun wrote, \"Dreams do come true\". Directed by Sharat Katariya, the film is scheduled to release on September 28.\n",
      "\n",
      "Summary:\n",
      "A new song titled 'Khatar Patar' from Varun Dhawan and Anushka Sharma starrer 'Sui Dhaaga- Made in India' has been released.\n",
      "----------------------------------------------------------------------------------------------------\n",
      "\n",
      "\n",
      "Original Sentence:\n",
      "The Iraqi judiciary has been violating the rights of ISIS suspects with flawed trials and arbitrary detentions under harsh conditions, Human Rights Watch alleged on Tuesday. \"Iraq's handling of ISIS trials is a missed opportunity to show the world that it's a nation ruled by laws and justice,\" it added. Recently, ISIS lost the last Iraqi town under its control.\n",
      "\n",
      "Summary:\n",
      "The Iraqi judiciary has been violating the rights of ISIS suspects with flawed trials and arbitrary detentions under harsh conditions, Human Rights Watch alleged on Tuesday.\n",
      "----------------------------------------------------------------------------------------------------\n",
      "\n",
      "\n",
      "Original Sentence:\n",
      "British astronaut Tim Peake has said that Elon Musk and his space exploration startup SpaceX could put humans on Mars by 2040. Peake added that the Deep Space Gateway, a space station project by multiple agencies including NASA, European Space Agency and Roscosmos (of Russia) that aims to launch manned missions to Mars, would be vital for furthering space exploration.\n",
      "\n",
      "Summary:\n",
      "\n",
      "----------------------------------------------------------------------------------------------------\n",
      "\n",
      "\n",
      "Original Sentence:\n",
      "Bank of Baroda had classified the Ã¢ÂÂ¹435 crore loan given to Vikram Kothari-run Rotomac Global a \"non-performing asset\" in October 2015 and a \"fraud\" in December 2017. However, a complaint accusing Kothari of defrauding 7 banks of Ã¢ÂÂ¹3,700 crore was filed in February 2018. The escape of PNB fraud accused Nirav Modi reportedly prompted the bank to file the complaint.\n",
      "\n",
      "Summary:\n",
      "However, a complaint accusing Kothari of defrauding 7 banks of Ã¢ÂÂ¹3,700 crore was filed in February 2018.\n",
      "----------------------------------------------------------------------------------------------------\n",
      "\n",
      "\n",
      "Original Sentence:\n",
      "While talking to children on Christmas Eve, US President Donald Trump asked a seven-year-old girl if he's still a believer in Santa Claus, adding that \"it's marginal\" at the age of seven. Both Trump and his wife Melania spoke to children on the phone who wanted to find out about the whereabouts of Santa Claus.\n",
      "\n",
      "Summary:\n",
      "\n",
      "----------------------------------------------------------------------------------------------------\n",
      "\n",
      "\n",
      "Original Sentence:\n",
      "The CBI has summoned AirAsia India director R Venkataramanan on July 3 in connection with alleged malpractices and corruption by the airline in securing international flying permit, according to reports. Earlier, Tata Sons \"expressed its confidence\" in Venkataramanan, who is alleged to have bribed government officials. The agency has also questioned AirAsia India CFO Deepak Mahendra in the case. \n",
      "\n",
      "Summary:\n",
      "The CBI has summoned AirAsia India director R Venkataramanan on July 3 in connection with alleged malpractices and corruption by the airline in securing international flying permit, according to reports.\n",
      "----------------------------------------------------------------------------------------------------\n",
      "\n",
      "\n",
      "Original Sentence:\n",
      "Bengaluru-based in-video discovery platform Tagos Design Innovations has raised Ã¢ÂÂ¹32 crore in Series A funding. Tagos' 'Charmboard' lets users touch objects like a dress, a piece of furniture or an accessory on a streaming video without interrupting the visual. The object is bookmarked and saved automatically and can be accessed by the consumer later.\n",
      "\n",
      "Summary:\n",
      "Tagos' 'Charmboard' lets users touch objects like a dress, a piece of furniture or an accessory on a streaming video without interrupting the visual.\n",
      "----------------------------------------------------------------------------------------------------\n",
      "\n",
      "\n",
      "Original Sentence:\n",
      "Former Pakistan skipper Aamer Sohail has hinted at match fixing in Pakistan's Champions Trophy games, saying there were \"external factors\" behind the team's progress. Speaking on a Pakistani news channel, Sohail said, \"We all know what happens behind the scenes. Don't wish to get into the details on who won them the games,\" said Sohail, after Pakistan's win over England.\n",
      "\n",
      "Summary:\n",
      "Don't wish to get into the details on who won them the games,\" said Sohail, after Pakistan's win over England.\n",
      "----------------------------------------------------------------------------------------------------\n",
      "\n",
      "\n",
      "Original Sentence:\n",
      "Ahead of the 2019 Lok Sabha elections, the Supreme Court refused to give permission for BJP's rath yatra in West Bengal. A bench led by Chief Justice of India Ranjan Gogoi said that apprehension of violence by the state government was not unfounded. The apex court said the BJP can hold normal rallies with the approval of the state government. \n",
      "\n",
      "Summary:\n",
      "The apex court said the BJP can hold normal rallies with the approval of the state government.\n",
      "----------------------------------------------------------------------------------------------------\n",
      "\n",
      "\n"
     ]
    },
    {
     "ename": "KeyError",
     "evalue": "38061",
     "output_type": "error",
     "traceback": [
      "\u001b[0;31m---------------------------------------------------------------------------\u001b[0m",
      "\u001b[0;31mKeyError\u001b[0m                                  Traceback (most recent call last)",
      "\u001b[0;32m~/anaconda3/envs/aiffel/lib/python3.7/site-packages/pandas/core/indexes/base.py\u001b[0m in \u001b[0;36mget_loc\u001b[0;34m(self, key, method, tolerance)\u001b[0m\n\u001b[1;32m   3079\u001b[0m             \u001b[0;32mtry\u001b[0m\u001b[0;34m:\u001b[0m\u001b[0;34m\u001b[0m\u001b[0;34m\u001b[0m\u001b[0m\n\u001b[0;32m-> 3080\u001b[0;31m                 \u001b[0;32mreturn\u001b[0m \u001b[0mself\u001b[0m\u001b[0;34m.\u001b[0m\u001b[0m_engine\u001b[0m\u001b[0;34m.\u001b[0m\u001b[0mget_loc\u001b[0m\u001b[0;34m(\u001b[0m\u001b[0mcasted_key\u001b[0m\u001b[0;34m)\u001b[0m\u001b[0;34m\u001b[0m\u001b[0;34m\u001b[0m\u001b[0m\n\u001b[0m\u001b[1;32m   3081\u001b[0m             \u001b[0;32mexcept\u001b[0m \u001b[0mKeyError\u001b[0m \u001b[0;32mas\u001b[0m \u001b[0merr\u001b[0m\u001b[0;34m:\u001b[0m\u001b[0;34m\u001b[0m\u001b[0;34m\u001b[0m\u001b[0m\n",
      "\u001b[0;32mpandas/_libs/index.pyx\u001b[0m in \u001b[0;36mpandas._libs.index.IndexEngine.get_loc\u001b[0;34m()\u001b[0m\n",
      "\u001b[0;32mpandas/_libs/index.pyx\u001b[0m in \u001b[0;36mpandas._libs.index.IndexEngine.get_loc\u001b[0;34m()\u001b[0m\n",
      "\u001b[0;32mpandas/_libs/hashtable_class_helper.pxi\u001b[0m in \u001b[0;36mpandas._libs.hashtable.Int64HashTable.get_item\u001b[0;34m()\u001b[0m\n",
      "\u001b[0;32mpandas/_libs/hashtable_class_helper.pxi\u001b[0m in \u001b[0;36mpandas._libs.hashtable.Int64HashTable.get_item\u001b[0;34m()\u001b[0m\n",
      "\u001b[0;31mKeyError\u001b[0m: 38061",
      "\nThe above exception was the direct cause of the following exception:\n",
      "\u001b[0;31mKeyError\u001b[0m                                  Traceback (most recent call last)",
      "\u001b[0;32m<ipython-input-61-be2119c0d456>\u001b[0m in \u001b[0;36m<module>\u001b[0;34m\u001b[0m\n\u001b[1;32m      1\u001b[0m \u001b[0;32mfor\u001b[0m \u001b[0m_\u001b[0m \u001b[0;32min\u001b[0m \u001b[0mrange\u001b[0m\u001b[0;34m(\u001b[0m\u001b[0;36m10\u001b[0m\u001b[0;34m)\u001b[0m \u001b[0;34m:\u001b[0m\u001b[0;34m\u001b[0m\u001b[0;34m\u001b[0m\u001b[0m\n\u001b[1;32m      2\u001b[0m     \u001b[0mrnum\u001b[0m \u001b[0;34m=\u001b[0m \u001b[0mnp\u001b[0m\u001b[0;34m.\u001b[0m\u001b[0mrandom\u001b[0m\u001b[0;34m.\u001b[0m\u001b[0mrandint\u001b[0m\u001b[0;34m(\u001b[0m\u001b[0mlen\u001b[0m\u001b[0;34m(\u001b[0m\u001b[0minput_text\u001b[0m\u001b[0;34m)\u001b[0m\u001b[0;34m)\u001b[0m\u001b[0;34m\u001b[0m\u001b[0;34m\u001b[0m\u001b[0m\n\u001b[0;32m----> 3\u001b[0;31m     \u001b[0mprint\u001b[0m\u001b[0;34m(\u001b[0m\u001b[0;34mf'Original Sentence:\\n{input_text[rnum]}\\n'\u001b[0m\u001b[0;34m)\u001b[0m\u001b[0;34m\u001b[0m\u001b[0;34m\u001b[0m\u001b[0m\n\u001b[0m\u001b[1;32m      4\u001b[0m     \u001b[0mprint\u001b[0m\u001b[0;34m(\u001b[0m\u001b[0;34mf'Summary:\\n{summarize(input_text[rnum], ratio=0.4)}'\u001b[0m\u001b[0;34m)\u001b[0m\u001b[0;34m\u001b[0m\u001b[0;34m\u001b[0m\u001b[0m\n\u001b[1;32m      5\u001b[0m     \u001b[0mprint\u001b[0m\u001b[0;34m(\u001b[0m\u001b[0;34m'--'\u001b[0m\u001b[0;34m*\u001b[0m\u001b[0;36m50\u001b[0m\u001b[0;34m+\u001b[0m\u001b[0;34m'\\n\\n'\u001b[0m\u001b[0;34m)\u001b[0m\u001b[0;34m\u001b[0m\u001b[0;34m\u001b[0m\u001b[0m\n",
      "\u001b[0;32m~/anaconda3/envs/aiffel/lib/python3.7/site-packages/pandas/core/series.py\u001b[0m in \u001b[0;36m__getitem__\u001b[0;34m(self, key)\u001b[0m\n\u001b[1;32m    822\u001b[0m \u001b[0;34m\u001b[0m\u001b[0m\n\u001b[1;32m    823\u001b[0m         \u001b[0;32melif\u001b[0m \u001b[0mkey_is_scalar\u001b[0m\u001b[0;34m:\u001b[0m\u001b[0;34m\u001b[0m\u001b[0;34m\u001b[0m\u001b[0m\n\u001b[0;32m--> 824\u001b[0;31m             \u001b[0;32mreturn\u001b[0m \u001b[0mself\u001b[0m\u001b[0;34m.\u001b[0m\u001b[0m_get_value\u001b[0m\u001b[0;34m(\u001b[0m\u001b[0mkey\u001b[0m\u001b[0;34m)\u001b[0m\u001b[0;34m\u001b[0m\u001b[0;34m\u001b[0m\u001b[0m\n\u001b[0m\u001b[1;32m    825\u001b[0m \u001b[0;34m\u001b[0m\u001b[0m\n\u001b[1;32m    826\u001b[0m         \u001b[0;32mif\u001b[0m \u001b[0mis_hashable\u001b[0m\u001b[0;34m(\u001b[0m\u001b[0mkey\u001b[0m\u001b[0;34m)\u001b[0m\u001b[0;34m:\u001b[0m\u001b[0;34m\u001b[0m\u001b[0;34m\u001b[0m\u001b[0m\n",
      "\u001b[0;32m~/anaconda3/envs/aiffel/lib/python3.7/site-packages/pandas/core/series.py\u001b[0m in \u001b[0;36m_get_value\u001b[0;34m(self, label, takeable)\u001b[0m\n\u001b[1;32m    930\u001b[0m \u001b[0;34m\u001b[0m\u001b[0m\n\u001b[1;32m    931\u001b[0m         \u001b[0;31m# Similar to Index.get_value, but we do not fall back to positional\u001b[0m\u001b[0;34m\u001b[0m\u001b[0;34m\u001b[0m\u001b[0;34m\u001b[0m\u001b[0m\n\u001b[0;32m--> 932\u001b[0;31m         \u001b[0mloc\u001b[0m \u001b[0;34m=\u001b[0m \u001b[0mself\u001b[0m\u001b[0;34m.\u001b[0m\u001b[0mindex\u001b[0m\u001b[0;34m.\u001b[0m\u001b[0mget_loc\u001b[0m\u001b[0;34m(\u001b[0m\u001b[0mlabel\u001b[0m\u001b[0;34m)\u001b[0m\u001b[0;34m\u001b[0m\u001b[0;34m\u001b[0m\u001b[0m\n\u001b[0m\u001b[1;32m    933\u001b[0m         \u001b[0;32mreturn\u001b[0m \u001b[0mself\u001b[0m\u001b[0;34m.\u001b[0m\u001b[0mindex\u001b[0m\u001b[0;34m.\u001b[0m\u001b[0m_get_values_for_loc\u001b[0m\u001b[0;34m(\u001b[0m\u001b[0mself\u001b[0m\u001b[0;34m,\u001b[0m \u001b[0mloc\u001b[0m\u001b[0;34m,\u001b[0m \u001b[0mlabel\u001b[0m\u001b[0;34m)\u001b[0m\u001b[0;34m\u001b[0m\u001b[0;34m\u001b[0m\u001b[0m\n\u001b[1;32m    934\u001b[0m \u001b[0;34m\u001b[0m\u001b[0m\n",
      "\u001b[0;32m~/anaconda3/envs/aiffel/lib/python3.7/site-packages/pandas/core/indexes/base.py\u001b[0m in \u001b[0;36mget_loc\u001b[0;34m(self, key, method, tolerance)\u001b[0m\n\u001b[1;32m   3080\u001b[0m                 \u001b[0;32mreturn\u001b[0m \u001b[0mself\u001b[0m\u001b[0;34m.\u001b[0m\u001b[0m_engine\u001b[0m\u001b[0;34m.\u001b[0m\u001b[0mget_loc\u001b[0m\u001b[0;34m(\u001b[0m\u001b[0mcasted_key\u001b[0m\u001b[0;34m)\u001b[0m\u001b[0;34m\u001b[0m\u001b[0;34m\u001b[0m\u001b[0m\n\u001b[1;32m   3081\u001b[0m             \u001b[0;32mexcept\u001b[0m \u001b[0mKeyError\u001b[0m \u001b[0;32mas\u001b[0m \u001b[0merr\u001b[0m\u001b[0;34m:\u001b[0m\u001b[0;34m\u001b[0m\u001b[0;34m\u001b[0m\u001b[0m\n\u001b[0;32m-> 3082\u001b[0;31m                 \u001b[0;32mraise\u001b[0m \u001b[0mKeyError\u001b[0m\u001b[0;34m(\u001b[0m\u001b[0mkey\u001b[0m\u001b[0;34m)\u001b[0m \u001b[0;32mfrom\u001b[0m \u001b[0merr\u001b[0m\u001b[0;34m\u001b[0m\u001b[0;34m\u001b[0m\u001b[0m\n\u001b[0m\u001b[1;32m   3083\u001b[0m \u001b[0;34m\u001b[0m\u001b[0m\n\u001b[1;32m   3084\u001b[0m         \u001b[0;32mif\u001b[0m \u001b[0mtolerance\u001b[0m \u001b[0;32mis\u001b[0m \u001b[0;32mnot\u001b[0m \u001b[0;32mNone\u001b[0m\u001b[0;34m:\u001b[0m\u001b[0;34m\u001b[0m\u001b[0;34m\u001b[0m\u001b[0m\n",
      "\u001b[0;31mKeyError\u001b[0m: 38061"
     ]
    }
   ],
   "source": [
    "for _ in range(10) :\n",
    "    rnum = np.random.randint(len(input_text))\n",
    "    print(f'Original Sentence:\\n{input_text[rnum]}\\n')\n",
    "    print(f'Summary:\\n{summarize(input_text[rnum], ratio=0.4)}')\n",
    "    print('--'*50+'\\n\\n')"
   ]
  },
  {
   "cell_type": "code",
   "execution_count": null,
   "metadata": {},
   "outputs": [],
   "source": []
  },
  {
   "cell_type": "markdown",
   "metadata": {},
   "source": [
    "## ◈ 루브릭\n",
    "루브릭\n",
    "\n",
    "아래의 기준을 바탕으로 프로젝트를 평가합니다.\n",
    "\n",
    "평가문항/상세기준\n",
    "1. Abstractive 모델 구성을 위한 텍스트 전처리 단계가 체계적으로 진행되었다.\n",
    "분석단계, 정제단계, 정규화와 불용어 제거, 데이터셋 분리, 인코딩 과정이 빠짐없이 체계적으로 진행되었다.\n",
    "\n",
    "2. 텍스트 요약모델이 성공적으로 학습되었음을 확인하였다.\n",
    "모델학습이 안정적으로 수렴되었음을 그래프를 통해 확인하였으며, 실제 요약문과 유사한 요약문장을 얻을 수 있었다.\n",
    "\n",
    "3. Extractive 요약을 시도해 보고 Abstractive 요약 결과과 함께 비교해 보았다.\n",
    "두 요약 결과를 문법완성도 측면과 핵심단어 포함 측면으로 나누어 비교분석 결과를 제시하였다."
   ]
  },
  {
   "cell_type": "markdown",
   "metadata": {},
   "source": [
    "## ◈ 결과 및 고찰"
   ]
  },
  {
   "cell_type": "code",
   "execution_count": null,
   "metadata": {},
   "outputs": [],
   "source": []
  },
  {
   "cell_type": "code",
   "execution_count": null,
   "metadata": {},
   "outputs": [],
   "source": []
  },
  {
   "cell_type": "code",
   "execution_count": null,
   "metadata": {},
   "outputs": [],
   "source": []
  },
  {
   "cell_type": "code",
   "execution_count": null,
   "metadata": {},
   "outputs": [],
   "source": []
  },
  {
   "cell_type": "markdown",
   "metadata": {},
   "source": [
    "## ◈ 프로젝트 목표\n",
    "\n",
    "\n",
    "## ◈ 학습 전제\n",
    "\n",
    "\n",
    "## ◈ 준비물\n",
    "\n",
    "## ◈ 목차\n",
    "Step 1. \n",
    "Step 2. \n",
    "Step 3. \n",
    "Step 4. \n",
    "Step 5.\n",
    "Step 6.\n",
    "Step 7.\n",
    "Step 8.\n",
    "Step 9.\n",
    "\n",
    "\n",
    "## ◈ 루브릭\n",
    "\n",
    "\n",
    "## ◈ 결과 및 고찰"
   ]
  }
 ],
 "metadata": {
  "kernelspec": {
   "display_name": "aiffel",
   "language": "python",
   "name": "aiffel"
  },
  "language_info": {
   "codemirror_mode": {
    "name": "ipython",
    "version": 3
   },
   "file_extension": ".py",
   "mimetype": "text/x-python",
   "name": "python",
   "nbconvert_exporter": "python",
   "pygments_lexer": "ipython3",
   "version": "3.7.9"
  }
 },
 "nbformat": 4,
 "nbformat_minor": 4
}
